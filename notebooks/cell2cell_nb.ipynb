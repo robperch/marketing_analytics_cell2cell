{
 "cells": [
  {
   "cell_type": "markdown",
   "id": "82c1d7a8-d74e-45e1-8937-264331e6d38a",
   "metadata": {},
   "source": [
    "# Cell 2 cell game assignment"
   ]
  },
  {
   "cell_type": "markdown",
   "id": "fd3103f5-1f01-42fe-b72e-7d113f81e37c",
   "metadata": {},
   "source": [
    "---"
   ]
  },
  {
   "cell_type": "markdown",
   "id": "5e63fc46-f231-4ce8-885d-2cbe620b6d57",
   "metadata": {
    "tags": []
   },
   "source": [
    "# "
   ]
  },
  {
   "cell_type": "markdown",
   "id": "4154f37d-fde6-4cef-8617-114a3a2d7d8e",
   "metadata": {},
   "source": [
    "# Imports"
   ]
  },
  {
   "cell_type": "markdown",
   "id": "a98dbaa6-17e1-4b79-93f0-d142aedd0037",
   "metadata": {},
   "source": [
    "#### Standard library imports"
   ]
  },
  {
   "cell_type": "code",
   "execution_count": 1,
   "id": "63099808-51cd-453c-976a-f3060b8650aa",
   "metadata": {
    "execution": {
     "iopub.execute_input": "2023-04-16T23:21:09.951641Z",
     "iopub.status.busy": "2023-04-16T23:21:09.950876Z",
     "iopub.status.idle": "2023-04-16T23:21:09.965957Z",
     "shell.execute_reply": "2023-04-16T23:21:09.964054Z",
     "shell.execute_reply.started": "2023-04-16T23:21:09.951535Z"
    },
    "tags": []
   },
   "outputs": [],
   "source": [
    "import sys\n",
    "sys.path.append(\"../\")\n",
    "\n",
    "import os"
   ]
  },
  {
   "cell_type": "markdown",
   "id": "b94ec94d-0d78-4ec3-a21c-353ccf52eec6",
   "metadata": {},
   "source": [
    "#### Third party imports"
   ]
  },
  {
   "cell_type": "code",
   "execution_count": 156,
   "id": "9e4989d0-ba3a-41cf-8ccb-44cade842a03",
   "metadata": {
    "execution": {
     "iopub.execute_input": "2023-04-17T00:56:16.665571Z",
     "iopub.status.busy": "2023-04-17T00:56:16.665148Z",
     "iopub.status.idle": "2023-04-17T00:56:16.724769Z",
     "shell.execute_reply": "2023-04-17T00:56:16.723767Z",
     "shell.execute_reply.started": "2023-04-17T00:56:16.665536Z"
    },
    "tags": []
   },
   "outputs": [],
   "source": [
    "import pandas as pd\n",
    "pd.set_option('display.max_columns', None)\n",
    "pd.set_option('display.max_rows', 15)\n",
    "import plotly.express as px\n",
    "import matplotlib.pyplot as plt\n",
    "# from sklearn import metrics\n",
    "import plotly.graph_objects as go\n",
    "import numpy as np\n",
    "import statsmodels.api as sm"
   ]
  },
  {
   "cell_type": "markdown",
   "id": "48755fa3-cba0-4508-9df2-18d50f60551b",
   "metadata": {
    "tags": []
   },
   "source": [
    "#### Local application imports"
   ]
  },
  {
   "cell_type": "code",
   "execution_count": 3,
   "id": "a62e34a6-dea0-48d6-a3bc-c5dcdcdb1718",
   "metadata": {
    "execution": {
     "iopub.execute_input": "2023-04-16T23:21:11.727395Z",
     "iopub.status.busy": "2023-04-16T23:21:11.726938Z",
     "iopub.status.idle": "2023-04-16T23:21:14.653991Z",
     "shell.execute_reply": "2023-04-16T23:21:14.652947Z",
     "shell.execute_reply.started": "2023-04-16T23:21:11.727361Z"
    },
    "tags": []
   },
   "outputs": [],
   "source": [
    "%load_ext autoreload\n",
    "%autoreload 2\n",
    "\n",
    "from pkg_dir.config import *\n",
    "from pkg_dir.src.utils import *\n",
    "from pkg_dir.src.functions import *\n",
    "from pkg_dir.src.parameters import *"
   ]
  },
  {
   "cell_type": "markdown",
   "id": "419fea39-e697-4807-bf44-e115f943ea5c",
   "metadata": {
    "tags": []
   },
   "source": [
    "# "
   ]
  },
  {
   "cell_type": "markdown",
   "id": "d533fe5d-c902-4259-97ee-672d6f2363c6",
   "metadata": {
    "tags": []
   },
   "source": [
    "# Loading data"
   ]
  },
  {
   "cell_type": "code",
   "execution_count": 4,
   "id": "ecb1b8ad-6a65-4fa5-aee4-4d844e50ba12",
   "metadata": {
    "execution": {
     "iopub.execute_input": "2023-04-16T23:21:14.657778Z",
     "iopub.status.busy": "2023-04-16T23:21:14.657362Z",
     "iopub.status.idle": "2023-04-16T23:21:14.720000Z",
     "shell.execute_reply": "2023-04-16T23:21:14.719040Z",
     "shell.execute_reply.started": "2023-04-16T23:21:14.657746Z"
    }
   },
   "outputs": [],
   "source": [
    "data_path = '../pkg_dir/data/cell2cell.csv'"
   ]
  },
  {
   "cell_type": "code",
   "execution_count": 5,
   "id": "5ae38b2c-0a7d-4716-8f06-5bfebde4d026",
   "metadata": {
    "execution": {
     "iopub.execute_input": "2023-04-16T23:21:14.721645Z",
     "iopub.status.busy": "2023-04-16T23:21:14.721126Z",
     "iopub.status.idle": "2023-04-16T23:21:15.384255Z",
     "shell.execute_reply": "2023-04-16T23:21:15.383300Z",
     "shell.execute_reply.started": "2023-04-16T23:21:14.721608Z"
    },
    "tags": []
   },
   "outputs": [],
   "source": [
    "dfr = pd.read_csv(data_path)"
   ]
  },
  {
   "cell_type": "markdown",
   "id": "8ddfa2c2-3488-4e8d-b18a-14ba4f171049",
   "metadata": {
    "tags": []
   },
   "source": [
    "# "
   ]
  },
  {
   "cell_type": "markdown",
   "id": "fe02fbec-918c-46e3-a80a-bb12ee00b7ee",
   "metadata": {
    "tags": []
   },
   "source": [
    "# Parameters definition"
   ]
  },
  {
   "cell_type": "code",
   "execution_count": 6,
   "id": "fbf66231-cff2-4c3f-883c-b6e097d6c931",
   "metadata": {
    "execution": {
     "iopub.execute_input": "2023-04-16T23:21:15.387374Z",
     "iopub.status.busy": "2023-04-16T23:21:15.386998Z",
     "iopub.status.idle": "2023-04-16T23:21:15.450164Z",
     "shell.execute_reply": "2023-04-16T23:21:15.448983Z",
     "shell.execute_reply.started": "2023-04-16T23:21:15.387343Z"
    },
    "tags": []
   },
   "outputs": [],
   "source": [
    "disc_rate = 0.09\n",
    "sim_periods = 24"
   ]
  },
  {
   "cell_type": "markdown",
   "id": "a9ffc599-5eb0-4e9d-941e-a7d988d7a996",
   "metadata": {
    "tags": []
   },
   "source": [
    "# "
   ]
  },
  {
   "cell_type": "markdown",
   "id": "853ce8f3-8d1d-4e20-ba54-4e29fa21c7ff",
   "metadata": {
    "tags": []
   },
   "source": [
    "# Initial data wrangling"
   ]
  },
  {
   "cell_type": "markdown",
   "id": "099dde80-a4d5-4df4-88a9-0f7afb58895f",
   "metadata": {},
   "source": [
    "##### Adding RFM variables"
   ]
  },
  {
   "cell_type": "code",
   "execution_count": 7,
   "id": "546cd442-1d7c-448f-a0a6-959979f65670",
   "metadata": {
    "execution": {
     "iopub.execute_input": "2023-04-16T23:21:20.119852Z",
     "iopub.status.busy": "2023-04-16T23:21:20.119445Z",
     "iopub.status.idle": "2023-04-16T23:21:21.430236Z",
     "shell.execute_reply": "2023-04-16T23:21:21.429306Z",
     "shell.execute_reply.started": "2023-04-16T23:21:20.119821Z"
    },
    "tags": []
   },
   "outputs": [],
   "source": [
    "## RFM variables\n",
    "num_tiles = 10\n",
    "dfr['rec_ntile'] = mba263.ntile(dfr['eqpdays'], num_tiles)\n",
    "dfr['freq_ntile'] = num_tiles - 1 - mba263.ntile(dfr['mou'], num_tiles)\n",
    "dfr['mon_ntile'] = num_tiles - 1 - mba263.ntile(dfr['recchrge'], num_tiles)"
   ]
  },
  {
   "cell_type": "markdown",
   "id": "14345c6a-65e6-4e7e-beee-c022a4c2acb9",
   "metadata": {
    "tags": []
   },
   "source": [
    "##### Setting the client ID as index"
   ]
  },
  {
   "cell_type": "code",
   "execution_count": 8,
   "id": "02a0d4fd-1466-49c3-a8a3-cdf3a44e3c60",
   "metadata": {
    "execution": {
     "iopub.execute_input": "2023-04-16T23:21:21.433570Z",
     "iopub.status.busy": "2023-04-16T23:21:21.433156Z",
     "iopub.status.idle": "2023-04-16T23:21:21.498757Z",
     "shell.execute_reply": "2023-04-16T23:21:21.497309Z",
     "shell.execute_reply.started": "2023-04-16T23:21:21.433536Z"
    },
    "tags": []
   },
   "outputs": [],
   "source": [
    "dfr.set_index('customer', inplace=True)"
   ]
  },
  {
   "cell_type": "markdown",
   "id": "0b8ce11a-a887-4124-8273-c3e99813a81e",
   "metadata": {},
   "source": [
    "##### Splitting train and test data"
   ]
  },
  {
   "cell_type": "code",
   "execution_count": 9,
   "id": "245e06d7-95d5-4089-afcb-334ced8786be",
   "metadata": {
    "execution": {
     "iopub.execute_input": "2023-04-16T23:21:21.501049Z",
     "iopub.status.busy": "2023-04-16T23:21:21.500241Z",
     "iopub.status.idle": "2023-04-16T23:21:21.731630Z",
     "shell.execute_reply": "2023-04-16T23:21:21.730683Z",
     "shell.execute_reply.started": "2023-04-16T23:21:21.501008Z"
    },
    "scrolled": true,
    "tags": []
   },
   "outputs": [],
   "source": [
    "## Creating new dataframes based on `calibrat` field\n",
    "df_train = dfr[dfr['calibrat'] == 1].copy()\n",
    "df_test = dfr[dfr['calibrat'] == 0].copy()\n",
    "\n",
    "## Dropping `calibrat` field\n",
    "df_train.drop(['calibrat'], axis=1, inplace=True)\n",
    "df_test.drop(['calibrat'], axis=1, inplace=True)"
   ]
  },
  {
   "cell_type": "markdown",
   "id": "e3f78683-360d-4301-8aca-1732b3d4634c",
   "metadata": {
    "tags": []
   },
   "source": [
    "# "
   ]
  },
  {
   "cell_type": "markdown",
   "id": "11ee92b2-e6b0-4575-bb08-bb05c0294e8e",
   "metadata": {
    "tags": []
   },
   "source": [
    "# Data exploration"
   ]
  },
  {
   "cell_type": "markdown",
   "id": "863d7e36-fb17-44db-8955-491764cbaa66",
   "metadata": {
    "tags": []
   },
   "source": [
    "##### Saving summary statistics about the data as dataframe"
   ]
  },
  {
   "cell_type": "code",
   "execution_count": 10,
   "id": "e581fefc-39af-4c9d-be92-0ce08b99d252",
   "metadata": {
    "execution": {
     "iopub.execute_input": "2023-04-16T23:21:22.425970Z",
     "iopub.status.busy": "2023-04-16T23:21:22.425530Z",
     "iopub.status.idle": "2023-04-16T23:21:22.862549Z",
     "shell.execute_reply": "2023-04-16T23:21:22.860896Z",
     "shell.execute_reply.started": "2023-04-16T23:21:22.425931Z"
    },
    "tags": []
   },
   "outputs": [],
   "source": [
    "dfi = dfr.describe().T\n",
    "dfi.drop(['25%', '50%', '75%'], axis=1, inplace=True)"
   ]
  },
  {
   "cell_type": "markdown",
   "id": "971c044e-7924-4da7-a45a-73a87f9127ca",
   "metadata": {
    "jp-MarkdownHeadingCollapsed": true,
    "tags": []
   },
   "source": [
    "##### Evaluating number of labels in train and test set"
   ]
  },
  {
   "cell_type": "markdown",
   "id": "84f622d6-9769-4a26-8a17-b8fb7e6c04e1",
   "metadata": {
    "jp-MarkdownHeadingCollapsed": true,
    "tags": []
   },
   "source": [
    "##### Understanding the `churndep` variable"
   ]
  },
  {
   "cell_type": "code",
   "execution_count": null,
   "id": "b3b8f1d0-2155-4183-8ee3-7c20a09c75c0",
   "metadata": {
    "jupyter": {
     "source_hidden": true
    }
   },
   "outputs": [],
   "source": [
    "dfr['calibrat'].value_counts()"
   ]
  },
  {
   "cell_type": "code",
   "execution_count": null,
   "id": "b40fdcd5-99b6-4f87-a8c8-f4cb8ab4baea",
   "metadata": {
    "jupyter": {
     "source_hidden": true
    }
   },
   "outputs": [],
   "source": [
    "dfr['churndep'].value_counts()"
   ]
  },
  {
   "cell_type": "code",
   "execution_count": null,
   "id": "c7d52fa1-bc12-4c2d-92b0-681bece8bc36",
   "metadata": {
    "jupyter": {
     "source_hidden": true
    },
    "tags": []
   },
   "outputs": [],
   "source": [
    "dfr.groupby(\n",
    "    [\n",
    "        'calibrat',\n",
    "        'churndep',\n",
    "    ]\n",
    ").agg(\n",
    "    count=('calibrat', 'count')\n",
    ")"
   ]
  },
  {
   "cell_type": "markdown",
   "id": "ec7212df-8292-4446-9179-6ea2c74609bf",
   "metadata": {
    "tags": []
   },
   "source": [
    "# "
   ]
  },
  {
   "cell_type": "markdown",
   "id": "086699c7-ba8b-45ae-9ad2-67ff004259af",
   "metadata": {
    "tags": []
   },
   "source": [
    "# Manual models"
   ]
  },
  {
   "cell_type": "markdown",
   "id": "e45edc61-47e6-4368-8a86-c9b70671f717",
   "metadata": {
    "tags": []
   },
   "source": [
    "##### "
   ]
  },
  {
   "cell_type": "markdown",
   "id": "097abdf3-a19f-4fe9-b33f-d6646139b814",
   "metadata": {
    "tags": []
   },
   "source": [
    "## Model 1\n",
    "### Logistic regression without RFM variables"
   ]
  },
  {
   "cell_type": "markdown",
   "id": "a8e1c03d-b470-4251-8999-8505cf3d6f43",
   "metadata": {
    "tags": []
   },
   "source": [
    "##### Model dataset"
   ]
  },
  {
   "cell_type": "code",
   "execution_count": 11,
   "id": "a193312e-2304-4f57-bc28-6e0f0e11ed0b",
   "metadata": {
    "execution": {
     "iopub.execute_input": "2023-04-16T23:21:28.830659Z",
     "iopub.status.busy": "2023-04-16T23:21:28.826941Z",
     "iopub.status.idle": "2023-04-16T23:21:28.909637Z",
     "shell.execute_reply": "2023-04-16T23:21:28.908630Z",
     "shell.execute_reply.started": "2023-04-16T23:21:28.830614Z"
    },
    "tags": []
   },
   "outputs": [],
   "source": [
    "dfm1_train = df_train.copy()\n",
    "dfm1_test = df_test.copy()"
   ]
  },
  {
   "cell_type": "markdown",
   "id": "46b8d875-84a3-4780-aa63-68026f001bd6",
   "metadata": {
    "tags": []
   },
   "source": [
    "##### Model label and features"
   ]
  },
  {
   "cell_type": "code",
   "execution_count": 12,
   "id": "f02454c4-ca67-4b33-88b3-6a224f8b88e4",
   "metadata": {
    "execution": {
     "iopub.execute_input": "2023-04-16T23:21:28.912746Z",
     "iopub.status.busy": "2023-04-16T23:21:28.912353Z",
     "iopub.status.idle": "2023-04-16T23:21:28.986335Z",
     "shell.execute_reply": "2023-04-16T23:21:28.985177Z",
     "shell.execute_reply.started": "2023-04-16T23:21:28.912716Z"
    },
    "jupyter": {
     "source_hidden": true
    },
    "tags": []
   },
   "outputs": [],
   "source": [
    "## Label\n",
    "m1l = 'churndep'\n",
    "\n",
    "## Features\n",
    "m1f = [\n",
    "    # 'calibrat',\n",
    "    # 'churn',\n",
    "    # 'churndep',\n",
    "    'revenue',\n",
    "    'mou',\n",
    "    'recchrge',\n",
    "    'directas',\n",
    "    'overage',\n",
    "    'roam',\n",
    "    'changem',\n",
    "    'changer',\n",
    "    'dropvce',\n",
    "    'blckvce',\n",
    "    'unansvce',\n",
    "    'custcare',\n",
    "    'threeway',\n",
    "    'mourec',\n",
    "    'outcalls',\n",
    "    'incalls',\n",
    "    'peakvce',\n",
    "    'opeakvce',\n",
    "    'dropblk',\n",
    "    'callfwdv',\n",
    "    'callwait',\n",
    "    'months',\n",
    "    'uniqsubs',\n",
    "    'actvsubs',\n",
    "    'phones',\n",
    "    'models',\n",
    "    'eqpdays',\n",
    "    'age1',\n",
    "    'age2',\n",
    "    'children',\n",
    "    'credita',\n",
    "    'creditaa',\n",
    "    'prizmrur',\n",
    "    'prizmub',\n",
    "    'prizmtwn',\n",
    "    'refurb',\n",
    "    'webcap',\n",
    "    'truck',\n",
    "    'rv',\n",
    "    'occprof',\n",
    "    'occcler',\n",
    "    'occcrft',\n",
    "    'occstud',\n",
    "    'occhmkr',\n",
    "    'occret',\n",
    "    'occself',\n",
    "    'ownrent',\n",
    "    'marryun',\n",
    "    'marryyes',\n",
    "    'mailord',\n",
    "    'mailres',\n",
    "    'mailflag',\n",
    "    'travel',\n",
    "    'pcown',\n",
    "    'creditcd',\n",
    "    'retcalls',\n",
    "    'retaccpt',\n",
    "    'newcelly',\n",
    "    'newcelln',\n",
    "    'refer',\n",
    "    'incmiss',\n",
    "    'income',\n",
    "    'mcycle',\n",
    "    'setprcm',\n",
    "    'setprc',\n",
    "    'retcall',\n",
    "    # 'rec_ntile',\n",
    "    # 'freq_ntile',\n",
    "    # 'mon_ntile',\n",
    "]"
   ]
  },
  {
   "cell_type": "markdown",
   "id": "0d401701-b9ac-4bc7-86d7-0fe4b66312eb",
   "metadata": {
    "tags": []
   },
   "source": [
    "##### Model training"
   ]
  },
  {
   "cell_type": "code",
   "execution_count": 103,
   "id": "e936e725-cb95-4309-be69-ffb2914b89bf",
   "metadata": {
    "execution": {
     "iopub.execute_input": "2023-04-17T00:12:11.485710Z",
     "iopub.status.busy": "2023-04-17T00:12:11.485115Z",
     "iopub.status.idle": "2023-04-17T00:12:13.832227Z",
     "shell.execute_reply": "2023-04-17T00:12:13.831066Z",
     "shell.execute_reply.started": "2023-04-17T00:12:11.485675Z"
    },
    "tags": []
   },
   "outputs": [
    {
     "name": "stdout",
     "output_type": "stream",
     "text": [
      "Optimization terminated successfully    (Exit mode 0)\n",
      "            Current function value: 0.6715330588481454\n",
      "            Iterations: 201\n",
      "            Function evaluations: 256\n",
      "            Gradient evaluations: 201\n"
     ]
    }
   ],
   "source": [
    "m1 = logit_reg(\n",
    "    a=dfm1_train[m1l],\n",
    "    b=dfm1_train[m1f],\n",
    "    alpha=0,\n",
    ")"
   ]
  },
  {
   "cell_type": "markdown",
   "id": "65d35036-bcb2-4832-ba15-95c438304291",
   "metadata": {
    "tags": []
   },
   "source": [
    "##### Model coefficients"
   ]
  },
  {
   "cell_type": "code",
   "execution_count": 14,
   "id": "2481026c-3f87-4c22-b744-1b815f0056b5",
   "metadata": {
    "execution": {
     "iopub.execute_input": "2023-04-16T23:21:31.899397Z",
     "iopub.status.busy": "2023-04-16T23:21:31.898529Z",
     "iopub.status.idle": "2023-04-16T23:21:32.139203Z",
     "shell.execute_reply": "2023-04-16T23:21:32.137843Z",
     "shell.execute_reply.started": "2023-04-16T23:21:31.899344Z"
    },
    "scrolled": true,
    "tags": []
   },
   "outputs": [
    {
     "data": {
      "text/html": [
       "<table class=\"simpletable\">\n",
       "<caption>Mba263Logit Regression Results</caption>\n",
       "<tr>\n",
       "  <th>Dep. Variable:</th>       <td>churndep</td>     <th>  No. Observations:  </th>   <td> 38941</td>  \n",
       "</tr>\n",
       "<tr>\n",
       "  <th>Model:</th>              <td>Mba263Logit</td>   <th>  Df Residuals:      </th>   <td> 38874</td>  \n",
       "</tr>\n",
       "<tr>\n",
       "  <th>Method:</th>                 <td>MLE</td>       <th>  Df Model:          </th>   <td>    66</td>  \n",
       "</tr>\n",
       "<tr>\n",
       "  <th>Date:</th>            <td>Sun, 16 Apr 2023</td> <th>  Pseudo R-squ.:     </th>   <td>0.03117</td> \n",
       "</tr>\n",
       "<tr>\n",
       "  <th>Time:</th>                <td>16:21:32</td>     <th>  Log-Likelihood:    </th>  <td> -26150.</td> \n",
       "</tr>\n",
       "<tr>\n",
       "  <th>converged:</th>             <td>True</td>       <th>  LL-Null:           </th>  <td> -26992.</td> \n",
       "</tr>\n",
       "<tr>\n",
       "  <th>Covariance Type:</th>     <td>nonrobust</td>    <th>  LLR p-value:       </th> <td>6.012e-308</td>\n",
       "</tr>\n",
       "</table>\n",
       "<table class=\"simpletable\">\n",
       "<tr>\n",
       "      <td></td>        <th>coef</th>     <th>std err</th>      <th>z</th>      <th>P>|z|</th>  <th>[0.025</th>    <th>0.975]</th>  \n",
       "</tr>\n",
       "<tr>\n",
       "  <th>const</th>    <td>    0.1499</td> <td>    0.095</td> <td>    1.573</td> <td> 0.116</td> <td>   -0.037</td> <td>    0.337</td>\n",
       "</tr>\n",
       "<tr>\n",
       "  <th>revenue</th>  <td>    0.0020</td> <td>    0.001</td> <td>    2.460</td> <td> 0.014</td> <td>    0.000</td> <td>    0.004</td>\n",
       "</tr>\n",
       "<tr>\n",
       "  <th>mou</th>      <td>   -0.0003</td> <td> 4.96e-05</td> <td>   -5.657</td> <td> 0.000</td> <td>   -0.000</td> <td>   -0.000</td>\n",
       "</tr>\n",
       "<tr>\n",
       "  <th>recchrge</th> <td>   -0.0031</td> <td>    0.001</td> <td>   -3.514</td> <td> 0.000</td> <td>   -0.005</td> <td>   -0.001</td>\n",
       "</tr>\n",
       "<tr>\n",
       "  <th>directas</th> <td>   -0.0012</td> <td>    0.006</td> <td>   -0.201</td> <td> 0.840</td> <td>   -0.013</td> <td>    0.010</td>\n",
       "</tr>\n",
       "<tr>\n",
       "  <th>overage</th>  <td>    0.0008</td> <td>    0.000</td> <td>    2.711</td> <td> 0.007</td> <td>    0.000</td> <td>    0.001</td>\n",
       "</tr>\n",
       "<tr>\n",
       "  <th>roam</th>     <td>    0.0071</td> <td>    0.002</td> <td>    3.436</td> <td> 0.001</td> <td>    0.003</td> <td>    0.011</td>\n",
       "</tr>\n",
       "<tr>\n",
       "  <th>changem</th>  <td>   -0.0005</td> <td> 5.35e-05</td> <td>   -9.194</td> <td> 0.000</td> <td>   -0.001</td> <td>   -0.000</td>\n",
       "</tr>\n",
       "<tr>\n",
       "  <th>changer</th>  <td>    0.0023</td> <td>    0.000</td> <td>    6.247</td> <td> 0.000</td> <td>    0.002</td> <td>    0.003</td>\n",
       "</tr>\n",
       "<tr>\n",
       "  <th>dropvce</th>  <td>    0.0113</td> <td>    0.007</td> <td>    1.563</td> <td> 0.118</td> <td>   -0.003</td> <td>    0.026</td>\n",
       "</tr>\n",
       "<tr>\n",
       "  <th>blckvce</th>  <td>    0.0064</td> <td>    0.007</td> <td>    0.894</td> <td> 0.371</td> <td>   -0.008</td> <td>    0.020</td>\n",
       "</tr>\n",
       "<tr>\n",
       "  <th>unansvce</th> <td>    0.0009</td> <td>    0.000</td> <td>    2.058</td> <td> 0.040</td> <td> 4.38e-05</td> <td>    0.002</td>\n",
       "</tr>\n",
       "<tr>\n",
       "  <th>custcare</th> <td>   -0.0060</td> <td>    0.003</td> <td>   -2.331</td> <td> 0.020</td> <td>   -0.011</td> <td>   -0.001</td>\n",
       "</tr>\n",
       "<tr>\n",
       "  <th>threeway</th> <td>   -0.0303</td> <td>    0.011</td> <td>   -2.691</td> <td> 0.007</td> <td>   -0.052</td> <td>   -0.008</td>\n",
       "</tr>\n",
       "<tr>\n",
       "  <th>mourec</th>   <td>    0.0001</td> <td>    0.000</td> <td>    1.018</td> <td> 0.309</td> <td>   -0.000</td> <td>    0.000</td>\n",
       "</tr>\n",
       "<tr>\n",
       "  <th>outcalls</th> <td>    0.0011</td> <td>    0.001</td> <td>    1.894</td> <td> 0.058</td> <td>-3.87e-05</td> <td>    0.002</td>\n",
       "</tr>\n",
       "<tr>\n",
       "  <th>incalls</th>  <td>   -0.0031</td> <td>    0.001</td> <td>   -2.937</td> <td> 0.003</td> <td>   -0.005</td> <td>   -0.001</td>\n",
       "</tr>\n",
       "<tr>\n",
       "  <th>peakvce</th>  <td>   -0.0007</td> <td>    0.000</td> <td>   -3.058</td> <td> 0.002</td> <td>   -0.001</td> <td>   -0.000</td>\n",
       "</tr>\n",
       "<tr>\n",
       "  <th>opeakvce</th> <td>   -0.0002</td> <td>    0.000</td> <td>   -0.783</td> <td> 0.434</td> <td>   -0.001</td> <td>    0.000</td>\n",
       "</tr>\n",
       "<tr>\n",
       "  <th>dropblk</th>  <td>   -0.0031</td> <td>    0.007</td> <td>   -0.442</td> <td> 0.658</td> <td>   -0.017</td> <td>    0.011</td>\n",
       "</tr>\n",
       "<tr>\n",
       "  <th>callfwdv</th> <td>   -0.0026</td> <td>    0.023</td> <td>   -0.114</td> <td> 0.909</td> <td>   -0.048</td> <td>    0.043</td>\n",
       "</tr>\n",
       "<tr>\n",
       "  <th>callwait</th> <td>    0.0021</td> <td>    0.003</td> <td>    0.664</td> <td> 0.507</td> <td>   -0.004</td> <td>    0.008</td>\n",
       "</tr>\n",
       "<tr>\n",
       "  <th>months</th>   <td>   -0.0213</td> <td>    0.002</td> <td>  -10.652</td> <td> 0.000</td> <td>   -0.025</td> <td>   -0.017</td>\n",
       "</tr>\n",
       "<tr>\n",
       "  <th>uniqsubs</th> <td>    0.1844</td> <td>    0.020</td> <td>    9.226</td> <td> 0.000</td> <td>    0.145</td> <td>    0.224</td>\n",
       "</tr>\n",
       "<tr>\n",
       "  <th>actvsubs</th> <td>   -0.2057</td> <td>    0.028</td> <td>   -7.372</td> <td> 0.000</td> <td>   -0.260</td> <td>   -0.151</td>\n",
       "</tr>\n",
       "<tr>\n",
       "  <th>phones</th>   <td>    0.0487</td> <td>    0.018</td> <td>    2.680</td> <td> 0.007</td> <td>    0.013</td> <td>    0.084</td>\n",
       "</tr>\n",
       "<tr>\n",
       "  <th>models</th>   <td>    0.0137</td> <td>    0.028</td> <td>    0.493</td> <td> 0.622</td> <td>   -0.041</td> <td>    0.068</td>\n",
       "</tr>\n",
       "<tr>\n",
       "  <th>eqpdays</th>  <td>    0.0014</td> <td> 7.47e-05</td> <td>   19.309</td> <td> 0.000</td> <td>    0.001</td> <td>    0.002</td>\n",
       "</tr>\n",
       "<tr>\n",
       "  <th>age1</th>     <td>   -0.0033</td> <td>    0.001</td> <td>   -3.786</td> <td> 0.000</td> <td>   -0.005</td> <td>   -0.002</td>\n",
       "</tr>\n",
       "<tr>\n",
       "  <th>age2</th>     <td>   -0.0012</td> <td>    0.001</td> <td>   -1.719</td> <td> 0.086</td> <td>   -0.003</td> <td>    0.000</td>\n",
       "</tr>\n",
       "<tr>\n",
       "  <th>children</th> <td>    0.0944</td> <td>    0.028</td> <td>    3.355</td> <td> 0.001</td> <td>    0.039</td> <td>    0.150</td>\n",
       "</tr>\n",
       "<tr>\n",
       "  <th>credita</th>  <td>   -0.1780</td> <td>    0.036</td> <td>   -5.015</td> <td> 0.000</td> <td>   -0.248</td> <td>   -0.108</td>\n",
       "</tr>\n",
       "<tr>\n",
       "  <th>creditaa</th> <td>   -0.3627</td> <td>    0.035</td> <td>  -10.488</td> <td> 0.000</td> <td>   -0.430</td> <td>   -0.295</td>\n",
       "</tr>\n",
       "<tr>\n",
       "  <th>prizmrur</th> <td>    0.0665</td> <td>    0.050</td> <td>    1.342</td> <td> 0.179</td> <td>   -0.031</td> <td>    0.164</td>\n",
       "</tr>\n",
       "<tr>\n",
       "  <th>prizmub</th>  <td>   -0.0396</td> <td>    0.024</td> <td>   -1.623</td> <td> 0.104</td> <td>   -0.087</td> <td>    0.008</td>\n",
       "</tr>\n",
       "<tr>\n",
       "  <th>prizmtwn</th> <td>    0.0462</td> <td>    0.031</td> <td>    1.470</td> <td> 0.141</td> <td>   -0.015</td> <td>    0.108</td>\n",
       "</tr>\n",
       "<tr>\n",
       "  <th>refurb</th>   <td>    0.2340</td> <td>    0.032</td> <td>    7.322</td> <td> 0.000</td> <td>    0.171</td> <td>    0.297</td>\n",
       "</tr>\n",
       "<tr>\n",
       "  <th>webcap</th>   <td>   -0.1562</td> <td>    0.038</td> <td>   -4.158</td> <td> 0.000</td> <td>   -0.230</td> <td>   -0.083</td>\n",
       "</tr>\n",
       "<tr>\n",
       "  <th>truck</th>    <td>    0.0268</td> <td>    0.036</td> <td>    0.744</td> <td> 0.457</td> <td>   -0.044</td> <td>    0.097</td>\n",
       "</tr>\n",
       "<tr>\n",
       "  <th>rv</th>       <td>    0.0121</td> <td>    0.048</td> <td>    0.252</td> <td> 0.801</td> <td>   -0.082</td> <td>    0.106</td>\n",
       "</tr>\n",
       "<tr>\n",
       "  <th>occprof</th>  <td>   -0.0198</td> <td>    0.033</td> <td>   -0.610</td> <td> 0.542</td> <td>   -0.084</td> <td>    0.044</td>\n",
       "</tr>\n",
       "<tr>\n",
       "  <th>occcler</th>  <td>    0.0394</td> <td>    0.075</td> <td>    0.526</td> <td> 0.599</td> <td>   -0.107</td> <td>    0.186</td>\n",
       "</tr>\n",
       "<tr>\n",
       "  <th>occcrft</th>  <td>   -0.0198</td> <td>    0.063</td> <td>   -0.315</td> <td> 0.753</td> <td>   -0.143</td> <td>    0.103</td>\n",
       "</tr>\n",
       "<tr>\n",
       "  <th>occstud</th>  <td>    0.1198</td> <td>    0.122</td> <td>    0.983</td> <td> 0.326</td> <td>   -0.119</td> <td>    0.359</td>\n",
       "</tr>\n",
       "<tr>\n",
       "  <th>occhmkr</th>  <td>    0.2562</td> <td>    0.190</td> <td>    1.348</td> <td> 0.178</td> <td>   -0.116</td> <td>    0.629</td>\n",
       "</tr>\n",
       "<tr>\n",
       "  <th>occret</th>   <td>   -0.0399</td> <td>    0.091</td> <td>   -0.441</td> <td> 0.659</td> <td>   -0.217</td> <td>    0.138</td>\n",
       "</tr>\n",
       "<tr>\n",
       "  <th>occself</th>  <td>   -0.0710</td> <td>    0.081</td> <td>   -0.881</td> <td> 0.379</td> <td>   -0.229</td> <td>    0.087</td>\n",
       "</tr>\n",
       "<tr>\n",
       "  <th>ownrent</th>  <td>    0.0025</td> <td>    0.043</td> <td>    0.060</td> <td> 0.952</td> <td>   -0.081</td> <td>    0.086</td>\n",
       "</tr>\n",
       "<tr>\n",
       "  <th>marryun</th>  <td>    0.1088</td> <td>    0.034</td> <td>    3.198</td> <td> 0.001</td> <td>    0.042</td> <td>    0.176</td>\n",
       "</tr>\n",
       "<tr>\n",
       "  <th>marryyes</th> <td>    0.0558</td> <td>    0.032</td> <td>    1.716</td> <td> 0.086</td> <td>   -0.008</td> <td>    0.119</td>\n",
       "</tr>\n",
       "<tr>\n",
       "  <th>mailord</th>  <td>    0.0009</td> <td>    0.086</td> <td>    0.011</td> <td> 0.991</td> <td>   -0.167</td> <td>    0.169</td>\n",
       "</tr>\n",
       "<tr>\n",
       "  <th>mailres</th>  <td>   -0.1299</td> <td>    0.086</td> <td>   -1.509</td> <td> 0.131</td> <td>   -0.299</td> <td>    0.039</td>\n",
       "</tr>\n",
       "<tr>\n",
       "  <th>mailflag</th> <td>   -0.0483</td> <td>    0.084</td> <td>   -0.572</td> <td> 0.567</td> <td>   -0.214</td> <td>    0.117</td>\n",
       "</tr>\n",
       "<tr>\n",
       "  <th>travel</th>   <td>   -0.0006</td> <td>    0.047</td> <td>   -0.012</td> <td> 0.991</td> <td>   -0.093</td> <td>    0.092</td>\n",
       "</tr>\n",
       "<tr>\n",
       "  <th>pcown</th>    <td>    0.0343</td> <td>    0.031</td> <td>    1.108</td> <td> 0.268</td> <td>   -0.026</td> <td>    0.095</td>\n",
       "</tr>\n",
       "<tr>\n",
       "  <th>creditcd</th> <td>    0.0419</td> <td>    0.044</td> <td>    0.959</td> <td> 0.337</td> <td>   -0.044</td> <td>    0.128</td>\n",
       "</tr>\n",
       "<tr>\n",
       "  <th>retcalls</th> <td>    0.0120</td> <td>    0.184</td> <td>    0.066</td> <td> 0.948</td> <td>   -0.348</td> <td>    0.372</td>\n",
       "</tr>\n",
       "<tr>\n",
       "  <th>retaccpt</th> <td>   -0.1277</td> <td>    0.108</td> <td>   -1.186</td> <td> 0.236</td> <td>   -0.339</td> <td>    0.083</td>\n",
       "</tr>\n",
       "<tr>\n",
       "  <th>newcelly</th> <td>   -0.0705</td> <td>    0.027</td> <td>   -2.585</td> <td> 0.010</td> <td>   -0.124</td> <td>   -0.017</td>\n",
       "</tr>\n",
       "<tr>\n",
       "  <th>newcelln</th> <td>   -0.0050</td> <td>    0.032</td> <td>   -0.160</td> <td> 0.873</td> <td>   -0.067</td> <td>    0.057</td>\n",
       "</tr>\n",
       "<tr>\n",
       "  <th>refer</th>    <td>   -0.0500</td> <td>    0.042</td> <td>   -1.188</td> <td> 0.235</td> <td>   -0.133</td> <td>    0.033</td>\n",
       "</tr>\n",
       "<tr>\n",
       "  <th>incmiss</th>  <td>   -0.0915</td> <td>    0.060</td> <td>   -1.524</td> <td> 0.128</td> <td>   -0.209</td> <td>    0.026</td>\n",
       "</tr>\n",
       "<tr>\n",
       "  <th>income</th>   <td>   -0.0132</td> <td>    0.006</td> <td>   -2.194</td> <td> 0.028</td> <td>   -0.025</td> <td>   -0.001</td>\n",
       "</tr>\n",
       "<tr>\n",
       "  <th>mcycle</th>   <td>    0.1222</td> <td>    0.089</td> <td>    1.373</td> <td> 0.170</td> <td>   -0.052</td> <td>    0.297</td>\n",
       "</tr>\n",
       "<tr>\n",
       "  <th>setprcm</th>  <td>   -0.0964</td> <td>    0.041</td> <td>   -2.379</td> <td> 0.017</td> <td>   -0.176</td> <td>   -0.017</td>\n",
       "</tr>\n",
       "<tr>\n",
       "  <th>setprc</th>   <td>    0.0006</td> <td>    0.000</td> <td>    2.193</td> <td> 0.028</td> <td>  6.6e-05</td> <td>    0.001</td>\n",
       "</tr>\n",
       "<tr>\n",
       "  <th>retcall</th>  <td>    0.7936</td> <td>    0.195</td> <td>    4.078</td> <td> 0.000</td> <td>    0.412</td> <td>    1.175</td>\n",
       "</tr>\n",
       "</table>"
      ],
      "text/plain": [
       "<class 'statsmodels.iolib.summary.Summary'>\n",
       "\"\"\"\n",
       "                        Mba263Logit Regression Results                        \n",
       "==============================================================================\n",
       "Dep. Variable:               churndep   No. Observations:                38941\n",
       "Model:                    Mba263Logit   Df Residuals:                    38874\n",
       "Method:                           MLE   Df Model:                           66\n",
       "Date:                Sun, 16 Apr 2023   Pseudo R-squ.:                 0.03117\n",
       "Time:                        16:21:32   Log-Likelihood:                -26150.\n",
       "converged:                       True   LL-Null:                       -26992.\n",
       "Covariance Type:            nonrobust   LLR p-value:                6.012e-308\n",
       "==============================================================================\n",
       "                 coef    std err          z      P>|z|      [0.025      0.975]\n",
       "------------------------------------------------------------------------------\n",
       "const          0.1499      0.095      1.573      0.116      -0.037       0.337\n",
       "revenue        0.0020      0.001      2.460      0.014       0.000       0.004\n",
       "mou           -0.0003   4.96e-05     -5.657      0.000      -0.000      -0.000\n",
       "recchrge      -0.0031      0.001     -3.514      0.000      -0.005      -0.001\n",
       "directas      -0.0012      0.006     -0.201      0.840      -0.013       0.010\n",
       "overage        0.0008      0.000      2.711      0.007       0.000       0.001\n",
       "roam           0.0071      0.002      3.436      0.001       0.003       0.011\n",
       "changem       -0.0005   5.35e-05     -9.194      0.000      -0.001      -0.000\n",
       "changer        0.0023      0.000      6.247      0.000       0.002       0.003\n",
       "dropvce        0.0113      0.007      1.563      0.118      -0.003       0.026\n",
       "blckvce        0.0064      0.007      0.894      0.371      -0.008       0.020\n",
       "unansvce       0.0009      0.000      2.058      0.040    4.38e-05       0.002\n",
       "custcare      -0.0060      0.003     -2.331      0.020      -0.011      -0.001\n",
       "threeway      -0.0303      0.011     -2.691      0.007      -0.052      -0.008\n",
       "mourec         0.0001      0.000      1.018      0.309      -0.000       0.000\n",
       "outcalls       0.0011      0.001      1.894      0.058   -3.87e-05       0.002\n",
       "incalls       -0.0031      0.001     -2.937      0.003      -0.005      -0.001\n",
       "peakvce       -0.0007      0.000     -3.058      0.002      -0.001      -0.000\n",
       "opeakvce      -0.0002      0.000     -0.783      0.434      -0.001       0.000\n",
       "dropblk       -0.0031      0.007     -0.442      0.658      -0.017       0.011\n",
       "callfwdv      -0.0026      0.023     -0.114      0.909      -0.048       0.043\n",
       "callwait       0.0021      0.003      0.664      0.507      -0.004       0.008\n",
       "months        -0.0213      0.002    -10.652      0.000      -0.025      -0.017\n",
       "uniqsubs       0.1844      0.020      9.226      0.000       0.145       0.224\n",
       "actvsubs      -0.2057      0.028     -7.372      0.000      -0.260      -0.151\n",
       "phones         0.0487      0.018      2.680      0.007       0.013       0.084\n",
       "models         0.0137      0.028      0.493      0.622      -0.041       0.068\n",
       "eqpdays        0.0014   7.47e-05     19.309      0.000       0.001       0.002\n",
       "age1          -0.0033      0.001     -3.786      0.000      -0.005      -0.002\n",
       "age2          -0.0012      0.001     -1.719      0.086      -0.003       0.000\n",
       "children       0.0944      0.028      3.355      0.001       0.039       0.150\n",
       "credita       -0.1780      0.036     -5.015      0.000      -0.248      -0.108\n",
       "creditaa      -0.3627      0.035    -10.488      0.000      -0.430      -0.295\n",
       "prizmrur       0.0665      0.050      1.342      0.179      -0.031       0.164\n",
       "prizmub       -0.0396      0.024     -1.623      0.104      -0.087       0.008\n",
       "prizmtwn       0.0462      0.031      1.470      0.141      -0.015       0.108\n",
       "refurb         0.2340      0.032      7.322      0.000       0.171       0.297\n",
       "webcap        -0.1562      0.038     -4.158      0.000      -0.230      -0.083\n",
       "truck          0.0268      0.036      0.744      0.457      -0.044       0.097\n",
       "rv             0.0121      0.048      0.252      0.801      -0.082       0.106\n",
       "occprof       -0.0198      0.033     -0.610      0.542      -0.084       0.044\n",
       "occcler        0.0394      0.075      0.526      0.599      -0.107       0.186\n",
       "occcrft       -0.0198      0.063     -0.315      0.753      -0.143       0.103\n",
       "occstud        0.1198      0.122      0.983      0.326      -0.119       0.359\n",
       "occhmkr        0.2562      0.190      1.348      0.178      -0.116       0.629\n",
       "occret        -0.0399      0.091     -0.441      0.659      -0.217       0.138\n",
       "occself       -0.0710      0.081     -0.881      0.379      -0.229       0.087\n",
       "ownrent        0.0025      0.043      0.060      0.952      -0.081       0.086\n",
       "marryun        0.1088      0.034      3.198      0.001       0.042       0.176\n",
       "marryyes       0.0558      0.032      1.716      0.086      -0.008       0.119\n",
       "mailord        0.0009      0.086      0.011      0.991      -0.167       0.169\n",
       "mailres       -0.1299      0.086     -1.509      0.131      -0.299       0.039\n",
       "mailflag      -0.0483      0.084     -0.572      0.567      -0.214       0.117\n",
       "travel        -0.0006      0.047     -0.012      0.991      -0.093       0.092\n",
       "pcown          0.0343      0.031      1.108      0.268      -0.026       0.095\n",
       "creditcd       0.0419      0.044      0.959      0.337      -0.044       0.128\n",
       "retcalls       0.0120      0.184      0.066      0.948      -0.348       0.372\n",
       "retaccpt      -0.1277      0.108     -1.186      0.236      -0.339       0.083\n",
       "newcelly      -0.0705      0.027     -2.585      0.010      -0.124      -0.017\n",
       "newcelln      -0.0050      0.032     -0.160      0.873      -0.067       0.057\n",
       "refer         -0.0500      0.042     -1.188      0.235      -0.133       0.033\n",
       "incmiss       -0.0915      0.060     -1.524      0.128      -0.209       0.026\n",
       "income        -0.0132      0.006     -2.194      0.028      -0.025      -0.001\n",
       "mcycle         0.1222      0.089      1.373      0.170      -0.052       0.297\n",
       "setprcm       -0.0964      0.041     -2.379      0.017      -0.176      -0.017\n",
       "setprc         0.0006      0.000      2.193      0.028     6.6e-05       0.001\n",
       "retcall        0.7936      0.195      4.078      0.000       0.412       1.175\n",
       "==============================================================================\n",
       "\"\"\""
      ]
     },
     "execution_count": 14,
     "metadata": {},
     "output_type": "execute_result"
    }
   ],
   "source": [
    "m1.summary()"
   ]
  },
  {
   "cell_type": "code",
   "execution_count": 15,
   "id": "371c2a11-3a67-4bd1-b7bd-db7d4197ec2f",
   "metadata": {
    "execution": {
     "iopub.execute_input": "2023-04-16T23:21:32.145269Z",
     "iopub.status.busy": "2023-04-16T23:21:32.144714Z",
     "iopub.status.idle": "2023-04-16T23:21:32.227932Z",
     "shell.execute_reply": "2023-04-16T23:21:32.226700Z",
     "shell.execute_reply.started": "2023-04-16T23:21:32.145233Z"
    },
    "scrolled": true,
    "tags": []
   },
   "outputs": [
    {
     "data": {
      "text/html": [
       "<div>\n",
       "<style scoped>\n",
       "    .dataframe tbody tr th:only-of-type {\n",
       "        vertical-align: middle;\n",
       "    }\n",
       "\n",
       "    .dataframe tbody tr th {\n",
       "        vertical-align: top;\n",
       "    }\n",
       "\n",
       "    .dataframe thead th {\n",
       "        text-align: right;\n",
       "    }\n",
       "</style>\n",
       "<table border=\"1\" class=\"dataframe\">\n",
       "  <thead>\n",
       "    <tr style=\"text-align: right;\">\n",
       "      <th></th>\n",
       "      <th>Odds ratios</th>\n",
       "      <th>std err</th>\n",
       "      <th>z</th>\n",
       "      <th>P&gt;|z|</th>\n",
       "      <th>[0.025</th>\n",
       "      <th>0.975]</th>\n",
       "    </tr>\n",
       "  </thead>\n",
       "  <tbody>\n",
       "    <tr>\n",
       "      <th>revenue</th>\n",
       "      <td>1.001965</td>\n",
       "      <td>0.000800</td>\n",
       "      <td>2.457656</td>\n",
       "      <td>0.014</td>\n",
       "      <td>1.000414</td>\n",
       "      <td>1.003517</td>\n",
       "    </tr>\n",
       "    <tr>\n",
       "      <th>mou</th>\n",
       "      <td>0.999719</td>\n",
       "      <td>0.000050</td>\n",
       "      <td>5.657852</td>\n",
       "      <td>0.000</td>\n",
       "      <td>0.999623</td>\n",
       "      <td>0.999815</td>\n",
       "    </tr>\n",
       "    <tr>\n",
       "      <th>recchrge</th>\n",
       "      <td>0.996882</td>\n",
       "      <td>0.000886</td>\n",
       "      <td>3.519019</td>\n",
       "      <td>0.000</td>\n",
       "      <td>0.995163</td>\n",
       "      <td>0.998601</td>\n",
       "    </tr>\n",
       "    <tr>\n",
       "      <th>directas</th>\n",
       "      <td>0.998804</td>\n",
       "      <td>0.005932</td>\n",
       "      <td>0.201561</td>\n",
       "      <td>0.840</td>\n",
       "      <td>0.987297</td>\n",
       "      <td>1.010312</td>\n",
       "    </tr>\n",
       "    <tr>\n",
       "      <th>overage</th>\n",
       "      <td>1.000761</td>\n",
       "      <td>0.000281</td>\n",
       "      <td>2.710142</td>\n",
       "      <td>0.007</td>\n",
       "      <td>1.000216</td>\n",
       "      <td>1.001305</td>\n",
       "    </tr>\n",
       "    <tr>\n",
       "      <th>...</th>\n",
       "      <td>...</td>\n",
       "      <td>...</td>\n",
       "      <td>...</td>\n",
       "      <td>...</td>\n",
       "      <td>...</td>\n",
       "      <td>...</td>\n",
       "    </tr>\n",
       "    <tr>\n",
       "      <th>income</th>\n",
       "      <td>0.986846</td>\n",
       "      <td>0.005955</td>\n",
       "      <td>2.208819</td>\n",
       "      <td>0.027</td>\n",
       "      <td>0.975293</td>\n",
       "      <td>0.998399</td>\n",
       "    </tr>\n",
       "    <tr>\n",
       "      <th>mcycle</th>\n",
       "      <td>1.129973</td>\n",
       "      <td>0.100550</td>\n",
       "      <td>1.292612</td>\n",
       "      <td>0.196</td>\n",
       "      <td>0.934905</td>\n",
       "      <td>1.325040</td>\n",
       "    </tr>\n",
       "    <tr>\n",
       "      <th>setprcm</th>\n",
       "      <td>0.908111</td>\n",
       "      <td>0.036791</td>\n",
       "      <td>2.497601</td>\n",
       "      <td>0.013</td>\n",
       "      <td>0.836737</td>\n",
       "      <td>0.979485</td>\n",
       "    </tr>\n",
       "    <tr>\n",
       "      <th>setprc</th>\n",
       "      <td>1.000620</td>\n",
       "      <td>0.000283</td>\n",
       "      <td>2.192644</td>\n",
       "      <td>0.028</td>\n",
       "      <td>1.000071</td>\n",
       "      <td>1.001169</td>\n",
       "    </tr>\n",
       "    <tr>\n",
       "      <th>retcall</th>\n",
       "      <td>2.211280</td>\n",
       "      <td>0.430283</td>\n",
       "      <td>2.815076</td>\n",
       "      <td>0.005</td>\n",
       "      <td>1.376531</td>\n",
       "      <td>3.046030</td>\n",
       "    </tr>\n",
       "  </tbody>\n",
       "</table>\n",
       "<p>66 rows × 6 columns</p>\n",
       "</div>"
      ],
      "text/plain": [
       "          Odds ratios   std err         z  P>|z|    [0.025    0.975]\n",
       "revenue      1.001965  0.000800  2.457656  0.014  1.000414  1.003517\n",
       "mou          0.999719  0.000050  5.657852  0.000  0.999623  0.999815\n",
       "recchrge     0.996882  0.000886  3.519019  0.000  0.995163  0.998601\n",
       "directas     0.998804  0.005932  0.201561  0.840  0.987297  1.010312\n",
       "overage      1.000761  0.000281  2.710142  0.007  1.000216  1.001305\n",
       "...               ...       ...       ...    ...       ...       ...\n",
       "income       0.986846  0.005955  2.208819  0.027  0.975293  0.998399\n",
       "mcycle       1.129973  0.100550  1.292612  0.196  0.934905  1.325040\n",
       "setprcm      0.908111  0.036791  2.497601  0.013  0.836737  0.979485\n",
       "setprc       1.000620  0.000283  2.192644  0.028  1.000071  1.001169\n",
       "retcall      2.211280  0.430283  2.815076  0.005  1.376531  3.046030\n",
       "\n",
       "[66 rows x 6 columns]"
      ]
     },
     "execution_count": 15,
     "metadata": {},
     "output_type": "execute_result"
    }
   ],
   "source": [
    "dfm1_or = odds_ratios(m1)\n",
    "dfm1_or"
   ]
  },
  {
   "cell_type": "code",
   "execution_count": 16,
   "id": "efddf004-877c-48ec-b01f-9cefdb757469",
   "metadata": {
    "execution": {
     "iopub.execute_input": "2023-04-16T23:21:32.230605Z",
     "iopub.status.busy": "2023-04-16T23:21:32.229777Z",
     "iopub.status.idle": "2023-04-16T23:21:32.363737Z",
     "shell.execute_reply": "2023-04-16T23:21:32.362920Z",
     "shell.execute_reply.started": "2023-04-16T23:21:32.230564Z"
    },
    "tags": []
   },
   "outputs": [],
   "source": [
    "## Adding the standard deviation column to the odds ratios dataframe\n",
    "dfm1_or['std'] = dfm1_test[m1f].std()\n",
    "\n",
    "## Operation between resulting odds ratios and standard deviation\n",
    "dfm1_or['norm_or'] = np.power(dfm1_or['Odds ratios'], dfm1_or['std'])\n",
    "\n",
    "## Correcting odds ratios that are lower than one\n",
    "dfm1_or['norm_or'] = dfm1_or['norm_or'].apply(lambda x: 1/x if x < 1 else x)\n",
    "\n",
    "## Ranking results\n",
    "dfm1_or['rank'] = dfm1_or['norm_or'].rank(ascending=False)\n",
    "dfm1_or.sort_values(by='rank', inplace=True, ascending=True)"
   ]
  },
  {
   "cell_type": "markdown",
   "id": "1cca5638-2a97-49da-87fb-b61cfea0b7c8",
   "metadata": {
    "tags": []
   },
   "source": [
    "##### Predictions"
   ]
  },
  {
   "cell_type": "code",
   "execution_count": 19,
   "id": "5dd1381d-ae28-4e62-bb59-7cb6f4caf5ff",
   "metadata": {
    "execution": {
     "iopub.execute_input": "2023-04-16T23:21:55.307055Z",
     "iopub.status.busy": "2023-04-16T23:21:55.306636Z",
     "iopub.status.idle": "2023-04-16T23:21:55.628290Z",
     "shell.execute_reply": "2023-04-16T23:21:55.626611Z",
     "shell.execute_reply.started": "2023-04-16T23:21:55.307024Z"
    },
    "tags": []
   },
   "outputs": [],
   "source": [
    "## Churn predicted probability\n",
    "dfm1_test['m1_pred_prob'] = m1.predict(dfm1_test[m1f])\n",
    "\n",
    "## Classifying churners in groups\n",
    "dfm1_test['m1_pred_prob_grade'] = 10 - ntile(dfm1_test['m1_pred_prob'], 10)"
   ]
  },
  {
   "cell_type": "markdown",
   "id": "760d643a-85fb-4958-9990-3baaf9d47394",
   "metadata": {},
   "source": [
    "## "
   ]
  },
  {
   "cell_type": "markdown",
   "id": "b6df1022-ac93-4d80-b04c-8bdd07c4e83c",
   "metadata": {
    "tags": []
   },
   "source": [
    "## Manual models compilation"
   ]
  },
  {
   "cell_type": "code",
   "execution_count": 20,
   "id": "2b6b3d8b-3a19-4737-8945-1266901647c0",
   "metadata": {
    "execution": {
     "iopub.execute_input": "2023-04-16T23:21:56.784107Z",
     "iopub.status.busy": "2023-04-16T23:21:56.783688Z",
     "iopub.status.idle": "2023-04-16T23:21:56.845894Z",
     "shell.execute_reply": "2023-04-16T23:21:56.844638Z",
     "shell.execute_reply.started": "2023-04-16T23:21:56.784075Z"
    },
    "tags": []
   },
   "outputs": [],
   "source": [
    "## Models objects\n",
    "models = {\n",
    "    \n",
    "    ## \n",
    "    'm1': { \n",
    "        'df_test': dfm1_test,\n",
    "        'label': m1l,\n",
    "        'features': m1f,\n",
    "        'model': m1,\n",
    "    },\n",
    "    \n",
    "}"
   ]
  },
  {
   "cell_type": "markdown",
   "id": "a4cb8df3-1563-44c8-ba59-05b382e8e9e5",
   "metadata": {
    "tags": []
   },
   "source": [
    "# "
   ]
  },
  {
   "cell_type": "markdown",
   "id": "7ac6c542-56b2-4780-af7d-58e95f11ccb3",
   "metadata": {
    "jp-MarkdownHeadingCollapsed": true,
    "tags": []
   },
   "source": [
    "# Evaluating models"
   ]
  },
  {
   "cell_type": "markdown",
   "id": "2ce7a1b4-6b02-448b-9755-e412e218e457",
   "metadata": {
    "tags": []
   },
   "source": [
    "##### Lift"
   ]
  },
  {
   "cell_type": "code",
   "execution_count": null,
   "id": "d2475d44-250b-4910-a3cb-6ded2c8becdb",
   "metadata": {
    "jupyter": {
     "source_hidden": true
    },
    "tags": []
   },
   "outputs": [],
   "source": [
    "fig = go.Figure()\n",
    "\n",
    "\n",
    "for model_key in models:\n",
    "    \n",
    "    ## Variables definition\n",
    "    mx_info = models[model_key]\n",
    "    dfx = mx_info['df_test']\n",
    "    \n",
    "    ## Gain calculation\n",
    "    mx_gain = mba263.lift(dfx['churn'], dfx[model_key + '_pred_prob'], bins=100)\n",
    "\n",
    "    fig.add_trace(\n",
    "        go.Scatter(\n",
    "            x=np.linspace(0, 100, num=mx_gain.shape[0]), \n",
    "            y=mx_gain,\n",
    "            mode='lines',\n",
    "            name=model_key\n",
    "        )\n",
    "    )\n",
    "    \n",
    "\n",
    "fig.update_layout(\n",
    "    width=700, height=500,\n",
    "    title='Lift curves'\n",
    ")\n",
    "    \n",
    "fig.show()"
   ]
  },
  {
   "cell_type": "markdown",
   "id": "0cd1c9d3-ff08-4518-98cc-896ff9097edf",
   "metadata": {
    "tags": []
   },
   "source": [
    "# "
   ]
  },
  {
   "cell_type": "markdown",
   "id": "98d8bf0a-7c77-4243-ac9d-35be252bd11c",
   "metadata": {
    "tags": []
   },
   "source": [
    "# Identifying customers that will receive promotion"
   ]
  },
  {
   "cell_type": "markdown",
   "id": "db82e685-a3dc-4916-a9fa-7ccfe1dcb7a3",
   "metadata": {
    "tags": []
   },
   "source": [
    "## Generating dataset of selected customers"
   ]
  },
  {
   "cell_type": "code",
   "execution_count": 21,
   "id": "efbbb041-43ac-49cb-a7e6-c8061db04227",
   "metadata": {
    "execution": {
     "iopub.execute_input": "2023-04-16T23:22:00.976843Z",
     "iopub.status.busy": "2023-04-16T23:22:00.976407Z",
     "iopub.status.idle": "2023-04-16T23:22:01.053330Z",
     "shell.execute_reply": "2023-04-16T23:22:01.051959Z",
     "shell.execute_reply.started": "2023-04-16T23:22:00.976804Z"
    },
    "tags": []
   },
   "outputs": [],
   "source": [
    "dfc = dfm1_test[dfm1_test['m1_pred_prob_grade'] == 1].copy()"
   ]
  },
  {
   "cell_type": "code",
   "execution_count": 22,
   "id": "6b90fb43-482a-4232-b7df-72e2bc7c6595",
   "metadata": {
    "execution": {
     "iopub.execute_input": "2023-04-16T23:22:01.056742Z",
     "iopub.status.busy": "2023-04-16T23:22:01.056179Z",
     "iopub.status.idle": "2023-04-16T23:22:01.124209Z",
     "shell.execute_reply": "2023-04-16T23:22:01.123077Z",
     "shell.execute_reply.started": "2023-04-16T23:22:01.056708Z"
    }
   },
   "outputs": [],
   "source": [
    "## Average churn of selected customers\n",
    "avg_churn = dfc['churn'].mean()"
   ]
  },
  {
   "cell_type": "markdown",
   "id": "cab9c2a6-5e17-4db2-b5ea-ca7634c99fb3",
   "metadata": {
    "jp-MarkdownHeadingCollapsed": true,
    "tags": []
   },
   "source": [
    "## Understanding customer selection"
   ]
  },
  {
   "cell_type": "markdown",
   "id": "2c602d45-754e-45cc-a2d8-3d5c3323a46c",
   "metadata": {
    "jp-MarkdownHeadingCollapsed": true,
    "tags": []
   },
   "source": [
    "##### Do customers with a refurbished handset own a cheaper handset?\n",
    "- It seems that refurbished handsets are actually more expensive"
   ]
  },
  {
   "cell_type": "code",
   "execution_count": null,
   "id": "92c994bb-7f59-4cd4-b39b-b761160919f5",
   "metadata": {
    "jupyter": {
     "source_hidden": true
    },
    "tags": []
   },
   "outputs": [],
   "source": [
    "dfc.loc[:, rc].groupby(\n",
    "    'refurb',\n",
    ").agg(\n",
    "    count=('setprc', 'count'),\n",
    "    mean_price=('setprc', 'mean')\n",
    ")"
   ]
  },
  {
   "cell_type": "code",
   "execution_count": null,
   "id": "0e2e6c71-62a0-4a31-8b0e-c9184368db9f",
   "metadata": {
    "jupyter": {
     "source_hidden": true
    },
    "tags": []
   },
   "outputs": [],
   "source": [
    "rc = [\n",
    "    'setprc',\n",
    "    'refurb',\n",
    "]\n",
    "\n",
    "dfc.loc[:, rc]\n",
    "\n",
    "px.histogram(\n",
    "    data_frame=dfc.loc[:, rc],\n",
    "    x='setprc',\n",
    "    color='refurb',\n",
    "    histnorm='probability',\n",
    "    marginal='rug',\n",
    ")"
   ]
  },
  {
   "cell_type": "code",
   "execution_count": null,
   "id": "15605bb8-f75e-4170-808c-bc44b5c5e049",
   "metadata": {
    "jupyter": {
     "source_hidden": true
    },
    "tags": []
   },
   "outputs": [],
   "source": [
    "dfc.loc[:, rc]\n",
    "\n",
    "px.box(\n",
    "    data_frame=dfc.loc[:, rc],\n",
    "    x='setprc',\n",
    "    color='refurb',\n",
    ")"
   ]
  },
  {
   "cell_type": "markdown",
   "id": "dfd03500-02e3-407f-9408-b7f8599c9967",
   "metadata": {
    "execution": {
     "iopub.execute_input": "2023-04-16T17:47:32.977602Z",
     "iopub.status.busy": "2023-04-16T17:47:32.976828Z",
     "iopub.status.idle": "2023-04-16T17:47:33.046171Z",
     "shell.execute_reply": "2023-04-16T17:47:33.045240Z",
     "shell.execute_reply.started": "2023-04-16T17:47:32.977568Z"
    },
    "tags": []
   },
   "source": [
    "##### How does the `eqpdays` variable behaves?"
   ]
  },
  {
   "cell_type": "code",
   "execution_count": null,
   "id": "0c587ab3-e7f1-417d-952c-b58d8cc28512",
   "metadata": {
    "tags": []
   },
   "outputs": [],
   "source": [
    "## Box plot with variable distribution\n",
    "px.box(\n",
    "    x=dfc.loc[:, 'eqpdays'],\n",
    ")"
   ]
  },
  {
   "cell_type": "code",
   "execution_count": null,
   "id": "5eb13445-fccb-4eb5-95a0-3627c5ec1e23",
   "metadata": {},
   "outputs": [],
   "source": [
    "## Number of customer above a given percentile\n",
    "ths_q = 0.75\n",
    "ths_n = dfc.loc[:, 'eqpdays'].quantile(ths_q)\n",
    "\n",
    "mr1 = dfc['eqpdays'] >= ths_n\n",
    "\n",
    "dfc.loc[mr1, 'eqpdays']"
   ]
  },
  {
   "cell_type": "markdown",
   "id": "a9a52469-4c9d-420e-b4bf-ab02f294079b",
   "metadata": {
    "tags": []
   },
   "source": [
    "##### Question..."
   ]
  },
  {
   "cell_type": "markdown",
   "id": "bfd82cf5-99be-436b-9682-99a4dbb38bc4",
   "metadata": {
    "tags": []
   },
   "source": [
    "# "
   ]
  },
  {
   "cell_type": "markdown",
   "id": "9b752858-fb0f-4754-9ea9-c773e364dd26",
   "metadata": {
    "tags": []
   },
   "source": [
    "# Segmenting customers for promotions"
   ]
  },
  {
   "cell_type": "markdown",
   "id": "b74e1e1b-889e-4e5b-bfdb-10365783c8d1",
   "metadata": {
    "tags": []
   },
   "source": [
    "# "
   ]
  },
  {
   "cell_type": "markdown",
   "id": "a223b37c-3401-4278-9594-4aa07e7f356d",
   "metadata": {
    "tags": []
   },
   "source": [
    "# Profit calculations"
   ]
  },
  {
   "cell_type": "markdown",
   "id": "9527d1d4-8571-4d83-b350-3f15b7300540",
   "metadata": {
    "tags": []
   },
   "source": [
    "## Profit calculations without intervention"
   ]
  },
  {
   "cell_type": "code",
   "execution_count": 23,
   "id": "d3f09291-4097-4f02-b9a1-c5fac7de027f",
   "metadata": {
    "execution": {
     "iopub.execute_input": "2023-04-16T23:22:07.260880Z",
     "iopub.status.busy": "2023-04-16T23:22:07.260447Z",
     "iopub.status.idle": "2023-04-16T23:22:07.319729Z",
     "shell.execute_reply": "2023-04-16T23:22:07.318613Z",
     "shell.execute_reply.started": "2023-04-16T23:22:07.260843Z"
    },
    "tags": []
   },
   "outputs": [],
   "source": [
    "## Function to calculate status quo expected value\n",
    "def status_quo_exp_profit(periods, revenue, cost, churn_p, disc):\n",
    "    \n",
    "    ### List where all the results will be stored\n",
    "    res_lst = []\n",
    "    \n",
    "    ### Iterating over all periods and calculating individual results\n",
    "    for p in np.linspace(0, periods, periods + 1):\n",
    "        \n",
    "        res_lst.append(\n",
    "            ((revenue - cost)*(1 - churn_p)**p)*(1 - disc)**p\n",
    "        )\n",
    "    \n",
    "    ### Adding and rounding all results stored\n",
    "    res = round(sum(res_lst), 2)\n",
    "    \n",
    "    return res"
   ]
  },
  {
   "cell_type": "code",
   "execution_count": 24,
   "id": "340d2d4b-c323-4832-a521-c3f03b8fb086",
   "metadata": {
    "execution": {
     "iopub.execute_input": "2023-04-16T23:22:07.383936Z",
     "iopub.status.busy": "2023-04-16T23:22:07.383513Z",
     "iopub.status.idle": "2023-04-16T23:22:07.919336Z",
     "shell.execute_reply": "2023-04-16T23:22:07.918351Z",
     "shell.execute_reply.started": "2023-04-16T23:22:07.383902Z"
    },
    "tags": []
   },
   "outputs": [],
   "source": [
    "## Expected profits (present value) for each customer if we don't do anything\n",
    "dfc['exp_pv_profit'] = dfc.apply(\n",
    "    lambda x: status_quo_exp_profit(\n",
    "        sim_periods, \n",
    "        x['revenue'], \n",
    "        0,\n",
    "        x['m1_pred_prob'],\n",
    "        disc_rate,\n",
    "    ), \n",
    "    axis=1\n",
    ")"
   ]
  },
  {
   "cell_type": "code",
   "execution_count": 25,
   "id": "abd662e1-c434-4496-9e94-62508523b64c",
   "metadata": {
    "execution": {
     "iopub.execute_input": "2023-04-16T23:22:07.921776Z",
     "iopub.status.busy": "2023-04-16T23:22:07.921424Z",
     "iopub.status.idle": "2023-04-16T23:22:08.341096Z",
     "shell.execute_reply": "2023-04-16T23:22:08.340044Z",
     "shell.execute_reply.started": "2023-04-16T23:22:07.921746Z"
    }
   },
   "outputs": [
    {
     "data": {
      "text/plain": [
       "<Axes: ylabel='Frequency'>"
      ]
     },
     "execution_count": 25,
     "metadata": {},
     "output_type": "execute_result"
    },
    {
     "data": {
      "image/png": "[encoded data removed]",
      "text/plain": [
       "<Figure size 432x288 with 1 Axes>"
      ]
     },
     "metadata": {
      "needs_background": "light"
     },
     "output_type": "display_data"
    }
   ],
   "source": [
    "dfc['exp_pv_profit'].plot(kind='hist')"
   ]
  },
  {
   "cell_type": "markdown",
   "id": "4fe4c308-0a6f-45c8-8e8c-496f697432ea",
   "metadata": {
    "tags": []
   },
   "source": [
    "## "
   ]
  },
  {
   "cell_type": "markdown",
   "id": "43ec4ff3-cc0f-415f-9cce-1f46ef738f54",
   "metadata": {
    "tags": []
   },
   "source": [
    "## Profit calculations with intervention"
   ]
  },
  {
   "cell_type": "markdown",
   "id": "64edf2dd-8f39-46d6-ad76-736c656d872d",
   "metadata": {
    "tags": []
   },
   "source": [
    "### Function to estimate the new churn probability with an applied promotion"
   ]
  },
  {
   "cell_type": "code",
   "execution_count": 104,
   "id": "b7c72922-096e-4489-bc98-0037038f56d4",
   "metadata": {
    "execution": {
     "iopub.execute_input": "2023-04-17T00:12:49.311084Z",
     "iopub.status.busy": "2023-04-17T00:12:49.310650Z",
     "iopub.status.idle": "2023-04-17T00:12:49.374862Z",
     "shell.execute_reply": "2023-04-17T00:12:49.373945Z",
     "shell.execute_reply.started": "2023-04-17T00:12:49.311050Z"
    },
    "tags": []
   },
   "outputs": [],
   "source": [
    "## Function to calculate the churn probability for each incentive\n",
    "def inc_pred_prob(dfc, ftr, prom):\n",
    "    \"\"\"\n",
    "    Function to calculate the churn probability for each incentive\n",
    "    \n",
    "    param dfc (dataframe): dataframe with all customers that are in 1st decile top churners\n",
    "    param ftr (series): series with booleans related to filtering conditions for a give promotion\n",
    "    param prom (string): name of the promotion applied\n",
    "    \n",
    "    return: NaN\n",
    "    \"\"\"\n",
    "    \n",
    "    \n",
    "    ## Creating copy of the row with the modified fields\n",
    "    dfx = dfc.loc[ftr, :].copy()\n",
    "    \n",
    "    \n",
    "    ## Adjusting features based on the promotions applied\n",
    "    \n",
    "    ## Monthly Usage Discount\n",
    "    if prom == 'Monthly Usage Discount':\n",
    "        print('Monthly Usage Discount process')\n",
    "\n",
    "        #### \n",
    "        dfx.loc[ftr, 'mou'] = dfx.loc[ftr, 'mou'].quantile(0.8) \n",
    "    \n",
    "    ## New Phone\n",
    "    elif prom == 'New Phone':\n",
    "        print('New Phone process')\n",
    "    \n",
    "        #### Restarting the number of days of the current equipment\n",
    "        dfx.loc[ftr, 'eqpdays'] = 0\n",
    "\n",
    "        #### Changing to a non refurbished handset\n",
    "        dfx.loc[ftr, 'refurb'] = 0\n",
    "\n",
    "        #### Changing to web capable phone\n",
    "        dfx.loc[ftr, 'webcap'] = 1\n",
    "        \n",
    "        #### Adjusting the price of the handset\n",
    "        dfx.loc[ftr, 'setprc'] = np.maximum(dfx.loc[ftr, 'setprc'], 81.85)\n",
    "        \n",
    "    ## Prune Inactive Users\n",
    "    elif prom == 'Prune Inactive Users':\n",
    "        print('Prune Inactive Users process')\n",
    "        \n",
    "        #### Adjusting the price of the handset\n",
    "        dfx.loc[ftr, 'setprc'] = dfx.loc[ftr, 'actvsubs']\n",
    "    \n",
    "    \n",
    "    ## Estimating the new churn probability with the new parameters\n",
    "    print(\"DF shape fed into model: \", dfx.loc[ftr, m1f].shape)\n",
    "    pp = m1.predict(dfx.loc[ftr, m1f])\n",
    "    \n",
    "    ## Adding the predicted probabilities to the original dataframe\n",
    "    dfc.loc[ftr, 'prom_pred_prob'] = pp\n",
    "    \n",
    "    \n",
    "    return "
   ]
  },
  {
   "cell_type": "markdown",
   "id": "02164772-8a94-4da8-a9e6-5273c5e4807b",
   "metadata": {
    "tags": []
   },
   "source": [
    "### Customer selection criteria for each promotion"
   ]
  },
  {
   "cell_type": "code",
   "execution_count": 150,
   "id": "857c54da-4b46-431e-bbae-c6a93399bfb4",
   "metadata": {
    "execution": {
     "iopub.execute_input": "2023-04-17T00:47:35.847295Z",
     "iopub.status.busy": "2023-04-17T00:47:35.846626Z",
     "iopub.status.idle": "2023-04-17T00:47:35.902329Z",
     "shell.execute_reply": "2023-04-17T00:47:35.901418Z",
     "shell.execute_reply.started": "2023-04-17T00:47:35.847262Z"
    },
    "tags": []
   },
   "outputs": [],
   "source": [
    "## Promotions dictionary\n",
    "proms = {\n",
    "    \n",
    "    \n",
    "    ## Selecting out clients who might have lower churn if they get inactive users removed\n",
    "    'Prune Inactive Users': {\n",
    "        'selection': (dfc['uniqsubs'] - dfc['actvsubs'] > 1)\n",
    "    },\n",
    "    \n",
    "    ## \n",
    "    'Monthly Usage Discount': { \n",
    "        'selection': (dfc['mou'] < dfc['mou'].quantile(0.1))\n",
    "    },\n",
    "    \n",
    "    # ## Selecting out clients who might have lower churn if they get a new device\n",
    "    # 'New Phone': { \n",
    "    #     'selection': ((dfc['refurb'] == 1) | (dfc['eqpdays'] >= dfc['eqpdays'].quantile(0.9)) | (dfc['webcap'] == 0))\n",
    "    # },\n",
    "}"
   ]
  },
  {
   "cell_type": "code",
   "execution_count": 151,
   "id": "b1f677dd-7511-4e2c-92ff-eb372458d564",
   "metadata": {
    "execution": {
     "iopub.execute_input": "2023-04-17T00:47:36.149528Z",
     "iopub.status.busy": "2023-04-17T00:47:36.148815Z",
     "iopub.status.idle": "2023-04-17T00:47:36.302467Z",
     "shell.execute_reply": "2023-04-17T00:47:36.300610Z",
     "shell.execute_reply.started": "2023-04-17T00:47:36.149494Z"
    },
    "tags": []
   },
   "outputs": [
    {
     "name": "stdout",
     "output_type": "stream",
     "text": [
      "Prune Inactive Users\n",
      "(351,)\n",
      "Prune Inactive Users process\n",
      "DF shape fed into model:  (351, 66)\n",
      "Monthly Usage Discount\n",
      "(301,)\n",
      "Monthly Usage Discount process\n",
      "DF shape fed into model:  (301, 66)\n"
     ]
    },
    {
     "ename": "ValueError",
     "evalue": "shapes (301,66) and (67,) not aligned: 66 (dim 1) != 67 (dim 0)",
     "output_type": "error",
     "traceback": [
      "\u001b[0;31m---------------------------------------------------------------------------\u001b[0m",
      "\u001b[0;31mValueError\u001b[0m                                Traceback (most recent call last)",
      "Input \u001b[0;32mIn [151]\u001b[0m, in \u001b[0;36m<cell line: 6>\u001b[0;34m()\u001b[0m\n\u001b[1;32m     10\u001b[0m dfc\u001b[38;5;241m.\u001b[39mloc[proms[prom][\u001b[38;5;124m'\u001b[39m\u001b[38;5;124mselection\u001b[39m\u001b[38;5;124m'\u001b[39m], \u001b[38;5;124m'\u001b[39m\u001b[38;5;124mprom_sel\u001b[39m\u001b[38;5;124m'\u001b[39m] \u001b[38;5;241m=\u001b[39m prom\n\u001b[1;32m     12\u001b[0m \u001b[38;5;28mprint\u001b[39m(dfc\u001b[38;5;241m.\u001b[39mloc[proms[prom][\u001b[38;5;124m'\u001b[39m\u001b[38;5;124mselection\u001b[39m\u001b[38;5;124m'\u001b[39m], \u001b[38;5;124m'\u001b[39m\u001b[38;5;124mprom_sel\u001b[39m\u001b[38;5;124m'\u001b[39m]\u001b[38;5;241m.\u001b[39mshape)\n\u001b[0;32m---> 14\u001b[0m \u001b[43minc_pred_prob\u001b[49m\u001b[43m(\u001b[49m\u001b[43mdfc\u001b[49m\u001b[43m,\u001b[49m\u001b[43m \u001b[49m\u001b[43mproms\u001b[49m\u001b[43m[\u001b[49m\u001b[43mprom\u001b[49m\u001b[43m]\u001b[49m\u001b[43m[\u001b[49m\u001b[38;5;124;43m'\u001b[39;49m\u001b[38;5;124;43mselection\u001b[39;49m\u001b[38;5;124;43m'\u001b[39;49m\u001b[43m]\u001b[49m\u001b[43m,\u001b[49m\u001b[43m \u001b[49m\u001b[43mprom\u001b[49m\u001b[43m)\u001b[49m\n",
      "Input \u001b[0;32mIn [104]\u001b[0m, in \u001b[0;36minc_pred_prob\u001b[0;34m(dfc, ftr, prom)\u001b[0m\n\u001b[1;32m     51\u001b[0m \u001b[38;5;66;03m## Estimating the new churn probability with the new parameters\u001b[39;00m\n\u001b[1;32m     52\u001b[0m \u001b[38;5;28mprint\u001b[39m(\u001b[38;5;124m\"\u001b[39m\u001b[38;5;124mDF shape fed into model: \u001b[39m\u001b[38;5;124m\"\u001b[39m, dfx\u001b[38;5;241m.\u001b[39mloc[ftr, m1f]\u001b[38;5;241m.\u001b[39mshape)\n\u001b[0;32m---> 53\u001b[0m pp \u001b[38;5;241m=\u001b[39m \u001b[43mm1\u001b[49m\u001b[38;5;241;43m.\u001b[39;49m\u001b[43mpredict\u001b[49m\u001b[43m(\u001b[49m\u001b[43mdfx\u001b[49m\u001b[38;5;241;43m.\u001b[39;49m\u001b[43mloc\u001b[49m\u001b[43m[\u001b[49m\u001b[43mftr\u001b[49m\u001b[43m,\u001b[49m\u001b[43m \u001b[49m\u001b[43mm1f\u001b[49m\u001b[43m]\u001b[49m\u001b[43m)\u001b[49m\n\u001b[1;32m     55\u001b[0m \u001b[38;5;66;03m## Adding the predicted probabilities to the original dataframe\u001b[39;00m\n\u001b[1;32m     56\u001b[0m dfc\u001b[38;5;241m.\u001b[39mloc[ftr, \u001b[38;5;124m'\u001b[39m\u001b[38;5;124mprom_pred_prob\u001b[39m\u001b[38;5;124m'\u001b[39m] \u001b[38;5;241m=\u001b[39m pp\n",
      "File \u001b[0;32m~/Documents/educacion/maestria/berkeley_mba_meng/academics/2023_spring/marketing_analytics/repos/marketing_analytics_cell2cell/.venv/lib/python3.9/site-packages/statsmodels/base/model.py:1159\u001b[0m, in \u001b[0;36mResults.predict\u001b[0;34m(self, exog, transform, *args, **kwargs)\u001b[0m\n\u001b[1;32m   1156\u001b[0m         exog \u001b[38;5;241m=\u001b[39m exog[:, \u001b[38;5;28;01mNone\u001b[39;00m]\n\u001b[1;32m   1157\u001b[0m     exog \u001b[38;5;241m=\u001b[39m np\u001b[38;5;241m.\u001b[39matleast_2d(exog)  \u001b[38;5;66;03m# needed in count model shape[1]\u001b[39;00m\n\u001b[0;32m-> 1159\u001b[0m predict_results \u001b[38;5;241m=\u001b[39m \u001b[38;5;28;43mself\u001b[39;49m\u001b[38;5;241;43m.\u001b[39;49m\u001b[43mmodel\u001b[49m\u001b[38;5;241;43m.\u001b[39;49m\u001b[43mpredict\u001b[49m\u001b[43m(\u001b[49m\u001b[38;5;28;43mself\u001b[39;49m\u001b[38;5;241;43m.\u001b[39;49m\u001b[43mparams\u001b[49m\u001b[43m,\u001b[49m\u001b[43m \u001b[49m\u001b[43mexog\u001b[49m\u001b[43m,\u001b[49m\u001b[43m \u001b[49m\u001b[38;5;241;43m*\u001b[39;49m\u001b[43margs\u001b[49m\u001b[43m,\u001b[49m\n\u001b[1;32m   1160\u001b[0m \u001b[43m                                     \u001b[49m\u001b[38;5;241;43m*\u001b[39;49m\u001b[38;5;241;43m*\u001b[39;49m\u001b[43mkwargs\u001b[49m\u001b[43m)\u001b[49m\n\u001b[1;32m   1162\u001b[0m \u001b[38;5;28;01mif\u001b[39;00m exog_index \u001b[38;5;129;01mis\u001b[39;00m \u001b[38;5;129;01mnot\u001b[39;00m \u001b[38;5;28;01mNone\u001b[39;00m \u001b[38;5;129;01mand\u001b[39;00m \u001b[38;5;129;01mnot\u001b[39;00m \u001b[38;5;28mhasattr\u001b[39m(predict_results,\n\u001b[1;32m   1163\u001b[0m                                           \u001b[38;5;124m'\u001b[39m\u001b[38;5;124mpredicted_values\u001b[39m\u001b[38;5;124m'\u001b[39m):\n\u001b[1;32m   1164\u001b[0m     \u001b[38;5;28;01mif\u001b[39;00m predict_results\u001b[38;5;241m.\u001b[39mndim \u001b[38;5;241m==\u001b[39m \u001b[38;5;241m1\u001b[39m:\n",
      "File \u001b[0;32m~/Documents/educacion/maestria/berkeley_mba_meng/academics/2023_spring/marketing_analytics/repos/marketing_analytics_cell2cell/pkg_dir/src/utils/mba263.py:46\u001b[0m, in \u001b[0;36mMba263Logit.predict\u001b[0;34m(self, *args)\u001b[0m\n\u001b[1;32m     44\u001b[0m \u001b[38;5;28;01mif\u001b[39;00m x\u001b[38;5;241m.\u001b[39mshape[\u001b[38;5;241m0\u001b[39m]\u001b[38;5;241m==\u001b[39m\u001b[38;5;241m1\u001b[39m:\n\u001b[1;32m     45\u001b[0m   x \u001b[38;5;241m=\u001b[39m x\u001b[38;5;241m.\u001b[39mtranspose()\n\u001b[0;32m---> 46\u001b[0m \u001b[38;5;28;01mreturn\u001b[39;00m \u001b[38;5;28;43msuper\u001b[39;49m\u001b[43m(\u001b[49m\u001b[43msm\u001b[49m\u001b[38;5;241;43m.\u001b[39;49m\u001b[43mLogit\u001b[49m\u001b[43m,\u001b[49m\u001b[43m \u001b[49m\u001b[38;5;28;43mself\u001b[39;49m\u001b[43m)\u001b[49m\u001b[38;5;241;43m.\u001b[39;49m\u001b[43mpredict\u001b[49m\u001b[43m(\u001b[49m\u001b[43margs\u001b[49m\u001b[43m[\u001b[49m\u001b[38;5;241;43m0\u001b[39;49m\u001b[43m]\u001b[49m\u001b[43m,\u001b[49m\u001b[43msm\u001b[49m\u001b[38;5;241;43m.\u001b[39;49m\u001b[43madd_constant\u001b[49m\u001b[43m(\u001b[49m\u001b[43mx\u001b[49m\u001b[43m)\u001b[49m\u001b[43m)\u001b[49m\n",
      "File \u001b[0;32m~/Documents/educacion/maestria/berkeley_mba_meng/academics/2023_spring/marketing_analytics/repos/marketing_analytics_cell2cell/.venv/lib/python3.9/site-packages/statsmodels/discrete/discrete_model.py:494\u001b[0m, in \u001b[0;36mBinaryModel.predict\u001b[0;34m(self, params, exog, linear)\u001b[0m\n\u001b[1;32m    492\u001b[0m     exog \u001b[38;5;241m=\u001b[39m \u001b[38;5;28mself\u001b[39m\u001b[38;5;241m.\u001b[39mexog\n\u001b[1;32m    493\u001b[0m \u001b[38;5;28;01mif\u001b[39;00m \u001b[38;5;129;01mnot\u001b[39;00m linear:\n\u001b[0;32m--> 494\u001b[0m     \u001b[38;5;28;01mreturn\u001b[39;00m \u001b[38;5;28mself\u001b[39m\u001b[38;5;241m.\u001b[39mcdf(\u001b[43mnp\u001b[49m\u001b[38;5;241;43m.\u001b[39;49m\u001b[43mdot\u001b[49m\u001b[43m(\u001b[49m\u001b[43mexog\u001b[49m\u001b[43m,\u001b[49m\u001b[43m \u001b[49m\u001b[43mparams\u001b[49m\u001b[43m)\u001b[49m)\n\u001b[1;32m    495\u001b[0m \u001b[38;5;28;01melse\u001b[39;00m:\n\u001b[1;32m    496\u001b[0m     \u001b[38;5;28;01mreturn\u001b[39;00m np\u001b[38;5;241m.\u001b[39mdot(exog, params)\n",
      "File \u001b[0;32m<__array_function__ internals>:180\u001b[0m, in \u001b[0;36mdot\u001b[0;34m(*args, **kwargs)\u001b[0m\n",
      "\u001b[0;31mValueError\u001b[0m: shapes (301,66) and (67,) not aligned: 66 (dim 1) != 67 (dim 0)"
     ]
    }
   ],
   "source": [
    "## Creating empty column that then will be overwritten with the different promotions\n",
    "dfc['prom_sel'] = 'no_promotion'\n",
    "dfc['prom_pred_prob'] = np.nan\n",
    "\n",
    "## Tagging all customer that fall under a certain promotion selection criteria\n",
    "for prom in proms:\n",
    "    \n",
    "    print(prom)\n",
    "    \n",
    "    dfc.loc[proms[prom]['selection'], 'prom_sel'] = prom\n",
    "    \n",
    "    print(dfc.loc[proms[prom]['selection'], 'prom_sel'].shape)\n",
    "    \n",
    "    inc_pred_prob(dfc, proms[prom]['selection'], prom)"
   ]
  },
  {
   "cell_type": "code",
   "execution_count": 95,
   "id": "816c498e-80da-4707-a65a-c46249c5ff34",
   "metadata": {
    "execution": {
     "iopub.execute_input": "2023-04-17T00:02:41.253156Z",
     "iopub.status.busy": "2023-04-17T00:02:41.252686Z",
     "iopub.status.idle": "2023-04-17T00:02:41.317394Z",
     "shell.execute_reply": "2023-04-17T00:02:41.316259Z",
     "shell.execute_reply.started": "2023-04-17T00:02:41.253121Z"
    },
    "tags": []
   },
   "outputs": [
    {
     "data": {
      "text/plain": [
       "no_promotion            0.708594\n",
       "Prune Inactive Users    0.291406\n",
       "Name: prom_sel, dtype: float64"
      ]
     },
     "execution_count": 95,
     "metadata": {},
     "output_type": "execute_result"
    }
   ],
   "source": [
    "dfc['prom_sel'].value_counts(normalize=True)"
   ]
  },
  {
   "cell_type": "code",
   "execution_count": null,
   "id": "ed2b4f52-6b49-480a-9844-4bf1de7aeae3",
   "metadata": {},
   "outputs": [],
   "source": []
  },
  {
   "cell_type": "markdown",
   "id": "0c9f6093-48ee-411c-81d8-73eb867301ac",
   "metadata": {
    "tags": []
   },
   "source": [
    "### Discount on new, web-capable equipment\n",
    "- Working with variable `eqpdays`"
   ]
  },
  {
   "cell_type": "code",
   "execution_count": null,
   "id": "ba2f6d42-2bb7-42ee-be5b-65f7cab12619",
   "metadata": {},
   "outputs": [],
   "source": []
  },
  {
   "cell_type": "markdown",
   "id": "c1fa31b0-2ffb-4daf-959a-a00518f1ab31",
   "metadata": {
    "tags": []
   },
   "source": [
    "# "
   ]
  },
  {
   "cell_type": "markdown",
   "id": "3ef3f8cd-0265-4682-aee4-1867b7ce5e63",
   "metadata": {},
   "source": [
    "# Header"
   ]
  },
  {
   "cell_type": "markdown",
   "id": "784be4db-1c06-43e0-a4da-86b1bbcde318",
   "metadata": {},
   "source": [
    "# *Notes*"
   ]
  },
  {
   "cell_type": "markdown",
   "id": "b9a7b515-5a39-4689-bab8-4f98527e55d5",
   "metadata": {},
   "source": [
    "### Testing weird behavior calculating predictions"
   ]
  },
  {
   "cell_type": "code",
   "execution_count": null,
   "id": "160a792d-9105-4198-b893-902b1785527e",
   "metadata": {},
   "outputs": [],
   "source": [
    "## Works\n",
    "x = dfm1_test.loc[1099785:1099979, m1f]\n",
    "m1.predict(x)\n",
    "\n",
    "## Doesn't work\n",
    "x = dfm1_test.loc[1099971:1099979, m1f]\n",
    "m1.predict(x)\n",
    "\n",
    "## Doesn't work\n",
    "x = dfm1_test.loc[1099971:1099979, m1f].values\n",
    "m1.predict(x)\n",
    "\n",
    "## Doesn't work\n",
    "x_matrix = sm.add_constant(dfm1_test.loc[1099971:1099979, m1f])\n",
    "m1.predict(x_matrix)"
   ]
  },
  {
   "cell_type": "markdown",
   "id": "19dc1c4e-0486-44bd-ae8f-fe77a49c3633",
   "metadata": {},
   "source": [
    "### Old dict"
   ]
  },
  {
   "cell_type": "code",
   "execution_count": null,
   "id": "d351d62d-1626-4bb9-bd7a-6f32c8fa2481",
   "metadata": {
    "tags": []
   },
   "outputs": [],
   "source": [
    "## Promotions dictionary\n",
    "proms = {\n",
    "    \n",
    "    ## Selecting out clients who might have lower churn if they get a customer service call asking them about their service and notifying them of either/both \"block calls from unknown numbers\" setting and referral promotion.\n",
    "    'Customer Service Call': {\n",
    "        'selection': (dfc['m1_pred_prob_grade'] == 1),\n",
    "    },\n",
    "    \n",
    "    ## Selecting out clients who might have lower churn if they get inactive users removed\n",
    "    'Prune Inactive Users': {\n",
    "        'selection': (dfc['m1_pred_prob_grade'] == 1) & (dfc['uniqsubs'] - dfc['actvsubs'] > 0)\n",
    "    },\n",
    "    \n",
    "    ## Selecting out clients who might have lower churn if they get a new device\n",
    "    'New Phone': { # These people are grade 1 churn risks with a refurbished, old, or non-web device\n",
    "        'selection': (dfc['m1_pred_prob_grade'] == 1) & ((dfc['refurb'] == 1) | (dfc['eqpdays'] >= dfc['eqpdays'].quantile(0.75)) | (dfc['webcap'] == 0)),\n",
    "    },\n",
    "}"
   ]
  },
  {
   "cell_type": "markdown",
   "id": "41fd0317-57e3-42ca-88d8-fe67e0877d4f",
   "metadata": {
    "jp-MarkdownHeadingCollapsed": true,
    "tags": []
   },
   "source": [
    "## Model 2\n",
    "### Logistic regression with regularization"
   ]
  },
  {
   "cell_type": "markdown",
   "id": "1b1b9c51-adf8-4cd1-aca5-79b3085caf43",
   "metadata": {
    "tags": []
   },
   "source": [
    "##### Model dataset"
   ]
  },
  {
   "cell_type": "code",
   "execution_count": null,
   "id": "600c2592-fcce-4e7d-ad6b-deb2a367bd8a",
   "metadata": {
    "tags": []
   },
   "outputs": [],
   "source": [
    "dfm2_train = df_train.copy()\n",
    "dfm2_test = df_test.copy()"
   ]
  },
  {
   "cell_type": "markdown",
   "id": "8fe037ec-25d5-4582-b99d-f06acff16d99",
   "metadata": {
    "tags": []
   },
   "source": [
    "##### Model label and features"
   ]
  },
  {
   "cell_type": "code",
   "execution_count": null,
   "id": "dda249a7-3eee-4d27-9562-5e4774f8394a",
   "metadata": {
    "tags": []
   },
   "outputs": [],
   "source": [
    "## Label\n",
    "m2l = 'churndep'\n",
    "\n",
    "## Features\n",
    "m2f = [\n",
    "    # 'calibrat',\n",
    "    # 'churn',\n",
    "    # 'churndep',\n",
    "    'revenue',\n",
    "    'mou',\n",
    "    'recchrge',\n",
    "    'directas',\n",
    "    'overage',\n",
    "    'roam',\n",
    "    'changem',\n",
    "    'changer',\n",
    "    'dropvce',\n",
    "    'blckvce',\n",
    "    'unansvce',\n",
    "    'custcare',\n",
    "    'threeway',\n",
    "    'mourec',\n",
    "    'outcalls',\n",
    "    'incalls',\n",
    "    'peakvce',\n",
    "    'opeakvce',\n",
    "    'dropblk',\n",
    "    'callfwdv',\n",
    "    'callwait',\n",
    "    'months',\n",
    "    'uniqsubs',\n",
    "    'actvsubs',\n",
    "    'phones',\n",
    "    'models',\n",
    "    'eqpdays',\n",
    "    'age1',\n",
    "    'age2',\n",
    "    'children',\n",
    "    'credita',\n",
    "    'creditaa',\n",
    "    'prizmrur',\n",
    "    'prizmub',\n",
    "    'prizmtwn',\n",
    "    'refurb',\n",
    "    'webcap',\n",
    "    'truck',\n",
    "    'rv',\n",
    "    'occprof',\n",
    "    'occcler',\n",
    "    'occcrft',\n",
    "    'occstud',\n",
    "    'occhmkr',\n",
    "    'occret',\n",
    "    'occself',\n",
    "    'ownrent',\n",
    "    'marryun',\n",
    "    'marryyes',\n",
    "    'mailord',\n",
    "    'mailres',\n",
    "    'mailflag',\n",
    "    'travel',\n",
    "    'pcown',\n",
    "    'creditcd',\n",
    "    'retcalls',\n",
    "    'retaccpt',\n",
    "    'newcelly',\n",
    "    'newcelln',\n",
    "    'refer',\n",
    "    'incmiss',\n",
    "    'income',\n",
    "    'mcycle',\n",
    "    'setprcm',\n",
    "    'setprc',\n",
    "    'retcall',\n",
    "    'rec_ntile',\n",
    "    'freq_ntile',\n",
    "    'mon_ntile',\n",
    "]"
   ]
  },
  {
   "cell_type": "markdown",
   "id": "6ca7cddc-72d8-47d0-82e7-4734115337a0",
   "metadata": {
    "tags": []
   },
   "source": [
    "##### Model training"
   ]
  },
  {
   "cell_type": "code",
   "execution_count": null,
   "id": "e99fa1e3-781a-41e9-bf68-da75b6038e3a",
   "metadata": {
    "tags": []
   },
   "outputs": [],
   "source": [
    "m2 = logit_reg(\n",
    "    a=dfm2_train[m2l],\n",
    "    b=dfm2_train[m2f],\n",
    "    alpha=3,\n",
    ")"
   ]
  },
  {
   "cell_type": "markdown",
   "id": "1f428879-d176-4dae-be98-c5df135b3dd9",
   "metadata": {
    "tags": []
   },
   "source": [
    "##### Model coefficients"
   ]
  },
  {
   "cell_type": "code",
   "execution_count": null,
   "id": "d836a0e5-2d46-4c63-ace1-6a2972a77954",
   "metadata": {
    "scrolled": true,
    "tags": []
   },
   "outputs": [],
   "source": [
    "m2.summary()"
   ]
  },
  {
   "cell_type": "code",
   "execution_count": null,
   "id": "4f9832a2-51ff-4bd9-a78a-51a517017320",
   "metadata": {
    "scrolled": true,
    "tags": []
   },
   "outputs": [],
   "source": [
    "dfm2_or = odds_ratios(m2)\n",
    "dfm2_or"
   ]
  },
  {
   "cell_type": "markdown",
   "id": "1a05cdab-586f-4df7-b566-e345668d8724",
   "metadata": {
    "tags": []
   },
   "source": [
    "##### Features selection"
   ]
  },
  {
   "cell_type": "code",
   "execution_count": null,
   "id": "0df4692b-9533-469f-afab-731836d281e4",
   "metadata": {
    "tags": []
   },
   "outputs": [],
   "source": [
    "## Adding the standard deviation column to the odds ratios dataframe\n",
    "dfm2_or = dfm2_or.join(\n",
    "    dfi.loc[:, 'std']\n",
    ")\n",
    "\n",
    "## Operation between resulting odds ratios and standard deviation\n",
    "dfm2_or['or**std'] = dfm2_or['Odds ratios']**dfm2_or['std']\n",
    "\n",
    "## Calculating absolute difference between resulting column and 1\n",
    "dfm2_or['diff_or**std'] = abs(1 - dfm2_or['or**std'])\n",
    "\n",
    "## Ranking results\n",
    "dfm2_or['rank'] = dfm2_or['diff_or**std'].rank(ascending=False)\n",
    "dfm2_or.sort_values(by='rank', inplace=True, ascending=True)"
   ]
  },
  {
   "cell_type": "markdown",
   "id": "aecec74b-55aa-42cb-8d66-daecfe4b63c0",
   "metadata": {
    "tags": []
   },
   "source": [
    "##### Predictions"
   ]
  },
  {
   "cell_type": "code",
   "execution_count": null,
   "id": "bd3a5ff9-552a-40e1-8b3f-2b6f823cf5e1",
   "metadata": {
    "tags": []
   },
   "outputs": [],
   "source": [
    "## Churn predicted probability\n",
    "dfm2_test['m2_pred_prob'] = m2.predict(dfm2_test[m2f])\n",
    "\n",
    "## Classifying churners in groups\n",
    "dfm2_test['m2_pred_prob_grade'] = 10 - ntile(dfm2_test['m2_pred_prob'], 10)"
   ]
  },
  {
   "cell_type": "markdown",
   "id": "d157d45a-7d27-4642-b5c8-6ea60ae5c02e",
   "metadata": {
    "tags": []
   },
   "source": [
    "##### "
   ]
  },
  {
   "cell_type": "markdown",
   "id": "a379ec2e-9dd9-4a44-85c2-7276eee173e2",
   "metadata": {
    "jp-MarkdownHeadingCollapsed": true,
    "tags": []
   },
   "source": [
    "## Model 3\n",
    "### Logistic regression with features selected from model 1"
   ]
  },
  {
   "cell_type": "markdown",
   "id": "702eabd4-9f55-4194-9e4c-0d91578d6c50",
   "metadata": {
    "tags": []
   },
   "source": [
    "##### Model dataset"
   ]
  },
  {
   "cell_type": "code",
   "execution_count": null,
   "id": "3d130657-fea3-4f00-91b8-5aa035ed00bd",
   "metadata": {
    "tags": []
   },
   "outputs": [],
   "source": [
    "dfm3_train = df_train.copy()\n",
    "dfm3_test = df_test.copy()"
   ]
  },
  {
   "cell_type": "markdown",
   "id": "5f6398d3-f3b0-4186-a345-c2358e056612",
   "metadata": {
    "tags": []
   },
   "source": [
    "##### Model label and features"
   ]
  },
  {
   "cell_type": "code",
   "execution_count": null,
   "id": "dc14b8ba-8f46-48aa-94b3-5bd72c475a48",
   "metadata": {
    "tags": []
   },
   "outputs": [],
   "source": [
    "## Label\n",
    "m3l = 'churndep'\n",
    "\n",
    "## Features\n",
    "m3f = [\n",
    "    # 'calibrat',\n",
    "    # 'churn',\n",
    "    # 'churndep',\n",
    "    # 'revenue',\n",
    "    'mou',\n",
    "    # 'recchrge',\n",
    "    # 'directas',\n",
    "    # 'overage',\n",
    "    # 'roam',\n",
    "    'changem',\n",
    "    'changer',\n",
    "    'dropvce',\n",
    "    # 'blckvce',\n",
    "    # 'unansvce',\n",
    "    # 'custcare',\n",
    "    # 'threeway',\n",
    "    # 'mourec',\n",
    "    # 'outcalls',\n",
    "    # 'incalls',\n",
    "    # 'peakvce',\n",
    "    # 'opeakvce',\n",
    "    # 'dropblk',\n",
    "    # 'callfwdv',\n",
    "    # 'callwait',\n",
    "    'months',\n",
    "    'uniqsubs',\n",
    "    'actvsubs',\n",
    "    # 'phones',\n",
    "    # 'models',\n",
    "    'eqpdays',\n",
    "    # 'age1',\n",
    "    # 'age2',\n",
    "    # 'children',\n",
    "    # 'credita',\n",
    "    'creditaa',\n",
    "    # 'prizmrur',\n",
    "    # 'prizmub',\n",
    "    # 'prizmtwn',\n",
    "    # 'refurb',\n",
    "    # 'webcap',\n",
    "    # 'truck',\n",
    "    # 'rv',\n",
    "    # 'occprof',\n",
    "    # 'occcler',\n",
    "    # 'occcrft',\n",
    "    # 'occstud',\n",
    "    # 'occhmkr',\n",
    "    # 'occret',\n",
    "    # 'occself',\n",
    "    # 'ownrent',\n",
    "    # 'marryun',\n",
    "    # 'marryyes',\n",
    "    # 'mailord',\n",
    "    # 'mailres',\n",
    "    # 'mailflag',\n",
    "    # 'travel',\n",
    "    # 'pcown',\n",
    "    # 'creditcd',\n",
    "    # 'retcalls',\n",
    "    # 'retaccpt',\n",
    "    # 'newcelly',\n",
    "    # 'newcelln',\n",
    "    # 'refer',\n",
    "    # 'incmiss',\n",
    "    # 'income',\n",
    "    # 'mcycle',\n",
    "    # 'setprcm',\n",
    "    # 'setprc',\n",
    "    'retcall',\n",
    "    # 'rec_ntile',\n",
    "    # 'freq_ntile',\n",
    "    # 'mon_ntile',\n",
    "]"
   ]
  },
  {
   "cell_type": "markdown",
   "id": "887f7af3-f452-42e9-8cc0-787d1e66a0ff",
   "metadata": {
    "tags": []
   },
   "source": [
    "##### Model training"
   ]
  },
  {
   "cell_type": "code",
   "execution_count": null,
   "id": "005d13ea-f496-424d-a454-af5f1ffe9b23",
   "metadata": {
    "tags": []
   },
   "outputs": [],
   "source": [
    "m3 = logit_reg(\n",
    "    a=dfm3_train[m3l],\n",
    "    b=dfm3_train[m3f],\n",
    "    alpha=0,\n",
    ")"
   ]
  },
  {
   "cell_type": "markdown",
   "id": "02c36415-0928-4afe-8d9c-85bc659c8986",
   "metadata": {
    "tags": []
   },
   "source": [
    "##### Model coefficients"
   ]
  },
  {
   "cell_type": "code",
   "execution_count": null,
   "id": "9bcd219a-0d9d-46f6-af61-e5e3f748a8f0",
   "metadata": {
    "scrolled": true,
    "tags": []
   },
   "outputs": [],
   "source": [
    "m3.summary()"
   ]
  },
  {
   "cell_type": "code",
   "execution_count": null,
   "id": "269d0be6-2841-4405-8f01-7b25aec35a4c",
   "metadata": {
    "scrolled": true,
    "tags": []
   },
   "outputs": [],
   "source": [
    "odds_ratios(m3)"
   ]
  },
  {
   "cell_type": "markdown",
   "id": "0ecd36fe-f27b-46ff-9824-aec3058fd34c",
   "metadata": {
    "tags": []
   },
   "source": [
    "##### Model predictions"
   ]
  },
  {
   "cell_type": "code",
   "execution_count": null,
   "id": "b3f5e927-8273-4531-8027-ddd31a4d169a",
   "metadata": {
    "tags": []
   },
   "outputs": [],
   "source": [
    "## Churn predicted probability\n",
    "dfm3_test['m3_pred_prob'] = m3.predict(dfm3_test[m3f])\n",
    "\n",
    "## Classifying churners in groups\n",
    "dfm3_test['m3_pred_prob_grade'] = 10 - ntile(dfm3_test['m3_pred_prob'], 10)"
   ]
  },
  {
   "cell_type": "markdown",
   "id": "b9989e45-be55-4485-a25b-e4aad8ae1ad4",
   "metadata": {},
   "source": [
    "## "
   ]
  },
  {
   "cell_type": "markdown",
   "id": "b34c662c-f724-412f-86d7-75647d9b5448",
   "metadata": {},
   "source": [
    "---"
   ]
  },
  {
   "cell_type": "markdown",
   "id": "168089c7-257b-4b61-9a65-803e32753196",
   "metadata": {},
   "source": [
    "---"
   ]
  }
 ],
 "metadata": {
  "kernelspec": {
   "display_name": "Python 3 (ipykernel)",
   "language": "python",
   "name": "python3"
  },
  "language_info": {
   "codemirror_mode": {
    "name": "ipython",
    "version": 3
   },
   "file_extension": ".py",
   "mimetype": "text/x-python",
   "name": "python",
   "nbconvert_exporter": "python",
   "pygments_lexer": "ipython3",
   "version": "3.9.1"
  },
  "toc-autonumbering": true,
  "toc-showcode": false,
  "toc-showmarkdowntxt": false,
  "toc-showtags": false
 },
 "nbformat": 4,
 "nbformat_minor": 5
}

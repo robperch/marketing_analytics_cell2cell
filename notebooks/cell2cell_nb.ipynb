{
 "cells": [
  {
   "cell_type": "markdown",
   "id": "82c1d7a8-d74e-45e1-8937-264331e6d38a",
   "metadata": {},
   "source": [
    "# Cell 2 cell game assignment"
   ]
  },
  {
   "cell_type": "markdown",
   "id": "fd3103f5-1f01-42fe-b72e-7d113f81e37c",
   "metadata": {},
   "source": [
    "---"
   ]
  },
  {
   "cell_type": "markdown",
   "id": "5e63fc46-f231-4ce8-885d-2cbe620b6d57",
   "metadata": {
    "tags": []
   },
   "source": [
    "# "
   ]
  },
  {
   "cell_type": "markdown",
   "id": "4154f37d-fde6-4cef-8617-114a3a2d7d8e",
   "metadata": {},
   "source": [
    "# Imports"
   ]
  },
  {
   "cell_type": "markdown",
   "id": "a98dbaa6-17e1-4b79-93f0-d142aedd0037",
   "metadata": {},
   "source": [
    "#### Standard library imports"
   ]
  },
  {
   "cell_type": "code",
   "execution_count": 1,
   "id": "63099808-51cd-453c-976a-f3060b8650aa",
   "metadata": {
    "execution": {
     "iopub.execute_input": "2023-04-16T23:21:09.951641Z",
     "iopub.status.busy": "2023-04-16T23:21:09.950876Z",
     "iopub.status.idle": "2023-04-16T23:21:09.965957Z",
     "shell.execute_reply": "2023-04-16T23:21:09.964054Z",
     "shell.execute_reply.started": "2023-04-16T23:21:09.951535Z"
    },
    "tags": []
   },
   "outputs": [],
   "source": [
    "import sys\n",
    "sys.path.append(\"../\")\n",
    "\n",
    "import os"
   ]
  },
  {
   "cell_type": "markdown",
   "id": "b94ec94d-0d78-4ec3-a21c-353ccf52eec6",
   "metadata": {},
   "source": [
    "#### Third party imports"
   ]
  },
  {
   "cell_type": "code",
   "execution_count": 206,
   "id": "9e4989d0-ba3a-41cf-8ccb-44cade842a03",
   "metadata": {
    "execution": {
     "iopub.execute_input": "2023-04-17T01:19:03.807926Z",
     "iopub.status.busy": "2023-04-17T01:19:03.807408Z",
     "iopub.status.idle": "2023-04-17T01:19:03.885540Z",
     "shell.execute_reply": "2023-04-17T01:19:03.884117Z",
     "shell.execute_reply.started": "2023-04-17T01:19:03.807889Z"
    },
    "tags": []
   },
   "outputs": [],
   "source": [
    "import pandas as pd\n",
    "pd.set_option('display.max_columns', None)\n",
    "pd.set_option('display.max_rows', 15)\n",
    "import plotly.express as px\n",
    "import matplotlib.pyplot as plt\n",
    "# from sklearn import metrics\n",
    "import plotly.graph_objects as go\n",
    "import numpy as np\n",
    "import statsmodels.api as sm\n",
    "from sklearn.impute import SimpleImputer"
   ]
  },
  {
   "cell_type": "markdown",
   "id": "48755fa3-cba0-4508-9df2-18d50f60551b",
   "metadata": {
    "tags": []
   },
   "source": [
    "#### Local application imports"
   ]
  },
  {
   "cell_type": "code",
   "execution_count": 3,
   "id": "a62e34a6-dea0-48d6-a3bc-c5dcdcdb1718",
   "metadata": {
    "execution": {
     "iopub.execute_input": "2023-04-16T23:21:11.727395Z",
     "iopub.status.busy": "2023-04-16T23:21:11.726938Z",
     "iopub.status.idle": "2023-04-16T23:21:14.653991Z",
     "shell.execute_reply": "2023-04-16T23:21:14.652947Z",
     "shell.execute_reply.started": "2023-04-16T23:21:11.727361Z"
    },
    "tags": []
   },
   "outputs": [],
   "source": [
    "%load_ext autoreload\n",
    "%autoreload 2\n",
    "\n",
    "from pkg_dir.config import *\n",
    "from pkg_dir.src.utils import *\n",
    "from pkg_dir.src.functions import *\n",
    "from pkg_dir.src.parameters import *"
   ]
  },
  {
   "cell_type": "markdown",
   "id": "419fea39-e697-4807-bf44-e115f943ea5c",
   "metadata": {
    "tags": []
   },
   "source": [
    "# "
   ]
  },
  {
   "cell_type": "markdown",
   "id": "d533fe5d-c902-4259-97ee-672d6f2363c6",
   "metadata": {
    "tags": []
   },
   "source": [
    "# Loading data"
   ]
  },
  {
   "cell_type": "code",
   "execution_count": 4,
   "id": "ecb1b8ad-6a65-4fa5-aee4-4d844e50ba12",
   "metadata": {
    "execution": {
     "iopub.execute_input": "2023-04-16T23:21:14.657778Z",
     "iopub.status.busy": "2023-04-16T23:21:14.657362Z",
     "iopub.status.idle": "2023-04-16T23:21:14.720000Z",
     "shell.execute_reply": "2023-04-16T23:21:14.719040Z",
     "shell.execute_reply.started": "2023-04-16T23:21:14.657746Z"
    }
   },
   "outputs": [],
   "source": [
    "data_path = '../pkg_dir/data/cell2cell.csv'"
   ]
  },
  {
   "cell_type": "code",
   "execution_count": 212,
   "id": "5ae38b2c-0a7d-4716-8f06-5bfebde4d026",
   "metadata": {
    "execution": {
     "iopub.execute_input": "2023-04-17T01:20:56.565141Z",
     "iopub.status.busy": "2023-04-17T01:20:56.564433Z",
     "iopub.status.idle": "2023-04-17T01:20:57.141739Z",
     "shell.execute_reply": "2023-04-17T01:20:57.140785Z",
     "shell.execute_reply.started": "2023-04-17T01:20:56.565107Z"
    },
    "tags": []
   },
   "outputs": [],
   "source": [
    "dfr = pd.read_csv(data_path)"
   ]
  },
  {
   "cell_type": "markdown",
   "id": "8ddfa2c2-3488-4e8d-b18a-14ba4f171049",
   "metadata": {
    "tags": []
   },
   "source": [
    "# "
   ]
  },
  {
   "cell_type": "markdown",
   "id": "fe02fbec-918c-46e3-a80a-bb12ee00b7ee",
   "metadata": {
    "tags": []
   },
   "source": [
    "# Parameters definition"
   ]
  },
  {
   "cell_type": "code",
   "execution_count": 6,
   "id": "fbf66231-cff2-4c3f-883c-b6e097d6c931",
   "metadata": {
    "execution": {
     "iopub.execute_input": "2023-04-16T23:21:15.387374Z",
     "iopub.status.busy": "2023-04-16T23:21:15.386998Z",
     "iopub.status.idle": "2023-04-16T23:21:15.450164Z",
     "shell.execute_reply": "2023-04-16T23:21:15.448983Z",
     "shell.execute_reply.started": "2023-04-16T23:21:15.387343Z"
    },
    "tags": []
   },
   "outputs": [],
   "source": [
    "disc_rate = 0.09\n",
    "sim_periods = 24"
   ]
  },
  {
   "cell_type": "markdown",
   "id": "a9ffc599-5eb0-4e9d-941e-a7d988d7a996",
   "metadata": {
    "tags": []
   },
   "source": [
    "# "
   ]
  },
  {
   "cell_type": "markdown",
   "id": "853ce8f3-8d1d-4e20-ba54-4e29fa21c7ff",
   "metadata": {
    "tags": []
   },
   "source": [
    "# Initial data wrangling"
   ]
  },
  {
   "cell_type": "markdown",
   "id": "099dde80-a4d5-4df4-88a9-0f7afb58895f",
   "metadata": {},
   "source": [
    "##### Adding RFM variables"
   ]
  },
  {
   "cell_type": "code",
   "execution_count": 213,
   "id": "546cd442-1d7c-448f-a0a6-959979f65670",
   "metadata": {
    "execution": {
     "iopub.execute_input": "2023-04-17T01:21:00.072272Z",
     "iopub.status.busy": "2023-04-17T01:21:00.071501Z",
     "iopub.status.idle": "2023-04-17T01:21:01.317418Z",
     "shell.execute_reply": "2023-04-17T01:21:01.316505Z",
     "shell.execute_reply.started": "2023-04-17T01:21:00.072237Z"
    },
    "tags": []
   },
   "outputs": [],
   "source": [
    "## RFM variables\n",
    "num_tiles = 10\n",
    "dfr['rec_ntile'] = mba263.ntile(dfr['eqpdays'], num_tiles)\n",
    "dfr['freq_ntile'] = num_tiles - 1 - mba263.ntile(dfr['mou'], num_tiles)\n",
    "dfr['mon_ntile'] = num_tiles - 1 - mba263.ntile(dfr['recchrge'], num_tiles)"
   ]
  },
  {
   "cell_type": "markdown",
   "id": "14345c6a-65e6-4e7e-beee-c022a4c2acb9",
   "metadata": {
    "tags": []
   },
   "source": [
    "##### Setting the client ID as index"
   ]
  },
  {
   "cell_type": "code",
   "execution_count": 214,
   "id": "02a0d4fd-1466-49c3-a8a3-cdf3a44e3c60",
   "metadata": {
    "execution": {
     "iopub.execute_input": "2023-04-17T01:21:01.319916Z",
     "iopub.status.busy": "2023-04-17T01:21:01.319469Z",
     "iopub.status.idle": "2023-04-17T01:21:01.378732Z",
     "shell.execute_reply": "2023-04-17T01:21:01.377594Z",
     "shell.execute_reply.started": "2023-04-17T01:21:01.319885Z"
    },
    "tags": []
   },
   "outputs": [],
   "source": [
    "dfr.set_index('customer', inplace=True)"
   ]
  },
  {
   "cell_type": "markdown",
   "id": "dddfe46d-ea13-48fd-9ae7-5414049ca41b",
   "metadata": {},
   "source": [
    "##### Filling missing values"
   ]
  },
  {
   "cell_type": "code",
   "execution_count": 215,
   "id": "d8a100b6-a516-49fe-aae9-5422cdb1e568",
   "metadata": {
    "execution": {
     "iopub.execute_input": "2023-04-17T01:21:01.380498Z",
     "iopub.status.busy": "2023-04-17T01:21:01.380020Z",
     "iopub.status.idle": "2023-04-17T01:21:02.822743Z",
     "shell.execute_reply": "2023-04-17T01:21:02.821586Z",
     "shell.execute_reply.started": "2023-04-17T01:21:01.380465Z"
    },
    "tags": []
   },
   "outputs": [],
   "source": [
    "imputer = SimpleImputer(missing_values=np.nan, strategy='mean')\n",
    "imputer = imputer.fit(dfr)\n",
    "dfr[:] = imputer.transform(dfr)"
   ]
  },
  {
   "cell_type": "markdown",
   "id": "0b8ce11a-a887-4124-8273-c3e99813a81e",
   "metadata": {},
   "source": [
    "##### Splitting train and test data"
   ]
  },
  {
   "cell_type": "code",
   "execution_count": 217,
   "id": "245e06d7-95d5-4089-afcb-334ced8786be",
   "metadata": {
    "execution": {
     "iopub.execute_input": "2023-04-17T01:21:18.839324Z",
     "iopub.status.busy": "2023-04-17T01:21:18.838864Z",
     "iopub.status.idle": "2023-04-17T01:21:19.017023Z",
     "shell.execute_reply": "2023-04-17T01:21:19.016133Z",
     "shell.execute_reply.started": "2023-04-17T01:21:18.839289Z"
    },
    "scrolled": true,
    "tags": []
   },
   "outputs": [],
   "source": [
    "## Creating new dataframes based on `calibrat` field\n",
    "df_train = dfr[dfr['calibrat'] == 1].copy()\n",
    "df_test = dfr[dfr['calibrat'] == 0].copy()\n",
    "\n",
    "## Dropping `calibrat` field\n",
    "df_train.drop(['calibrat'], axis=1, inplace=True)\n",
    "df_test.drop(['calibrat'], axis=1, inplace=True)"
   ]
  },
  {
   "cell_type": "markdown",
   "id": "e3f78683-360d-4301-8aca-1732b3d4634c",
   "metadata": {
    "tags": []
   },
   "source": [
    "# "
   ]
  },
  {
   "cell_type": "markdown",
   "id": "11ee92b2-e6b0-4575-bb08-bb05c0294e8e",
   "metadata": {
    "tags": []
   },
   "source": [
    "# Data exploration"
   ]
  },
  {
   "cell_type": "markdown",
   "id": "863d7e36-fb17-44db-8955-491764cbaa66",
   "metadata": {
    "tags": []
   },
   "source": [
    "##### Saving summary statistics about the data as dataframe"
   ]
  },
  {
   "cell_type": "code",
   "execution_count": 218,
   "id": "e581fefc-39af-4c9d-be92-0ce08b99d252",
   "metadata": {
    "execution": {
     "iopub.execute_input": "2023-04-17T01:21:23.497160Z",
     "iopub.status.busy": "2023-04-17T01:21:23.496432Z",
     "iopub.status.idle": "2023-04-17T01:21:23.886477Z",
     "shell.execute_reply": "2023-04-17T01:21:23.885491Z",
     "shell.execute_reply.started": "2023-04-17T01:21:23.497126Z"
    },
    "tags": []
   },
   "outputs": [],
   "source": [
    "dfi = dfr.describe().T\n",
    "dfi.drop(['25%', '50%', '75%'], axis=1, inplace=True)"
   ]
  },
  {
   "cell_type": "markdown",
   "id": "971c044e-7924-4da7-a45a-73a87f9127ca",
   "metadata": {
    "jp-MarkdownHeadingCollapsed": true,
    "tags": []
   },
   "source": [
    "##### Evaluating number of labels in train and test set"
   ]
  },
  {
   "cell_type": "markdown",
   "id": "84f622d6-9769-4a26-8a17-b8fb7e6c04e1",
   "metadata": {
    "jp-MarkdownHeadingCollapsed": true,
    "tags": []
   },
   "source": [
    "##### Understanding the `churndep` variable"
   ]
  },
  {
   "cell_type": "code",
   "execution_count": null,
   "id": "b3b8f1d0-2155-4183-8ee3-7c20a09c75c0",
   "metadata": {
    "jupyter": {
     "source_hidden": true
    }
   },
   "outputs": [],
   "source": [
    "dfr['calibrat'].value_counts()"
   ]
  },
  {
   "cell_type": "code",
   "execution_count": null,
   "id": "b40fdcd5-99b6-4f87-a8c8-f4cb8ab4baea",
   "metadata": {
    "jupyter": {
     "source_hidden": true
    }
   },
   "outputs": [],
   "source": [
    "dfr['churndep'].value_counts()"
   ]
  },
  {
   "cell_type": "code",
   "execution_count": null,
   "id": "c7d52fa1-bc12-4c2d-92b0-681bece8bc36",
   "metadata": {
    "jupyter": {
     "source_hidden": true
    },
    "tags": []
   },
   "outputs": [],
   "source": [
    "dfr.groupby(\n",
    "    [\n",
    "        'calibrat',\n",
    "        'churndep',\n",
    "    ]\n",
    ").agg(\n",
    "    count=('calibrat', 'count')\n",
    ")"
   ]
  },
  {
   "cell_type": "markdown",
   "id": "ec7212df-8292-4446-9179-6ea2c74609bf",
   "metadata": {
    "tags": []
   },
   "source": [
    "# "
   ]
  },
  {
   "cell_type": "markdown",
   "id": "086699c7-ba8b-45ae-9ad2-67ff004259af",
   "metadata": {
    "tags": []
   },
   "source": [
    "# Manual models"
   ]
  },
  {
   "cell_type": "markdown",
   "id": "e45edc61-47e6-4368-8a86-c9b70671f717",
   "metadata": {
    "tags": []
   },
   "source": [
    "##### "
   ]
  },
  {
   "cell_type": "markdown",
   "id": "aa3b8583-2808-41c4-9b37-a6a5543dcd58",
   "metadata": {
    "tags": []
   },
   "source": [
    "## Model 1\n",
    "### Logistic regression without RFM variables"
   ]
  },
  {
   "cell_type": "markdown",
   "id": "a8e1c03d-b470-4251-8999-8505cf3d6f43",
   "metadata": {
    "tags": []
   },
   "source": [
    "##### Model dataset"
   ]
  },
  {
   "cell_type": "code",
   "execution_count": 219,
   "id": "a193312e-2304-4f57-bc28-6e0f0e11ed0b",
   "metadata": {
    "execution": {
     "iopub.execute_input": "2023-04-17T01:21:39.324732Z",
     "iopub.status.busy": "2023-04-17T01:21:39.323852Z",
     "iopub.status.idle": "2023-04-17T01:21:39.443946Z",
     "shell.execute_reply": "2023-04-17T01:21:39.437315Z",
     "shell.execute_reply.started": "2023-04-17T01:21:39.324614Z"
    },
    "tags": []
   },
   "outputs": [],
   "source": [
    "dfm1_train = df_train.copy()\n",
    "dfm1_test = df_test.copy()"
   ]
  },
  {
   "cell_type": "markdown",
   "id": "46b8d875-84a3-4780-aa63-68026f001bd6",
   "metadata": {
    "tags": []
   },
   "source": [
    "##### Model label and features"
   ]
  },
  {
   "cell_type": "code",
   "execution_count": 220,
   "id": "f02454c4-ca67-4b33-88b3-6a224f8b88e4",
   "metadata": {
    "execution": {
     "iopub.execute_input": "2023-04-17T01:21:40.816669Z",
     "iopub.status.busy": "2023-04-17T01:21:40.816267Z",
     "iopub.status.idle": "2023-04-17T01:21:40.874693Z",
     "shell.execute_reply": "2023-04-17T01:21:40.873607Z",
     "shell.execute_reply.started": "2023-04-17T01:21:40.816638Z"
    },
    "jupyter": {
     "source_hidden": true
    },
    "tags": []
   },
   "outputs": [],
   "source": [
    "## Label\n",
    "m1l = 'churndep'\n",
    "\n",
    "## Features\n",
    "m1f = [\n",
    "    # 'calibrat',\n",
    "    # 'churn',\n",
    "    # 'churndep',\n",
    "    'revenue',\n",
    "    'mou',\n",
    "    'recchrge',\n",
    "    'directas',\n",
    "    'overage',\n",
    "    'roam',\n",
    "    'changem',\n",
    "    'changer',\n",
    "    'dropvce',\n",
    "    'blckvce',\n",
    "    'unansvce',\n",
    "    'custcare',\n",
    "    'threeway',\n",
    "    'mourec',\n",
    "    'outcalls',\n",
    "    'incalls',\n",
    "    'peakvce',\n",
    "    'opeakvce',\n",
    "    'dropblk',\n",
    "    'callfwdv',\n",
    "    'callwait',\n",
    "    'months',\n",
    "    'uniqsubs',\n",
    "    'actvsubs',\n",
    "    'phones',\n",
    "    'models',\n",
    "    'eqpdays',\n",
    "    'age1',\n",
    "    'age2',\n",
    "    'children',\n",
    "    'credita',\n",
    "    'creditaa',\n",
    "    'prizmrur',\n",
    "    'prizmub',\n",
    "    'prizmtwn',\n",
    "    'refurb',\n",
    "    'webcap',\n",
    "    'truck',\n",
    "    'rv',\n",
    "    'occprof',\n",
    "    'occcler',\n",
    "    'occcrft',\n",
    "    'occstud',\n",
    "    'occhmkr',\n",
    "    'occret',\n",
    "    'occself',\n",
    "    'ownrent',\n",
    "    'marryun',\n",
    "    'marryyes',\n",
    "    'mailord',\n",
    "    'mailres',\n",
    "    'mailflag',\n",
    "    'travel',\n",
    "    'pcown',\n",
    "    'creditcd',\n",
    "    'retcalls',\n",
    "    'retaccpt',\n",
    "    'newcelly',\n",
    "    'newcelln',\n",
    "    'refer',\n",
    "    'incmiss',\n",
    "    'income',\n",
    "    'mcycle',\n",
    "    'setprcm',\n",
    "    'setprc',\n",
    "    'retcall',\n",
    "    # 'rec_ntile',\n",
    "    # 'freq_ntile',\n",
    "    # 'mon_ntile',\n",
    "]"
   ]
  },
  {
   "cell_type": "markdown",
   "id": "0d401701-b9ac-4bc7-86d7-0fe4b66312eb",
   "metadata": {
    "tags": []
   },
   "source": [
    "##### Model training"
   ]
  },
  {
   "cell_type": "code",
   "execution_count": 221,
   "id": "e936e725-cb95-4309-be69-ffb2914b89bf",
   "metadata": {
    "execution": {
     "iopub.execute_input": "2023-04-17T01:21:44.481755Z",
     "iopub.status.busy": "2023-04-17T01:21:44.481019Z",
     "iopub.status.idle": "2023-04-17T01:21:46.815515Z",
     "shell.execute_reply": "2023-04-17T01:21:46.814326Z",
     "shell.execute_reply.started": "2023-04-17T01:21:44.481721Z"
    },
    "tags": []
   },
   "outputs": [
    {
     "name": "stdout",
     "output_type": "stream",
     "text": [
      "Optimization terminated successfully    (Exit mode 0)\n",
      "            Current function value: 0.6708450497676587\n",
      "            Iterations: 201\n",
      "            Function evaluations: 257\n",
      "            Gradient evaluations: 201\n"
     ]
    }
   ],
   "source": [
    "m1 = logit_reg(\n",
    "    a=dfm1_train[m1l],\n",
    "    b=dfm1_train[m1f],\n",
    "    alpha=0,\n",
    ")"
   ]
  },
  {
   "cell_type": "markdown",
   "id": "65d35036-bcb2-4832-ba15-95c438304291",
   "metadata": {
    "tags": []
   },
   "source": [
    "##### Model coefficients"
   ]
  },
  {
   "cell_type": "code",
   "execution_count": 222,
   "id": "2481026c-3f87-4c22-b744-1b815f0056b5",
   "metadata": {
    "execution": {
     "iopub.execute_input": "2023-04-17T01:21:54.143889Z",
     "iopub.status.busy": "2023-04-17T01:21:54.143354Z",
     "iopub.status.idle": "2023-04-17T01:21:54.293200Z",
     "shell.execute_reply": "2023-04-17T01:21:54.292006Z",
     "shell.execute_reply.started": "2023-04-17T01:21:54.143851Z"
    },
    "scrolled": true,
    "tags": []
   },
   "outputs": [
    {
     "data": {
      "text/html": [
       "<table class=\"simpletable\">\n",
       "<caption>Mba263Logit Regression Results</caption>\n",
       "<tr>\n",
       "  <th>Dep. Variable:</th>       <td>churndep</td>     <th>  No. Observations:  </th>  <td> 40000</td> \n",
       "</tr>\n",
       "<tr>\n",
       "  <th>Model:</th>              <td>Mba263Logit</td>   <th>  Df Residuals:      </th>  <td> 39933</td> \n",
       "</tr>\n",
       "<tr>\n",
       "  <th>Method:</th>                 <td>MLE</td>       <th>  Df Model:          </th>  <td>    66</td> \n",
       "</tr>\n",
       "<tr>\n",
       "  <th>Date:</th>            <td>Sun, 16 Apr 2023</td> <th>  Pseudo R-squ.:     </th>  <td>0.03218</td>\n",
       "</tr>\n",
       "<tr>\n",
       "  <th>Time:</th>                <td>18:21:54</td>     <th>  Log-Likelihood:    </th> <td> -26834.</td>\n",
       "</tr>\n",
       "<tr>\n",
       "  <th>converged:</th>             <td>True</td>       <th>  LL-Null:           </th> <td> -27726.</td>\n",
       "</tr>\n",
       "<tr>\n",
       "  <th>Covariance Type:</th>     <td>nonrobust</td>    <th>  LLR p-value:       </th>  <td> 0.000</td> \n",
       "</tr>\n",
       "</table>\n",
       "<table class=\"simpletable\">\n",
       "<tr>\n",
       "      <td></td>        <th>coef</th>     <th>std err</th>      <th>z</th>      <th>P>|z|</th>  <th>[0.025</th>    <th>0.975]</th>  \n",
       "</tr>\n",
       "<tr>\n",
       "  <th>const</th>    <td>    0.1566</td> <td>    0.094</td> <td>    1.664</td> <td> 0.096</td> <td>   -0.028</td> <td>    0.341</td>\n",
       "</tr>\n",
       "<tr>\n",
       "  <th>revenue</th>  <td>    0.0021</td> <td>    0.001</td> <td>    2.742</td> <td> 0.006</td> <td>    0.001</td> <td>    0.004</td>\n",
       "</tr>\n",
       "<tr>\n",
       "  <th>mou</th>      <td>   -0.0003</td> <td> 4.87e-05</td> <td>   -5.278</td> <td> 0.000</td> <td>   -0.000</td> <td>   -0.000</td>\n",
       "</tr>\n",
       "<tr>\n",
       "  <th>recchrge</th> <td>   -0.0035</td> <td>    0.001</td> <td>   -4.012</td> <td> 0.000</td> <td>   -0.005</td> <td>   -0.002</td>\n",
       "</tr>\n",
       "<tr>\n",
       "  <th>directas</th> <td>   -0.0001</td> <td>    0.006</td> <td>   -0.019</td> <td> 0.985</td> <td>   -0.012</td> <td>    0.011</td>\n",
       "</tr>\n",
       "<tr>\n",
       "  <th>overage</th>  <td>    0.0007</td> <td>    0.000</td> <td>    2.635</td> <td> 0.008</td> <td>    0.000</td> <td>    0.001</td>\n",
       "</tr>\n",
       "<tr>\n",
       "  <th>roam</th>     <td>    0.0063</td> <td>    0.002</td> <td>    3.186</td> <td> 0.001</td> <td>    0.002</td> <td>    0.010</td>\n",
       "</tr>\n",
       "<tr>\n",
       "  <th>changem</th>  <td>   -0.0005</td> <td> 5.28e-05</td> <td>   -9.156</td> <td> 0.000</td> <td>   -0.001</td> <td>   -0.000</td>\n",
       "</tr>\n",
       "<tr>\n",
       "  <th>changer</th>  <td>    0.0022</td> <td>    0.000</td> <td>    5.936</td> <td> 0.000</td> <td>    0.001</td> <td>    0.003</td>\n",
       "</tr>\n",
       "<tr>\n",
       "  <th>dropvce</th>  <td>    0.0135</td> <td>    0.006</td> <td>    2.341</td> <td> 0.019</td> <td>    0.002</td> <td>    0.025</td>\n",
       "</tr>\n",
       "<tr>\n",
       "  <th>blckvce</th>  <td>    0.0086</td> <td>    0.006</td> <td>    1.531</td> <td> 0.126</td> <td>   -0.002</td> <td>    0.020</td>\n",
       "</tr>\n",
       "<tr>\n",
       "  <th>unansvce</th> <td>    0.0009</td> <td>    0.000</td> <td>    1.935</td> <td> 0.053</td> <td>-1.12e-05</td> <td>    0.002</td>\n",
       "</tr>\n",
       "<tr>\n",
       "  <th>custcare</th> <td>   -0.0064</td> <td>    0.003</td> <td>   -2.491</td> <td> 0.013</td> <td>   -0.011</td> <td>   -0.001</td>\n",
       "</tr>\n",
       "<tr>\n",
       "  <th>threeway</th> <td>   -0.0297</td> <td>    0.011</td> <td>   -2.674</td> <td> 0.007</td> <td>   -0.052</td> <td>   -0.008</td>\n",
       "</tr>\n",
       "<tr>\n",
       "  <th>mourec</th>   <td>    0.0001</td> <td>    0.000</td> <td>    0.934</td> <td> 0.350</td> <td>   -0.000</td> <td>    0.000</td>\n",
       "</tr>\n",
       "<tr>\n",
       "  <th>outcalls</th> <td>    0.0012</td> <td>    0.001</td> <td>    2.157</td> <td> 0.031</td> <td>    0.000</td> <td>    0.002</td>\n",
       "</tr>\n",
       "<tr>\n",
       "  <th>incalls</th>  <td>   -0.0033</td> <td>    0.001</td> <td>   -3.158</td> <td> 0.002</td> <td>   -0.005</td> <td>   -0.001</td>\n",
       "</tr>\n",
       "<tr>\n",
       "  <th>peakvce</th>  <td>   -0.0007</td> <td>    0.000</td> <td>   -3.391</td> <td> 0.001</td> <td>   -0.001</td> <td>   -0.000</td>\n",
       "</tr>\n",
       "<tr>\n",
       "  <th>opeakvce</th> <td>   -0.0002</td> <td>    0.000</td> <td>   -0.914</td> <td> 0.361</td> <td>   -0.001</td> <td>    0.000</td>\n",
       "</tr>\n",
       "<tr>\n",
       "  <th>dropblk</th>  <td>   -0.0055</td> <td>    0.005</td> <td>   -0.998</td> <td> 0.318</td> <td>   -0.016</td> <td>    0.005</td>\n",
       "</tr>\n",
       "<tr>\n",
       "  <th>callfwdv</th> <td>    0.0025</td> <td>    0.022</td> <td>    0.117</td> <td> 0.907</td> <td>   -0.040</td> <td>    0.045</td>\n",
       "</tr>\n",
       "<tr>\n",
       "  <th>callwait</th> <td>    0.0025</td> <td>    0.003</td> <td>    0.799</td> <td> 0.424</td> <td>   -0.004</td> <td>    0.009</td>\n",
       "</tr>\n",
       "<tr>\n",
       "  <th>months</th>   <td>   -0.0219</td> <td>    0.002</td> <td>  -11.133</td> <td> 0.000</td> <td>   -0.026</td> <td>   -0.018</td>\n",
       "</tr>\n",
       "<tr>\n",
       "  <th>uniqsubs</th> <td>    0.1850</td> <td>    0.020</td> <td>    9.380</td> <td> 0.000</td> <td>    0.146</td> <td>    0.224</td>\n",
       "</tr>\n",
       "<tr>\n",
       "  <th>actvsubs</th> <td>   -0.1952</td> <td>    0.027</td> <td>   -7.131</td> <td> 0.000</td> <td>   -0.249</td> <td>   -0.142</td>\n",
       "</tr>\n",
       "<tr>\n",
       "  <th>phones</th>   <td>    0.0484</td> <td>    0.018</td> <td>    2.696</td> <td> 0.007</td> <td>    0.013</td> <td>    0.084</td>\n",
       "</tr>\n",
       "<tr>\n",
       "  <th>models</th>   <td>    0.0147</td> <td>    0.028</td> <td>    0.533</td> <td> 0.594</td> <td>   -0.039</td> <td>    0.069</td>\n",
       "</tr>\n",
       "<tr>\n",
       "  <th>eqpdays</th>  <td>    0.0015</td> <td> 7.36e-05</td> <td>   20.086</td> <td> 0.000</td> <td>    0.001</td> <td>    0.002</td>\n",
       "</tr>\n",
       "<tr>\n",
       "  <th>age1</th>     <td>   -0.0038</td> <td>    0.001</td> <td>   -4.462</td> <td> 0.000</td> <td>   -0.005</td> <td>   -0.002</td>\n",
       "</tr>\n",
       "<tr>\n",
       "  <th>age2</th>     <td>   -0.0012</td> <td>    0.001</td> <td>   -1.713</td> <td> 0.087</td> <td>   -0.002</td> <td>    0.000</td>\n",
       "</tr>\n",
       "<tr>\n",
       "  <th>children</th> <td>    0.0952</td> <td>    0.028</td> <td>    3.395</td> <td> 0.001</td> <td>    0.040</td> <td>    0.150</td>\n",
       "</tr>\n",
       "<tr>\n",
       "  <th>credita</th>  <td>   -0.1568</td> <td>    0.035</td> <td>   -4.478</td> <td> 0.000</td> <td>   -0.225</td> <td>   -0.088</td>\n",
       "</tr>\n",
       "<tr>\n",
       "  <th>creditaa</th> <td>   -0.3443</td> <td>    0.034</td> <td>  -10.131</td> <td> 0.000</td> <td>   -0.411</td> <td>   -0.278</td>\n",
       "</tr>\n",
       "<tr>\n",
       "  <th>prizmrur</th> <td>    0.0692</td> <td>    0.049</td> <td>    1.410</td> <td> 0.159</td> <td>   -0.027</td> <td>    0.165</td>\n",
       "</tr>\n",
       "<tr>\n",
       "  <th>prizmub</th>  <td>   -0.0381</td> <td>    0.024</td> <td>   -1.579</td> <td> 0.114</td> <td>   -0.085</td> <td>    0.009</td>\n",
       "</tr>\n",
       "<tr>\n",
       "  <th>prizmtwn</th> <td>    0.0427</td> <td>    0.031</td> <td>    1.372</td> <td> 0.170</td> <td>   -0.018</td> <td>    0.104</td>\n",
       "</tr>\n",
       "<tr>\n",
       "  <th>refurb</th>   <td>    0.2331</td> <td>    0.032</td> <td>    7.386</td> <td> 0.000</td> <td>    0.171</td> <td>    0.295</td>\n",
       "</tr>\n",
       "<tr>\n",
       "  <th>webcap</th>   <td>   -0.1465</td> <td>    0.037</td> <td>   -3.946</td> <td> 0.000</td> <td>   -0.219</td> <td>   -0.074</td>\n",
       "</tr>\n",
       "<tr>\n",
       "  <th>truck</th>    <td>    0.0302</td> <td>    0.036</td> <td>    0.843</td> <td> 0.399</td> <td>   -0.040</td> <td>    0.101</td>\n",
       "</tr>\n",
       "<tr>\n",
       "  <th>rv</th>       <td>    0.0071</td> <td>    0.048</td> <td>    0.148</td> <td> 0.882</td> <td>   -0.087</td> <td>    0.101</td>\n",
       "</tr>\n",
       "<tr>\n",
       "  <th>occprof</th>  <td>   -0.0255</td> <td>    0.032</td> <td>   -0.788</td> <td> 0.431</td> <td>   -0.089</td> <td>    0.038</td>\n",
       "</tr>\n",
       "<tr>\n",
       "  <th>occcler</th>  <td>    0.0442</td> <td>    0.075</td> <td>    0.592</td> <td> 0.554</td> <td>   -0.102</td> <td>    0.191</td>\n",
       "</tr>\n",
       "<tr>\n",
       "  <th>occcrft</th>  <td>   -0.0226</td> <td>    0.063</td> <td>   -0.361</td> <td> 0.718</td> <td>   -0.146</td> <td>    0.100</td>\n",
       "</tr>\n",
       "<tr>\n",
       "  <th>occstud</th>  <td>    0.1283</td> <td>    0.121</td> <td>    1.057</td> <td> 0.290</td> <td>   -0.109</td> <td>    0.366</td>\n",
       "</tr>\n",
       "<tr>\n",
       "  <th>occhmkr</th>  <td>    0.2694</td> <td>    0.190</td> <td>    1.421</td> <td> 0.155</td> <td>   -0.102</td> <td>    0.641</td>\n",
       "</tr>\n",
       "<tr>\n",
       "  <th>occret</th>   <td>   -0.0438</td> <td>    0.090</td> <td>   -0.487</td> <td> 0.626</td> <td>   -0.220</td> <td>    0.133</td>\n",
       "</tr>\n",
       "<tr>\n",
       "  <th>occself</th>  <td>   -0.0644</td> <td>    0.080</td> <td>   -0.801</td> <td> 0.423</td> <td>   -0.222</td> <td>    0.093</td>\n",
       "</tr>\n",
       "<tr>\n",
       "  <th>ownrent</th>  <td>   -0.0038</td> <td>    0.042</td> <td>   -0.089</td> <td> 0.929</td> <td>   -0.087</td> <td>    0.080</td>\n",
       "</tr>\n",
       "<tr>\n",
       "  <th>marryun</th>  <td>    0.1017</td> <td>    0.034</td> <td>    2.999</td> <td> 0.003</td> <td>    0.035</td> <td>    0.168</td>\n",
       "</tr>\n",
       "<tr>\n",
       "  <th>marryyes</th> <td>    0.0568</td> <td>    0.032</td> <td>    1.756</td> <td> 0.079</td> <td>   -0.007</td> <td>    0.120</td>\n",
       "</tr>\n",
       "<tr>\n",
       "  <th>mailord</th>  <td>    0.0031</td> <td>    0.085</td> <td>    0.037</td> <td> 0.971</td> <td>   -0.164</td> <td>    0.170</td>\n",
       "</tr>\n",
       "<tr>\n",
       "  <th>mailres</th>  <td>   -0.1267</td> <td>    0.086</td> <td>   -1.480</td> <td> 0.139</td> <td>   -0.295</td> <td>    0.041</td>\n",
       "</tr>\n",
       "<tr>\n",
       "  <th>mailflag</th> <td>   -0.0444</td> <td>    0.084</td> <td>   -0.526</td> <td> 0.599</td> <td>   -0.210</td> <td>    0.121</td>\n",
       "</tr>\n",
       "<tr>\n",
       "  <th>travel</th>   <td>    0.0018</td> <td>    0.047</td> <td>    0.039</td> <td> 0.969</td> <td>   -0.091</td> <td>    0.094</td>\n",
       "</tr>\n",
       "<tr>\n",
       "  <th>pcown</th>    <td>    0.0311</td> <td>    0.031</td> <td>    1.008</td> <td> 0.314</td> <td>   -0.029</td> <td>    0.092</td>\n",
       "</tr>\n",
       "<tr>\n",
       "  <th>creditcd</th> <td>    0.0415</td> <td>    0.044</td> <td>    0.954</td> <td> 0.340</td> <td>   -0.044</td> <td>    0.127</td>\n",
       "</tr>\n",
       "<tr>\n",
       "  <th>retcalls</th> <td>    0.1222</td> <td>    0.180</td> <td>    0.679</td> <td> 0.497</td> <td>   -0.231</td> <td>    0.475</td>\n",
       "</tr>\n",
       "<tr>\n",
       "  <th>retaccpt</th> <td>   -0.2045</td> <td>    0.105</td> <td>   -1.953</td> <td> 0.051</td> <td>   -0.410</td> <td>    0.001</td>\n",
       "</tr>\n",
       "<tr>\n",
       "  <th>newcelly</th> <td>   -0.0677</td> <td>    0.027</td> <td>   -2.510</td> <td> 0.012</td> <td>   -0.121</td> <td>   -0.015</td>\n",
       "</tr>\n",
       "<tr>\n",
       "  <th>newcelln</th> <td>   -0.0034</td> <td>    0.031</td> <td>   -0.110</td> <td> 0.913</td> <td>   -0.065</td> <td>    0.058</td>\n",
       "</tr>\n",
       "<tr>\n",
       "  <th>refer</th>    <td>   -0.0452</td> <td>    0.042</td> <td>   -1.088</td> <td> 0.277</td> <td>   -0.127</td> <td>    0.036</td>\n",
       "</tr>\n",
       "<tr>\n",
       "  <th>incmiss</th>  <td>   -0.1060</td> <td>    0.059</td> <td>   -1.795</td> <td> 0.073</td> <td>   -0.222</td> <td>    0.010</td>\n",
       "</tr>\n",
       "<tr>\n",
       "  <th>income</th>   <td>   -0.0138</td> <td>    0.006</td> <td>   -2.289</td> <td> 0.022</td> <td>   -0.026</td> <td>   -0.002</td>\n",
       "</tr>\n",
       "<tr>\n",
       "  <th>mcycle</th>   <td>    0.1221</td> <td>    0.089</td> <td>    1.378</td> <td> 0.168</td> <td>   -0.052</td> <td>    0.296</td>\n",
       "</tr>\n",
       "<tr>\n",
       "  <th>setprcm</th>  <td>   -0.1064</td> <td>    0.040</td> <td>   -2.661</td> <td> 0.008</td> <td>   -0.185</td> <td>   -0.028</td>\n",
       "</tr>\n",
       "<tr>\n",
       "  <th>setprc</th>   <td>    0.0006</td> <td>    0.000</td> <td>    2.299</td> <td> 0.022</td> <td> 9.44e-05</td> <td>    0.001</td>\n",
       "</tr>\n",
       "<tr>\n",
       "  <th>retcall</th>  <td>    0.7632</td> <td>    0.191</td> <td>    4.005</td> <td> 0.000</td> <td>    0.390</td> <td>    1.137</td>\n",
       "</tr>\n",
       "</table>"
      ],
      "text/plain": [
       "<class 'statsmodels.iolib.summary.Summary'>\n",
       "\"\"\"\n",
       "                        Mba263Logit Regression Results                        \n",
       "==============================================================================\n",
       "Dep. Variable:               churndep   No. Observations:                40000\n",
       "Model:                    Mba263Logit   Df Residuals:                    39933\n",
       "Method:                           MLE   Df Model:                           66\n",
       "Date:                Sun, 16 Apr 2023   Pseudo R-squ.:                 0.03218\n",
       "Time:                        18:21:54   Log-Likelihood:                -26834.\n",
       "converged:                       True   LL-Null:                       -27726.\n",
       "Covariance Type:            nonrobust   LLR p-value:                     0.000\n",
       "==============================================================================\n",
       "                 coef    std err          z      P>|z|      [0.025      0.975]\n",
       "------------------------------------------------------------------------------\n",
       "const          0.1566      0.094      1.664      0.096      -0.028       0.341\n",
       "revenue        0.0021      0.001      2.742      0.006       0.001       0.004\n",
       "mou           -0.0003   4.87e-05     -5.278      0.000      -0.000      -0.000\n",
       "recchrge      -0.0035      0.001     -4.012      0.000      -0.005      -0.002\n",
       "directas      -0.0001      0.006     -0.019      0.985      -0.012       0.011\n",
       "overage        0.0007      0.000      2.635      0.008       0.000       0.001\n",
       "roam           0.0063      0.002      3.186      0.001       0.002       0.010\n",
       "changem       -0.0005   5.28e-05     -9.156      0.000      -0.001      -0.000\n",
       "changer        0.0022      0.000      5.936      0.000       0.001       0.003\n",
       "dropvce        0.0135      0.006      2.341      0.019       0.002       0.025\n",
       "blckvce        0.0086      0.006      1.531      0.126      -0.002       0.020\n",
       "unansvce       0.0009      0.000      1.935      0.053   -1.12e-05       0.002\n",
       "custcare      -0.0064      0.003     -2.491      0.013      -0.011      -0.001\n",
       "threeway      -0.0297      0.011     -2.674      0.007      -0.052      -0.008\n",
       "mourec         0.0001      0.000      0.934      0.350      -0.000       0.000\n",
       "outcalls       0.0012      0.001      2.157      0.031       0.000       0.002\n",
       "incalls       -0.0033      0.001     -3.158      0.002      -0.005      -0.001\n",
       "peakvce       -0.0007      0.000     -3.391      0.001      -0.001      -0.000\n",
       "opeakvce      -0.0002      0.000     -0.914      0.361      -0.001       0.000\n",
       "dropblk       -0.0055      0.005     -0.998      0.318      -0.016       0.005\n",
       "callfwdv       0.0025      0.022      0.117      0.907      -0.040       0.045\n",
       "callwait       0.0025      0.003      0.799      0.424      -0.004       0.009\n",
       "months        -0.0219      0.002    -11.133      0.000      -0.026      -0.018\n",
       "uniqsubs       0.1850      0.020      9.380      0.000       0.146       0.224\n",
       "actvsubs      -0.1952      0.027     -7.131      0.000      -0.249      -0.142\n",
       "phones         0.0484      0.018      2.696      0.007       0.013       0.084\n",
       "models         0.0147      0.028      0.533      0.594      -0.039       0.069\n",
       "eqpdays        0.0015   7.36e-05     20.086      0.000       0.001       0.002\n",
       "age1          -0.0038      0.001     -4.462      0.000      -0.005      -0.002\n",
       "age2          -0.0012      0.001     -1.713      0.087      -0.002       0.000\n",
       "children       0.0952      0.028      3.395      0.001       0.040       0.150\n",
       "credita       -0.1568      0.035     -4.478      0.000      -0.225      -0.088\n",
       "creditaa      -0.3443      0.034    -10.131      0.000      -0.411      -0.278\n",
       "prizmrur       0.0692      0.049      1.410      0.159      -0.027       0.165\n",
       "prizmub       -0.0381      0.024     -1.579      0.114      -0.085       0.009\n",
       "prizmtwn       0.0427      0.031      1.372      0.170      -0.018       0.104\n",
       "refurb         0.2331      0.032      7.386      0.000       0.171       0.295\n",
       "webcap        -0.1465      0.037     -3.946      0.000      -0.219      -0.074\n",
       "truck          0.0302      0.036      0.843      0.399      -0.040       0.101\n",
       "rv             0.0071      0.048      0.148      0.882      -0.087       0.101\n",
       "occprof       -0.0255      0.032     -0.788      0.431      -0.089       0.038\n",
       "occcler        0.0442      0.075      0.592      0.554      -0.102       0.191\n",
       "occcrft       -0.0226      0.063     -0.361      0.718      -0.146       0.100\n",
       "occstud        0.1283      0.121      1.057      0.290      -0.109       0.366\n",
       "occhmkr        0.2694      0.190      1.421      0.155      -0.102       0.641\n",
       "occret        -0.0438      0.090     -0.487      0.626      -0.220       0.133\n",
       "occself       -0.0644      0.080     -0.801      0.423      -0.222       0.093\n",
       "ownrent       -0.0038      0.042     -0.089      0.929      -0.087       0.080\n",
       "marryun        0.1017      0.034      2.999      0.003       0.035       0.168\n",
       "marryyes       0.0568      0.032      1.756      0.079      -0.007       0.120\n",
       "mailord        0.0031      0.085      0.037      0.971      -0.164       0.170\n",
       "mailres       -0.1267      0.086     -1.480      0.139      -0.295       0.041\n",
       "mailflag      -0.0444      0.084     -0.526      0.599      -0.210       0.121\n",
       "travel         0.0018      0.047      0.039      0.969      -0.091       0.094\n",
       "pcown          0.0311      0.031      1.008      0.314      -0.029       0.092\n",
       "creditcd       0.0415      0.044      0.954      0.340      -0.044       0.127\n",
       "retcalls       0.1222      0.180      0.679      0.497      -0.231       0.475\n",
       "retaccpt      -0.2045      0.105     -1.953      0.051      -0.410       0.001\n",
       "newcelly      -0.0677      0.027     -2.510      0.012      -0.121      -0.015\n",
       "newcelln      -0.0034      0.031     -0.110      0.913      -0.065       0.058\n",
       "refer         -0.0452      0.042     -1.088      0.277      -0.127       0.036\n",
       "incmiss       -0.1060      0.059     -1.795      0.073      -0.222       0.010\n",
       "income        -0.0138      0.006     -2.289      0.022      -0.026      -0.002\n",
       "mcycle         0.1221      0.089      1.378      0.168      -0.052       0.296\n",
       "setprcm       -0.1064      0.040     -2.661      0.008      -0.185      -0.028\n",
       "setprc         0.0006      0.000      2.299      0.022    9.44e-05       0.001\n",
       "retcall        0.7632      0.191      4.005      0.000       0.390       1.137\n",
       "==============================================================================\n",
       "\"\"\""
      ]
     },
     "execution_count": 222,
     "metadata": {},
     "output_type": "execute_result"
    }
   ],
   "source": [
    "m1.summary()"
   ]
  },
  {
   "cell_type": "code",
   "execution_count": 223,
   "id": "371c2a11-3a67-4bd1-b7bd-db7d4197ec2f",
   "metadata": {
    "execution": {
     "iopub.execute_input": "2023-04-17T01:22:07.185154Z",
     "iopub.status.busy": "2023-04-17T01:22:07.184710Z",
     "iopub.status.idle": "2023-04-17T01:22:07.256635Z",
     "shell.execute_reply": "2023-04-17T01:22:07.255580Z",
     "shell.execute_reply.started": "2023-04-17T01:22:07.185121Z"
    },
    "scrolled": true,
    "tags": []
   },
   "outputs": [
    {
     "data": {
      "text/html": [
       "<div>\n",
       "<style scoped>\n",
       "    .dataframe tbody tr th:only-of-type {\n",
       "        vertical-align: middle;\n",
       "    }\n",
       "\n",
       "    .dataframe tbody tr th {\n",
       "        vertical-align: top;\n",
       "    }\n",
       "\n",
       "    .dataframe thead th {\n",
       "        text-align: right;\n",
       "    }\n",
       "</style>\n",
       "<table border=\"1\" class=\"dataframe\">\n",
       "  <thead>\n",
       "    <tr style=\"text-align: right;\">\n",
       "      <th></th>\n",
       "      <th>Odds ratios</th>\n",
       "      <th>std err</th>\n",
       "      <th>z</th>\n",
       "      <th>P&gt;|z|</th>\n",
       "      <th>[0.025</th>\n",
       "      <th>0.975]</th>\n",
       "    </tr>\n",
       "  </thead>\n",
       "  <tbody>\n",
       "    <tr>\n",
       "      <th>revenue</th>\n",
       "      <td>1.002140</td>\n",
       "      <td>0.000781</td>\n",
       "      <td>2.738914</td>\n",
       "      <td>0.006</td>\n",
       "      <td>1.000624</td>\n",
       "      <td>1.003655</td>\n",
       "    </tr>\n",
       "    <tr>\n",
       "      <th>mou</th>\n",
       "      <td>0.999743</td>\n",
       "      <td>0.000049</td>\n",
       "      <td>5.278355</td>\n",
       "      <td>0.000</td>\n",
       "      <td>0.999649</td>\n",
       "      <td>0.999838</td>\n",
       "    </tr>\n",
       "    <tr>\n",
       "      <th>recchrge</th>\n",
       "      <td>0.996512</td>\n",
       "      <td>0.000868</td>\n",
       "      <td>4.019382</td>\n",
       "      <td>0.000</td>\n",
       "      <td>0.994828</td>\n",
       "      <td>0.998195</td>\n",
       "    </tr>\n",
       "    <tr>\n",
       "      <th>directas</th>\n",
       "      <td>0.999892</td>\n",
       "      <td>0.005822</td>\n",
       "      <td>0.018629</td>\n",
       "      <td>0.985</td>\n",
       "      <td>0.988596</td>\n",
       "      <td>1.011187</td>\n",
       "    </tr>\n",
       "    <tr>\n",
       "      <th>overage</th>\n",
       "      <td>1.000721</td>\n",
       "      <td>0.000274</td>\n",
       "      <td>2.634484</td>\n",
       "      <td>0.008</td>\n",
       "      <td>1.000190</td>\n",
       "      <td>1.001252</td>\n",
       "    </tr>\n",
       "    <tr>\n",
       "      <th>...</th>\n",
       "      <td>...</td>\n",
       "      <td>...</td>\n",
       "      <td>...</td>\n",
       "      <td>...</td>\n",
       "      <td>...</td>\n",
       "      <td>...</td>\n",
       "    </tr>\n",
       "    <tr>\n",
       "      <th>income</th>\n",
       "      <td>0.986343</td>\n",
       "      <td>0.005926</td>\n",
       "      <td>2.304438</td>\n",
       "      <td>0.021</td>\n",
       "      <td>0.974846</td>\n",
       "      <td>0.997840</td>\n",
       "    </tr>\n",
       "    <tr>\n",
       "      <th>mcycle</th>\n",
       "      <td>1.129911</td>\n",
       "      <td>0.100176</td>\n",
       "      <td>1.296829</td>\n",
       "      <td>0.195</td>\n",
       "      <td>0.935570</td>\n",
       "      <td>1.324252</td>\n",
       "    </tr>\n",
       "    <tr>\n",
       "      <th>setprcm</th>\n",
       "      <td>0.899031</td>\n",
       "      <td>0.035954</td>\n",
       "      <td>2.808258</td>\n",
       "      <td>0.005</td>\n",
       "      <td>0.829280</td>\n",
       "      <td>0.968782</td>\n",
       "    </tr>\n",
       "    <tr>\n",
       "      <th>setprc</th>\n",
       "      <td>1.000641</td>\n",
       "      <td>0.000279</td>\n",
       "      <td>2.297988</td>\n",
       "      <td>0.022</td>\n",
       "      <td>1.000100</td>\n",
       "      <td>1.001182</td>\n",
       "    </tr>\n",
       "    <tr>\n",
       "      <th>retcall</th>\n",
       "      <td>2.145161</td>\n",
       "      <td>0.408829</td>\n",
       "      <td>2.801073</td>\n",
       "      <td>0.005</td>\n",
       "      <td>1.352032</td>\n",
       "      <td>2.938290</td>\n",
       "    </tr>\n",
       "  </tbody>\n",
       "</table>\n",
       "<p>66 rows × 6 columns</p>\n",
       "</div>"
      ],
      "text/plain": [
       "          Odds ratios   std err         z  P>|z|    [0.025    0.975]\n",
       "revenue      1.002140  0.000781  2.738914  0.006  1.000624  1.003655\n",
       "mou          0.999743  0.000049  5.278355  0.000  0.999649  0.999838\n",
       "recchrge     0.996512  0.000868  4.019382  0.000  0.994828  0.998195\n",
       "directas     0.999892  0.005822  0.018629  0.985  0.988596  1.011187\n",
       "overage      1.000721  0.000274  2.634484  0.008  1.000190  1.001252\n",
       "...               ...       ...       ...    ...       ...       ...\n",
       "income       0.986343  0.005926  2.304438  0.021  0.974846  0.997840\n",
       "mcycle       1.129911  0.100176  1.296829  0.195  0.935570  1.324252\n",
       "setprcm      0.899031  0.035954  2.808258  0.005  0.829280  0.968782\n",
       "setprc       1.000641  0.000279  2.297988  0.022  1.000100  1.001182\n",
       "retcall      2.145161  0.408829  2.801073  0.005  1.352032  2.938290\n",
       "\n",
       "[66 rows x 6 columns]"
      ]
     },
     "execution_count": 223,
     "metadata": {},
     "output_type": "execute_result"
    }
   ],
   "source": [
    "dfm1_or = odds_ratios(m1)\n",
    "dfm1_or"
   ]
  },
  {
   "cell_type": "code",
   "execution_count": 224,
   "id": "efddf004-877c-48ec-b01f-9cefdb757469",
   "metadata": {
    "execution": {
     "iopub.execute_input": "2023-04-17T01:22:14.435531Z",
     "iopub.status.busy": "2023-04-17T01:22:14.435093Z",
     "iopub.status.idle": "2023-04-17T01:22:14.543961Z",
     "shell.execute_reply": "2023-04-17T01:22:14.542956Z",
     "shell.execute_reply.started": "2023-04-17T01:22:14.435497Z"
    },
    "tags": []
   },
   "outputs": [],
   "source": [
    "## Adding the standard deviation column to the odds ratios dataframe\n",
    "dfm1_or['std'] = dfm1_test[m1f].std()\n",
    "\n",
    "## Operation between resulting odds ratios and standard deviation\n",
    "dfm1_or['norm_or'] = np.power(dfm1_or['Odds ratios'], dfm1_or['std'])\n",
    "\n",
    "## Correcting odds ratios that are lower than one\n",
    "dfm1_or['norm_or'] = dfm1_or['norm_or'].apply(lambda x: 1/x if x < 1 else x)\n",
    "\n",
    "## Ranking results\n",
    "dfm1_or['rank'] = dfm1_or['norm_or'].rank(ascending=False)\n",
    "dfm1_or.sort_values(by='rank', inplace=True, ascending=True)"
   ]
  },
  {
   "cell_type": "markdown",
   "id": "1cca5638-2a97-49da-87fb-b61cfea0b7c8",
   "metadata": {
    "tags": []
   },
   "source": [
    "##### Predictions"
   ]
  },
  {
   "cell_type": "code",
   "execution_count": 225,
   "id": "5dd1381d-ae28-4e62-bb59-7cb6f4caf5ff",
   "metadata": {
    "execution": {
     "iopub.execute_input": "2023-04-17T01:22:19.112671Z",
     "iopub.status.busy": "2023-04-17T01:22:19.111948Z",
     "iopub.status.idle": "2023-04-17T01:22:19.364283Z",
     "shell.execute_reply": "2023-04-17T01:22:19.363343Z",
     "shell.execute_reply.started": "2023-04-17T01:22:19.112638Z"
    },
    "tags": []
   },
   "outputs": [],
   "source": [
    "## Churn predicted probability\n",
    "dfm1_test['m1_pred_prob'] = m1.predict(dfm1_test[m1f])\n",
    "\n",
    "## Classifying churners in groups\n",
    "dfm1_test['m1_pred_prob_grade'] = 10 - ntile(dfm1_test['m1_pred_prob'], 10)"
   ]
  },
  {
   "cell_type": "markdown",
   "id": "77015741-5688-44b5-b6c0-717465785ca1",
   "metadata": {},
   "source": [
    "### "
   ]
  },
  {
   "cell_type": "markdown",
   "id": "4ebb7813-6d90-4f3c-a96d-a82a954486ae",
   "metadata": {
    "tags": []
   },
   "source": [
    "## Model 2\n",
    "### Logistic regression without RFM variables"
   ]
  },
  {
   "cell_type": "markdown",
   "id": "b3882ceb-b29f-4387-9055-bbedbc2ae063",
   "metadata": {
    "tags": []
   },
   "source": [
    "##### Model dataset"
   ]
  },
  {
   "cell_type": "code",
   "execution_count": 232,
   "id": "3caca82a-6244-4e79-8e0f-184f3d1947bb",
   "metadata": {
    "execution": {
     "iopub.execute_input": "2023-04-17T01:23:13.799159Z",
     "iopub.status.busy": "2023-04-17T01:23:13.798450Z",
     "iopub.status.idle": "2023-04-17T01:23:13.879022Z",
     "shell.execute_reply": "2023-04-17T01:23:13.877900Z",
     "shell.execute_reply.started": "2023-04-17T01:23:13.799125Z"
    },
    "tags": []
   },
   "outputs": [],
   "source": [
    "dfm2_train = df_train.copy()\n",
    "dfm2_test = df_test.copy()"
   ]
  },
  {
   "cell_type": "markdown",
   "id": "7630b790-6000-4a57-bd42-0573dbe35fd7",
   "metadata": {
    "tags": []
   },
   "source": [
    "##### Model label and features"
   ]
  },
  {
   "cell_type": "code",
   "execution_count": 233,
   "id": "936e6073-5f0c-445a-8d06-c9099d053fc6",
   "metadata": {
    "execution": {
     "iopub.execute_input": "2023-04-17T01:23:17.382221Z",
     "iopub.status.busy": "2023-04-17T01:23:17.381802Z",
     "iopub.status.idle": "2023-04-17T01:23:17.440467Z",
     "shell.execute_reply": "2023-04-17T01:23:17.439577Z",
     "shell.execute_reply.started": "2023-04-17T01:23:17.382187Z"
    },
    "jupyter": {
     "source_hidden": true
    },
    "tags": []
   },
   "outputs": [],
   "source": [
    "## Label\n",
    "m2l = 'churndep'\n",
    "\n",
    "## Features\n",
    "m2f = [\n",
    "    # 'calibrat',\n",
    "    # 'churn',\n",
    "    # 'churndep',\n",
    "    'revenue',\n",
    "    'mou',\n",
    "    'recchrge',\n",
    "    'directas',\n",
    "    'overage',\n",
    "    'roam',\n",
    "    'changem',\n",
    "    'changer',\n",
    "    'dropvce',\n",
    "    'blckvce',\n",
    "    'unansvce',\n",
    "    'custcare',\n",
    "    'threeway',\n",
    "    'mourec',\n",
    "    'outcalls',\n",
    "    'incalls',\n",
    "    'peakvce',\n",
    "    'opeakvce',\n",
    "    'dropblk',\n",
    "    'callfwdv',\n",
    "    'callwait',\n",
    "    'months',\n",
    "    'uniqsubs',\n",
    "    'actvsubs',\n",
    "    'phones',\n",
    "    'models',\n",
    "    'eqpdays',\n",
    "    'age1',\n",
    "    'age2',\n",
    "    'children',\n",
    "    'credita',\n",
    "    'creditaa',\n",
    "    'prizmrur',\n",
    "    'prizmub',\n",
    "    'prizmtwn',\n",
    "    'refurb',\n",
    "    'webcap',\n",
    "    'truck',\n",
    "    'rv',\n",
    "    'occprof',\n",
    "    'occcler',\n",
    "    'occcrft',\n",
    "    'occstud',\n",
    "    'occhmkr',\n",
    "    'occret',\n",
    "    'occself',\n",
    "    'ownrent',\n",
    "    'marryun',\n",
    "    'marryyes',\n",
    "    'mailord',\n",
    "    'mailres',\n",
    "    'mailflag',\n",
    "    'travel',\n",
    "    'pcown',\n",
    "    'creditcd',\n",
    "    'retcalls',\n",
    "    'retaccpt',\n",
    "    'newcelly',\n",
    "    'newcelln',\n",
    "    'refer',\n",
    "    'incmiss',\n",
    "    'income',\n",
    "    'mcycle',\n",
    "    'setprcm',\n",
    "    'setprc',\n",
    "    'retcall',\n",
    "    # 'rec_ntile',\n",
    "    # 'freq_ntile',\n",
    "    # 'mon_ntile',\n",
    "]"
   ]
  },
  {
   "cell_type": "markdown",
   "id": "2277a46b-75ca-4ed0-b5fc-db4c425cde13",
   "metadata": {
    "tags": []
   },
   "source": [
    "##### Model training"
   ]
  },
  {
   "cell_type": "code",
   "execution_count": 234,
   "id": "a743089e-c31e-45b8-b6c9-71e4df9abd72",
   "metadata": {
    "execution": {
     "iopub.execute_input": "2023-04-17T01:23:19.360312Z",
     "iopub.status.busy": "2023-04-17T01:23:19.359598Z",
     "iopub.status.idle": "2023-04-17T01:23:19.951262Z",
     "shell.execute_reply": "2023-04-17T01:23:19.950123Z",
     "shell.execute_reply.started": "2023-04-17T01:23:19.360278Z"
    },
    "tags": []
   },
   "outputs": [
    {
     "name": "stdout",
     "output_type": "stream",
     "text": [
      "Optimization terminated successfully.\n",
      "         Current function value: 0.670879\n",
      "         Iterations 5\n"
     ]
    }
   ],
   "source": [
    "m2 = sm.Logit(\n",
    "    dfm2_train[m1l],\n",
    "    dfm2_train[m1f],\n",
    ").fit()"
   ]
  },
  {
   "cell_type": "markdown",
   "id": "124cbd53-d99f-4506-8e63-0c712a7cc5c9",
   "metadata": {
    "tags": []
   },
   "source": [
    "##### Model coefficients"
   ]
  },
  {
   "cell_type": "code",
   "execution_count": 235,
   "id": "c5243ba1-6320-4560-9692-d2b02e9ec28e",
   "metadata": {
    "execution": {
     "iopub.execute_input": "2023-04-17T01:23:25.176607Z",
     "iopub.status.busy": "2023-04-17T01:23:25.175894Z",
     "iopub.status.idle": "2023-04-17T01:23:25.327967Z",
     "shell.execute_reply": "2023-04-17T01:23:25.326644Z",
     "shell.execute_reply.started": "2023-04-17T01:23:25.176574Z"
    },
    "scrolled": true,
    "tags": []
   },
   "outputs": [
    {
     "data": {
      "text/html": [
       "<table class=\"simpletable\">\n",
       "<caption>Logit Regression Results</caption>\n",
       "<tr>\n",
       "  <th>Dep. Variable:</th>       <td>churndep</td>     <th>  No. Observations:  </th>  <td> 40000</td> \n",
       "</tr>\n",
       "<tr>\n",
       "  <th>Model:</th>                 <td>Logit</td>      <th>  Df Residuals:      </th>  <td> 39934</td> \n",
       "</tr>\n",
       "<tr>\n",
       "  <th>Method:</th>                 <td>MLE</td>       <th>  Df Model:          </th>  <td>    65</td> \n",
       "</tr>\n",
       "<tr>\n",
       "  <th>Date:</th>            <td>Sun, 16 Apr 2023</td> <th>  Pseudo R-squ.:     </th>  <td>0.03213</td>\n",
       "</tr>\n",
       "<tr>\n",
       "  <th>Time:</th>                <td>18:23:25</td>     <th>  Log-Likelihood:    </th> <td> -26835.</td>\n",
       "</tr>\n",
       "<tr>\n",
       "  <th>converged:</th>             <td>True</td>       <th>  LL-Null:           </th> <td> -27726.</td>\n",
       "</tr>\n",
       "<tr>\n",
       "  <th>Covariance Type:</th>     <td>nonrobust</td>    <th>  LLR p-value:       </th>  <td> 0.000</td> \n",
       "</tr>\n",
       "</table>\n",
       "<table class=\"simpletable\">\n",
       "<tr>\n",
       "      <td></td>        <th>coef</th>     <th>std err</th>      <th>z</th>      <th>P>|z|</th>  <th>[0.025</th>    <th>0.975]</th>  \n",
       "</tr>\n",
       "<tr>\n",
       "  <th>revenue</th>  <td>    0.0022</td> <td>    0.001</td> <td>    2.792</td> <td> 0.005</td> <td>    0.001</td> <td>    0.004</td>\n",
       "</tr>\n",
       "<tr>\n",
       "  <th>mou</th>      <td>   -0.0003</td> <td> 4.87e-05</td> <td>   -5.262</td> <td> 0.000</td> <td>   -0.000</td> <td>   -0.000</td>\n",
       "</tr>\n",
       "<tr>\n",
       "  <th>recchrge</th> <td>   -0.0033</td> <td>    0.001</td> <td>   -3.845</td> <td> 0.000</td> <td>   -0.005</td> <td>   -0.002</td>\n",
       "</tr>\n",
       "<tr>\n",
       "  <th>directas</th> <td>   -0.0005</td> <td>    0.006</td> <td>   -0.092</td> <td> 0.927</td> <td>   -0.012</td> <td>    0.011</td>\n",
       "</tr>\n",
       "<tr>\n",
       "  <th>overage</th>  <td>    0.0007</td> <td>    0.000</td> <td>    2.635</td> <td> 0.008</td> <td>    0.000</td> <td>    0.001</td>\n",
       "</tr>\n",
       "<tr>\n",
       "  <th>roam</th>     <td>    0.0063</td> <td>    0.002</td> <td>    3.163</td> <td> 0.002</td> <td>    0.002</td> <td>    0.010</td>\n",
       "</tr>\n",
       "<tr>\n",
       "  <th>changem</th>  <td>   -0.0005</td> <td> 5.28e-05</td> <td>   -9.159</td> <td> 0.000</td> <td>   -0.001</td> <td>   -0.000</td>\n",
       "</tr>\n",
       "<tr>\n",
       "  <th>changer</th>  <td>    0.0022</td> <td>    0.000</td> <td>    5.939</td> <td> 0.000</td> <td>    0.001</td> <td>    0.003</td>\n",
       "</tr>\n",
       "<tr>\n",
       "  <th>dropvce</th>  <td>    0.0135</td> <td>    0.006</td> <td>    2.338</td> <td> 0.019</td> <td>    0.002</td> <td>    0.025</td>\n",
       "</tr>\n",
       "<tr>\n",
       "  <th>blckvce</th>  <td>    0.0087</td> <td>    0.006</td> <td>    1.545</td> <td> 0.122</td> <td>   -0.002</td> <td>    0.020</td>\n",
       "</tr>\n",
       "<tr>\n",
       "  <th>unansvce</th> <td>    0.0009</td> <td>    0.000</td> <td>    1.989</td> <td> 0.047</td> <td> 1.27e-05</td> <td>    0.002</td>\n",
       "</tr>\n",
       "<tr>\n",
       "  <th>custcare</th> <td>   -0.0062</td> <td>    0.003</td> <td>   -2.434</td> <td> 0.015</td> <td>   -0.011</td> <td>   -0.001</td>\n",
       "</tr>\n",
       "<tr>\n",
       "  <th>threeway</th> <td>   -0.0299</td> <td>    0.011</td> <td>   -2.690</td> <td> 0.007</td> <td>   -0.052</td> <td>   -0.008</td>\n",
       "</tr>\n",
       "<tr>\n",
       "  <th>mourec</th>   <td>    0.0001</td> <td>    0.000</td> <td>    0.900</td> <td> 0.368</td> <td>   -0.000</td> <td>    0.000</td>\n",
       "</tr>\n",
       "<tr>\n",
       "  <th>outcalls</th> <td>    0.0012</td> <td>    0.001</td> <td>    2.124</td> <td> 0.034</td> <td>  9.5e-05</td> <td>    0.002</td>\n",
       "</tr>\n",
       "<tr>\n",
       "  <th>incalls</th>  <td>   -0.0034</td> <td>    0.001</td> <td>   -3.223</td> <td> 0.001</td> <td>   -0.005</td> <td>   -0.001</td>\n",
       "</tr>\n",
       "<tr>\n",
       "  <th>peakvce</th>  <td>   -0.0008</td> <td>    0.000</td> <td>   -3.503</td> <td> 0.000</td> <td>   -0.001</td> <td>   -0.000</td>\n",
       "</tr>\n",
       "<tr>\n",
       "  <th>opeakvce</th> <td>   -0.0002</td> <td>    0.000</td> <td>   -0.792</td> <td> 0.428</td> <td>   -0.001</td> <td>    0.000</td>\n",
       "</tr>\n",
       "<tr>\n",
       "  <th>dropblk</th>  <td>   -0.0055</td> <td>    0.006</td> <td>   -1.000</td> <td> 0.317</td> <td>   -0.016</td> <td>    0.005</td>\n",
       "</tr>\n",
       "<tr>\n",
       "  <th>callfwdv</th> <td>    0.0023</td> <td>    0.022</td> <td>    0.108</td> <td> 0.914</td> <td>   -0.040</td> <td>    0.045</td>\n",
       "</tr>\n",
       "<tr>\n",
       "  <th>callwait</th> <td>    0.0022</td> <td>    0.003</td> <td>    0.698</td> <td> 0.485</td> <td>   -0.004</td> <td>    0.008</td>\n",
       "</tr>\n",
       "<tr>\n",
       "  <th>months</th>   <td>   -0.0214</td> <td>    0.002</td> <td>  -11.011</td> <td> 0.000</td> <td>   -0.025</td> <td>   -0.018</td>\n",
       "</tr>\n",
       "<tr>\n",
       "  <th>uniqsubs</th> <td>    0.1861</td> <td>    0.020</td> <td>    9.441</td> <td> 0.000</td> <td>    0.147</td> <td>    0.225</td>\n",
       "</tr>\n",
       "<tr>\n",
       "  <th>actvsubs</th> <td>   -0.1895</td> <td>    0.027</td> <td>   -6.980</td> <td> 0.000</td> <td>   -0.243</td> <td>   -0.136</td>\n",
       "</tr>\n",
       "<tr>\n",
       "  <th>phones</th>   <td>    0.0483</td> <td>    0.018</td> <td>    2.691</td> <td> 0.007</td> <td>    0.013</td> <td>    0.083</td>\n",
       "</tr>\n",
       "<tr>\n",
       "  <th>models</th>   <td>    0.0225</td> <td>    0.027</td> <td>    0.831</td> <td> 0.406</td> <td>   -0.031</td> <td>    0.076</td>\n",
       "</tr>\n",
       "<tr>\n",
       "  <th>eqpdays</th>  <td>    0.0015</td> <td> 7.29e-05</td> <td>   20.523</td> <td> 0.000</td> <td>    0.001</td> <td>    0.002</td>\n",
       "</tr>\n",
       "<tr>\n",
       "  <th>age1</th>     <td>   -0.0034</td> <td>    0.001</td> <td>   -4.178</td> <td> 0.000</td> <td>   -0.005</td> <td>   -0.002</td>\n",
       "</tr>\n",
       "<tr>\n",
       "  <th>age2</th>     <td>   -0.0012</td> <td>    0.001</td> <td>   -1.837</td> <td> 0.066</td> <td>   -0.003</td> <td> 8.31e-05</td>\n",
       "</tr>\n",
       "<tr>\n",
       "  <th>children</th> <td>    0.0967</td> <td>    0.028</td> <td>    3.448</td> <td> 0.001</td> <td>    0.042</td> <td>    0.152</td>\n",
       "</tr>\n",
       "<tr>\n",
       "  <th>credita</th>  <td>   -0.1490</td> <td>    0.035</td> <td>   -4.294</td> <td> 0.000</td> <td>   -0.217</td> <td>   -0.081</td>\n",
       "</tr>\n",
       "<tr>\n",
       "  <th>creditaa</th> <td>   -0.3366</td> <td>    0.034</td> <td>   -9.996</td> <td> 0.000</td> <td>   -0.403</td> <td>   -0.271</td>\n",
       "</tr>\n",
       "<tr>\n",
       "  <th>prizmrur</th> <td>    0.0752</td> <td>    0.049</td> <td>    1.538</td> <td> 0.124</td> <td>   -0.021</td> <td>    0.171</td>\n",
       "</tr>\n",
       "<tr>\n",
       "  <th>prizmub</th>  <td>   -0.0359</td> <td>    0.024</td> <td>   -1.493</td> <td> 0.135</td> <td>   -0.083</td> <td>    0.011</td>\n",
       "</tr>\n",
       "<tr>\n",
       "  <th>prizmtwn</th> <td>    0.0463</td> <td>    0.031</td> <td>    1.489</td> <td> 0.136</td> <td>   -0.015</td> <td>    0.107</td>\n",
       "</tr>\n",
       "<tr>\n",
       "  <th>refurb</th>   <td>    0.2392</td> <td>    0.031</td> <td>    7.635</td> <td> 0.000</td> <td>    0.178</td> <td>    0.301</td>\n",
       "</tr>\n",
       "<tr>\n",
       "  <th>webcap</th>   <td>   -0.1208</td> <td>    0.034</td> <td>   -3.583</td> <td> 0.000</td> <td>   -0.187</td> <td>   -0.055</td>\n",
       "</tr>\n",
       "<tr>\n",
       "  <th>truck</th>    <td>    0.0332</td> <td>    0.036</td> <td>    0.928</td> <td> 0.354</td> <td>   -0.037</td> <td>    0.103</td>\n",
       "</tr>\n",
       "<tr>\n",
       "  <th>rv</th>       <td>    0.0046</td> <td>    0.048</td> <td>    0.096</td> <td> 0.923</td> <td>   -0.089</td> <td>    0.098</td>\n",
       "</tr>\n",
       "<tr>\n",
       "  <th>occprof</th>  <td>   -0.0251</td> <td>    0.032</td> <td>   -0.775</td> <td> 0.438</td> <td>   -0.089</td> <td>    0.038</td>\n",
       "</tr>\n",
       "<tr>\n",
       "  <th>occcler</th>  <td>    0.0499</td> <td>    0.075</td> <td>    0.669</td> <td> 0.504</td> <td>   -0.096</td> <td>    0.196</td>\n",
       "</tr>\n",
       "<tr>\n",
       "  <th>occcrft</th>  <td>   -0.0196</td> <td>    0.063</td> <td>   -0.313</td> <td> 0.754</td> <td>   -0.142</td> <td>    0.103</td>\n",
       "</tr>\n",
       "<tr>\n",
       "  <th>occstud</th>  <td>    0.1369</td> <td>    0.121</td> <td>    1.130</td> <td> 0.259</td> <td>   -0.101</td> <td>    0.375</td>\n",
       "</tr>\n",
       "<tr>\n",
       "  <th>occhmkr</th>  <td>    0.2741</td> <td>    0.190</td> <td>    1.446</td> <td> 0.148</td> <td>   -0.097</td> <td>    0.646</td>\n",
       "</tr>\n",
       "<tr>\n",
       "  <th>occret</th>   <td>   -0.0419</td> <td>    0.090</td> <td>   -0.466</td> <td> 0.641</td> <td>   -0.218</td> <td>    0.135</td>\n",
       "</tr>\n",
       "<tr>\n",
       "  <th>occself</th>  <td>   -0.0652</td> <td>    0.080</td> <td>   -0.811</td> <td> 0.417</td> <td>   -0.223</td> <td>    0.092</td>\n",
       "</tr>\n",
       "<tr>\n",
       "  <th>ownrent</th>  <td>    0.0174</td> <td>    0.041</td> <td>    0.428</td> <td> 0.669</td> <td>   -0.062</td> <td>    0.097</td>\n",
       "</tr>\n",
       "<tr>\n",
       "  <th>marryun</th>  <td>    0.1090</td> <td>    0.034</td> <td>    3.243</td> <td> 0.001</td> <td>    0.043</td> <td>    0.175</td>\n",
       "</tr>\n",
       "<tr>\n",
       "  <th>marryyes</th> <td>    0.0590</td> <td>    0.032</td> <td>    1.828</td> <td> 0.068</td> <td>   -0.004</td> <td>    0.122</td>\n",
       "</tr>\n",
       "<tr>\n",
       "  <th>mailord</th>  <td>    0.0016</td> <td>    0.085</td> <td>    0.019</td> <td> 0.985</td> <td>   -0.166</td> <td>    0.169</td>\n",
       "</tr>\n",
       "<tr>\n",
       "  <th>mailres</th>  <td>   -0.1254</td> <td>    0.086</td> <td>   -1.464</td> <td> 0.143</td> <td>   -0.293</td> <td>    0.042</td>\n",
       "</tr>\n",
       "<tr>\n",
       "  <th>mailflag</th> <td>   -0.0434</td> <td>    0.084</td> <td>   -0.515</td> <td> 0.606</td> <td>   -0.209</td> <td>    0.122</td>\n",
       "</tr>\n",
       "<tr>\n",
       "  <th>travel</th>   <td>    0.0004</td> <td>    0.047</td> <td>    0.008</td> <td> 0.994</td> <td>   -0.092</td> <td>    0.093</td>\n",
       "</tr>\n",
       "<tr>\n",
       "  <th>pcown</th>    <td>    0.0311</td> <td>    0.031</td> <td>    1.009</td> <td> 0.313</td> <td>   -0.029</td> <td>    0.092</td>\n",
       "</tr>\n",
       "<tr>\n",
       "  <th>creditcd</th> <td>    0.0696</td> <td>    0.040</td> <td>    1.734</td> <td> 0.083</td> <td>   -0.009</td> <td>    0.148</td>\n",
       "</tr>\n",
       "<tr>\n",
       "  <th>retcalls</th> <td>    0.1219</td> <td>    0.180</td> <td>    0.678</td> <td> 0.498</td> <td>   -0.231</td> <td>    0.475</td>\n",
       "</tr>\n",
       "<tr>\n",
       "  <th>retaccpt</th> <td>   -0.2078</td> <td>    0.105</td> <td>   -1.985</td> <td> 0.047</td> <td>   -0.413</td> <td>   -0.003</td>\n",
       "</tr>\n",
       "<tr>\n",
       "  <th>newcelly</th> <td>   -0.0663</td> <td>    0.027</td> <td>   -2.461</td> <td> 0.014</td> <td>   -0.119</td> <td>   -0.014</td>\n",
       "</tr>\n",
       "<tr>\n",
       "  <th>newcelln</th> <td>   -0.0035</td> <td>    0.031</td> <td>   -0.114</td> <td> 0.910</td> <td>   -0.065</td> <td>    0.058</td>\n",
       "</tr>\n",
       "<tr>\n",
       "  <th>refer</th>    <td>   -0.0436</td> <td>    0.041</td> <td>   -1.051</td> <td> 0.293</td> <td>   -0.125</td> <td>    0.038</td>\n",
       "</tr>\n",
       "<tr>\n",
       "  <th>incmiss</th>  <td>   -0.0741</td> <td>    0.056</td> <td>   -1.326</td> <td> 0.185</td> <td>   -0.184</td> <td>    0.035</td>\n",
       "</tr>\n",
       "<tr>\n",
       "  <th>income</th>   <td>   -0.0111</td> <td>    0.006</td> <td>   -1.917</td> <td> 0.055</td> <td>   -0.022</td> <td>    0.000</td>\n",
       "</tr>\n",
       "<tr>\n",
       "  <th>mcycle</th>   <td>    0.1230</td> <td>    0.089</td> <td>    1.387</td> <td> 0.166</td> <td>   -0.051</td> <td>    0.297</td>\n",
       "</tr>\n",
       "<tr>\n",
       "  <th>setprcm</th>  <td>   -0.0788</td> <td>    0.036</td> <td>   -2.166</td> <td> 0.030</td> <td>   -0.150</td> <td>   -0.007</td>\n",
       "</tr>\n",
       "<tr>\n",
       "  <th>setprc</th>   <td>    0.0008</td> <td>    0.000</td> <td>    2.805</td> <td> 0.005</td> <td>    0.000</td> <td>    0.001</td>\n",
       "</tr>\n",
       "<tr>\n",
       "  <th>retcall</th>  <td>    0.7677</td> <td>    0.191</td> <td>    4.030</td> <td> 0.000</td> <td>    0.394</td> <td>    1.141</td>\n",
       "</tr>\n",
       "</table>"
      ],
      "text/plain": [
       "<class 'statsmodels.iolib.summary.Summary'>\n",
       "\"\"\"\n",
       "                           Logit Regression Results                           \n",
       "==============================================================================\n",
       "Dep. Variable:               churndep   No. Observations:                40000\n",
       "Model:                          Logit   Df Residuals:                    39934\n",
       "Method:                           MLE   Df Model:                           65\n",
       "Date:                Sun, 16 Apr 2023   Pseudo R-squ.:                 0.03213\n",
       "Time:                        18:23:25   Log-Likelihood:                -26835.\n",
       "converged:                       True   LL-Null:                       -27726.\n",
       "Covariance Type:            nonrobust   LLR p-value:                     0.000\n",
       "==============================================================================\n",
       "                 coef    std err          z      P>|z|      [0.025      0.975]\n",
       "------------------------------------------------------------------------------\n",
       "revenue        0.0022      0.001      2.792      0.005       0.001       0.004\n",
       "mou           -0.0003   4.87e-05     -5.262      0.000      -0.000      -0.000\n",
       "recchrge      -0.0033      0.001     -3.845      0.000      -0.005      -0.002\n",
       "directas      -0.0005      0.006     -0.092      0.927      -0.012       0.011\n",
       "overage        0.0007      0.000      2.635      0.008       0.000       0.001\n",
       "roam           0.0063      0.002      3.163      0.002       0.002       0.010\n",
       "changem       -0.0005   5.28e-05     -9.159      0.000      -0.001      -0.000\n",
       "changer        0.0022      0.000      5.939      0.000       0.001       0.003\n",
       "dropvce        0.0135      0.006      2.338      0.019       0.002       0.025\n",
       "blckvce        0.0087      0.006      1.545      0.122      -0.002       0.020\n",
       "unansvce       0.0009      0.000      1.989      0.047    1.27e-05       0.002\n",
       "custcare      -0.0062      0.003     -2.434      0.015      -0.011      -0.001\n",
       "threeway      -0.0299      0.011     -2.690      0.007      -0.052      -0.008\n",
       "mourec         0.0001      0.000      0.900      0.368      -0.000       0.000\n",
       "outcalls       0.0012      0.001      2.124      0.034     9.5e-05       0.002\n",
       "incalls       -0.0034      0.001     -3.223      0.001      -0.005      -0.001\n",
       "peakvce       -0.0008      0.000     -3.503      0.000      -0.001      -0.000\n",
       "opeakvce      -0.0002      0.000     -0.792      0.428      -0.001       0.000\n",
       "dropblk       -0.0055      0.006     -1.000      0.317      -0.016       0.005\n",
       "callfwdv       0.0023      0.022      0.108      0.914      -0.040       0.045\n",
       "callwait       0.0022      0.003      0.698      0.485      -0.004       0.008\n",
       "months        -0.0214      0.002    -11.011      0.000      -0.025      -0.018\n",
       "uniqsubs       0.1861      0.020      9.441      0.000       0.147       0.225\n",
       "actvsubs      -0.1895      0.027     -6.980      0.000      -0.243      -0.136\n",
       "phones         0.0483      0.018      2.691      0.007       0.013       0.083\n",
       "models         0.0225      0.027      0.831      0.406      -0.031       0.076\n",
       "eqpdays        0.0015   7.29e-05     20.523      0.000       0.001       0.002\n",
       "age1          -0.0034      0.001     -4.178      0.000      -0.005      -0.002\n",
       "age2          -0.0012      0.001     -1.837      0.066      -0.003    8.31e-05\n",
       "children       0.0967      0.028      3.448      0.001       0.042       0.152\n",
       "credita       -0.1490      0.035     -4.294      0.000      -0.217      -0.081\n",
       "creditaa      -0.3366      0.034     -9.996      0.000      -0.403      -0.271\n",
       "prizmrur       0.0752      0.049      1.538      0.124      -0.021       0.171\n",
       "prizmub       -0.0359      0.024     -1.493      0.135      -0.083       0.011\n",
       "prizmtwn       0.0463      0.031      1.489      0.136      -0.015       0.107\n",
       "refurb         0.2392      0.031      7.635      0.000       0.178       0.301\n",
       "webcap        -0.1208      0.034     -3.583      0.000      -0.187      -0.055\n",
       "truck          0.0332      0.036      0.928      0.354      -0.037       0.103\n",
       "rv             0.0046      0.048      0.096      0.923      -0.089       0.098\n",
       "occprof       -0.0251      0.032     -0.775      0.438      -0.089       0.038\n",
       "occcler        0.0499      0.075      0.669      0.504      -0.096       0.196\n",
       "occcrft       -0.0196      0.063     -0.313      0.754      -0.142       0.103\n",
       "occstud        0.1369      0.121      1.130      0.259      -0.101       0.375\n",
       "occhmkr        0.2741      0.190      1.446      0.148      -0.097       0.646\n",
       "occret        -0.0419      0.090     -0.466      0.641      -0.218       0.135\n",
       "occself       -0.0652      0.080     -0.811      0.417      -0.223       0.092\n",
       "ownrent        0.0174      0.041      0.428      0.669      -0.062       0.097\n",
       "marryun        0.1090      0.034      3.243      0.001       0.043       0.175\n",
       "marryyes       0.0590      0.032      1.828      0.068      -0.004       0.122\n",
       "mailord        0.0016      0.085      0.019      0.985      -0.166       0.169\n",
       "mailres       -0.1254      0.086     -1.464      0.143      -0.293       0.042\n",
       "mailflag      -0.0434      0.084     -0.515      0.606      -0.209       0.122\n",
       "travel         0.0004      0.047      0.008      0.994      -0.092       0.093\n",
       "pcown          0.0311      0.031      1.009      0.313      -0.029       0.092\n",
       "creditcd       0.0696      0.040      1.734      0.083      -0.009       0.148\n",
       "retcalls       0.1219      0.180      0.678      0.498      -0.231       0.475\n",
       "retaccpt      -0.2078      0.105     -1.985      0.047      -0.413      -0.003\n",
       "newcelly      -0.0663      0.027     -2.461      0.014      -0.119      -0.014\n",
       "newcelln      -0.0035      0.031     -0.114      0.910      -0.065       0.058\n",
       "refer         -0.0436      0.041     -1.051      0.293      -0.125       0.038\n",
       "incmiss       -0.0741      0.056     -1.326      0.185      -0.184       0.035\n",
       "income        -0.0111      0.006     -1.917      0.055      -0.022       0.000\n",
       "mcycle         0.1230      0.089      1.387      0.166      -0.051       0.297\n",
       "setprcm       -0.0788      0.036     -2.166      0.030      -0.150      -0.007\n",
       "setprc         0.0008      0.000      2.805      0.005       0.000       0.001\n",
       "retcall        0.7677      0.191      4.030      0.000       0.394       1.141\n",
       "==============================================================================\n",
       "\"\"\""
      ]
     },
     "execution_count": 235,
     "metadata": {},
     "output_type": "execute_result"
    }
   ],
   "source": [
    "m2.summary()"
   ]
  },
  {
   "cell_type": "code",
   "execution_count": 236,
   "id": "50ece83b-2798-40ed-80c9-ad4eebb0aaf9",
   "metadata": {
    "execution": {
     "iopub.execute_input": "2023-04-17T01:23:36.193448Z",
     "iopub.status.busy": "2023-04-17T01:23:36.192726Z",
     "iopub.status.idle": "2023-04-17T01:23:36.262906Z",
     "shell.execute_reply": "2023-04-17T01:23:36.261761Z",
     "shell.execute_reply.started": "2023-04-17T01:23:36.193415Z"
    },
    "scrolled": true,
    "tags": []
   },
   "outputs": [
    {
     "data": {
      "text/html": [
       "<div>\n",
       "<style scoped>\n",
       "    .dataframe tbody tr th:only-of-type {\n",
       "        vertical-align: middle;\n",
       "    }\n",
       "\n",
       "    .dataframe tbody tr th {\n",
       "        vertical-align: top;\n",
       "    }\n",
       "\n",
       "    .dataframe thead th {\n",
       "        text-align: right;\n",
       "    }\n",
       "</style>\n",
       "<table border=\"1\" class=\"dataframe\">\n",
       "  <thead>\n",
       "    <tr style=\"text-align: right;\">\n",
       "      <th></th>\n",
       "      <th>Odds ratios</th>\n",
       "      <th>std err</th>\n",
       "      <th>z</th>\n",
       "      <th>P&gt;|z|</th>\n",
       "      <th>[0.025</th>\n",
       "      <th>0.975]</th>\n",
       "    </tr>\n",
       "  </thead>\n",
       "  <tbody>\n",
       "    <tr>\n",
       "      <th>mou</th>\n",
       "      <td>0.999744</td>\n",
       "      <td>0.000049</td>\n",
       "      <td>5.262881</td>\n",
       "      <td>0.000</td>\n",
       "      <td>0.999650</td>\n",
       "      <td>0.999838</td>\n",
       "    </tr>\n",
       "    <tr>\n",
       "      <th>recchrge</th>\n",
       "      <td>0.996679</td>\n",
       "      <td>0.000862</td>\n",
       "      <td>3.851049</td>\n",
       "      <td>0.000</td>\n",
       "      <td>0.995006</td>\n",
       "      <td>0.998352</td>\n",
       "    </tr>\n",
       "    <tr>\n",
       "      <th>directas</th>\n",
       "      <td>0.999468</td>\n",
       "      <td>0.005814</td>\n",
       "      <td>0.091540</td>\n",
       "      <td>0.927</td>\n",
       "      <td>0.988189</td>\n",
       "      <td>1.010747</td>\n",
       "    </tr>\n",
       "    <tr>\n",
       "      <th>overage</th>\n",
       "      <td>1.000721</td>\n",
       "      <td>0.000274</td>\n",
       "      <td>2.634221</td>\n",
       "      <td>0.008</td>\n",
       "      <td>1.000190</td>\n",
       "      <td>1.001252</td>\n",
       "    </tr>\n",
       "    <tr>\n",
       "      <th>roam</th>\n",
       "      <td>1.006304</td>\n",
       "      <td>0.001999</td>\n",
       "      <td>3.153384</td>\n",
       "      <td>0.002</td>\n",
       "      <td>1.002426</td>\n",
       "      <td>1.010183</td>\n",
       "    </tr>\n",
       "    <tr>\n",
       "      <th>...</th>\n",
       "      <td>...</td>\n",
       "      <td>...</td>\n",
       "      <td>...</td>\n",
       "      <td>...</td>\n",
       "      <td>...</td>\n",
       "      <td>...</td>\n",
       "    </tr>\n",
       "    <tr>\n",
       "      <th>income</th>\n",
       "      <td>0.988955</td>\n",
       "      <td>0.005731</td>\n",
       "      <td>1.927230</td>\n",
       "      <td>0.054</td>\n",
       "      <td>0.977838</td>\n",
       "      <td>1.000073</td>\n",
       "    </tr>\n",
       "    <tr>\n",
       "      <th>mcycle</th>\n",
       "      <td>1.130841</td>\n",
       "      <td>0.100268</td>\n",
       "      <td>1.304919</td>\n",
       "      <td>0.192</td>\n",
       "      <td>0.936322</td>\n",
       "      <td>1.325361</td>\n",
       "    </tr>\n",
       "    <tr>\n",
       "      <th>setprcm</th>\n",
       "      <td>0.924232</td>\n",
       "      <td>0.033626</td>\n",
       "      <td>2.253277</td>\n",
       "      <td>0.024</td>\n",
       "      <td>0.858998</td>\n",
       "      <td>0.989466</td>\n",
       "    </tr>\n",
       "    <tr>\n",
       "      <th>setprc</th>\n",
       "      <td>1.000757</td>\n",
       "      <td>0.000270</td>\n",
       "      <td>2.803526</td>\n",
       "      <td>0.005</td>\n",
       "      <td>1.000233</td>\n",
       "      <td>1.001281</td>\n",
       "    </tr>\n",
       "    <tr>\n",
       "      <th>retcall</th>\n",
       "      <td>2.154901</td>\n",
       "      <td>0.410531</td>\n",
       "      <td>2.813191</td>\n",
       "      <td>0.005</td>\n",
       "      <td>1.358471</td>\n",
       "      <td>2.951330</td>\n",
       "    </tr>\n",
       "  </tbody>\n",
       "</table>\n",
       "<p>65 rows × 6 columns</p>\n",
       "</div>"
      ],
      "text/plain": [
       "          Odds ratios   std err         z  P>|z|    [0.025    0.975]\n",
       "mou          0.999744  0.000049  5.262881  0.000  0.999650  0.999838\n",
       "recchrge     0.996679  0.000862  3.851049  0.000  0.995006  0.998352\n",
       "directas     0.999468  0.005814  0.091540  0.927  0.988189  1.010747\n",
       "overage      1.000721  0.000274  2.634221  0.008  1.000190  1.001252\n",
       "roam         1.006304  0.001999  3.153384  0.002  1.002426  1.010183\n",
       "...               ...       ...       ...    ...       ...       ...\n",
       "income       0.988955  0.005731  1.927230  0.054  0.977838  1.000073\n",
       "mcycle       1.130841  0.100268  1.304919  0.192  0.936322  1.325361\n",
       "setprcm      0.924232  0.033626  2.253277  0.024  0.858998  0.989466\n",
       "setprc       1.000757  0.000270  2.803526  0.005  1.000233  1.001281\n",
       "retcall      2.154901  0.410531  2.813191  0.005  1.358471  2.951330\n",
       "\n",
       "[65 rows x 6 columns]"
      ]
     },
     "execution_count": 236,
     "metadata": {},
     "output_type": "execute_result"
    }
   ],
   "source": [
    "dfm2_or = odds_ratios(m2)\n",
    "dfm2_or"
   ]
  },
  {
   "cell_type": "code",
   "execution_count": 237,
   "id": "e78bccd1-4ccf-4301-b3dc-77c2e1841600",
   "metadata": {
    "execution": {
     "iopub.execute_input": "2023-04-17T01:23:56.377178Z",
     "iopub.status.busy": "2023-04-17T01:23:56.376404Z",
     "iopub.status.idle": "2023-04-17T01:23:56.480240Z",
     "shell.execute_reply": "2023-04-17T01:23:56.478454Z",
     "shell.execute_reply.started": "2023-04-17T01:23:56.377142Z"
    },
    "tags": []
   },
   "outputs": [],
   "source": [
    "## Adding the standard deviation column to the odds ratios dataframe\n",
    "dfm2_or['std'] = dfm2_test[m2f].std()\n",
    "\n",
    "## Operation between resulting odds ratios and standard deviation\n",
    "dfm2_or['norm_or'] = np.power(dfm2_or['Odds ratios'], dfm2_or['std'])\n",
    "\n",
    "## Correcting odds ratios that are lower than one\n",
    "dfm2_or['norm_or'] = dfm2_or['norm_or'].apply(lambda x: 1/x if x < 1 else x)\n",
    "\n",
    "## Ranking results\n",
    "dfm2_or['rank'] = dfm2_or['norm_or'].rank(ascending=False)\n",
    "dfm2_or.sort_values(by='rank', inplace=True, ascending=True)"
   ]
  },
  {
   "cell_type": "markdown",
   "id": "b2b1dd08-d8d2-46a5-9f10-1cb7aa5b7206",
   "metadata": {
    "tags": []
   },
   "source": [
    "##### Predictions"
   ]
  },
  {
   "cell_type": "code",
   "execution_count": 239,
   "id": "d442522a-3150-4b23-a659-3000035857df",
   "metadata": {
    "execution": {
     "iopub.execute_input": "2023-04-17T01:24:31.617601Z",
     "iopub.status.busy": "2023-04-17T01:24:31.617171Z",
     "iopub.status.idle": "2023-04-17T01:24:31.914807Z",
     "shell.execute_reply": "2023-04-17T01:24:31.913769Z",
     "shell.execute_reply.started": "2023-04-17T01:24:31.617570Z"
    },
    "tags": []
   },
   "outputs": [],
   "source": [
    "## Churn predicted probability\n",
    "dfm2_test['m2_pred_prob'] = m1.predict(dfm2_test[m1f])\n",
    "\n",
    "## Classifying churners in groups\n",
    "dfm2_test['m2_pred_prob_grade'] = 10 - ntile(dfm2_test['m2_pred_prob'], 10)"
   ]
  },
  {
   "cell_type": "markdown",
   "id": "760d643a-85fb-4958-9990-3baaf9d47394",
   "metadata": {},
   "source": [
    "## "
   ]
  },
  {
   "cell_type": "markdown",
   "id": "b6df1022-ac93-4d80-b04c-8bdd07c4e83c",
   "metadata": {
    "tags": []
   },
   "source": [
    "## Manual models compilation"
   ]
  },
  {
   "cell_type": "code",
   "execution_count": 240,
   "id": "2b6b3d8b-3a19-4737-8945-1266901647c0",
   "metadata": {
    "execution": {
     "iopub.execute_input": "2023-04-17T01:24:58.780477Z",
     "iopub.status.busy": "2023-04-17T01:24:58.779759Z",
     "iopub.status.idle": "2023-04-17T01:24:58.839806Z",
     "shell.execute_reply": "2023-04-17T01:24:58.838755Z",
     "shell.execute_reply.started": "2023-04-17T01:24:58.780444Z"
    },
    "tags": []
   },
   "outputs": [],
   "source": [
    "## Models objects\n",
    "models = {\n",
    "    \n",
    "    ## \n",
    "    'm1': { \n",
    "        'df_test': dfm1_test,\n",
    "        'label': m1l,\n",
    "        'features': m1f,\n",
    "        'model': m1,\n",
    "    },\n",
    "    \n",
    "    ## \n",
    "    'm2': { \n",
    "        'df_test': dfm2_test,\n",
    "        'label': m2l,\n",
    "        'features': m2f,\n",
    "        'model': m2,\n",
    "    },\n",
    "    \n",
    "}"
   ]
  },
  {
   "cell_type": "markdown",
   "id": "a4cb8df3-1563-44c8-ba59-05b382e8e9e5",
   "metadata": {
    "tags": []
   },
   "source": [
    "# "
   ]
  },
  {
   "cell_type": "markdown",
   "id": "7ac6c542-56b2-4780-af7d-58e95f11ccb3",
   "metadata": {
    "jp-MarkdownHeadingCollapsed": true,
    "tags": []
   },
   "source": [
    "# Evaluating models"
   ]
  },
  {
   "cell_type": "markdown",
   "id": "2ce7a1b4-6b02-448b-9755-e412e218e457",
   "metadata": {
    "tags": []
   },
   "source": [
    "##### Lift"
   ]
  },
  {
   "cell_type": "code",
   "execution_count": null,
   "id": "362991d2-393a-4e7c-bb6f-255e6992eb7f",
   "metadata": {
    "execution": {
     "iopub.execute_input": "2023-04-17T01:25:03.273917Z",
     "iopub.status.busy": "2023-04-17T01:25:03.273510Z",
     "iopub.status.idle": "2023-04-17T01:25:06.204401Z",
     "shell.execute_reply": "2023-04-17T01:25:06.203242Z",
     "shell.execute_reply.started": "2023-04-17T01:25:03.273886Z"
    },
    "jupyter": {
     "source_hidden": true
    },
    "tags": []
   },
   "outputs": [],
   "source": [
    "fig = go.Figure()\n",
    "\n",
    "\n",
    "for model_key in models:\n",
    "    \n",
    "    ## Variables definition\n",
    "    mx_info = models[model_key]\n",
    "    dfx = mx_info['df_test']\n",
    "    \n",
    "    ## Gain calculation\n",
    "    mx_gain = mba263.lift(dfx['churn'], dfx[model_key + '_pred_prob'], bins=100)\n",
    "\n",
    "    fig.add_trace(\n",
    "        go.Scatter(\n",
    "            x=np.linspace(0, 100, num=mx_gain.shape[0]), \n",
    "            y=mx_gain,\n",
    "            mode='lines',\n",
    "            name=model_key\n",
    "        )\n",
    "    )\n",
    "    \n",
    "\n",
    "fig.update_layout(\n",
    "    width=700, height=500,\n",
    "    title='Lift curves'\n",
    ")\n",
    "    \n",
    "fig.show()"
   ]
  },
  {
   "cell_type": "markdown",
   "id": "0cd1c9d3-ff08-4518-98cc-896ff9097edf",
   "metadata": {
    "tags": []
   },
   "source": [
    "# "
   ]
  },
  {
   "cell_type": "markdown",
   "id": "98d8bf0a-7c77-4243-ac9d-35be252bd11c",
   "metadata": {
    "tags": []
   },
   "source": [
    "# Identifying customers that will receive promotion"
   ]
  },
  {
   "cell_type": "markdown",
   "id": "db82e685-a3dc-4916-a9fa-7ccfe1dcb7a3",
   "metadata": {
    "tags": []
   },
   "source": [
    "## Generating dataset of selected customers"
   ]
  },
  {
   "cell_type": "code",
   "execution_count": 21,
   "id": "efbbb041-43ac-49cb-a7e6-c8061db04227",
   "metadata": {
    "execution": {
     "iopub.execute_input": "2023-04-16T23:22:00.976843Z",
     "iopub.status.busy": "2023-04-16T23:22:00.976407Z",
     "iopub.status.idle": "2023-04-16T23:22:01.053330Z",
     "shell.execute_reply": "2023-04-16T23:22:01.051959Z",
     "shell.execute_reply.started": "2023-04-16T23:22:00.976804Z"
    },
    "tags": []
   },
   "outputs": [],
   "source": [
    "dfc = dfm2_test[dfm2_test['m2_pred_prob_grade'] == 1].copy()"
   ]
  },
  {
   "cell_type": "code",
   "execution_count": 245,
   "id": "6b90fb43-482a-4232-b7df-72e2bc7c6595",
   "metadata": {
    "execution": {
     "iopub.execute_input": "2023-04-17T01:26:38.263055Z",
     "iopub.status.busy": "2023-04-17T01:26:38.262574Z",
     "iopub.status.idle": "2023-04-17T01:26:38.319388Z",
     "shell.execute_reply": "2023-04-17T01:26:38.318356Z",
     "shell.execute_reply.started": "2023-04-17T01:26:38.263023Z"
    },
    "tags": []
   },
   "outputs": [],
   "source": [
    "## Average churn of selected customers\n",
    "avg_churn = dfc['churn'].mean()"
   ]
  },
  {
   "cell_type": "markdown",
   "id": "cab9c2a6-5e17-4db2-b5ea-ca7634c99fb3",
   "metadata": {
    "jp-MarkdownHeadingCollapsed": true,
    "tags": []
   },
   "source": [
    "## Understanding customer selection"
   ]
  },
  {
   "cell_type": "markdown",
   "id": "2c602d45-754e-45cc-a2d8-3d5c3323a46c",
   "metadata": {
    "jp-MarkdownHeadingCollapsed": true,
    "tags": []
   },
   "source": [
    "##### Do customers with a refurbished handset own a cheaper handset?\n",
    "- It seems that refurbished handsets are actually more expensive"
   ]
  },
  {
   "cell_type": "code",
   "execution_count": null,
   "id": "92c994bb-7f59-4cd4-b39b-b761160919f5",
   "metadata": {
    "jupyter": {
     "source_hidden": true
    },
    "tags": []
   },
   "outputs": [],
   "source": [
    "dfc.loc[:, rc].groupby(\n",
    "    'refurb',\n",
    ").agg(\n",
    "    count=('setprc', 'count'),\n",
    "    mean_price=('setprc', 'mean')\n",
    ")"
   ]
  },
  {
   "cell_type": "code",
   "execution_count": null,
   "id": "0e2e6c71-62a0-4a31-8b0e-c9184368db9f",
   "metadata": {
    "jupyter": {
     "source_hidden": true
    },
    "tags": []
   },
   "outputs": [],
   "source": [
    "rc = [\n",
    "    'setprc',\n",
    "    'refurb',\n",
    "]\n",
    "\n",
    "dfc.loc[:, rc]\n",
    "\n",
    "px.histogram(\n",
    "    data_frame=dfc.loc[:, rc],\n",
    "    x='setprc',\n",
    "    color='refurb',\n",
    "    histnorm='probability',\n",
    "    marginal='rug',\n",
    ")"
   ]
  },
  {
   "cell_type": "code",
   "execution_count": null,
   "id": "15605bb8-f75e-4170-808c-bc44b5c5e049",
   "metadata": {
    "jupyter": {
     "source_hidden": true
    },
    "tags": []
   },
   "outputs": [],
   "source": [
    "dfc.loc[:, rc]\n",
    "\n",
    "px.box(\n",
    "    data_frame=dfc.loc[:, rc],\n",
    "    x='setprc',\n",
    "    color='refurb',\n",
    ")"
   ]
  },
  {
   "cell_type": "markdown",
   "id": "dfd03500-02e3-407f-9408-b7f8599c9967",
   "metadata": {
    "execution": {
     "iopub.execute_input": "2023-04-16T17:47:32.977602Z",
     "iopub.status.busy": "2023-04-16T17:47:32.976828Z",
     "iopub.status.idle": "2023-04-16T17:47:33.046171Z",
     "shell.execute_reply": "2023-04-16T17:47:33.045240Z",
     "shell.execute_reply.started": "2023-04-16T17:47:32.977568Z"
    },
    "tags": []
   },
   "source": [
    "##### How does the `eqpdays` variable behaves?"
   ]
  },
  {
   "cell_type": "code",
   "execution_count": null,
   "id": "0c587ab3-e7f1-417d-952c-b58d8cc28512",
   "metadata": {
    "tags": []
   },
   "outputs": [],
   "source": [
    "## Box plot with variable distribution\n",
    "px.box(\n",
    "    x=dfc.loc[:, 'eqpdays'],\n",
    ")"
   ]
  },
  {
   "cell_type": "code",
   "execution_count": null,
   "id": "5eb13445-fccb-4eb5-95a0-3627c5ec1e23",
   "metadata": {},
   "outputs": [],
   "source": [
    "## Number of customer above a given percentile\n",
    "ths_q = 0.75\n",
    "ths_n = dfc.loc[:, 'eqpdays'].quantile(ths_q)\n",
    "\n",
    "mr1 = dfc['eqpdays'] >= ths_n\n",
    "\n",
    "dfc.loc[mr1, 'eqpdays']"
   ]
  },
  {
   "cell_type": "markdown",
   "id": "a9a52469-4c9d-420e-b4bf-ab02f294079b",
   "metadata": {
    "tags": []
   },
   "source": [
    "##### Question..."
   ]
  },
  {
   "cell_type": "markdown",
   "id": "bfd82cf5-99be-436b-9682-99a4dbb38bc4",
   "metadata": {
    "tags": []
   },
   "source": [
    "# "
   ]
  },
  {
   "cell_type": "markdown",
   "id": "a223b37c-3401-4278-9594-4aa07e7f356d",
   "metadata": {
    "tags": []
   },
   "source": [
    "# Profit calculations"
   ]
  },
  {
   "cell_type": "markdown",
   "id": "9527d1d4-8571-4d83-b350-3f15b7300540",
   "metadata": {
    "tags": []
   },
   "source": [
    "## Profit calculations without intervention"
   ]
  },
  {
   "cell_type": "code",
   "execution_count": 261,
   "id": "d3f09291-4097-4f02-b9a1-c5fac7de027f",
   "metadata": {
    "execution": {
     "iopub.execute_input": "2023-04-17T01:28:55.069111Z",
     "iopub.status.busy": "2023-04-17T01:28:55.068362Z",
     "iopub.status.idle": "2023-04-17T01:28:55.126052Z",
     "shell.execute_reply": "2023-04-17T01:28:55.124940Z",
     "shell.execute_reply.started": "2023-04-17T01:28:55.069080Z"
    },
    "tags": []
   },
   "outputs": [],
   "source": [
    "## Function to calculate status quo expected value\n",
    "def status_quo_exp_profit(periods, revenue, cost, churn_p, disc):\n",
    "    \n",
    "    ### List where all the results will be stored\n",
    "    res_lst = []\n",
    "    \n",
    "    ### Iterating over all periods and calculating individual results\n",
    "    for p in np.linspace(0, periods, periods + 1):\n",
    "        \n",
    "        res_lst.append(\n",
    "            ((revenue - cost)*(1 - churn_p)**p)*(1 - disc)**p\n",
    "        )\n",
    "    \n",
    "    ### Adding and rounding all results stored\n",
    "    res = round(sum(res_lst), 2)\n",
    "    \n",
    "    return res"
   ]
  },
  {
   "cell_type": "code",
   "execution_count": 263,
   "id": "340d2d4b-c323-4832-a521-c3f03b8fb086",
   "metadata": {
    "execution": {
     "iopub.execute_input": "2023-04-17T01:29:11.412643Z",
     "iopub.status.busy": "2023-04-17T01:29:11.412213Z",
     "iopub.status.idle": "2023-04-17T01:29:11.916891Z",
     "shell.execute_reply": "2023-04-17T01:29:11.915996Z",
     "shell.execute_reply.started": "2023-04-17T01:29:11.412609Z"
    },
    "tags": []
   },
   "outputs": [],
   "source": [
    "## Expected profits (present value) for each customer if we don't do anything\n",
    "dfc['exp_pv_profit'] = dfc.apply(\n",
    "    lambda x: status_quo_exp_profit(\n",
    "        sim_periods, \n",
    "        x['revenue'], \n",
    "        0,\n",
    "        x['m2_pred_prob'],\n",
    "        disc_rate,\n",
    "    ), \n",
    "    axis=1\n",
    ")"
   ]
  },
  {
   "cell_type": "code",
   "execution_count": 264,
   "id": "abd662e1-c434-4496-9e94-62508523b64c",
   "metadata": {
    "execution": {
     "iopub.execute_input": "2023-04-17T01:29:12.637633Z",
     "iopub.status.busy": "2023-04-17T01:29:12.637198Z",
     "iopub.status.idle": "2023-04-17T01:29:12.952252Z",
     "shell.execute_reply": "2023-04-17T01:29:12.951332Z",
     "shell.execute_reply.started": "2023-04-17T01:29:12.637599Z"
    },
    "tags": []
   },
   "outputs": [
    {
     "data": {
      "text/plain": [
       "<Axes: ylabel='Frequency'>"
      ]
     },
     "execution_count": 264,
     "metadata": {},
     "output_type": "execute_result"
    },
    {
     "data": {
      "image/png": "[encoded data removed]",
      "text/plain": [
       "<Figure size 432x288 with 1 Axes>"
      ]
     },
     "metadata": {
      "needs_background": "light"
     },
     "output_type": "display_data"
    }
   ],
   "source": [
    "dfc['exp_pv_profit'].plot(kind='hist')"
   ]
  },
  {
   "cell_type": "markdown",
   "id": "4fe4c308-0a6f-45c8-8e8c-496f697432ea",
   "metadata": {
    "tags": []
   },
   "source": [
    "## "
   ]
  },
  {
   "cell_type": "markdown",
   "id": "43ec4ff3-cc0f-415f-9cce-1f46ef738f54",
   "metadata": {
    "tags": []
   },
   "source": [
    "## Profit calculations with intervention"
   ]
  },
  {
   "cell_type": "markdown",
   "id": "64edf2dd-8f39-46d6-ad76-736c656d872d",
   "metadata": {
    "tags": []
   },
   "source": [
    "### Function to estimate the new churn probability with an applied promotion"
   ]
  },
  {
   "cell_type": "code",
   "execution_count": 295,
   "id": "b7c72922-096e-4489-bc98-0037038f56d4",
   "metadata": {
    "execution": {
     "iopub.execute_input": "2023-04-17T01:41:54.401397Z",
     "iopub.status.busy": "2023-04-17T01:41:54.400870Z",
     "iopub.status.idle": "2023-04-17T01:41:54.466708Z",
     "shell.execute_reply": "2023-04-17T01:41:54.465700Z",
     "shell.execute_reply.started": "2023-04-17T01:41:54.401365Z"
    },
    "jupyter": {
     "source_hidden": true
    },
    "tags": []
   },
   "outputs": [],
   "source": [
    "## Function to calculate the churn probability for each incentive\n",
    "def inc_pred_prob(dfc, ftr, prom):\n",
    "    \"\"\"\n",
    "    Function to calculate the churn probability for each incentive\n",
    "    \n",
    "    param dfc (dataframe): dataframe with all customers that are in 1st decile top churners\n",
    "    param ftr (series): series with booleans related to filtering conditions for a give promotion\n",
    "    param prom (string): name of the promotion applied\n",
    "    \n",
    "    return: NaN\n",
    "    \"\"\"\n",
    "    \n",
    "    \n",
    "    ## Creating copy of the row with the modified fields\n",
    "    dfx = dfc.loc[ftr, :].copy()\n",
    "    \n",
    "    \n",
    "    ## Adjusting features based on the promotions applied\n",
    "    \n",
    "    ## Monthly Usage Discount\n",
    "    if prom == 'Monthly Usage Discount':\n",
    "\n",
    "        #### \n",
    "        dfx.loc[ftr, 'mou'] = dfx.loc[ftr, 'mou'].quantile(0.8) \n",
    "    \n",
    "    ## New Phone\n",
    "    elif prom == 'New Phone':\n",
    "    \n",
    "        #### Restarting the number of days of the current equipment\n",
    "        dfx.loc[ftr, 'eqpdays'] = 0\n",
    "\n",
    "        #### Changing to a non refurbished handset\n",
    "        dfx.loc[ftr, 'refurb'] = 0\n",
    "\n",
    "        #### Changing to web capable phone\n",
    "        dfx.loc[ftr, 'webcap'] = 1\n",
    "        \n",
    "        #### Adjusting the price of the handset\n",
    "        dfx.loc[ftr, 'setprc'] = np.maximum(dfx.loc[ftr, 'setprc'], 81.85)\n",
    "        \n",
    "    ## Prune Inactive Users\n",
    "    elif prom == 'Prune Inactive Users':\n",
    "        \n",
    "        #### Adjusting the price of the handset\n",
    "        dfx.loc[ftr, 'setprc'] = dfx.loc[ftr, 'actvsubs']\n",
    "    \n",
    "    \n",
    "    ## Estimating the new churn probability with the new parameters\n",
    "    pp = m2.predict(dfx.loc[ftr, m2f])\n",
    "    \n",
    "    ## Adding the predicted probabilities to the original dataframe\n",
    "    dfc.loc[ftr, 'prom_pred_prob'] = pp\n",
    "    \n",
    "    \n",
    "    return "
   ]
  },
  {
   "cell_type": "markdown",
   "id": "02164772-8a94-4da8-a9e6-5273c5e4807b",
   "metadata": {
    "tags": []
   },
   "source": [
    "### Customer selection criteria for each promotion"
   ]
  },
  {
   "cell_type": "code",
   "execution_count": 299,
   "id": "857c54da-4b46-431e-bbae-c6a93399bfb4",
   "metadata": {
    "execution": {
     "iopub.execute_input": "2023-04-17T01:44:40.386576Z",
     "iopub.status.busy": "2023-04-17T01:44:40.386151Z",
     "iopub.status.idle": "2023-04-17T01:44:40.447752Z",
     "shell.execute_reply": "2023-04-17T01:44:40.446829Z",
     "shell.execute_reply.started": "2023-04-17T01:44:40.386542Z"
    },
    "tags": []
   },
   "outputs": [],
   "source": [
    "## Promotions dictionary\n",
    "proms = {\n",
    "    \n",
    "    \n",
    "    ## Selecting out clients who might have lower churn if they get inactive users removed\n",
    "    'Prune Inactive Users': {\n",
    "        'selection': (dfc['uniqsubs'] - dfc['actvsubs'] > 0)\n",
    "    },\n",
    "    \n",
    "    ## \n",
    "    'Monthly Usage Discount': { \n",
    "        'selection': (dfc['mou'] < dfc['mou'].quantile(0.95))\n",
    "    },\n",
    "    \n",
    "    ## Selecting out clients who might have lower churn if they get a new device\n",
    "    'New Phone': { \n",
    "        'selection': ((dfc['refurb'] == 1) | (dfc['eqpdays'] >= dfc['eqpdays'].quantile(0.75)) | (dfc['webcap'] == 0))\n",
    "    },\n",
    "    \n",
    "}"
   ]
  },
  {
   "cell_type": "code",
   "execution_count": 300,
   "id": "b1f677dd-7511-4e2c-92ff-eb372458d564",
   "metadata": {
    "execution": {
     "iopub.execute_input": "2023-04-17T01:44:40.450653Z",
     "iopub.status.busy": "2023-04-17T01:44:40.450288Z",
     "iopub.status.idle": "2023-04-17T01:44:40.532180Z",
     "shell.execute_reply": "2023-04-17T01:44:40.531024Z",
     "shell.execute_reply.started": "2023-04-17T01:44:40.450623Z"
    },
    "tags": []
   },
   "outputs": [],
   "source": [
    "## Creating empty column that then will be overwritten with the different promotions\n",
    "dfc['prom_sel'] = 'no_promotion'\n",
    "dfc['prom_pred_prob'] = dfc['m2_pred_prob'] \n",
    "\n",
    "## Tagging all customer that fall under a certain promotion selection criteria and calculating new churn probability\n",
    "for prom in proms:\n",
    "    \n",
    "    dfc.loc[proms[prom]['selection'], 'prom_sel'] = prom\n",
    "    \n",
    "    inc_pred_prob(dfc, proms[prom]['selection'], prom)"
   ]
  },
  {
   "cell_type": "code",
   "execution_count": 301,
   "id": "816c498e-80da-4707-a65a-c46249c5ff34",
   "metadata": {
    "execution": {
     "iopub.execute_input": "2023-04-17T01:44:40.534671Z",
     "iopub.status.busy": "2023-04-17T01:44:40.534039Z",
     "iopub.status.idle": "2023-04-17T01:44:40.608547Z",
     "shell.execute_reply": "2023-04-17T01:44:40.606764Z",
     "shell.execute_reply.started": "2023-04-17T01:44:40.534626Z"
    },
    "tags": []
   },
   "outputs": [
    {
     "data": {
      "text/plain": [
       "New Phone                 0.622544\n",
       "Monthly Usage Discount    0.344605\n",
       "no_promotion              0.027375\n",
       "Prune Inactive Users      0.005475\n",
       "Name: prom_sel, dtype: float64"
      ]
     },
     "execution_count": 301,
     "metadata": {},
     "output_type": "execute_result"
    }
   ],
   "source": [
    "dfc['prom_sel'].value_counts(normalize=True)"
   ]
  },
  {
   "cell_type": "code",
   "execution_count": null,
   "id": "b817b16d-52ca-4764-bbe4-3bf069092778",
   "metadata": {},
   "outputs": [],
   "source": [
    "dfc[dfc['prom_sel'] == 'no_promotion']"
   ]
  },
  {
   "cell_type": "markdown",
   "id": "f3750e26-051f-4589-b3ae-1754ddb2b536",
   "metadata": {
    "tags": []
   },
   "source": [
    "### Calculating expected profits related to each intervention"
   ]
  },
  {
   "cell_type": "code",
   "execution_count": 341,
   "id": "e692ba81-4e49-46e4-beb0-7e1282d87a47",
   "metadata": {
    "execution": {
     "iopub.execute_input": "2023-04-17T02:35:48.601712Z",
     "iopub.status.busy": "2023-04-17T02:35:48.601028Z",
     "iopub.status.idle": "2023-04-17T02:35:48.661371Z",
     "shell.execute_reply": "2023-04-17T02:35:48.660402Z",
     "shell.execute_reply.started": "2023-04-17T02:35:48.601677Z"
    },
    "tags": []
   },
   "outputs": [],
   "source": [
    "## Function to calculate expected value for each promotion\n",
    "def prom_exp_profit(periods, revenue, cost, churn_p_sq, churn_p_prom, disc):\n",
    "    \n",
    "    ### List where all the results will be stored\n",
    "    res_lst = []\n",
    "    \n",
    "    ### Iterating over all periods and calculating individual results\n",
    "    for p in np.linspace(0, periods, periods + 1):\n",
    "        \n",
    "        ## Entry for t and t+1\n",
    "        if p <= 1:\n",
    "            res_lst.append(\n",
    "                ((revenue - cost)*(1 - churn_p_prom)**p)*(1 - disc)**p\n",
    "            )\n",
    "        \n",
    "        ## Entries from t+2 onwards\n",
    "        if p > 1:\n",
    "            res_lst.append(\n",
    "                (revenue - cost)*(1*(1 - churn_p_prom)**(1)*(1 - churn_p_sq)**(p - 1))*(1 - disc)**p\n",
    "            )\n",
    "    \n",
    "    ### Adding and rounding all results stored\n",
    "    res = round(sum(res_lst), 2)\n",
    "    \n",
    "    return res"
   ]
  },
  {
   "cell_type": "code",
   "execution_count": 342,
   "id": "5f2214d2-2b0a-4ea2-be49-d04c24b711fe",
   "metadata": {
    "execution": {
     "iopub.execute_input": "2023-04-17T02:35:48.773293Z",
     "iopub.status.busy": "2023-04-17T02:35:48.772615Z",
     "iopub.status.idle": "2023-04-17T02:35:49.360555Z",
     "shell.execute_reply": "2023-04-17T02:35:49.359536Z",
     "shell.execute_reply.started": "2023-04-17T02:35:48.773258Z"
    },
    "tags": []
   },
   "outputs": [],
   "source": [
    "## Expected profits (present value) for each customer if we don't do anything\n",
    "dfc['exp_pv_prom_profit'] = dfc.apply(\n",
    "    lambda x: prom_exp_profit(\n",
    "        sim_periods, \n",
    "        x['revenue'], \n",
    "        0,\n",
    "        x['m2_pred_prob'],\n",
    "        x['prom_pred_prob'],\n",
    "        disc_rate,\n",
    "    ), \n",
    "    axis=1\n",
    ")"
   ]
  },
  {
   "cell_type": "code",
   "execution_count": null,
   "id": "ed2b4f52-6b49-480a-9844-4bf1de7aeae3",
   "metadata": {},
   "outputs": [],
   "source": []
  },
  {
   "cell_type": "markdown",
   "id": "c1fa31b0-2ffb-4daf-959a-a00518f1ab31",
   "metadata": {
    "tags": []
   },
   "source": [
    "# "
   ]
  },
  {
   "cell_type": "markdown",
   "id": "3ef3f8cd-0265-4682-aee4-1867b7ce5e63",
   "metadata": {},
   "source": [
    "# Header"
   ]
  },
  {
   "cell_type": "markdown",
   "id": "784be4db-1c06-43e0-a4da-86b1bbcde318",
   "metadata": {},
   "source": [
    "# *Notes*"
   ]
  },
  {
   "cell_type": "markdown",
   "id": "cd2846a3-afc8-4f27-9756-33c90e769319",
   "metadata": {},
   "source": [
    "### Testing profit calculation algorithm"
   ]
  },
  {
   "cell_type": "code",
   "execution_count": 335,
   "id": "007649eb-9afe-46b8-a81b-45705dab17e1",
   "metadata": {
    "execution": {
     "iopub.execute_input": "2023-04-17T02:34:42.262995Z",
     "iopub.status.busy": "2023-04-17T02:34:42.262549Z",
     "iopub.status.idle": "2023-04-17T02:34:42.326325Z",
     "shell.execute_reply": "2023-04-17T02:34:42.325441Z",
     "shell.execute_reply.started": "2023-04-17T02:34:42.262961Z"
    },
    "tags": []
   },
   "outputs": [
    {
     "name": "stdout",
     "output_type": "stream",
     "text": [
      "0.0\n",
      "1.0\n",
      "2.0\n",
      "3.0\n",
      "4.0\n",
      "5.0\n",
      "6.0\n",
      "[60.0, 54.0, 43.2, 34.56000000000001, 27.648000000000007, 22.118400000000005, 17.694720000000004]\n"
     ]
    },
    {
     "data": {
      "text/plain": [
       "(259.22,)"
      ]
     },
     "execution_count": 335,
     "metadata": {},
     "output_type": "execute_result"
    }
   ],
   "source": [
    "## Expected profits (present value) for each customer if we don't do anything\n",
    "prom_exp_profit(\n",
    "        periods=6, \n",
    "        revenue=100, \n",
    "        cost=40,\n",
    "        churn_p_sq=0.2,\n",
    "        churn_p_prom=0.1,\n",
    "        disc=0.0,\n",
    "    ),"
   ]
  },
  {
   "cell_type": "markdown",
   "id": "b9a7b515-5a39-4689-bab8-4f98527e55d5",
   "metadata": {},
   "source": [
    "### Testing weird behavior calculating predictions"
   ]
  },
  {
   "cell_type": "markdown",
   "id": "5a4337e1-30fa-4292-bf6c-cd13f4640439",
   "metadata": {},
   "source": [
    "#### Model 1"
   ]
  },
  {
   "cell_type": "code",
   "execution_count": null,
   "id": "160a792d-9105-4198-b893-902b1785527e",
   "metadata": {},
   "outputs": [],
   "source": [
    "## Works\n",
    "x = dfm1_test.loc[1099785:1099979, m1f]\n",
    "m1.predict(x)\n",
    "\n",
    "## Doesn't work\n",
    "x = dfm1_test.loc[1099971:1099979, m1f]\n",
    "m1.predict(x)\n",
    "\n",
    "## Doesn't work\n",
    "x = dfm1_test.loc[1099971:1099979, m1f].values\n",
    "m1.predict(x)\n",
    "\n",
    "## Doesn't work\n",
    "x_matrix = sm.add_constant(dfm1_test.loc[1099971:1099979, m1f])\n",
    "m1.predict(x_matrix)"
   ]
  },
  {
   "cell_type": "markdown",
   "id": "1018a251-1d15-4af1-9e76-10694cf5c6d2",
   "metadata": {},
   "source": [
    "#### Model 2"
   ]
  },
  {
   "cell_type": "code",
   "execution_count": null,
   "id": "c0ce8633-fab0-40c2-b9af-bfcec35bd0d5",
   "metadata": {},
   "outputs": [],
   "source": [
    "## Works\n",
    "x = dfm2_test.loc[1099785:1099979, m2f]\n",
    "m2.predict(x)\n",
    "\n",
    "## Doesn't work\n",
    "x = dfm2_test.loc[1099971:1099979, m2f]\n",
    "m2.predict(x)\n",
    "\n",
    "## Doesn't work\n",
    "x = dfm2_test.loc[1099971:1099979, m2f].values\n",
    "m2.predict(x)\n",
    "\n",
    "## Doesn't work\n",
    "x_matrix = sm.add_constant(dfm2_test.loc[1099971:1099979, m2f])\n",
    "m2.predict(x_matrix)"
   ]
  },
  {
   "cell_type": "markdown",
   "id": "19dc1c4e-0486-44bd-ae8f-fe77a49c3633",
   "metadata": {
    "jp-MarkdownHeadingCollapsed": true,
    "tags": []
   },
   "source": [
    "### Old dict"
   ]
  },
  {
   "cell_type": "code",
   "execution_count": null,
   "id": "d351d62d-1626-4bb9-bd7a-6f32c8fa2481",
   "metadata": {
    "tags": []
   },
   "outputs": [],
   "source": [
    "## Promotions dictionary\n",
    "proms = {\n",
    "    \n",
    "    ## Selecting out clients who might have lower churn if they get a customer service call asking them about their service and notifying them of either/both \"block calls from unknown numbers\" setting and referral promotion.\n",
    "    'Customer Service Call': {\n",
    "        'selection': (dfc['m1_pred_prob_grade'] == 1),\n",
    "    },\n",
    "    \n",
    "    ## Selecting out clients who might have lower churn if they get inactive users removed\n",
    "    'Prune Inactive Users': {\n",
    "        'selection': (dfc['m1_pred_prob_grade'] == 1) & (dfc['uniqsubs'] - dfc['actvsubs'] > 0)\n",
    "    },\n",
    "    \n",
    "    ## Selecting out clients who might have lower churn if they get a new device\n",
    "    'New Phone': { # These people are grade 1 churn risks with a refurbished, old, or non-web device\n",
    "        'selection': (dfc['m1_pred_prob_grade'] == 1) & ((dfc['refurb'] == 1) | (dfc['eqpdays'] >= dfc['eqpdays'].quantile(0.75)) | (dfc['webcap'] == 0)),\n",
    "    },\n",
    "}"
   ]
  },
  {
   "cell_type": "markdown",
   "id": "41fd0317-57e3-42ca-88d8-fe67e0877d4f",
   "metadata": {
    "jp-MarkdownHeadingCollapsed": true,
    "tags": []
   },
   "source": [
    "## Model 2\n",
    "### Logistic regression with regularization"
   ]
  },
  {
   "cell_type": "markdown",
   "id": "1b1b9c51-adf8-4cd1-aca5-79b3085caf43",
   "metadata": {
    "tags": []
   },
   "source": [
    "##### Model dataset"
   ]
  },
  {
   "cell_type": "code",
   "execution_count": null,
   "id": "600c2592-fcce-4e7d-ad6b-deb2a367bd8a",
   "metadata": {
    "tags": []
   },
   "outputs": [],
   "source": [
    "dfm2_train = df_train.copy()\n",
    "dfm2_test = df_test.copy()"
   ]
  },
  {
   "cell_type": "markdown",
   "id": "8fe037ec-25d5-4582-b99d-f06acff16d99",
   "metadata": {
    "tags": []
   },
   "source": [
    "##### Model label and features"
   ]
  },
  {
   "cell_type": "code",
   "execution_count": null,
   "id": "dda249a7-3eee-4d27-9562-5e4774f8394a",
   "metadata": {
    "tags": []
   },
   "outputs": [],
   "source": [
    "## Label\n",
    "m2l = 'churndep'\n",
    "\n",
    "## Features\n",
    "m2f = [\n",
    "    # 'calibrat',\n",
    "    # 'churn',\n",
    "    # 'churndep',\n",
    "    'revenue',\n",
    "    'mou',\n",
    "    'recchrge',\n",
    "    'directas',\n",
    "    'overage',\n",
    "    'roam',\n",
    "    'changem',\n",
    "    'changer',\n",
    "    'dropvce',\n",
    "    'blckvce',\n",
    "    'unansvce',\n",
    "    'custcare',\n",
    "    'threeway',\n",
    "    'mourec',\n",
    "    'outcalls',\n",
    "    'incalls',\n",
    "    'peakvce',\n",
    "    'opeakvce',\n",
    "    'dropblk',\n",
    "    'callfwdv',\n",
    "    'callwait',\n",
    "    'months',\n",
    "    'uniqsubs',\n",
    "    'actvsubs',\n",
    "    'phones',\n",
    "    'models',\n",
    "    'eqpdays',\n",
    "    'age1',\n",
    "    'age2',\n",
    "    'children',\n",
    "    'credita',\n",
    "    'creditaa',\n",
    "    'prizmrur',\n",
    "    'prizmub',\n",
    "    'prizmtwn',\n",
    "    'refurb',\n",
    "    'webcap',\n",
    "    'truck',\n",
    "    'rv',\n",
    "    'occprof',\n",
    "    'occcler',\n",
    "    'occcrft',\n",
    "    'occstud',\n",
    "    'occhmkr',\n",
    "    'occret',\n",
    "    'occself',\n",
    "    'ownrent',\n",
    "    'marryun',\n",
    "    'marryyes',\n",
    "    'mailord',\n",
    "    'mailres',\n",
    "    'mailflag',\n",
    "    'travel',\n",
    "    'pcown',\n",
    "    'creditcd',\n",
    "    'retcalls',\n",
    "    'retaccpt',\n",
    "    'newcelly',\n",
    "    'newcelln',\n",
    "    'refer',\n",
    "    'incmiss',\n",
    "    'income',\n",
    "    'mcycle',\n",
    "    'setprcm',\n",
    "    'setprc',\n",
    "    'retcall',\n",
    "    'rec_ntile',\n",
    "    'freq_ntile',\n",
    "    'mon_ntile',\n",
    "]"
   ]
  },
  {
   "cell_type": "markdown",
   "id": "6ca7cddc-72d8-47d0-82e7-4734115337a0",
   "metadata": {
    "tags": []
   },
   "source": [
    "##### Model training"
   ]
  },
  {
   "cell_type": "code",
   "execution_count": null,
   "id": "e99fa1e3-781a-41e9-bf68-da75b6038e3a",
   "metadata": {
    "tags": []
   },
   "outputs": [],
   "source": [
    "m2 = logit_reg(\n",
    "    a=dfm2_train[m2l],\n",
    "    b=dfm2_train[m2f],\n",
    "    alpha=3,\n",
    ")"
   ]
  },
  {
   "cell_type": "markdown",
   "id": "1f428879-d176-4dae-be98-c5df135b3dd9",
   "metadata": {
    "tags": []
   },
   "source": [
    "##### Model coefficients"
   ]
  },
  {
   "cell_type": "code",
   "execution_count": null,
   "id": "d836a0e5-2d46-4c63-ace1-6a2972a77954",
   "metadata": {
    "scrolled": true,
    "tags": []
   },
   "outputs": [],
   "source": [
    "m2.summary()"
   ]
  },
  {
   "cell_type": "code",
   "execution_count": null,
   "id": "4f9832a2-51ff-4bd9-a78a-51a517017320",
   "metadata": {
    "scrolled": true,
    "tags": []
   },
   "outputs": [],
   "source": [
    "dfm2_or = odds_ratios(m2)\n",
    "dfm2_or"
   ]
  },
  {
   "cell_type": "markdown",
   "id": "1a05cdab-586f-4df7-b566-e345668d8724",
   "metadata": {
    "tags": []
   },
   "source": [
    "##### Features selection"
   ]
  },
  {
   "cell_type": "code",
   "execution_count": null,
   "id": "0df4692b-9533-469f-afab-731836d281e4",
   "metadata": {
    "tags": []
   },
   "outputs": [],
   "source": [
    "## Adding the standard deviation column to the odds ratios dataframe\n",
    "dfm2_or = dfm2_or.join(\n",
    "    dfi.loc[:, 'std']\n",
    ")\n",
    "\n",
    "## Operation between resulting odds ratios and standard deviation\n",
    "dfm2_or['or**std'] = dfm2_or['Odds ratios']**dfm2_or['std']\n",
    "\n",
    "## Calculating absolute difference between resulting column and 1\n",
    "dfm2_or['diff_or**std'] = abs(1 - dfm2_or['or**std'])\n",
    "\n",
    "## Ranking results\n",
    "dfm2_or['rank'] = dfm2_or['diff_or**std'].rank(ascending=False)\n",
    "dfm2_or.sort_values(by='rank', inplace=True, ascending=True)"
   ]
  },
  {
   "cell_type": "markdown",
   "id": "aecec74b-55aa-42cb-8d66-daecfe4b63c0",
   "metadata": {
    "tags": []
   },
   "source": [
    "##### Predictions"
   ]
  },
  {
   "cell_type": "code",
   "execution_count": null,
   "id": "bd3a5ff9-552a-40e1-8b3f-2b6f823cf5e1",
   "metadata": {
    "tags": []
   },
   "outputs": [],
   "source": [
    "## Churn predicted probability\n",
    "dfm2_test['m2_pred_prob'] = m2.predict(dfm2_test[m2f])\n",
    "\n",
    "## Classifying churners in groups\n",
    "dfm2_test['m2_pred_prob_grade'] = 10 - ntile(dfm2_test['m2_pred_prob'], 10)"
   ]
  },
  {
   "cell_type": "markdown",
   "id": "d157d45a-7d27-4642-b5c8-6ea60ae5c02e",
   "metadata": {
    "tags": []
   },
   "source": [
    "##### "
   ]
  },
  {
   "cell_type": "markdown",
   "id": "a379ec2e-9dd9-4a44-85c2-7276eee173e2",
   "metadata": {
    "jp-MarkdownHeadingCollapsed": true,
    "tags": []
   },
   "source": [
    "## Model 3\n",
    "### Logistic regression with features selected from model 1"
   ]
  },
  {
   "cell_type": "markdown",
   "id": "702eabd4-9f55-4194-9e4c-0d91578d6c50",
   "metadata": {
    "tags": []
   },
   "source": [
    "##### Model dataset"
   ]
  },
  {
   "cell_type": "code",
   "execution_count": null,
   "id": "3d130657-fea3-4f00-91b8-5aa035ed00bd",
   "metadata": {
    "tags": []
   },
   "outputs": [],
   "source": [
    "dfm3_train = df_train.copy()\n",
    "dfm3_test = df_test.copy()"
   ]
  },
  {
   "cell_type": "markdown",
   "id": "5f6398d3-f3b0-4186-a345-c2358e056612",
   "metadata": {
    "tags": []
   },
   "source": [
    "##### Model label and features"
   ]
  },
  {
   "cell_type": "code",
   "execution_count": null,
   "id": "dc14b8ba-8f46-48aa-94b3-5bd72c475a48",
   "metadata": {
    "tags": []
   },
   "outputs": [],
   "source": [
    "## Label\n",
    "m3l = 'churndep'\n",
    "\n",
    "## Features\n",
    "m3f = [\n",
    "    # 'calibrat',\n",
    "    # 'churn',\n",
    "    # 'churndep',\n",
    "    # 'revenue',\n",
    "    'mou',\n",
    "    # 'recchrge',\n",
    "    # 'directas',\n",
    "    # 'overage',\n",
    "    # 'roam',\n",
    "    'changem',\n",
    "    'changer',\n",
    "    'dropvce',\n",
    "    # 'blckvce',\n",
    "    # 'unansvce',\n",
    "    # 'custcare',\n",
    "    # 'threeway',\n",
    "    # 'mourec',\n",
    "    # 'outcalls',\n",
    "    # 'incalls',\n",
    "    # 'peakvce',\n",
    "    # 'opeakvce',\n",
    "    # 'dropblk',\n",
    "    # 'callfwdv',\n",
    "    # 'callwait',\n",
    "    'months',\n",
    "    'uniqsubs',\n",
    "    'actvsubs',\n",
    "    # 'phones',\n",
    "    # 'models',\n",
    "    'eqpdays',\n",
    "    # 'age1',\n",
    "    # 'age2',\n",
    "    # 'children',\n",
    "    # 'credita',\n",
    "    'creditaa',\n",
    "    # 'prizmrur',\n",
    "    # 'prizmub',\n",
    "    # 'prizmtwn',\n",
    "    # 'refurb',\n",
    "    # 'webcap',\n",
    "    # 'truck',\n",
    "    # 'rv',\n",
    "    # 'occprof',\n",
    "    # 'occcler',\n",
    "    # 'occcrft',\n",
    "    # 'occstud',\n",
    "    # 'occhmkr',\n",
    "    # 'occret',\n",
    "    # 'occself',\n",
    "    # 'ownrent',\n",
    "    # 'marryun',\n",
    "    # 'marryyes',\n",
    "    # 'mailord',\n",
    "    # 'mailres',\n",
    "    # 'mailflag',\n",
    "    # 'travel',\n",
    "    # 'pcown',\n",
    "    # 'creditcd',\n",
    "    # 'retcalls',\n",
    "    # 'retaccpt',\n",
    "    # 'newcelly',\n",
    "    # 'newcelln',\n",
    "    # 'refer',\n",
    "    # 'incmiss',\n",
    "    # 'income',\n",
    "    # 'mcycle',\n",
    "    # 'setprcm',\n",
    "    # 'setprc',\n",
    "    'retcall',\n",
    "    # 'rec_ntile',\n",
    "    # 'freq_ntile',\n",
    "    # 'mon_ntile',\n",
    "]"
   ]
  },
  {
   "cell_type": "markdown",
   "id": "887f7af3-f452-42e9-8cc0-787d1e66a0ff",
   "metadata": {
    "tags": []
   },
   "source": [
    "##### Model training"
   ]
  },
  {
   "cell_type": "code",
   "execution_count": null,
   "id": "005d13ea-f496-424d-a454-af5f1ffe9b23",
   "metadata": {
    "tags": []
   },
   "outputs": [],
   "source": [
    "m3 = logit_reg(\n",
    "    a=dfm3_train[m3l],\n",
    "    b=dfm3_train[m3f],\n",
    "    alpha=0,\n",
    ")"
   ]
  },
  {
   "cell_type": "markdown",
   "id": "02c36415-0928-4afe-8d9c-85bc659c8986",
   "metadata": {
    "tags": []
   },
   "source": [
    "##### Model coefficients"
   ]
  },
  {
   "cell_type": "code",
   "execution_count": null,
   "id": "9bcd219a-0d9d-46f6-af61-e5e3f748a8f0",
   "metadata": {
    "scrolled": true,
    "tags": []
   },
   "outputs": [],
   "source": [
    "m3.summary()"
   ]
  },
  {
   "cell_type": "code",
   "execution_count": null,
   "id": "269d0be6-2841-4405-8f01-7b25aec35a4c",
   "metadata": {
    "scrolled": true,
    "tags": []
   },
   "outputs": [],
   "source": [
    "odds_ratios(m3)"
   ]
  },
  {
   "cell_type": "markdown",
   "id": "0ecd36fe-f27b-46ff-9824-aec3058fd34c",
   "metadata": {
    "tags": []
   },
   "source": [
    "##### Model predictions"
   ]
  },
  {
   "cell_type": "code",
   "execution_count": null,
   "id": "b3f5e927-8273-4531-8027-ddd31a4d169a",
   "metadata": {
    "tags": []
   },
   "outputs": [],
   "source": [
    "## Churn predicted probability\n",
    "dfm3_test['m3_pred_prob'] = m3.predict(dfm3_test[m3f])\n",
    "\n",
    "## Classifying churners in groups\n",
    "dfm3_test['m3_pred_prob_grade'] = 10 - ntile(dfm3_test['m3_pred_prob'], 10)"
   ]
  },
  {
   "cell_type": "markdown",
   "id": "b9989e45-be55-4485-a25b-e4aad8ae1ad4",
   "metadata": {},
   "source": [
    "## "
   ]
  },
  {
   "cell_type": "markdown",
   "id": "b34c662c-f724-412f-86d7-75647d9b5448",
   "metadata": {},
   "source": [
    "---"
   ]
  },
  {
   "cell_type": "markdown",
   "id": "168089c7-257b-4b61-9a65-803e32753196",
   "metadata": {},
   "source": [
    "---"
   ]
  }
 ],
 "metadata": {
  "kernelspec": {
   "display_name": "Python 3 (ipykernel)",
   "language": "python",
   "name": "python3"
  },
  "language_info": {
   "codemirror_mode": {
    "name": "ipython",
    "version": 3
   },
   "file_extension": ".py",
   "mimetype": "text/x-python",
   "name": "python",
   "nbconvert_exporter": "python",
   "pygments_lexer": "ipython3",
   "version": "3.9.1"
  },
  "toc-autonumbering": true,
  "toc-showcode": false,
  "toc-showmarkdowntxt": false,
  "toc-showtags": false
 },
 "nbformat": 4,
 "nbformat_minor": 5
}

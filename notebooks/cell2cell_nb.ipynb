{
 "cells": [
  {
   "cell_type": "markdown",
   "id": "82c1d7a8-d74e-45e1-8937-264331e6d38a",
   "metadata": {},
   "source": [
    "# Cell 2 cell game assignment"
   ]
  },
  {
   "cell_type": "markdown",
   "id": "fd3103f5-1f01-42fe-b72e-7d113f81e37c",
   "metadata": {},
   "source": [
    "---"
   ]
  },
  {
   "cell_type": "markdown",
   "id": "5e63fc46-f231-4ce8-885d-2cbe620b6d57",
   "metadata": {
    "tags": []
   },
   "source": [
    "# "
   ]
  },
  {
   "cell_type": "markdown",
   "id": "4154f37d-fde6-4cef-8617-114a3a2d7d8e",
   "metadata": {},
   "source": [
    "# Imports"
   ]
  },
  {
   "cell_type": "markdown",
   "id": "a98dbaa6-17e1-4b79-93f0-d142aedd0037",
   "metadata": {},
   "source": [
    "#### Standard library imports"
   ]
  },
  {
   "cell_type": "code",
   "execution_count": 10,
   "id": "63099808-51cd-453c-976a-f3060b8650aa",
   "metadata": {
    "execution": {
     "iopub.execute_input": "2023-04-13T02:56:08.077392Z",
     "iopub.status.busy": "2023-04-13T02:56:08.073970Z",
     "iopub.status.idle": "2023-04-13T02:56:08.247928Z",
     "shell.execute_reply": "2023-04-13T02:56:08.246559Z",
     "shell.execute_reply.started": "2023-04-13T02:56:08.077291Z"
    },
    "tags": []
   },
   "outputs": [],
   "source": [
    "import sys\n",
    "sys.path.append(\"../\")\n",
    "\n",
    "import os"
   ]
  },
  {
   "cell_type": "markdown",
   "id": "b94ec94d-0d78-4ec3-a21c-353ccf52eec6",
   "metadata": {},
   "source": [
    "#### Third party imports"
   ]
  },
  {
   "cell_type": "code",
   "execution_count": 11,
   "id": "9e4989d0-ba3a-41cf-8ccb-44cade842a03",
   "metadata": {
    "execution": {
     "iopub.execute_input": "2023-04-13T02:56:08.254304Z",
     "iopub.status.busy": "2023-04-13T02:56:08.252952Z",
     "iopub.status.idle": "2023-04-13T02:56:08.332759Z",
     "shell.execute_reply": "2023-04-13T02:56:08.331778Z",
     "shell.execute_reply.started": "2023-04-13T02:56:08.254269Z"
    },
    "tags": []
   },
   "outputs": [],
   "source": [
    "import pandas as pd\n",
    "pd.set_option('display.max_columns', None)\n",
    "pd.set_option('display.max_rows', 70)\n",
    "import plotly.express as px\n",
    "import matplotlib.pyplot as plt\n",
    "# from sklearn import metrics\n",
    "import plotly.graph_objects as go\n",
    "import numpy as np"
   ]
  },
  {
   "cell_type": "markdown",
   "id": "48755fa3-cba0-4508-9df2-18d50f60551b",
   "metadata": {
    "tags": []
   },
   "source": [
    "#### Local application imports"
   ]
  },
  {
   "cell_type": "code",
   "execution_count": 12,
   "id": "a62e34a6-dea0-48d6-a3bc-c5dcdcdb1718",
   "metadata": {
    "execution": {
     "iopub.execute_input": "2023-04-13T02:56:08.336061Z",
     "iopub.status.busy": "2023-04-13T02:56:08.334530Z",
     "iopub.status.idle": "2023-04-13T02:56:08.433224Z",
     "shell.execute_reply": "2023-04-13T02:56:08.432155Z",
     "shell.execute_reply.started": "2023-04-13T02:56:08.336025Z"
    },
    "tags": []
   },
   "outputs": [
    {
     "name": "stdout",
     "output_type": "stream",
     "text": [
      "The autoreload extension is already loaded. To reload it, use:\n",
      "  %reload_ext autoreload\n"
     ]
    }
   ],
   "source": [
    "%load_ext autoreload\n",
    "%autoreload 2\n",
    "\n",
    "from pkg_dir.config import *\n",
    "from pkg_dir.src.utils import *\n",
    "from pkg_dir.src.functions import *\n",
    "from pkg_dir.src.parameters import *"
   ]
  },
  {
   "cell_type": "markdown",
   "id": "419fea39-e697-4807-bf44-e115f943ea5c",
   "metadata": {
    "tags": []
   },
   "source": [
    "# "
   ]
  },
  {
   "cell_type": "markdown",
   "id": "d533fe5d-c902-4259-97ee-672d6f2363c6",
   "metadata": {
    "tags": []
   },
   "source": [
    "# Loading data"
   ]
  },
  {
   "cell_type": "code",
   "execution_count": 4,
   "id": "ecb1b8ad-6a65-4fa5-aee4-4d844e50ba12",
   "metadata": {
    "execution": {
     "iopub.execute_input": "2023-04-13T02:51:02.828719Z",
     "iopub.status.busy": "2023-04-13T02:51:02.828278Z",
     "iopub.status.idle": "2023-04-13T02:51:02.882550Z",
     "shell.execute_reply": "2023-04-13T02:51:02.881469Z",
     "shell.execute_reply.started": "2023-04-13T02:51:02.828689Z"
    }
   },
   "outputs": [],
   "source": [
    "data_path = '../pkg_dir/data/cell2cell.csv'"
   ]
  },
  {
   "cell_type": "code",
   "execution_count": 5,
   "id": "5ae38b2c-0a7d-4716-8f06-5bfebde4d026",
   "metadata": {
    "execution": {
     "iopub.execute_input": "2023-04-13T02:51:02.884316Z",
     "iopub.status.busy": "2023-04-13T02:51:02.883761Z",
     "iopub.status.idle": "2023-04-13T02:51:03.493485Z",
     "shell.execute_reply": "2023-04-13T02:51:03.492581Z",
     "shell.execute_reply.started": "2023-04-13T02:51:02.884282Z"
    },
    "tags": []
   },
   "outputs": [],
   "source": [
    "dfr = pd.read_csv(data_path)"
   ]
  },
  {
   "cell_type": "markdown",
   "id": "8ddfa2c2-3488-4e8d-b18a-14ba4f171049",
   "metadata": {
    "tags": []
   },
   "source": [
    "# "
   ]
  },
  {
   "cell_type": "markdown",
   "id": "853ce8f3-8d1d-4e20-ba54-4e29fa21c7ff",
   "metadata": {
    "tags": []
   },
   "source": [
    "# Initial data wrangling"
   ]
  },
  {
   "cell_type": "markdown",
   "id": "099dde80-a4d5-4df4-88a9-0f7afb58895f",
   "metadata": {},
   "source": [
    "##### Adding RFM variables"
   ]
  },
  {
   "cell_type": "code",
   "execution_count": 8,
   "id": "546cd442-1d7c-448f-a0a6-959979f65670",
   "metadata": {
    "execution": {
     "iopub.execute_input": "2023-04-13T02:53:00.560374Z",
     "iopub.status.busy": "2023-04-13T02:53:00.559899Z",
     "iopub.status.idle": "2023-04-13T02:53:01.780712Z",
     "shell.execute_reply": "2023-04-13T02:53:01.779590Z",
     "shell.execute_reply.started": "2023-04-13T02:53:00.560326Z"
    },
    "tags": []
   },
   "outputs": [],
   "source": [
    "## RFM variables\n",
    "num_tiles = 10\n",
    "dfr['rec_ntile'] = mba263.ntile(dfr['eqpdays'], num_tiles)\n",
    "dfr['freq_ntile'] = num_tiles - 1 - mba263.ntile(dfr['mou'], num_tiles)\n",
    "dfr['mon_ntile'] = num_tiles - 1 - mba263.ntile(dfr['recchrge'], num_tiles)"
   ]
  },
  {
   "cell_type": "markdown",
   "id": "14345c6a-65e6-4e7e-beee-c022a4c2acb9",
   "metadata": {
    "tags": []
   },
   "source": [
    "##### Setting the client ID as index"
   ]
  },
  {
   "cell_type": "code",
   "execution_count": 9,
   "id": "02a0d4fd-1466-49c3-a8a3-cdf3a44e3c60",
   "metadata": {
    "execution": {
     "iopub.execute_input": "2023-04-13T02:53:01.783577Z",
     "iopub.status.busy": "2023-04-13T02:53:01.783197Z",
     "iopub.status.idle": "2023-04-13T02:53:04.261620Z",
     "shell.execute_reply": "2023-04-13T02:53:04.259937Z",
     "shell.execute_reply.started": "2023-04-13T02:53:01.783544Z"
    },
    "tags": []
   },
   "outputs": [
    {
     "ename": "KeyError",
     "evalue": "\"None of ['customer'] are in the columns\"",
     "output_type": "error",
     "traceback": [
      "\u001b[0;31m---------------------------------------------------------------------------\u001b[0m",
      "\u001b[0;31mKeyError\u001b[0m                                  Traceback (most recent call last)",
      "Input \u001b[0;32mIn [9]\u001b[0m, in \u001b[0;36m<cell line: 1>\u001b[0;34m()\u001b[0m\n\u001b[0;32m----> 1\u001b[0m \u001b[43mdfr\u001b[49m\u001b[38;5;241;43m.\u001b[39;49m\u001b[43mset_index\u001b[49m\u001b[43m(\u001b[49m\u001b[38;5;124;43m'\u001b[39;49m\u001b[38;5;124;43mcustomer\u001b[39;49m\u001b[38;5;124;43m'\u001b[39;49m\u001b[43m,\u001b[49m\u001b[43m \u001b[49m\u001b[43minplace\u001b[49m\u001b[38;5;241;43m=\u001b[39;49m\u001b[38;5;28;43;01mTrue\u001b[39;49;00m\u001b[43m)\u001b[49m\n",
      "File \u001b[0;32m~/Documents/educacion/maestria/berkeley_mba_meng/academics/2023_spring/marketing_analytics/repos/marketing_analytics_cell2cell/.venv/lib/python3.9/site-packages/pandas/util/_decorators.py:311\u001b[0m, in \u001b[0;36mdeprecate_nonkeyword_arguments.<locals>.decorate.<locals>.wrapper\u001b[0;34m(*args, **kwargs)\u001b[0m\n\u001b[1;32m    305\u001b[0m \u001b[38;5;28;01mif\u001b[39;00m \u001b[38;5;28mlen\u001b[39m(args) \u001b[38;5;241m>\u001b[39m num_allow_args:\n\u001b[1;32m    306\u001b[0m     warnings\u001b[38;5;241m.\u001b[39mwarn(\n\u001b[1;32m    307\u001b[0m         msg\u001b[38;5;241m.\u001b[39mformat(arguments\u001b[38;5;241m=\u001b[39marguments),\n\u001b[1;32m    308\u001b[0m         \u001b[38;5;167;01mFutureWarning\u001b[39;00m,\n\u001b[1;32m    309\u001b[0m         stacklevel\u001b[38;5;241m=\u001b[39mstacklevel,\n\u001b[1;32m    310\u001b[0m     )\n\u001b[0;32m--> 311\u001b[0m \u001b[38;5;28;01mreturn\u001b[39;00m \u001b[43mfunc\u001b[49m\u001b[43m(\u001b[49m\u001b[38;5;241;43m*\u001b[39;49m\u001b[43margs\u001b[49m\u001b[43m,\u001b[49m\u001b[43m \u001b[49m\u001b[38;5;241;43m*\u001b[39;49m\u001b[38;5;241;43m*\u001b[39;49m\u001b[43mkwargs\u001b[49m\u001b[43m)\u001b[49m\n",
      "File \u001b[0;32m~/Documents/educacion/maestria/berkeley_mba_meng/academics/2023_spring/marketing_analytics/repos/marketing_analytics_cell2cell/.venv/lib/python3.9/site-packages/pandas/core/frame.py:5494\u001b[0m, in \u001b[0;36mDataFrame.set_index\u001b[0;34m(self, keys, drop, append, inplace, verify_integrity)\u001b[0m\n\u001b[1;32m   5491\u001b[0m                 missing\u001b[38;5;241m.\u001b[39mappend(col)\n\u001b[1;32m   5493\u001b[0m \u001b[38;5;28;01mif\u001b[39;00m missing:\n\u001b[0;32m-> 5494\u001b[0m     \u001b[38;5;28;01mraise\u001b[39;00m \u001b[38;5;167;01mKeyError\u001b[39;00m(\u001b[38;5;124mf\u001b[39m\u001b[38;5;124m\"\u001b[39m\u001b[38;5;124mNone of \u001b[39m\u001b[38;5;132;01m{\u001b[39;00mmissing\u001b[38;5;132;01m}\u001b[39;00m\u001b[38;5;124m are in the columns\u001b[39m\u001b[38;5;124m\"\u001b[39m)\n\u001b[1;32m   5496\u001b[0m \u001b[38;5;28;01mif\u001b[39;00m inplace:\n\u001b[1;32m   5497\u001b[0m     frame \u001b[38;5;241m=\u001b[39m \u001b[38;5;28mself\u001b[39m\n",
      "\u001b[0;31mKeyError\u001b[0m: \"None of ['customer'] are in the columns\""
     ]
    }
   ],
   "source": [
    "dfr.set_index('customer', inplace=True)"
   ]
  },
  {
   "cell_type": "markdown",
   "id": "0b8ce11a-a887-4124-8273-c3e99813a81e",
   "metadata": {},
   "source": [
    "##### Splitting train and test data"
   ]
  },
  {
   "cell_type": "code",
   "execution_count": null,
   "id": "245e06d7-95d5-4089-afcb-334ced8786be",
   "metadata": {
    "execution": {
     "iopub.status.busy": "2023-04-13T02:53:04.262504Z",
     "iopub.status.idle": "2023-04-13T02:53:04.263104Z",
     "shell.execute_reply": "2023-04-13T02:53:04.262877Z",
     "shell.execute_reply.started": "2023-04-13T02:53:04.262852Z"
    },
    "scrolled": true,
    "tags": []
   },
   "outputs": [],
   "source": [
    "## Creating new dataframes based on `calibrat` field\n",
    "df_train = dfr[dfr['calibrat'] == 1].copy()\n",
    "df_test = dfr[dfr['calibrat'] == 0].copy()\n",
    "\n",
    "## Dropping `calibrat` field\n",
    "df_train.drop(['calibrat'], axis=1, inplace=True)\n",
    "df_test.drop(['calibrat'], axis=1, inplace=True)"
   ]
  },
  {
   "cell_type": "markdown",
   "id": "e3f78683-360d-4301-8aca-1732b3d4634c",
   "metadata": {
    "tags": []
   },
   "source": [
    "# "
   ]
  },
  {
   "cell_type": "markdown",
   "id": "11ee92b2-e6b0-4575-bb08-bb05c0294e8e",
   "metadata": {
    "tags": []
   },
   "source": [
    "# Data exploration"
   ]
  },
  {
   "cell_type": "markdown",
   "id": "863d7e36-fb17-44db-8955-491764cbaa66",
   "metadata": {
    "tags": []
   },
   "source": [
    "##### Saving summary statistics about the data as dataframe"
   ]
  },
  {
   "cell_type": "code",
   "execution_count": null,
   "id": "e581fefc-39af-4c9d-be92-0ce08b99d252",
   "metadata": {
    "tags": []
   },
   "outputs": [],
   "source": [
    "dfi = dfr.describe().T\n",
    "dfi.drop(['25%', '50%', '75%'], axis=1, inplace=True)"
   ]
  },
  {
   "cell_type": "markdown",
   "id": "971c044e-7924-4da7-a45a-73a87f9127ca",
   "metadata": {
    "tags": []
   },
   "source": [
    "##### Evaluating number of labels in train and test set"
   ]
  },
  {
   "cell_type": "code",
   "execution_count": null,
   "id": "fa628f61-f081-4eb4-9026-0b20f8e47a4c",
   "metadata": {
    "tags": []
   },
   "outputs": [],
   "source": [
    "pd.concat(\n",
    "    [\n",
    "        dfr.groupby(\n",
    "            [\n",
    "                'calibrat',\n",
    "                'churn',\n",
    "            ]\n",
    "        ).agg(\n",
    "            count=('calibrat', 'count')\n",
    "        ),  \n",
    "        dfr.groupby(\n",
    "            [\n",
    "                'calibrat',\n",
    "            ]\n",
    "        )['churn'].value_counts(normalize=True).to_frame()\n",
    "    ],\n",
    "    axis=1\n",
    ")\n"
   ]
  },
  {
   "cell_type": "markdown",
   "id": "84f622d6-9769-4a26-8a17-b8fb7e6c04e1",
   "metadata": {
    "jp-MarkdownHeadingCollapsed": true,
    "tags": []
   },
   "source": [
    "##### Understanding the `churndep` variable"
   ]
  },
  {
   "cell_type": "code",
   "execution_count": null,
   "id": "b3b8f1d0-2155-4183-8ee3-7c20a09c75c0",
   "metadata": {},
   "outputs": [],
   "source": [
    "dfr['calibrat'].value_counts()"
   ]
  },
  {
   "cell_type": "code",
   "execution_count": null,
   "id": "b40fdcd5-99b6-4f87-a8c8-f4cb8ab4baea",
   "metadata": {},
   "outputs": [],
   "source": [
    "dfr['churndep'].value_counts()"
   ]
  },
  {
   "cell_type": "code",
   "execution_count": null,
   "id": "c7d52fa1-bc12-4c2d-92b0-681bece8bc36",
   "metadata": {
    "tags": []
   },
   "outputs": [],
   "source": [
    "dfr.groupby(\n",
    "    [\n",
    "        'calibrat',\n",
    "        'churndep',\n",
    "    ]\n",
    ").agg(\n",
    "    count=('calibrat', 'count')\n",
    ")"
   ]
  },
  {
   "cell_type": "markdown",
   "id": "ad5780a1-84aa-441b-821f-8b49a6b60d80",
   "metadata": {
    "tags": []
   },
   "source": [
    "##### Seeking correlations among variables"
   ]
  },
  {
   "cell_type": "raw",
   "id": "3ec8de4b-fb11-470a-954e-40ec95e5bb2e",
   "metadata": {},
   "source": [
    "wip"
   ]
  },
  {
   "cell_type": "markdown",
   "id": "ec7212df-8292-4446-9179-6ea2c74609bf",
   "metadata": {
    "tags": []
   },
   "source": [
    "# "
   ]
  },
  {
   "cell_type": "markdown",
   "id": "086699c7-ba8b-45ae-9ad2-67ff004259af",
   "metadata": {
    "tags": []
   },
   "source": [
    "# Manual models"
   ]
  },
  {
   "cell_type": "markdown",
   "id": "e45edc61-47e6-4368-8a86-c9b70671f717",
   "metadata": {
    "tags": []
   },
   "source": [
    "##### "
   ]
  },
  {
   "cell_type": "markdown",
   "id": "097abdf3-a19f-4fe9-b33f-d6646139b814",
   "metadata": {
    "tags": []
   },
   "source": [
    "## Model 1\n",
    "### Logistic regression without RFM variables"
   ]
  },
  {
   "cell_type": "markdown",
   "id": "a8e1c03d-b470-4251-8999-8505cf3d6f43",
   "metadata": {
    "tags": []
   },
   "source": [
    "##### Model dataset"
   ]
  },
  {
   "cell_type": "code",
   "execution_count": null,
   "id": "a193312e-2304-4f57-bc28-6e0f0e11ed0b",
   "metadata": {
    "tags": []
   },
   "outputs": [],
   "source": [
    "dfm1_train = df_train.copy()\n",
    "dfm1_test = df_test.copy()"
   ]
  },
  {
   "cell_type": "markdown",
   "id": "46b8d875-84a3-4780-aa63-68026f001bd6",
   "metadata": {
    "jp-MarkdownHeadingCollapsed": true,
    "tags": []
   },
   "source": [
    "##### Model label and features"
   ]
  },
  {
   "cell_type": "code",
   "execution_count": null,
   "id": "f02454c4-ca67-4b33-88b3-6a224f8b88e4",
   "metadata": {
    "tags": []
   },
   "outputs": [],
   "source": [
    "## Label\n",
    "m1l = 'churndep'\n",
    "\n",
    "## Features\n",
    "m1f = [\n",
    "    # 'calibrat',\n",
    "    # 'churn',\n",
    "    # 'churndep',\n",
    "    'revenue',\n",
    "    'mou',\n",
    "    'recchrge',\n",
    "    'directas',\n",
    "    'overage',\n",
    "    'roam',\n",
    "    'changem',\n",
    "    'changer',\n",
    "    'dropvce',\n",
    "    'blckvce',\n",
    "    'unansvce',\n",
    "    'custcare',\n",
    "    'threeway',\n",
    "    'mourec',\n",
    "    'outcalls',\n",
    "    'incalls',\n",
    "    'peakvce',\n",
    "    'opeakvce',\n",
    "    'dropblk',\n",
    "    'callfwdv',\n",
    "    'callwait',\n",
    "    'months',\n",
    "    'uniqsubs',\n",
    "    'actvsubs',\n",
    "    'phones',\n",
    "    'models',\n",
    "    'eqpdays',\n",
    "    'age1',\n",
    "    'age2',\n",
    "    'children',\n",
    "    'credita',\n",
    "    'creditaa',\n",
    "    'prizmrur',\n",
    "    'prizmub',\n",
    "    'prizmtwn',\n",
    "    'refurb',\n",
    "    'webcap',\n",
    "    'truck',\n",
    "    'rv',\n",
    "    'occprof',\n",
    "    'occcler',\n",
    "    'occcrft',\n",
    "    'occstud',\n",
    "    'occhmkr',\n",
    "    'occret',\n",
    "    'occself',\n",
    "    'ownrent',\n",
    "    'marryun',\n",
    "    'marryyes',\n",
    "    'mailord',\n",
    "    'mailres',\n",
    "    'mailflag',\n",
    "    'travel',\n",
    "    'pcown',\n",
    "    'creditcd',\n",
    "    'retcalls',\n",
    "    'retaccpt',\n",
    "    'newcelly',\n",
    "    'newcelln',\n",
    "    'refer',\n",
    "    'incmiss',\n",
    "    'income',\n",
    "    'mcycle',\n",
    "    'setprcm',\n",
    "    'setprc',\n",
    "    'retcall',\n",
    "    # 'rec_ntile',\n",
    "    # 'freq_ntile',\n",
    "    # 'mon_ntile',\n",
    "]"
   ]
  },
  {
   "cell_type": "markdown",
   "id": "0d401701-b9ac-4bc7-86d7-0fe4b66312eb",
   "metadata": {
    "tags": []
   },
   "source": [
    "##### Model training"
   ]
  },
  {
   "cell_type": "code",
   "execution_count": null,
   "id": "e936e725-cb95-4309-be69-ffb2914b89bf",
   "metadata": {
    "tags": []
   },
   "outputs": [],
   "source": [
    "m1 = logit_reg(\n",
    "    a=dfm1_train[m1l],\n",
    "    b=dfm1_train[m1f],\n",
    "    alpha=0,\n",
    ")"
   ]
  },
  {
   "cell_type": "markdown",
   "id": "65d35036-bcb2-4832-ba15-95c438304291",
   "metadata": {
    "tags": []
   },
   "source": [
    "##### Model coefficients"
   ]
  },
  {
   "cell_type": "code",
   "execution_count": null,
   "id": "2481026c-3f87-4c22-b744-1b815f0056b5",
   "metadata": {
    "scrolled": true,
    "tags": []
   },
   "outputs": [],
   "source": [
    "m1.summary()"
   ]
  },
  {
   "cell_type": "code",
   "execution_count": null,
   "id": "371c2a11-3a67-4bd1-b7bd-db7d4197ec2f",
   "metadata": {
    "scrolled": true,
    "tags": []
   },
   "outputs": [],
   "source": [
    "dfm1_or = odds_ratios(m1)\n",
    "dfm1_or"
   ]
  },
  {
   "cell_type": "code",
   "execution_count": null,
   "id": "efddf004-877c-48ec-b01f-9cefdb757469",
   "metadata": {
    "tags": []
   },
   "outputs": [],
   "source": [
    "## Adding the standard deviation column to the odds ratios dataframe\n",
    "dfm1_or['std'] = dfm1_test[m1f].std()\n",
    "\n",
    "## Operation between resulting odds ratios and standard deviation\n",
    "dfm1_or['norm_or'] = np.power(dfm1_or['Odds ratios'], dfm1_or['std'])\n",
    "\n",
    "## Correcting odds ratios that are lower than one\n",
    "dfm1_or['norm_or'] = dfm1_or['norm_or'].apply(lambda x: 1/x if x < 1 else x)\n",
    "\n",
    "## Ranking results\n",
    "dfm1_or['rank'] = dfm1_or['norm_or'].rank(ascending=False)\n",
    "dfm1_or.sort_values(by='rank', inplace=True, ascending=True)"
   ]
  },
  {
   "cell_type": "markdown",
   "id": "1cca5638-2a97-49da-87fb-b61cfea0b7c8",
   "metadata": {
    "jp-MarkdownHeadingCollapsed": true,
    "tags": []
   },
   "source": [
    "##### Predictions"
   ]
  },
  {
   "cell_type": "code",
   "execution_count": null,
   "id": "5dd1381d-ae28-4e62-bb59-7cb6f4caf5ff",
   "metadata": {
    "tags": []
   },
   "outputs": [],
   "source": [
    "## Churn predicted probability\n",
    "dfm1_test['m1_pred_prob'] = m1.predict(dfm1_test[m1f])\n",
    "\n",
    "## Classifying churners in groups\n",
    "dfm1_test['m1_pred_prob_grade'] = 10 - ntile(dfm1_test['m1_pred_prob'], 10)"
   ]
  },
  {
   "cell_type": "code",
   "execution_count": null,
   "id": "79c1d264-0692-456e-98ad-fe93d1d7ef54",
   "metadata": {},
   "outputs": [],
   "source": [
    "dfm1_test['m1_pred_prob'].info()"
   ]
  },
  {
   "cell_type": "markdown",
   "id": "a47cdb43-9ea7-4630-8247-3ed1938f9354",
   "metadata": {
    "tags": []
   },
   "source": [
    "##### "
   ]
  },
  {
   "cell_type": "markdown",
   "id": "cd49db0d-aca0-4656-937c-e317c3ca77f2",
   "metadata": {
    "jp-MarkdownHeadingCollapsed": true,
    "tags": []
   },
   "source": [
    "## Model 2\n",
    "### Logistic regression with regularization"
   ]
  },
  {
   "cell_type": "markdown",
   "id": "af3ec309-c698-446b-bc8c-6f5129c5ee84",
   "metadata": {
    "jp-MarkdownHeadingCollapsed": true,
    "tags": []
   },
   "source": [
    "##### Model dataset"
   ]
  },
  {
   "cell_type": "code",
   "execution_count": null,
   "id": "db27bdb3-aa1a-4a6c-b9fc-a3a641b5f8c7",
   "metadata": {
    "tags": []
   },
   "outputs": [],
   "source": [
    "dfm2_train = df_train.copy()\n",
    "dfm2_test = df_test.copy()"
   ]
  },
  {
   "cell_type": "markdown",
   "id": "5fa1c862-0fe3-4d8a-9b93-ba4c1c52968b",
   "metadata": {
    "jp-MarkdownHeadingCollapsed": true,
    "tags": []
   },
   "source": [
    "##### Model label and features"
   ]
  },
  {
   "cell_type": "code",
   "execution_count": null,
   "id": "fef06150-8cc7-41ae-804a-0740156d2a7a",
   "metadata": {
    "tags": []
   },
   "outputs": [],
   "source": [
    "## Label\n",
    "m2l = 'churndep'\n",
    "\n",
    "## Features\n",
    "m2f = [\n",
    "    # 'calibrat',\n",
    "    # 'churn',\n",
    "    # 'churndep',\n",
    "    'revenue',\n",
    "    'mou',\n",
    "    'recchrge',\n",
    "    'directas',\n",
    "    'overage',\n",
    "    'roam',\n",
    "    'changem',\n",
    "    'changer',\n",
    "    'dropvce',\n",
    "    'blckvce',\n",
    "    'unansvce',\n",
    "    'custcare',\n",
    "    'threeway',\n",
    "    'mourec',\n",
    "    'outcalls',\n",
    "    'incalls',\n",
    "    'peakvce',\n",
    "    'opeakvce',\n",
    "    'dropblk',\n",
    "    'callfwdv',\n",
    "    'callwait',\n",
    "    'months',\n",
    "    'uniqsubs',\n",
    "    'actvsubs',\n",
    "    'phones',\n",
    "    'models',\n",
    "    'eqpdays',\n",
    "    'age1',\n",
    "    'age2',\n",
    "    'children',\n",
    "    'credita',\n",
    "    'creditaa',\n",
    "    'prizmrur',\n",
    "    'prizmub',\n",
    "    'prizmtwn',\n",
    "    'refurb',\n",
    "    'webcap',\n",
    "    'truck',\n",
    "    'rv',\n",
    "    'occprof',\n",
    "    'occcler',\n",
    "    'occcrft',\n",
    "    'occstud',\n",
    "    'occhmkr',\n",
    "    'occret',\n",
    "    'occself',\n",
    "    'ownrent',\n",
    "    'marryun',\n",
    "    'marryyes',\n",
    "    'mailord',\n",
    "    'mailres',\n",
    "    'mailflag',\n",
    "    'travel',\n",
    "    'pcown',\n",
    "    'creditcd',\n",
    "    'retcalls',\n",
    "    'retaccpt',\n",
    "    'newcelly',\n",
    "    'newcelln',\n",
    "    'refer',\n",
    "    'incmiss',\n",
    "    'income',\n",
    "    'mcycle',\n",
    "    'setprcm',\n",
    "    'setprc',\n",
    "    'retcall',\n",
    "    'rec_ntile',\n",
    "    'freq_ntile',\n",
    "    'mon_ntile',\n",
    "]"
   ]
  },
  {
   "cell_type": "markdown",
   "id": "ffdf5c3b-62c2-403e-a684-2bafa17590aa",
   "metadata": {
    "tags": []
   },
   "source": [
    "##### Model training"
   ]
  },
  {
   "cell_type": "code",
   "execution_count": null,
   "id": "4d5df398-a636-4150-9345-fed61dbb8e3e",
   "metadata": {
    "tags": []
   },
   "outputs": [],
   "source": [
    "m2 = logit_reg(\n",
    "    a=dfm2_train[m2l],\n",
    "    b=dfm2_train[m2f],\n",
    "    alpha=3,\n",
    ")"
   ]
  },
  {
   "cell_type": "markdown",
   "id": "617ae55a-32d0-4c0e-9ad4-c258d3697941",
   "metadata": {
    "tags": []
   },
   "source": [
    "##### Model coefficients"
   ]
  },
  {
   "cell_type": "code",
   "execution_count": null,
   "id": "06b594c1-9f29-400d-999a-0c15608c1553",
   "metadata": {
    "scrolled": true,
    "tags": []
   },
   "outputs": [],
   "source": [
    "m2.summary()"
   ]
  },
  {
   "cell_type": "code",
   "execution_count": null,
   "id": "ab5d610f-4c09-40d0-9227-4d2eb71f1502",
   "metadata": {
    "scrolled": true,
    "tags": []
   },
   "outputs": [],
   "source": [
    "dfm2_or = odds_ratios(m2)\n",
    "dfm2_or"
   ]
  },
  {
   "cell_type": "markdown",
   "id": "2cb128d7-126a-4e4a-86b4-6936db8e4b21",
   "metadata": {
    "tags": []
   },
   "source": [
    "##### Features selection"
   ]
  },
  {
   "cell_type": "code",
   "execution_count": null,
   "id": "a9a10874-0e33-4937-ab8b-8a22c38a7f06",
   "metadata": {
    "tags": []
   },
   "outputs": [],
   "source": [
    "## Adding the standard deviation column to the odds ratios dataframe\n",
    "dfm2_or = dfm2_or.join(\n",
    "    dfi.loc[:, 'std']\n",
    ")\n",
    "\n",
    "## Operation between resulting odds ratios and standard deviation\n",
    "dfm2_or['or**std'] = dfm2_or['Odds ratios']**dfm2_or['std']\n",
    "\n",
    "## Calculating absolute difference between resulting column and 1\n",
    "dfm2_or['diff_or**std'] = abs(1 - dfm2_or['or**std'])\n",
    "\n",
    "## Ranking results\n",
    "dfm2_or['rank'] = dfm2_or['diff_or**std'].rank(ascending=False)\n",
    "dfm2_or.sort_values(by='rank', inplace=True, ascending=True)"
   ]
  },
  {
   "cell_type": "markdown",
   "id": "c867215f-2c32-4d04-8ef6-1372b54c32f2",
   "metadata": {
    "tags": []
   },
   "source": [
    "##### Predictions"
   ]
  },
  {
   "cell_type": "code",
   "execution_count": null,
   "id": "a57e063a-8b83-44fd-ad81-d07e94e96611",
   "metadata": {
    "tags": []
   },
   "outputs": [],
   "source": [
    "## Churn predicted probability\n",
    "dfm2_test['m2_pred_prob'] = m2.predict(dfm2_test[m2f])\n",
    "\n",
    "## Classifying churners in groups\n",
    "dfm2_test['m2_pred_prob_grade'] = 10 - ntile(dfm2_test['m2_pred_prob'], 10)"
   ]
  },
  {
   "cell_type": "markdown",
   "id": "5f6c9c5a-73f3-429c-95f6-e8bce48e9d6a",
   "metadata": {
    "tags": []
   },
   "source": [
    "##### "
   ]
  },
  {
   "cell_type": "markdown",
   "id": "deb6cd22-3ac0-4208-b34f-4e9af9c55895",
   "metadata": {
    "jp-MarkdownHeadingCollapsed": true,
    "tags": []
   },
   "source": [
    "## Model 3\n",
    "### Logistic regression with features selected from model 1"
   ]
  },
  {
   "cell_type": "markdown",
   "id": "8f4b5e4a-41c0-4701-bf3f-f4fd98964cf8",
   "metadata": {
    "tags": []
   },
   "source": [
    "##### Model dataset"
   ]
  },
  {
   "cell_type": "code",
   "execution_count": null,
   "id": "89f58e32-b624-4c19-b09d-bd3ece2b8978",
   "metadata": {
    "tags": []
   },
   "outputs": [],
   "source": [
    "dfm3_train = df_train.copy()\n",
    "dfm3_test = df_test.copy()"
   ]
  },
  {
   "cell_type": "markdown",
   "id": "eb9749e7-f4e2-4820-bd30-693dec73dc12",
   "metadata": {
    "jp-MarkdownHeadingCollapsed": true,
    "tags": []
   },
   "source": [
    "##### Model label and features"
   ]
  },
  {
   "cell_type": "code",
   "execution_count": null,
   "id": "7793ad7a-f141-4884-9502-684e0eaf7f3c",
   "metadata": {
    "tags": []
   },
   "outputs": [],
   "source": [
    "## Label\n",
    "m3l = 'churndep'\n",
    "\n",
    "## Features\n",
    "m3f = [\n",
    "    # 'calibrat',\n",
    "    # 'churn',\n",
    "    # 'churndep',\n",
    "    # 'revenue',\n",
    "    'mou',\n",
    "    # 'recchrge',\n",
    "    # 'directas',\n",
    "    # 'overage',\n",
    "    # 'roam',\n",
    "    'changem',\n",
    "    'changer',\n",
    "    'dropvce',\n",
    "    # 'blckvce',\n",
    "    # 'unansvce',\n",
    "    # 'custcare',\n",
    "    # 'threeway',\n",
    "    # 'mourec',\n",
    "    # 'outcalls',\n",
    "    # 'incalls',\n",
    "    # 'peakvce',\n",
    "    # 'opeakvce',\n",
    "    # 'dropblk',\n",
    "    # 'callfwdv',\n",
    "    # 'callwait',\n",
    "    'months',\n",
    "    'uniqsubs',\n",
    "    'actvsubs',\n",
    "    # 'phones',\n",
    "    # 'models',\n",
    "    'eqpdays',\n",
    "    # 'age1',\n",
    "    # 'age2',\n",
    "    # 'children',\n",
    "    # 'credita',\n",
    "    'creditaa',\n",
    "    # 'prizmrur',\n",
    "    # 'prizmub',\n",
    "    # 'prizmtwn',\n",
    "    # 'refurb',\n",
    "    # 'webcap',\n",
    "    # 'truck',\n",
    "    # 'rv',\n",
    "    # 'occprof',\n",
    "    # 'occcler',\n",
    "    # 'occcrft',\n",
    "    # 'occstud',\n",
    "    # 'occhmkr',\n",
    "    # 'occret',\n",
    "    # 'occself',\n",
    "    # 'ownrent',\n",
    "    # 'marryun',\n",
    "    # 'marryyes',\n",
    "    # 'mailord',\n",
    "    # 'mailres',\n",
    "    # 'mailflag',\n",
    "    # 'travel',\n",
    "    # 'pcown',\n",
    "    # 'creditcd',\n",
    "    # 'retcalls',\n",
    "    # 'retaccpt',\n",
    "    # 'newcelly',\n",
    "    # 'newcelln',\n",
    "    # 'refer',\n",
    "    # 'incmiss',\n",
    "    # 'income',\n",
    "    # 'mcycle',\n",
    "    # 'setprcm',\n",
    "    # 'setprc',\n",
    "    'retcall',\n",
    "    # 'rec_ntile',\n",
    "    # 'freq_ntile',\n",
    "    # 'mon_ntile',\n",
    "]"
   ]
  },
  {
   "cell_type": "markdown",
   "id": "82f16d97-4024-4289-8cca-49ead2e72f9a",
   "metadata": {
    "tags": []
   },
   "source": [
    "##### Model training"
   ]
  },
  {
   "cell_type": "code",
   "execution_count": null,
   "id": "71de5be5-5d51-4b48-ba8d-8cd0af5e7572",
   "metadata": {
    "tags": []
   },
   "outputs": [],
   "source": [
    "m3 = logit_reg(\n",
    "    a=dfm3_train[m3l],\n",
    "    b=dfm3_train[m3f],\n",
    "    alpha=0,\n",
    ")"
   ]
  },
  {
   "cell_type": "markdown",
   "id": "e63e980d-d009-4431-807d-82b79257955b",
   "metadata": {
    "tags": []
   },
   "source": [
    "##### Model coefficients"
   ]
  },
  {
   "cell_type": "code",
   "execution_count": null,
   "id": "46554fa2-3bc7-4bad-8c67-50235af53cf6",
   "metadata": {
    "scrolled": true,
    "tags": []
   },
   "outputs": [],
   "source": [
    "m3.summary()"
   ]
  },
  {
   "cell_type": "code",
   "execution_count": null,
   "id": "f4d77d5e-60cd-4e6c-8128-7f7e5875a0f8",
   "metadata": {
    "scrolled": true,
    "tags": []
   },
   "outputs": [],
   "source": [
    "odds_ratios(m3)"
   ]
  },
  {
   "cell_type": "markdown",
   "id": "049c6696-1a18-49dd-9f56-5eec02e386f3",
   "metadata": {
    "tags": []
   },
   "source": [
    "##### Model predictions"
   ]
  },
  {
   "cell_type": "code",
   "execution_count": null,
   "id": "90ab2457-00dd-4d24-a524-b95940812b37",
   "metadata": {
    "tags": []
   },
   "outputs": [],
   "source": [
    "## Churn predicted probability\n",
    "dfm3_test['m3_pred_prob'] = m3.predict(dfm3_test[m3f])\n",
    "\n",
    "## Classifying churners in groups\n",
    "dfm3_test['m3_pred_prob_grade'] = 10 - ntile(dfm3_test['m3_pred_prob'], 10)"
   ]
  },
  {
   "cell_type": "markdown",
   "id": "760d643a-85fb-4958-9990-3baaf9d47394",
   "metadata": {},
   "source": [
    "## "
   ]
  },
  {
   "cell_type": "markdown",
   "id": "b6df1022-ac93-4d80-b04c-8bdd07c4e83c",
   "metadata": {
    "tags": []
   },
   "source": [
    "## Manual models compilation"
   ]
  },
  {
   "cell_type": "code",
   "execution_count": null,
   "id": "2b6b3d8b-3a19-4737-8945-1266901647c0",
   "metadata": {
    "tags": []
   },
   "outputs": [],
   "source": [
    "## Models objects\n",
    "models = {\n",
    "    \n",
    "    ## \n",
    "    'm1': { \n",
    "        'df_test': dfm1_test,\n",
    "        'label': m1l,\n",
    "        'features': m1f,\n",
    "        'model': m1,\n",
    "    },\n",
    "    \n",
    "    ## \n",
    "    'm2': { \n",
    "        'df_test': dfm2_test,\n",
    "        'label': m2l,\n",
    "        'features': m2f,\n",
    "        'model': m2,\n",
    "    },\n",
    "    \n",
    "    ## \n",
    "    'm3': { \n",
    "        'df_test': dfm3_test,\n",
    "        'label': m3l,\n",
    "        'features': m3f,\n",
    "        'model': m3,\n",
    "    },\n",
    "\n",
    "}"
   ]
  },
  {
   "cell_type": "markdown",
   "id": "a4cb8df3-1563-44c8-ba59-05b382e8e9e5",
   "metadata": {
    "tags": []
   },
   "source": [
    "# "
   ]
  },
  {
   "cell_type": "markdown",
   "id": "7ac6c542-56b2-4780-af7d-58e95f11ccb3",
   "metadata": {
    "tags": []
   },
   "source": [
    "# Evaluating models"
   ]
  },
  {
   "cell_type": "code",
   "execution_count": null,
   "id": "664ebcdf-e39a-4904-b307-c4a7e6410e15",
   "metadata": {},
   "outputs": [],
   "source": []
  },
  {
   "cell_type": "markdown",
   "id": "2ce7a1b4-6b02-448b-9755-e412e218e457",
   "metadata": {
    "jp-MarkdownHeadingCollapsed": true,
    "tags": []
   },
   "source": [
    "##### Lift"
   ]
  },
  {
   "cell_type": "code",
   "execution_count": null,
   "id": "02eac88b-5670-4589-83ca-91ffc4701eda",
   "metadata": {
    "tags": []
   },
   "outputs": [],
   "source": [
    "fig = go.Figure()\n",
    "\n",
    "\n",
    "for model_key in models:\n",
    "    \n",
    "    ## Variables definition\n",
    "    mx_info = models[model_key]\n",
    "    dfx = mx_info['df_test']\n",
    "    \n",
    "    ## Gain calculation\n",
    "    mx_gain = mba263.lift(dfx['churn'], dfx[model_key + '_pred_prob'], bins=100)\n",
    "\n",
    "    fig.add_trace(\n",
    "        go.Scatter(\n",
    "            x=np.linspace(0, 100, num=mx_gain.shape[0]), \n",
    "            y=mx_gain,\n",
    "            mode='lines',\n",
    "            name=model_key\n",
    "        )\n",
    "    )\n",
    "    \n",
    "\n",
    "fig.update_layout(\n",
    "    width=700, height=500,\n",
    "    title='Lift curves'\n",
    ")\n",
    "    \n",
    "fig.show()"
   ]
  },
  {
   "cell_type": "markdown",
   "id": "0cd1c9d3-ff08-4518-98cc-896ff9097edf",
   "metadata": {
    "tags": []
   },
   "source": [
    "# "
   ]
  },
  {
   "cell_type": "markdown",
   "id": "a223b37c-3401-4278-9594-4aa07e7f356d",
   "metadata": {
    "tags": []
   },
   "source": [
    "# Profit calculations"
   ]
  },
  {
   "cell_type": "code",
   "execution_count": null,
   "id": "47b2a1a8-1037-4769-9943-ce558cced170",
   "metadata": {},
   "outputs": [],
   "source": []
  },
  {
   "cell_type": "markdown",
   "id": "c1fa31b0-2ffb-4daf-959a-a00518f1ab31",
   "metadata": {
    "tags": []
   },
   "source": [
    "# "
   ]
  },
  {
   "cell_type": "markdown",
   "id": "00448247-d225-4e2a-b46a-6a0c8e6d2f3d",
   "metadata": {
    "tags": []
   },
   "source": [
    "# Building models"
   ]
  },
  {
   "cell_type": "markdown",
   "id": "3ef3f8cd-0265-4682-aee4-1867b7ce5e63",
   "metadata": {},
   "source": [
    "# Header"
   ]
  },
  {
   "cell_type": "markdown",
   "id": "784be4db-1c06-43e0-a4da-86b1bbcde318",
   "metadata": {},
   "source": [
    "# *Notes*"
   ]
  },
  {
   "cell_type": "markdown",
   "id": "b34c662c-f724-412f-86d7-75647d9b5448",
   "metadata": {},
   "source": [
    "---"
   ]
  },
  {
   "cell_type": "markdown",
   "id": "168089c7-257b-4b61-9a65-803e32753196",
   "metadata": {},
   "source": [
    "---"
   ]
  }
 ],
 "metadata": {
  "kernelspec": {
   "display_name": "Python 3 (ipykernel)",
   "language": "python",
   "name": "python3"
  },
  "language_info": {
   "codemirror_mode": {
    "name": "ipython",
    "version": 3
   },
   "file_extension": ".py",
   "mimetype": "text/x-python",
   "name": "python",
   "nbconvert_exporter": "python",
   "pygments_lexer": "ipython3",
   "version": "3.9.1"
  },
  "toc-autonumbering": true,
  "toc-showcode": false,
  "toc-showmarkdowntxt": false,
  "toc-showtags": false
 },
 "nbformat": 4,
 "nbformat_minor": 5
}

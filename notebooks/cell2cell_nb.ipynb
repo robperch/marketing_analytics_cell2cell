{
 "cells": [
  {
   "cell_type": "markdown",
   "id": "82c1d7a8-d74e-45e1-8937-264331e6d38a",
   "metadata": {},
   "source": [
    "# Cell 2 cell game assignment"
   ]
  },
  {
   "cell_type": "markdown",
   "id": "fd3103f5-1f01-42fe-b72e-7d113f81e37c",
   "metadata": {},
   "source": [
    "---"
   ]
  },
  {
   "cell_type": "markdown",
   "id": "5e63fc46-f231-4ce8-885d-2cbe620b6d57",
   "metadata": {
    "tags": []
   },
   "source": [
    "# "
   ]
  },
  {
   "cell_type": "markdown",
   "id": "4154f37d-fde6-4cef-8617-114a3a2d7d8e",
   "metadata": {},
   "source": [
    "# Imports"
   ]
  },
  {
   "cell_type": "markdown",
   "id": "a98dbaa6-17e1-4b79-93f0-d142aedd0037",
   "metadata": {},
   "source": [
    "#### Standard library imports"
   ]
  },
  {
   "cell_type": "code",
   "execution_count": 19,
   "id": "63099808-51cd-453c-976a-f3060b8650aa",
   "metadata": {
    "execution": {
     "iopub.execute_input": "2023-04-11T03:35:59.067533Z",
     "iopub.status.busy": "2023-04-11T03:35:59.067097Z",
     "iopub.status.idle": "2023-04-11T03:35:59.178740Z",
     "shell.execute_reply": "2023-04-11T03:35:59.176953Z",
     "shell.execute_reply.started": "2023-04-11T03:35:59.067501Z"
    },
    "tags": []
   },
   "outputs": [],
   "source": [
    "import sys\n",
    "sys.path.append(\"../\")\n",
    "\n",
    "import os"
   ]
  },
  {
   "cell_type": "markdown",
   "id": "b94ec94d-0d78-4ec3-a21c-353ccf52eec6",
   "metadata": {},
   "source": [
    "#### Third party imports"
   ]
  },
  {
   "cell_type": "code",
   "execution_count": 20,
   "id": "9e4989d0-ba3a-41cf-8ccb-44cade842a03",
   "metadata": {
    "execution": {
     "iopub.execute_input": "2023-04-11T03:35:59.183774Z",
     "iopub.status.busy": "2023-04-11T03:35:59.183258Z",
     "iopub.status.idle": "2023-04-11T03:35:59.246583Z",
     "shell.execute_reply": "2023-04-11T03:35:59.245502Z",
     "shell.execute_reply.started": "2023-04-11T03:35:59.183736Z"
    },
    "tags": []
   },
   "outputs": [],
   "source": [
    "import pandas as pd\n",
    "pd.set_option('display.max_columns', None)\n",
    "pd.set_option('display.max_rows', 70)"
   ]
  },
  {
   "cell_type": "markdown",
   "id": "48755fa3-cba0-4508-9df2-18d50f60551b",
   "metadata": {
    "tags": []
   },
   "source": [
    "#### Local application imports"
   ]
  },
  {
   "cell_type": "code",
   "execution_count": 21,
   "id": "a62e34a6-dea0-48d6-a3bc-c5dcdcdb1718",
   "metadata": {
    "execution": {
     "iopub.execute_input": "2023-04-11T03:35:59.250002Z",
     "iopub.status.busy": "2023-04-11T03:35:59.248624Z",
     "iopub.status.idle": "2023-04-11T03:35:59.345216Z",
     "shell.execute_reply": "2023-04-11T03:35:59.344150Z",
     "shell.execute_reply.started": "2023-04-11T03:35:59.249963Z"
    },
    "tags": []
   },
   "outputs": [
    {
     "name": "stdout",
     "output_type": "stream",
     "text": [
      "The autoreload extension is already loaded. To reload it, use:\n",
      "  %reload_ext autoreload\n"
     ]
    }
   ],
   "source": [
    "%load_ext autoreload\n",
    "%autoreload 2\n",
    "\n",
    "from pkg_dir.config import *\n",
    "from pkg_dir.src.utils import *\n",
    "from pkg_dir.src.functions import *\n",
    "from pkg_dir.src.parameters import *"
   ]
  },
  {
   "cell_type": "markdown",
   "id": "419fea39-e697-4807-bf44-e115f943ea5c",
   "metadata": {
    "tags": []
   },
   "source": [
    "# "
   ]
  },
  {
   "cell_type": "markdown",
   "id": "d533fe5d-c902-4259-97ee-672d6f2363c6",
   "metadata": {
    "tags": []
   },
   "source": [
    "# Loading data"
   ]
  },
  {
   "cell_type": "code",
   "execution_count": 4,
   "id": "ecb1b8ad-6a65-4fa5-aee4-4d844e50ba12",
   "metadata": {
    "execution": {
     "iopub.execute_input": "2023-04-11T00:49:29.969328Z",
     "iopub.status.busy": "2023-04-11T00:49:29.968689Z",
     "iopub.status.idle": "2023-04-11T00:49:30.071324Z",
     "shell.execute_reply": "2023-04-11T00:49:30.070086Z",
     "shell.execute_reply.started": "2023-04-11T00:49:29.969293Z"
    }
   },
   "outputs": [],
   "source": [
    "data_path = '../pkg_dir/data/cell2cell.csv'"
   ]
  },
  {
   "cell_type": "code",
   "execution_count": 5,
   "id": "5ae38b2c-0a7d-4716-8f06-5bfebde4d026",
   "metadata": {
    "execution": {
     "iopub.execute_input": "2023-04-11T00:49:30.075988Z",
     "iopub.status.busy": "2023-04-11T00:49:30.075528Z",
     "iopub.status.idle": "2023-04-11T00:49:30.904317Z",
     "shell.execute_reply": "2023-04-11T00:49:30.903486Z",
     "shell.execute_reply.started": "2023-04-11T00:49:30.075953Z"
    },
    "tags": []
   },
   "outputs": [],
   "source": [
    "dfr = pd.read_csv(data_path)"
   ]
  },
  {
   "cell_type": "markdown",
   "id": "8ddfa2c2-3488-4e8d-b18a-14ba4f171049",
   "metadata": {
    "tags": []
   },
   "source": [
    "# "
   ]
  },
  {
   "cell_type": "markdown",
   "id": "853ce8f3-8d1d-4e20-ba54-4e29fa21c7ff",
   "metadata": {
    "tags": []
   },
   "source": [
    "# Initial data wrangling"
   ]
  },
  {
   "cell_type": "markdown",
   "id": "099dde80-a4d5-4df4-88a9-0f7afb58895f",
   "metadata": {},
   "source": [
    "##### Adding RFM variables"
   ]
  },
  {
   "cell_type": "code",
   "execution_count": 6,
   "id": "546cd442-1d7c-448f-a0a6-959979f65670",
   "metadata": {
    "execution": {
     "iopub.execute_input": "2023-04-11T00:49:30.906936Z",
     "iopub.status.busy": "2023-04-11T00:49:30.906571Z",
     "iopub.status.idle": "2023-04-11T00:49:32.207441Z",
     "shell.execute_reply": "2023-04-11T00:49:32.206379Z",
     "shell.execute_reply.started": "2023-04-11T00:49:30.906906Z"
    },
    "tags": []
   },
   "outputs": [],
   "source": [
    "## RFM variables\n",
    "num_tiles = 10\n",
    "dfr['rec_ntile'] = mba263.ntile(dfr['eqpdays'], num_tiles)\n",
    "dfr['freq_ntile'] = num_tiles - 1 - mba263.ntile(dfr['mou'], num_tiles)\n",
    "dfr['mon_ntile'] = num_tiles - 1 - mba263.ntile(dfr['recchrge'], num_tiles)"
   ]
  },
  {
   "cell_type": "markdown",
   "id": "b1f5acd9-fb7c-49fa-ac33-d9e9f05af915",
   "metadata": {
    "tags": []
   },
   "source": [
    "##### Setting the client ID as index"
   ]
  },
  {
   "cell_type": "code",
   "execution_count": 7,
   "id": "02a0d4fd-1466-49c3-a8a3-cdf3a44e3c60",
   "metadata": {
    "execution": {
     "iopub.execute_input": "2023-04-11T00:49:32.209429Z",
     "iopub.status.busy": "2023-04-11T00:49:32.208669Z",
     "iopub.status.idle": "2023-04-11T00:49:32.269858Z",
     "shell.execute_reply": "2023-04-11T00:49:32.268837Z",
     "shell.execute_reply.started": "2023-04-11T00:49:32.209394Z"
    },
    "tags": []
   },
   "outputs": [],
   "source": [
    "dfr.set_index('customer', inplace=True)"
   ]
  },
  {
   "cell_type": "markdown",
   "id": "0b8ce11a-a887-4124-8273-c3e99813a81e",
   "metadata": {},
   "source": [
    "##### Splitting train and test data"
   ]
  },
  {
   "cell_type": "code",
   "execution_count": 8,
   "id": "245e06d7-95d5-4089-afcb-334ced8786be",
   "metadata": {
    "execution": {
     "iopub.execute_input": "2023-04-11T00:49:32.272876Z",
     "iopub.status.busy": "2023-04-11T00:49:32.272424Z",
     "iopub.status.idle": "2023-04-11T00:49:32.493787Z",
     "shell.execute_reply": "2023-04-11T00:49:32.492596Z",
     "shell.execute_reply.started": "2023-04-11T00:49:32.272841Z"
    },
    "scrolled": true,
    "tags": []
   },
   "outputs": [],
   "source": [
    "## Creating new dataframes based on `calibrat` field\n",
    "df_train = dfr[dfr['calibrat'] == 1].copy()\n",
    "df_test = dfr[dfr['calibrat'] == 0].copy()\n",
    "\n",
    "## Dropping `calibrat` field\n",
    "df_train.drop(['calibrat', 'churndep'], axis=1, inplace=True)\n",
    "df_test.drop(['calibrat', 'churndep'], axis=1, inplace=True)"
   ]
  },
  {
   "cell_type": "markdown",
   "id": "e3f78683-360d-4301-8aca-1732b3d4634c",
   "metadata": {
    "tags": []
   },
   "source": [
    "# "
   ]
  },
  {
   "cell_type": "markdown",
   "id": "11ee92b2-e6b0-4575-bb08-bb05c0294e8e",
   "metadata": {
    "tags": []
   },
   "source": [
    "# Data exploration"
   ]
  },
  {
   "cell_type": "markdown",
   "id": "863d7e36-fb17-44db-8955-491764cbaa66",
   "metadata": {
    "jp-MarkdownHeadingCollapsed": true,
    "tags": []
   },
   "source": [
    "##### Saving summary statistics about the data as dataframe"
   ]
  },
  {
   "cell_type": "code",
   "execution_count": 34,
   "id": "e581fefc-39af-4c9d-be92-0ce08b99d252",
   "metadata": {
    "execution": {
     "iopub.execute_input": "2023-04-11T04:11:32.858715Z",
     "iopub.status.busy": "2023-04-11T04:11:32.858287Z",
     "iopub.status.idle": "2023-04-11T04:11:33.223349Z",
     "shell.execute_reply": "2023-04-11T04:11:33.222445Z",
     "shell.execute_reply.started": "2023-04-11T04:11:32.858681Z"
    }
   },
   "outputs": [],
   "source": [
    "dfi = dfr.describe().T\n",
    "dfi.drop(['25%', '50%', '75%'], axis=1, inplace=True)"
   ]
  },
  {
   "cell_type": "markdown",
   "id": "971c044e-7924-4da7-a45a-73a87f9127ca",
   "metadata": {
    "jp-MarkdownHeadingCollapsed": true,
    "tags": []
   },
   "source": [
    "##### Evaluating number of labels in train and test set"
   ]
  },
  {
   "cell_type": "code",
   "execution_count": null,
   "id": "fa628f61-f081-4eb4-9026-0b20f8e47a4c",
   "metadata": {
    "tags": []
   },
   "outputs": [],
   "source": [
    "pd.concat(\n",
    "    [\n",
    "        dfr.groupby(\n",
    "            [\n",
    "                'calibrat',\n",
    "                'churn',\n",
    "            ]\n",
    "        ).agg(\n",
    "            count=('calibrat', 'count')\n",
    "        ),  \n",
    "        dfr.groupby(\n",
    "            [\n",
    "                'calibrat',\n",
    "            ]\n",
    "        )['churn'].value_counts(normalize=True).to_frame()\n",
    "    ],\n",
    "    axis=1\n",
    ")\n"
   ]
  },
  {
   "cell_type": "markdown",
   "id": "84f622d6-9769-4a26-8a17-b8fb7e6c04e1",
   "metadata": {
    "jp-MarkdownHeadingCollapsed": true,
    "tags": []
   },
   "source": [
    "##### Understanding the `churndep` variable"
   ]
  },
  {
   "cell_type": "code",
   "execution_count": null,
   "id": "b3b8f1d0-2155-4183-8ee3-7c20a09c75c0",
   "metadata": {},
   "outputs": [],
   "source": [
    "dfr['calibrat'].value_counts()"
   ]
  },
  {
   "cell_type": "code",
   "execution_count": null,
   "id": "b40fdcd5-99b6-4f87-a8c8-f4cb8ab4baea",
   "metadata": {},
   "outputs": [],
   "source": [
    "dfr['churndep'].value_counts()"
   ]
  },
  {
   "cell_type": "code",
   "execution_count": null,
   "id": "c7d52fa1-bc12-4c2d-92b0-681bece8bc36",
   "metadata": {
    "tags": []
   },
   "outputs": [],
   "source": [
    "dfr.groupby(\n",
    "    [\n",
    "        'calibrat',\n",
    "        'churndep',\n",
    "    ]\n",
    ").agg(\n",
    "    count=('calibrat', 'count')\n",
    ")"
   ]
  },
  {
   "cell_type": "markdown",
   "id": "ad5780a1-84aa-441b-821f-8b49a6b60d80",
   "metadata": {
    "tags": []
   },
   "source": [
    "##### Seeking correlations among variables"
   ]
  },
  {
   "cell_type": "raw",
   "id": "3ec8de4b-fb11-470a-954e-40ec95e5bb2e",
   "metadata": {},
   "source": [
    "wip"
   ]
  },
  {
   "cell_type": "markdown",
   "id": "ec7212df-8292-4446-9179-6ea2c74609bf",
   "metadata": {
    "tags": []
   },
   "source": [
    "# "
   ]
  },
  {
   "cell_type": "markdown",
   "id": "086699c7-ba8b-45ae-9ad2-67ff004259af",
   "metadata": {
    "tags": []
   },
   "source": [
    "# Manual models"
   ]
  },
  {
   "cell_type": "markdown",
   "id": "e45edc61-47e6-4368-8a86-c9b70671f717",
   "metadata": {
    "tags": []
   },
   "source": [
    "## Model 1"
   ]
  },
  {
   "cell_type": "markdown",
   "id": "a8e1c03d-b470-4251-8999-8505cf3d6f43",
   "metadata": {
    "tags": []
   },
   "source": [
    "##### Model dataset"
   ]
  },
  {
   "cell_type": "code",
   "execution_count": 10,
   "id": "a193312e-2304-4f57-bc28-6e0f0e11ed0b",
   "metadata": {
    "execution": {
     "iopub.execute_input": "2023-04-11T01:47:42.640953Z",
     "iopub.status.busy": "2023-04-11T01:47:42.626595Z",
     "iopub.status.idle": "2023-04-11T01:47:43.519731Z",
     "shell.execute_reply": "2023-04-11T01:47:43.518118Z",
     "shell.execute_reply.started": "2023-04-11T01:47:42.640818Z"
    },
    "tags": []
   },
   "outputs": [],
   "source": [
    "dfm1_train = df_train.copy()\n",
    "dfm1_test = df_test.copy()"
   ]
  },
  {
   "cell_type": "markdown",
   "id": "46b8d875-84a3-4780-aa63-68026f001bd6",
   "metadata": {
    "jp-MarkdownHeadingCollapsed": true,
    "tags": []
   },
   "source": [
    "##### Model label and features"
   ]
  },
  {
   "cell_type": "code",
   "execution_count": 11,
   "id": "f02454c4-ca67-4b33-88b3-6a224f8b88e4",
   "metadata": {
    "execution": {
     "iopub.execute_input": "2023-04-11T01:47:43.524313Z",
     "iopub.status.busy": "2023-04-11T01:47:43.523903Z",
     "iopub.status.idle": "2023-04-11T01:47:43.594665Z",
     "shell.execute_reply": "2023-04-11T01:47:43.593620Z",
     "shell.execute_reply.started": "2023-04-11T01:47:43.524279Z"
    },
    "tags": []
   },
   "outputs": [],
   "source": [
    "## Label\n",
    "m1l = 'churn'\n",
    "\n",
    "## Features\n",
    "m1f = [\n",
    "    # 'customer',\n",
    "    # 'calibrat',\n",
    "    # 'churndep',\n",
    "    'revenue',\n",
    "    'mou',\n",
    "    'recchrge',\n",
    "    'directas',\n",
    "    'overage',\n",
    "    'roam',\n",
    "    'changem',\n",
    "    'changer',\n",
    "    'dropvce',\n",
    "    'blckvce',\n",
    "    'unansvce',\n",
    "    'custcare',\n",
    "    'threeway',\n",
    "    'mourec',\n",
    "    'outcalls',\n",
    "    'incalls',\n",
    "    'peakvce',\n",
    "    'opeakvce',\n",
    "    'dropblk',\n",
    "    'callfwdv',\n",
    "    'callwait',\n",
    "    'months',\n",
    "    'uniqsubs',\n",
    "    'actvsubs',\n",
    "    'phones',\n",
    "    'models',\n",
    "    'eqpdays',\n",
    "    'age1',\n",
    "    'age2',\n",
    "    'children',\n",
    "    'credita',\n",
    "    'creditaa',\n",
    "    'prizmrur',\n",
    "    'prizmub',\n",
    "    'prizmtwn',\n",
    "    'refurb',\n",
    "    'webcap',\n",
    "    'truck',\n",
    "    'rv',\n",
    "    'occprof',\n",
    "    'occcler',\n",
    "    'occcrft',\n",
    "    'occstud',\n",
    "    'occhmkr',\n",
    "    'occret',\n",
    "    'occself',\n",
    "    'ownrent',\n",
    "    'marryun',\n",
    "    'marryyes',\n",
    "    'mailord',\n",
    "    'mailres',\n",
    "    'mailflag',\n",
    "    'travel',\n",
    "    'pcown',\n",
    "    'creditcd',\n",
    "    'retcalls',\n",
    "    'retaccpt',\n",
    "    'newcelly',\n",
    "    'newcelln',\n",
    "    'refer',\n",
    "    'incmiss',\n",
    "    'income',\n",
    "    'mcycle',\n",
    "    'setprcm',\n",
    "    'setprc',\n",
    "    'retcall',\n",
    "]"
   ]
  },
  {
   "cell_type": "markdown",
   "id": "0d401701-b9ac-4bc7-86d7-0fe4b66312eb",
   "metadata": {
    "tags": []
   },
   "source": [
    "##### Model training"
   ]
  },
  {
   "cell_type": "code",
   "execution_count": 12,
   "id": "e936e725-cb95-4309-be69-ffb2914b89bf",
   "metadata": {
    "execution": {
     "iopub.execute_input": "2023-04-11T01:47:44.952411Z",
     "iopub.status.busy": "2023-04-11T01:47:44.951899Z",
     "iopub.status.idle": "2023-04-11T01:47:47.461227Z",
     "shell.execute_reply": "2023-04-11T01:47:47.459203Z",
     "shell.execute_reply.started": "2023-04-11T01:47:44.952375Z"
    },
    "tags": []
   },
   "outputs": [
    {
     "name": "stdout",
     "output_type": "stream",
     "text": [
      "Optimization terminated successfully    (Exit mode 0)\n",
      "            Current function value: 0.6715330588481454\n",
      "            Iterations: 201\n",
      "            Function evaluations: 256\n",
      "            Gradient evaluations: 201\n"
     ]
    }
   ],
   "source": [
    "m1 = logit_reg(\n",
    "    a=dfm1_train[m1l],\n",
    "    b=dfm1_train[m1f],\n",
    "    alpha=0,\n",
    ")"
   ]
  },
  {
   "cell_type": "markdown",
   "id": "65d35036-bcb2-4832-ba15-95c438304291",
   "metadata": {
    "tags": []
   },
   "source": [
    "##### Model coefficients"
   ]
  },
  {
   "cell_type": "code",
   "execution_count": 13,
   "id": "2481026c-3f87-4c22-b744-1b815f0056b5",
   "metadata": {
    "execution": {
     "iopub.execute_input": "2023-04-11T01:47:47.465877Z",
     "iopub.status.busy": "2023-04-11T01:47:47.465328Z",
     "iopub.status.idle": "2023-04-11T01:47:47.692935Z",
     "shell.execute_reply": "2023-04-11T01:47:47.691698Z",
     "shell.execute_reply.started": "2023-04-11T01:47:47.465836Z"
    },
    "scrolled": true,
    "tags": []
   },
   "outputs": [
    {
     "data": {
      "text/html": [
       "<table class=\"simpletable\">\n",
       "<caption>Mba263Logit Regression Results</caption>\n",
       "<tr>\n",
       "  <th>Dep. Variable:</th>         <td>churn</td>      <th>  No. Observations:  </th>   <td> 38941</td>  \n",
       "</tr>\n",
       "<tr>\n",
       "  <th>Model:</th>              <td>Mba263Logit</td>   <th>  Df Residuals:      </th>   <td> 38874</td>  \n",
       "</tr>\n",
       "<tr>\n",
       "  <th>Method:</th>                 <td>MLE</td>       <th>  Df Model:          </th>   <td>    66</td>  \n",
       "</tr>\n",
       "<tr>\n",
       "  <th>Date:</th>            <td>Mon, 10 Apr 2023</td> <th>  Pseudo R-squ.:     </th>   <td>0.03117</td> \n",
       "</tr>\n",
       "<tr>\n",
       "  <th>Time:</th>                <td>18:47:47</td>     <th>  Log-Likelihood:    </th>  <td> -26150.</td> \n",
       "</tr>\n",
       "<tr>\n",
       "  <th>converged:</th>             <td>True</td>       <th>  LL-Null:           </th>  <td> -26992.</td> \n",
       "</tr>\n",
       "<tr>\n",
       "  <th>Covariance Type:</th>     <td>nonrobust</td>    <th>  LLR p-value:       </th> <td>6.012e-308</td>\n",
       "</tr>\n",
       "</table>\n",
       "<table class=\"simpletable\">\n",
       "<tr>\n",
       "      <td></td>        <th>coef</th>     <th>std err</th>      <th>z</th>      <th>P>|z|</th>  <th>[0.025</th>    <th>0.975]</th>  \n",
       "</tr>\n",
       "<tr>\n",
       "  <th>const</th>    <td>    0.1499</td> <td>    0.095</td> <td>    1.573</td> <td> 0.116</td> <td>   -0.037</td> <td>    0.337</td>\n",
       "</tr>\n",
       "<tr>\n",
       "  <th>revenue</th>  <td>    0.0020</td> <td>    0.001</td> <td>    2.460</td> <td> 0.014</td> <td>    0.000</td> <td>    0.004</td>\n",
       "</tr>\n",
       "<tr>\n",
       "  <th>mou</th>      <td>   -0.0003</td> <td> 4.96e-05</td> <td>   -5.657</td> <td> 0.000</td> <td>   -0.000</td> <td>   -0.000</td>\n",
       "</tr>\n",
       "<tr>\n",
       "  <th>recchrge</th> <td>   -0.0031</td> <td>    0.001</td> <td>   -3.514</td> <td> 0.000</td> <td>   -0.005</td> <td>   -0.001</td>\n",
       "</tr>\n",
       "<tr>\n",
       "  <th>directas</th> <td>   -0.0012</td> <td>    0.006</td> <td>   -0.201</td> <td> 0.840</td> <td>   -0.013</td> <td>    0.010</td>\n",
       "</tr>\n",
       "<tr>\n",
       "  <th>overage</th>  <td>    0.0008</td> <td>    0.000</td> <td>    2.711</td> <td> 0.007</td> <td>    0.000</td> <td>    0.001</td>\n",
       "</tr>\n",
       "<tr>\n",
       "  <th>roam</th>     <td>    0.0071</td> <td>    0.002</td> <td>    3.436</td> <td> 0.001</td> <td>    0.003</td> <td>    0.011</td>\n",
       "</tr>\n",
       "<tr>\n",
       "  <th>changem</th>  <td>   -0.0005</td> <td> 5.35e-05</td> <td>   -9.194</td> <td> 0.000</td> <td>   -0.001</td> <td>   -0.000</td>\n",
       "</tr>\n",
       "<tr>\n",
       "  <th>changer</th>  <td>    0.0023</td> <td>    0.000</td> <td>    6.247</td> <td> 0.000</td> <td>    0.002</td> <td>    0.003</td>\n",
       "</tr>\n",
       "<tr>\n",
       "  <th>dropvce</th>  <td>    0.0113</td> <td>    0.007</td> <td>    1.563</td> <td> 0.118</td> <td>   -0.003</td> <td>    0.026</td>\n",
       "</tr>\n",
       "<tr>\n",
       "  <th>blckvce</th>  <td>    0.0064</td> <td>    0.007</td> <td>    0.894</td> <td> 0.371</td> <td>   -0.008</td> <td>    0.020</td>\n",
       "</tr>\n",
       "<tr>\n",
       "  <th>unansvce</th> <td>    0.0009</td> <td>    0.000</td> <td>    2.058</td> <td> 0.040</td> <td> 4.38e-05</td> <td>    0.002</td>\n",
       "</tr>\n",
       "<tr>\n",
       "  <th>custcare</th> <td>   -0.0060</td> <td>    0.003</td> <td>   -2.331</td> <td> 0.020</td> <td>   -0.011</td> <td>   -0.001</td>\n",
       "</tr>\n",
       "<tr>\n",
       "  <th>threeway</th> <td>   -0.0303</td> <td>    0.011</td> <td>   -2.691</td> <td> 0.007</td> <td>   -0.052</td> <td>   -0.008</td>\n",
       "</tr>\n",
       "<tr>\n",
       "  <th>mourec</th>   <td>    0.0001</td> <td>    0.000</td> <td>    1.018</td> <td> 0.309</td> <td>   -0.000</td> <td>    0.000</td>\n",
       "</tr>\n",
       "<tr>\n",
       "  <th>outcalls</th> <td>    0.0011</td> <td>    0.001</td> <td>    1.894</td> <td> 0.058</td> <td>-3.87e-05</td> <td>    0.002</td>\n",
       "</tr>\n",
       "<tr>\n",
       "  <th>incalls</th>  <td>   -0.0031</td> <td>    0.001</td> <td>   -2.937</td> <td> 0.003</td> <td>   -0.005</td> <td>   -0.001</td>\n",
       "</tr>\n",
       "<tr>\n",
       "  <th>peakvce</th>  <td>   -0.0007</td> <td>    0.000</td> <td>   -3.058</td> <td> 0.002</td> <td>   -0.001</td> <td>   -0.000</td>\n",
       "</tr>\n",
       "<tr>\n",
       "  <th>opeakvce</th> <td>   -0.0002</td> <td>    0.000</td> <td>   -0.783</td> <td> 0.434</td> <td>   -0.001</td> <td>    0.000</td>\n",
       "</tr>\n",
       "<tr>\n",
       "  <th>dropblk</th>  <td>   -0.0031</td> <td>    0.007</td> <td>   -0.442</td> <td> 0.658</td> <td>   -0.017</td> <td>    0.011</td>\n",
       "</tr>\n",
       "<tr>\n",
       "  <th>callfwdv</th> <td>   -0.0026</td> <td>    0.023</td> <td>   -0.114</td> <td> 0.909</td> <td>   -0.048</td> <td>    0.043</td>\n",
       "</tr>\n",
       "<tr>\n",
       "  <th>callwait</th> <td>    0.0021</td> <td>    0.003</td> <td>    0.664</td> <td> 0.507</td> <td>   -0.004</td> <td>    0.008</td>\n",
       "</tr>\n",
       "<tr>\n",
       "  <th>months</th>   <td>   -0.0213</td> <td>    0.002</td> <td>  -10.652</td> <td> 0.000</td> <td>   -0.025</td> <td>   -0.017</td>\n",
       "</tr>\n",
       "<tr>\n",
       "  <th>uniqsubs</th> <td>    0.1844</td> <td>    0.020</td> <td>    9.226</td> <td> 0.000</td> <td>    0.145</td> <td>    0.224</td>\n",
       "</tr>\n",
       "<tr>\n",
       "  <th>actvsubs</th> <td>   -0.2057</td> <td>    0.028</td> <td>   -7.372</td> <td> 0.000</td> <td>   -0.260</td> <td>   -0.151</td>\n",
       "</tr>\n",
       "<tr>\n",
       "  <th>phones</th>   <td>    0.0487</td> <td>    0.018</td> <td>    2.680</td> <td> 0.007</td> <td>    0.013</td> <td>    0.084</td>\n",
       "</tr>\n",
       "<tr>\n",
       "  <th>models</th>   <td>    0.0137</td> <td>    0.028</td> <td>    0.493</td> <td> 0.622</td> <td>   -0.041</td> <td>    0.068</td>\n",
       "</tr>\n",
       "<tr>\n",
       "  <th>eqpdays</th>  <td>    0.0014</td> <td> 7.47e-05</td> <td>   19.309</td> <td> 0.000</td> <td>    0.001</td> <td>    0.002</td>\n",
       "</tr>\n",
       "<tr>\n",
       "  <th>age1</th>     <td>   -0.0033</td> <td>    0.001</td> <td>   -3.786</td> <td> 0.000</td> <td>   -0.005</td> <td>   -0.002</td>\n",
       "</tr>\n",
       "<tr>\n",
       "  <th>age2</th>     <td>   -0.0012</td> <td>    0.001</td> <td>   -1.719</td> <td> 0.086</td> <td>   -0.003</td> <td>    0.000</td>\n",
       "</tr>\n",
       "<tr>\n",
       "  <th>children</th> <td>    0.0944</td> <td>    0.028</td> <td>    3.355</td> <td> 0.001</td> <td>    0.039</td> <td>    0.150</td>\n",
       "</tr>\n",
       "<tr>\n",
       "  <th>credita</th>  <td>   -0.1780</td> <td>    0.036</td> <td>   -5.015</td> <td> 0.000</td> <td>   -0.248</td> <td>   -0.108</td>\n",
       "</tr>\n",
       "<tr>\n",
       "  <th>creditaa</th> <td>   -0.3627</td> <td>    0.035</td> <td>  -10.488</td> <td> 0.000</td> <td>   -0.430</td> <td>   -0.295</td>\n",
       "</tr>\n",
       "<tr>\n",
       "  <th>prizmrur</th> <td>    0.0665</td> <td>    0.050</td> <td>    1.342</td> <td> 0.179</td> <td>   -0.031</td> <td>    0.164</td>\n",
       "</tr>\n",
       "<tr>\n",
       "  <th>prizmub</th>  <td>   -0.0396</td> <td>    0.024</td> <td>   -1.623</td> <td> 0.104</td> <td>   -0.087</td> <td>    0.008</td>\n",
       "</tr>\n",
       "<tr>\n",
       "  <th>prizmtwn</th> <td>    0.0462</td> <td>    0.031</td> <td>    1.470</td> <td> 0.141</td> <td>   -0.015</td> <td>    0.108</td>\n",
       "</tr>\n",
       "<tr>\n",
       "  <th>refurb</th>   <td>    0.2340</td> <td>    0.032</td> <td>    7.322</td> <td> 0.000</td> <td>    0.171</td> <td>    0.297</td>\n",
       "</tr>\n",
       "<tr>\n",
       "  <th>webcap</th>   <td>   -0.1562</td> <td>    0.038</td> <td>   -4.158</td> <td> 0.000</td> <td>   -0.230</td> <td>   -0.083</td>\n",
       "</tr>\n",
       "<tr>\n",
       "  <th>truck</th>    <td>    0.0268</td> <td>    0.036</td> <td>    0.744</td> <td> 0.457</td> <td>   -0.044</td> <td>    0.097</td>\n",
       "</tr>\n",
       "<tr>\n",
       "  <th>rv</th>       <td>    0.0121</td> <td>    0.048</td> <td>    0.252</td> <td> 0.801</td> <td>   -0.082</td> <td>    0.106</td>\n",
       "</tr>\n",
       "<tr>\n",
       "  <th>occprof</th>  <td>   -0.0198</td> <td>    0.033</td> <td>   -0.610</td> <td> 0.542</td> <td>   -0.084</td> <td>    0.044</td>\n",
       "</tr>\n",
       "<tr>\n",
       "  <th>occcler</th>  <td>    0.0394</td> <td>    0.075</td> <td>    0.526</td> <td> 0.599</td> <td>   -0.107</td> <td>    0.186</td>\n",
       "</tr>\n",
       "<tr>\n",
       "  <th>occcrft</th>  <td>   -0.0198</td> <td>    0.063</td> <td>   -0.315</td> <td> 0.753</td> <td>   -0.143</td> <td>    0.103</td>\n",
       "</tr>\n",
       "<tr>\n",
       "  <th>occstud</th>  <td>    0.1198</td> <td>    0.122</td> <td>    0.983</td> <td> 0.326</td> <td>   -0.119</td> <td>    0.359</td>\n",
       "</tr>\n",
       "<tr>\n",
       "  <th>occhmkr</th>  <td>    0.2562</td> <td>    0.190</td> <td>    1.348</td> <td> 0.178</td> <td>   -0.116</td> <td>    0.629</td>\n",
       "</tr>\n",
       "<tr>\n",
       "  <th>occret</th>   <td>   -0.0399</td> <td>    0.091</td> <td>   -0.441</td> <td> 0.659</td> <td>   -0.217</td> <td>    0.138</td>\n",
       "</tr>\n",
       "<tr>\n",
       "  <th>occself</th>  <td>   -0.0710</td> <td>    0.081</td> <td>   -0.881</td> <td> 0.379</td> <td>   -0.229</td> <td>    0.087</td>\n",
       "</tr>\n",
       "<tr>\n",
       "  <th>ownrent</th>  <td>    0.0025</td> <td>    0.043</td> <td>    0.060</td> <td> 0.952</td> <td>   -0.081</td> <td>    0.086</td>\n",
       "</tr>\n",
       "<tr>\n",
       "  <th>marryun</th>  <td>    0.1088</td> <td>    0.034</td> <td>    3.198</td> <td> 0.001</td> <td>    0.042</td> <td>    0.176</td>\n",
       "</tr>\n",
       "<tr>\n",
       "  <th>marryyes</th> <td>    0.0558</td> <td>    0.032</td> <td>    1.716</td> <td> 0.086</td> <td>   -0.008</td> <td>    0.119</td>\n",
       "</tr>\n",
       "<tr>\n",
       "  <th>mailord</th>  <td>    0.0009</td> <td>    0.086</td> <td>    0.011</td> <td> 0.991</td> <td>   -0.167</td> <td>    0.169</td>\n",
       "</tr>\n",
       "<tr>\n",
       "  <th>mailres</th>  <td>   -0.1299</td> <td>    0.086</td> <td>   -1.509</td> <td> 0.131</td> <td>   -0.299</td> <td>    0.039</td>\n",
       "</tr>\n",
       "<tr>\n",
       "  <th>mailflag</th> <td>   -0.0483</td> <td>    0.084</td> <td>   -0.572</td> <td> 0.567</td> <td>   -0.214</td> <td>    0.117</td>\n",
       "</tr>\n",
       "<tr>\n",
       "  <th>travel</th>   <td>   -0.0006</td> <td>    0.047</td> <td>   -0.012</td> <td> 0.991</td> <td>   -0.093</td> <td>    0.092</td>\n",
       "</tr>\n",
       "<tr>\n",
       "  <th>pcown</th>    <td>    0.0343</td> <td>    0.031</td> <td>    1.108</td> <td> 0.268</td> <td>   -0.026</td> <td>    0.095</td>\n",
       "</tr>\n",
       "<tr>\n",
       "  <th>creditcd</th> <td>    0.0419</td> <td>    0.044</td> <td>    0.959</td> <td> 0.337</td> <td>   -0.044</td> <td>    0.128</td>\n",
       "</tr>\n",
       "<tr>\n",
       "  <th>retcalls</th> <td>    0.0120</td> <td>    0.184</td> <td>    0.066</td> <td> 0.948</td> <td>   -0.348</td> <td>    0.372</td>\n",
       "</tr>\n",
       "<tr>\n",
       "  <th>retaccpt</th> <td>   -0.1277</td> <td>    0.108</td> <td>   -1.186</td> <td> 0.236</td> <td>   -0.339</td> <td>    0.083</td>\n",
       "</tr>\n",
       "<tr>\n",
       "  <th>newcelly</th> <td>   -0.0705</td> <td>    0.027</td> <td>   -2.585</td> <td> 0.010</td> <td>   -0.124</td> <td>   -0.017</td>\n",
       "</tr>\n",
       "<tr>\n",
       "  <th>newcelln</th> <td>   -0.0050</td> <td>    0.032</td> <td>   -0.160</td> <td> 0.873</td> <td>   -0.067</td> <td>    0.057</td>\n",
       "</tr>\n",
       "<tr>\n",
       "  <th>refer</th>    <td>   -0.0500</td> <td>    0.042</td> <td>   -1.188</td> <td> 0.235</td> <td>   -0.133</td> <td>    0.033</td>\n",
       "</tr>\n",
       "<tr>\n",
       "  <th>incmiss</th>  <td>   -0.0915</td> <td>    0.060</td> <td>   -1.524</td> <td> 0.128</td> <td>   -0.209</td> <td>    0.026</td>\n",
       "</tr>\n",
       "<tr>\n",
       "  <th>income</th>   <td>   -0.0132</td> <td>    0.006</td> <td>   -2.194</td> <td> 0.028</td> <td>   -0.025</td> <td>   -0.001</td>\n",
       "</tr>\n",
       "<tr>\n",
       "  <th>mcycle</th>   <td>    0.1222</td> <td>    0.089</td> <td>    1.373</td> <td> 0.170</td> <td>   -0.052</td> <td>    0.297</td>\n",
       "</tr>\n",
       "<tr>\n",
       "  <th>setprcm</th>  <td>   -0.0964</td> <td>    0.041</td> <td>   -2.379</td> <td> 0.017</td> <td>   -0.176</td> <td>   -0.017</td>\n",
       "</tr>\n",
       "<tr>\n",
       "  <th>setprc</th>   <td>    0.0006</td> <td>    0.000</td> <td>    2.193</td> <td> 0.028</td> <td>  6.6e-05</td> <td>    0.001</td>\n",
       "</tr>\n",
       "<tr>\n",
       "  <th>retcall</th>  <td>    0.7936</td> <td>    0.195</td> <td>    4.078</td> <td> 0.000</td> <td>    0.412</td> <td>    1.175</td>\n",
       "</tr>\n",
       "</table>"
      ],
      "text/plain": [
       "<class 'statsmodels.iolib.summary.Summary'>\n",
       "\"\"\"\n",
       "                        Mba263Logit Regression Results                        \n",
       "==============================================================================\n",
       "Dep. Variable:                  churn   No. Observations:                38941\n",
       "Model:                    Mba263Logit   Df Residuals:                    38874\n",
       "Method:                           MLE   Df Model:                           66\n",
       "Date:                Mon, 10 Apr 2023   Pseudo R-squ.:                 0.03117\n",
       "Time:                        18:47:47   Log-Likelihood:                -26150.\n",
       "converged:                       True   LL-Null:                       -26992.\n",
       "Covariance Type:            nonrobust   LLR p-value:                6.012e-308\n",
       "==============================================================================\n",
       "                 coef    std err          z      P>|z|      [0.025      0.975]\n",
       "------------------------------------------------------------------------------\n",
       "const          0.1499      0.095      1.573      0.116      -0.037       0.337\n",
       "revenue        0.0020      0.001      2.460      0.014       0.000       0.004\n",
       "mou           -0.0003   4.96e-05     -5.657      0.000      -0.000      -0.000\n",
       "recchrge      -0.0031      0.001     -3.514      0.000      -0.005      -0.001\n",
       "directas      -0.0012      0.006     -0.201      0.840      -0.013       0.010\n",
       "overage        0.0008      0.000      2.711      0.007       0.000       0.001\n",
       "roam           0.0071      0.002      3.436      0.001       0.003       0.011\n",
       "changem       -0.0005   5.35e-05     -9.194      0.000      -0.001      -0.000\n",
       "changer        0.0023      0.000      6.247      0.000       0.002       0.003\n",
       "dropvce        0.0113      0.007      1.563      0.118      -0.003       0.026\n",
       "blckvce        0.0064      0.007      0.894      0.371      -0.008       0.020\n",
       "unansvce       0.0009      0.000      2.058      0.040    4.38e-05       0.002\n",
       "custcare      -0.0060      0.003     -2.331      0.020      -0.011      -0.001\n",
       "threeway      -0.0303      0.011     -2.691      0.007      -0.052      -0.008\n",
       "mourec         0.0001      0.000      1.018      0.309      -0.000       0.000\n",
       "outcalls       0.0011      0.001      1.894      0.058   -3.87e-05       0.002\n",
       "incalls       -0.0031      0.001     -2.937      0.003      -0.005      -0.001\n",
       "peakvce       -0.0007      0.000     -3.058      0.002      -0.001      -0.000\n",
       "opeakvce      -0.0002      0.000     -0.783      0.434      -0.001       0.000\n",
       "dropblk       -0.0031      0.007     -0.442      0.658      -0.017       0.011\n",
       "callfwdv      -0.0026      0.023     -0.114      0.909      -0.048       0.043\n",
       "callwait       0.0021      0.003      0.664      0.507      -0.004       0.008\n",
       "months        -0.0213      0.002    -10.652      0.000      -0.025      -0.017\n",
       "uniqsubs       0.1844      0.020      9.226      0.000       0.145       0.224\n",
       "actvsubs      -0.2057      0.028     -7.372      0.000      -0.260      -0.151\n",
       "phones         0.0487      0.018      2.680      0.007       0.013       0.084\n",
       "models         0.0137      0.028      0.493      0.622      -0.041       0.068\n",
       "eqpdays        0.0014   7.47e-05     19.309      0.000       0.001       0.002\n",
       "age1          -0.0033      0.001     -3.786      0.000      -0.005      -0.002\n",
       "age2          -0.0012      0.001     -1.719      0.086      -0.003       0.000\n",
       "children       0.0944      0.028      3.355      0.001       0.039       0.150\n",
       "credita       -0.1780      0.036     -5.015      0.000      -0.248      -0.108\n",
       "creditaa      -0.3627      0.035    -10.488      0.000      -0.430      -0.295\n",
       "prizmrur       0.0665      0.050      1.342      0.179      -0.031       0.164\n",
       "prizmub       -0.0396      0.024     -1.623      0.104      -0.087       0.008\n",
       "prizmtwn       0.0462      0.031      1.470      0.141      -0.015       0.108\n",
       "refurb         0.2340      0.032      7.322      0.000       0.171       0.297\n",
       "webcap        -0.1562      0.038     -4.158      0.000      -0.230      -0.083\n",
       "truck          0.0268      0.036      0.744      0.457      -0.044       0.097\n",
       "rv             0.0121      0.048      0.252      0.801      -0.082       0.106\n",
       "occprof       -0.0198      0.033     -0.610      0.542      -0.084       0.044\n",
       "occcler        0.0394      0.075      0.526      0.599      -0.107       0.186\n",
       "occcrft       -0.0198      0.063     -0.315      0.753      -0.143       0.103\n",
       "occstud        0.1198      0.122      0.983      0.326      -0.119       0.359\n",
       "occhmkr        0.2562      0.190      1.348      0.178      -0.116       0.629\n",
       "occret        -0.0399      0.091     -0.441      0.659      -0.217       0.138\n",
       "occself       -0.0710      0.081     -0.881      0.379      -0.229       0.087\n",
       "ownrent        0.0025      0.043      0.060      0.952      -0.081       0.086\n",
       "marryun        0.1088      0.034      3.198      0.001       0.042       0.176\n",
       "marryyes       0.0558      0.032      1.716      0.086      -0.008       0.119\n",
       "mailord        0.0009      0.086      0.011      0.991      -0.167       0.169\n",
       "mailres       -0.1299      0.086     -1.509      0.131      -0.299       0.039\n",
       "mailflag      -0.0483      0.084     -0.572      0.567      -0.214       0.117\n",
       "travel        -0.0006      0.047     -0.012      0.991      -0.093       0.092\n",
       "pcown          0.0343      0.031      1.108      0.268      -0.026       0.095\n",
       "creditcd       0.0419      0.044      0.959      0.337      -0.044       0.128\n",
       "retcalls       0.0120      0.184      0.066      0.948      -0.348       0.372\n",
       "retaccpt      -0.1277      0.108     -1.186      0.236      -0.339       0.083\n",
       "newcelly      -0.0705      0.027     -2.585      0.010      -0.124      -0.017\n",
       "newcelln      -0.0050      0.032     -0.160      0.873      -0.067       0.057\n",
       "refer         -0.0500      0.042     -1.188      0.235      -0.133       0.033\n",
       "incmiss       -0.0915      0.060     -1.524      0.128      -0.209       0.026\n",
       "income        -0.0132      0.006     -2.194      0.028      -0.025      -0.001\n",
       "mcycle         0.1222      0.089      1.373      0.170      -0.052       0.297\n",
       "setprcm       -0.0964      0.041     -2.379      0.017      -0.176      -0.017\n",
       "setprc         0.0006      0.000      2.193      0.028     6.6e-05       0.001\n",
       "retcall        0.7936      0.195      4.078      0.000       0.412       1.175\n",
       "==============================================================================\n",
       "\"\"\""
      ]
     },
     "execution_count": 13,
     "metadata": {},
     "output_type": "execute_result"
    }
   ],
   "source": [
    "m1.summary()"
   ]
  },
  {
   "cell_type": "code",
   "execution_count": 14,
   "id": "371c2a11-3a67-4bd1-b7bd-db7d4197ec2f",
   "metadata": {
    "execution": {
     "iopub.execute_input": "2023-04-11T01:47:47.696301Z",
     "iopub.status.busy": "2023-04-11T01:47:47.695654Z",
     "iopub.status.idle": "2023-04-11T01:47:47.793091Z",
     "shell.execute_reply": "2023-04-11T01:47:47.792083Z",
     "shell.execute_reply.started": "2023-04-11T01:47:47.696269Z"
    },
    "scrolled": true,
    "tags": []
   },
   "outputs": [
    {
     "data": {
      "text/html": [
       "<div>\n",
       "<style scoped>\n",
       "    .dataframe tbody tr th:only-of-type {\n",
       "        vertical-align: middle;\n",
       "    }\n",
       "\n",
       "    .dataframe tbody tr th {\n",
       "        vertical-align: top;\n",
       "    }\n",
       "\n",
       "    .dataframe thead th {\n",
       "        text-align: right;\n",
       "    }\n",
       "</style>\n",
       "<table border=\"1\" class=\"dataframe\">\n",
       "  <thead>\n",
       "    <tr style=\"text-align: right;\">\n",
       "      <th></th>\n",
       "      <th>Odds ratios</th>\n",
       "      <th>std err</th>\n",
       "      <th>z</th>\n",
       "      <th>P&gt;|z|</th>\n",
       "      <th>[0.025</th>\n",
       "      <th>0.975]</th>\n",
       "    </tr>\n",
       "  </thead>\n",
       "  <tbody>\n",
       "    <tr>\n",
       "      <th>revenue</th>\n",
       "      <td>1.001965</td>\n",
       "      <td>0.000800</td>\n",
       "      <td>2.457656</td>\n",
       "      <td>0.014</td>\n",
       "      <td>1.000414</td>\n",
       "      <td>1.003517</td>\n",
       "    </tr>\n",
       "    <tr>\n",
       "      <th>mou</th>\n",
       "      <td>0.999719</td>\n",
       "      <td>0.000050</td>\n",
       "      <td>5.657852</td>\n",
       "      <td>0.000</td>\n",
       "      <td>0.999623</td>\n",
       "      <td>0.999815</td>\n",
       "    </tr>\n",
       "    <tr>\n",
       "      <th>recchrge</th>\n",
       "      <td>0.996882</td>\n",
       "      <td>0.000886</td>\n",
       "      <td>3.519019</td>\n",
       "      <td>0.000</td>\n",
       "      <td>0.995163</td>\n",
       "      <td>0.998601</td>\n",
       "    </tr>\n",
       "    <tr>\n",
       "      <th>directas</th>\n",
       "      <td>0.998804</td>\n",
       "      <td>0.005932</td>\n",
       "      <td>0.201561</td>\n",
       "      <td>0.840</td>\n",
       "      <td>0.987297</td>\n",
       "      <td>1.010312</td>\n",
       "    </tr>\n",
       "    <tr>\n",
       "      <th>overage</th>\n",
       "      <td>1.000761</td>\n",
       "      <td>0.000281</td>\n",
       "      <td>2.710142</td>\n",
       "      <td>0.007</td>\n",
       "      <td>1.000216</td>\n",
       "      <td>1.001305</td>\n",
       "    </tr>\n",
       "    <tr>\n",
       "      <th>roam</th>\n",
       "      <td>1.007116</td>\n",
       "      <td>0.002078</td>\n",
       "      <td>3.424167</td>\n",
       "      <td>0.001</td>\n",
       "      <td>1.003084</td>\n",
       "      <td>1.011148</td>\n",
       "    </tr>\n",
       "    <tr>\n",
       "      <th>changem</th>\n",
       "      <td>0.999508</td>\n",
       "      <td>0.000053</td>\n",
       "      <td>9.196449</td>\n",
       "      <td>0.000</td>\n",
       "      <td>0.999404</td>\n",
       "      <td>0.999612</td>\n",
       "    </tr>\n",
       "    <tr>\n",
       "      <th>changer</th>\n",
       "      <td>1.002306</td>\n",
       "      <td>0.000370</td>\n",
       "      <td>6.239389</td>\n",
       "      <td>0.000</td>\n",
       "      <td>1.001589</td>\n",
       "      <td>1.003023</td>\n",
       "    </tr>\n",
       "    <tr>\n",
       "      <th>dropvce</th>\n",
       "      <td>1.011403</td>\n",
       "      <td>0.007337</td>\n",
       "      <td>1.554212</td>\n",
       "      <td>0.120</td>\n",
       "      <td>0.997170</td>\n",
       "      <td>1.025635</td>\n",
       "    </tr>\n",
       "    <tr>\n",
       "      <th>blckvce</th>\n",
       "      <td>1.006423</td>\n",
       "      <td>0.007203</td>\n",
       "      <td>0.891614</td>\n",
       "      <td>0.373</td>\n",
       "      <td>0.992448</td>\n",
       "      <td>1.020397</td>\n",
       "    </tr>\n",
       "    <tr>\n",
       "      <th>unansvce</th>\n",
       "      <td>1.000922</td>\n",
       "      <td>0.000448</td>\n",
       "      <td>2.056833</td>\n",
       "      <td>0.040</td>\n",
       "      <td>1.000052</td>\n",
       "      <td>1.001791</td>\n",
       "    </tr>\n",
       "    <tr>\n",
       "      <th>custcare</th>\n",
       "      <td>0.994067</td>\n",
       "      <td>0.002537</td>\n",
       "      <td>2.338344</td>\n",
       "      <td>0.019</td>\n",
       "      <td>0.989144</td>\n",
       "      <td>0.998989</td>\n",
       "    </tr>\n",
       "    <tr>\n",
       "      <th>threeway</th>\n",
       "      <td>0.970166</td>\n",
       "      <td>0.010919</td>\n",
       "      <td>2.732294</td>\n",
       "      <td>0.006</td>\n",
       "      <td>0.948984</td>\n",
       "      <td>0.991349</td>\n",
       "    </tr>\n",
       "    <tr>\n",
       "      <th>mourec</th>\n",
       "      <td>1.000134</td>\n",
       "      <td>0.000132</td>\n",
       "      <td>1.017586</td>\n",
       "      <td>0.309</td>\n",
       "      <td>0.999879</td>\n",
       "      <td>1.000389</td>\n",
       "    </tr>\n",
       "    <tr>\n",
       "      <th>outcalls</th>\n",
       "      <td>1.001119</td>\n",
       "      <td>0.000591</td>\n",
       "      <td>1.893330</td>\n",
       "      <td>0.058</td>\n",
       "      <td>0.999972</td>\n",
       "      <td>1.002266</td>\n",
       "    </tr>\n",
       "    <tr>\n",
       "      <th>incalls</th>\n",
       "      <td>0.996898</td>\n",
       "      <td>0.001054</td>\n",
       "      <td>2.941363</td>\n",
       "      <td>0.003</td>\n",
       "      <td>0.994853</td>\n",
       "      <td>0.998944</td>\n",
       "    </tr>\n",
       "    <tr>\n",
       "      <th>peakvce</th>\n",
       "      <td>0.999331</td>\n",
       "      <td>0.000219</td>\n",
       "      <td>3.058630</td>\n",
       "      <td>0.002</td>\n",
       "      <td>0.998906</td>\n",
       "      <td>0.999755</td>\n",
       "    </tr>\n",
       "    <tr>\n",
       "      <th>opeakvce</th>\n",
       "      <td>0.999792</td>\n",
       "      <td>0.000266</td>\n",
       "      <td>0.782782</td>\n",
       "      <td>0.434</td>\n",
       "      <td>0.999277</td>\n",
       "      <td>1.000307</td>\n",
       "    </tr>\n",
       "    <tr>\n",
       "      <th>dropblk</th>\n",
       "      <td>0.996890</td>\n",
       "      <td>0.007017</td>\n",
       "      <td>0.443153</td>\n",
       "      <td>0.658</td>\n",
       "      <td>0.983277</td>\n",
       "      <td>1.010504</td>\n",
       "    </tr>\n",
       "    <tr>\n",
       "      <th>callfwdv</th>\n",
       "      <td>0.997359</td>\n",
       "      <td>0.023091</td>\n",
       "      <td>0.114378</td>\n",
       "      <td>0.909</td>\n",
       "      <td>0.952562</td>\n",
       "      <td>1.042156</td>\n",
       "    </tr>\n",
       "    <tr>\n",
       "      <th>callwait</th>\n",
       "      <td>1.002087</td>\n",
       "      <td>0.003147</td>\n",
       "      <td>0.663017</td>\n",
       "      <td>0.507</td>\n",
       "      <td>0.995981</td>\n",
       "      <td>1.008192</td>\n",
       "    </tr>\n",
       "    <tr>\n",
       "      <th>months</th>\n",
       "      <td>0.978940</td>\n",
       "      <td>0.001956</td>\n",
       "      <td>10.766593</td>\n",
       "      <td>0.000</td>\n",
       "      <td>0.975145</td>\n",
       "      <td>0.982734</td>\n",
       "    </tr>\n",
       "    <tr>\n",
       "      <th>uniqsubs</th>\n",
       "      <td>1.202489</td>\n",
       "      <td>0.024034</td>\n",
       "      <td>8.425084</td>\n",
       "      <td>0.000</td>\n",
       "      <td>1.155863</td>\n",
       "      <td>1.249115</td>\n",
       "    </tr>\n",
       "    <tr>\n",
       "      <th>actvsubs</th>\n",
       "      <td>0.814044</td>\n",
       "      <td>0.022717</td>\n",
       "      <td>8.185659</td>\n",
       "      <td>0.000</td>\n",
       "      <td>0.769973</td>\n",
       "      <td>0.858116</td>\n",
       "    </tr>\n",
       "    <tr>\n",
       "      <th>phones</th>\n",
       "      <td>1.049895</td>\n",
       "      <td>0.019075</td>\n",
       "      <td>2.615664</td>\n",
       "      <td>0.009</td>\n",
       "      <td>1.012889</td>\n",
       "      <td>1.086901</td>\n",
       "    </tr>\n",
       "    <tr>\n",
       "      <th>models</th>\n",
       "      <td>1.013836</td>\n",
       "      <td>0.028257</td>\n",
       "      <td>0.489652</td>\n",
       "      <td>0.624</td>\n",
       "      <td>0.959017</td>\n",
       "      <td>1.068655</td>\n",
       "    </tr>\n",
       "    <tr>\n",
       "      <th>eqpdays</th>\n",
       "      <td>1.001443</td>\n",
       "      <td>0.000075</td>\n",
       "      <td>19.295045</td>\n",
       "      <td>0.000</td>\n",
       "      <td>1.001298</td>\n",
       "      <td>1.001588</td>\n",
       "    </tr>\n",
       "    <tr>\n",
       "      <th>age1</th>\n",
       "      <td>0.996703</td>\n",
       "      <td>0.000869</td>\n",
       "      <td>3.792736</td>\n",
       "      <td>0.000</td>\n",
       "      <td>0.995016</td>\n",
       "      <td>0.998389</td>\n",
       "    </tr>\n",
       "    <tr>\n",
       "      <th>age2</th>\n",
       "      <td>0.998832</td>\n",
       "      <td>0.000679</td>\n",
       "      <td>1.719703</td>\n",
       "      <td>0.085</td>\n",
       "      <td>0.997514</td>\n",
       "      <td>1.000150</td>\n",
       "    </tr>\n",
       "    <tr>\n",
       "      <th>children</th>\n",
       "      <td>1.099030</td>\n",
       "      <td>0.030935</td>\n",
       "      <td>3.201248</td>\n",
       "      <td>0.001</td>\n",
       "      <td>1.039016</td>\n",
       "      <td>1.159043</td>\n",
       "    </tr>\n",
       "    <tr>\n",
       "      <th>credita</th>\n",
       "      <td>0.836906</td>\n",
       "      <td>0.029712</td>\n",
       "      <td>5.489111</td>\n",
       "      <td>0.000</td>\n",
       "      <td>0.779265</td>\n",
       "      <td>0.894548</td>\n",
       "    </tr>\n",
       "    <tr>\n",
       "      <th>creditaa</th>\n",
       "      <td>0.695820</td>\n",
       "      <td>0.024061</td>\n",
       "      <td>12.642093</td>\n",
       "      <td>0.000</td>\n",
       "      <td>0.649142</td>\n",
       "      <td>0.742498</td>\n",
       "    </tr>\n",
       "    <tr>\n",
       "      <th>prizmrur</th>\n",
       "      <td>1.068799</td>\n",
       "      <td>0.052975</td>\n",
       "      <td>1.298709</td>\n",
       "      <td>0.194</td>\n",
       "      <td>0.966028</td>\n",
       "      <td>1.171570</td>\n",
       "    </tr>\n",
       "    <tr>\n",
       "      <th>prizmub</th>\n",
       "      <td>0.961151</td>\n",
       "      <td>0.023458</td>\n",
       "      <td>1.656086</td>\n",
       "      <td>0.098</td>\n",
       "      <td>0.915641</td>\n",
       "      <td>1.006660</td>\n",
       "    </tr>\n",
       "    <tr>\n",
       "      <th>prizmtwn</th>\n",
       "      <td>1.047320</td>\n",
       "      <td>0.032935</td>\n",
       "      <td>1.436775</td>\n",
       "      <td>0.151</td>\n",
       "      <td>0.983426</td>\n",
       "      <td>1.111214</td>\n",
       "    </tr>\n",
       "    <tr>\n",
       "      <th>refurb</th>\n",
       "      <td>1.263656</td>\n",
       "      <td>0.040384</td>\n",
       "      <td>6.528720</td>\n",
       "      <td>0.000</td>\n",
       "      <td>1.185311</td>\n",
       "      <td>1.342001</td>\n",
       "    </tr>\n",
       "    <tr>\n",
       "      <th>webcap</th>\n",
       "      <td>0.855400</td>\n",
       "      <td>0.032130</td>\n",
       "      <td>4.500449</td>\n",
       "      <td>0.000</td>\n",
       "      <td>0.793068</td>\n",
       "      <td>0.917732</td>\n",
       "    </tr>\n",
       "    <tr>\n",
       "      <th>truck</th>\n",
       "      <td>1.027151</td>\n",
       "      <td>0.036976</td>\n",
       "      <td>0.734275</td>\n",
       "      <td>0.463</td>\n",
       "      <td>0.955417</td>\n",
       "      <td>1.098884</td>\n",
       "    </tr>\n",
       "    <tr>\n",
       "      <th>rv</th>\n",
       "      <td>1.012175</td>\n",
       "      <td>0.048597</td>\n",
       "      <td>0.250539</td>\n",
       "      <td>0.802</td>\n",
       "      <td>0.917898</td>\n",
       "      <td>1.106453</td>\n",
       "    </tr>\n",
       "    <tr>\n",
       "      <th>occprof</th>\n",
       "      <td>0.980360</td>\n",
       "      <td>0.031865</td>\n",
       "      <td>0.616344</td>\n",
       "      <td>0.538</td>\n",
       "      <td>0.918543</td>\n",
       "      <td>1.042178</td>\n",
       "    </tr>\n",
       "    <tr>\n",
       "      <th>occcler</th>\n",
       "      <td>1.040190</td>\n",
       "      <td>0.077919</td>\n",
       "      <td>0.515791</td>\n",
       "      <td>0.606</td>\n",
       "      <td>0.889027</td>\n",
       "      <td>1.191354</td>\n",
       "    </tr>\n",
       "    <tr>\n",
       "      <th>occcrft</th>\n",
       "      <td>0.980363</td>\n",
       "      <td>0.061660</td>\n",
       "      <td>0.318470</td>\n",
       "      <td>0.750</td>\n",
       "      <td>0.860743</td>\n",
       "      <td>1.099983</td>\n",
       "    </tr>\n",
       "    <tr>\n",
       "      <th>occstud</th>\n",
       "      <td>1.127220</td>\n",
       "      <td>0.137379</td>\n",
       "      <td>0.926054</td>\n",
       "      <td>0.354</td>\n",
       "      <td>0.860705</td>\n",
       "      <td>1.393736</td>\n",
       "    </tr>\n",
       "    <tr>\n",
       "      <th>occhmkr</th>\n",
       "      <td>1.291947</td>\n",
       "      <td>0.245575</td>\n",
       "      <td>1.188830</td>\n",
       "      <td>0.235</td>\n",
       "      <td>0.815532</td>\n",
       "      <td>1.768362</td>\n",
       "    </tr>\n",
       "    <tr>\n",
       "      <th>occret</th>\n",
       "      <td>0.960872</td>\n",
       "      <td>0.087007</td>\n",
       "      <td>0.449713</td>\n",
       "      <td>0.653</td>\n",
       "      <td>0.792077</td>\n",
       "      <td>1.129666</td>\n",
       "    </tr>\n",
       "    <tr>\n",
       "      <th>occself</th>\n",
       "      <td>0.931493</td>\n",
       "      <td>0.075074</td>\n",
       "      <td>0.912529</td>\n",
       "      <td>0.361</td>\n",
       "      <td>0.785850</td>\n",
       "      <td>1.077136</td>\n",
       "    </tr>\n",
       "    <tr>\n",
       "      <th>ownrent</th>\n",
       "      <td>1.002550</td>\n",
       "      <td>0.042830</td>\n",
       "      <td>0.059529</td>\n",
       "      <td>0.953</td>\n",
       "      <td>0.919460</td>\n",
       "      <td>1.085639</td>\n",
       "    </tr>\n",
       "    <tr>\n",
       "      <th>marryun</th>\n",
       "      <td>1.114959</td>\n",
       "      <td>0.037938</td>\n",
       "      <td>3.030157</td>\n",
       "      <td>0.002</td>\n",
       "      <td>1.041359</td>\n",
       "      <td>1.188559</td>\n",
       "    </tr>\n",
       "    <tr>\n",
       "      <th>marryyes</th>\n",
       "      <td>1.057339</td>\n",
       "      <td>0.034350</td>\n",
       "      <td>1.669221</td>\n",
       "      <td>0.095</td>\n",
       "      <td>0.990699</td>\n",
       "      <td>1.123978</td>\n",
       "    </tr>\n",
       "    <tr>\n",
       "      <th>mailord</th>\n",
       "      <td>1.000935</td>\n",
       "      <td>0.085733</td>\n",
       "      <td>0.010906</td>\n",
       "      <td>0.991</td>\n",
       "      <td>0.834613</td>\n",
       "      <td>1.167257</td>\n",
       "    </tr>\n",
       "    <tr>\n",
       "      <th>mailres</th>\n",
       "      <td>0.878202</td>\n",
       "      <td>0.075564</td>\n",
       "      <td>1.611863</td>\n",
       "      <td>0.107</td>\n",
       "      <td>0.731608</td>\n",
       "      <td>1.024795</td>\n",
       "    </tr>\n",
       "    <tr>\n",
       "      <th>mailflag</th>\n",
       "      <td>0.952837</td>\n",
       "      <td>0.080464</td>\n",
       "      <td>0.586142</td>\n",
       "      <td>0.558</td>\n",
       "      <td>0.796737</td>\n",
       "      <td>1.108937</td>\n",
       "    </tr>\n",
       "    <tr>\n",
       "      <th>travel</th>\n",
       "      <td>0.999441</td>\n",
       "      <td>0.047294</td>\n",
       "      <td>0.011811</td>\n",
       "      <td>0.991</td>\n",
       "      <td>0.907691</td>\n",
       "      <td>1.091192</td>\n",
       "    </tr>\n",
       "    <tr>\n",
       "      <th>pcown</th>\n",
       "      <td>1.034908</td>\n",
       "      <td>0.032041</td>\n",
       "      <td>1.089470</td>\n",
       "      <td>0.276</td>\n",
       "      <td>0.972748</td>\n",
       "      <td>1.097067</td>\n",
       "    </tr>\n",
       "    <tr>\n",
       "      <th>creditcd</th>\n",
       "      <td>1.042834</td>\n",
       "      <td>0.045586</td>\n",
       "      <td>0.939626</td>\n",
       "      <td>0.347</td>\n",
       "      <td>0.954397</td>\n",
       "      <td>1.131271</td>\n",
       "    </tr>\n",
       "    <tr>\n",
       "      <th>retcalls</th>\n",
       "      <td>1.012118</td>\n",
       "      <td>0.185900</td>\n",
       "      <td>0.065184</td>\n",
       "      <td>0.948</td>\n",
       "      <td>0.651472</td>\n",
       "      <td>1.372764</td>\n",
       "    </tr>\n",
       "    <tr>\n",
       "      <th>retaccpt</th>\n",
       "      <td>0.880142</td>\n",
       "      <td>0.094740</td>\n",
       "      <td>1.265128</td>\n",
       "      <td>0.206</td>\n",
       "      <td>0.696346</td>\n",
       "      <td>1.063937</td>\n",
       "    </tr>\n",
       "    <tr>\n",
       "      <th>newcelly</th>\n",
       "      <td>0.931917</td>\n",
       "      <td>0.025418</td>\n",
       "      <td>2.678546</td>\n",
       "      <td>0.007</td>\n",
       "      <td>0.882607</td>\n",
       "      <td>0.981228</td>\n",
       "    </tr>\n",
       "    <tr>\n",
       "      <th>newcelln</th>\n",
       "      <td>0.994968</td>\n",
       "      <td>0.031370</td>\n",
       "      <td>0.160407</td>\n",
       "      <td>0.873</td>\n",
       "      <td>0.934110</td>\n",
       "      <td>1.055826</td>\n",
       "    </tr>\n",
       "    <tr>\n",
       "      <th>refer</th>\n",
       "      <td>0.951183</td>\n",
       "      <td>0.040087</td>\n",
       "      <td>1.217792</td>\n",
       "      <td>0.223</td>\n",
       "      <td>0.873415</td>\n",
       "      <td>1.028951</td>\n",
       "    </tr>\n",
       "    <tr>\n",
       "      <th>incmiss</th>\n",
       "      <td>0.912555</td>\n",
       "      <td>0.054811</td>\n",
       "      <td>1.595384</td>\n",
       "      <td>0.111</td>\n",
       "      <td>0.806221</td>\n",
       "      <td>1.018889</td>\n",
       "    </tr>\n",
       "    <tr>\n",
       "      <th>income</th>\n",
       "      <td>0.986846</td>\n",
       "      <td>0.005955</td>\n",
       "      <td>2.208819</td>\n",
       "      <td>0.027</td>\n",
       "      <td>0.975293</td>\n",
       "      <td>0.998399</td>\n",
       "    </tr>\n",
       "    <tr>\n",
       "      <th>mcycle</th>\n",
       "      <td>1.129973</td>\n",
       "      <td>0.100550</td>\n",
       "      <td>1.292612</td>\n",
       "      <td>0.196</td>\n",
       "      <td>0.934905</td>\n",
       "      <td>1.325040</td>\n",
       "    </tr>\n",
       "    <tr>\n",
       "      <th>setprcm</th>\n",
       "      <td>0.908111</td>\n",
       "      <td>0.036791</td>\n",
       "      <td>2.497601</td>\n",
       "      <td>0.013</td>\n",
       "      <td>0.836737</td>\n",
       "      <td>0.979485</td>\n",
       "    </tr>\n",
       "    <tr>\n",
       "      <th>setprc</th>\n",
       "      <td>1.000620</td>\n",
       "      <td>0.000283</td>\n",
       "      <td>2.192644</td>\n",
       "      <td>0.028</td>\n",
       "      <td>1.000071</td>\n",
       "      <td>1.001169</td>\n",
       "    </tr>\n",
       "    <tr>\n",
       "      <th>retcall</th>\n",
       "      <td>2.211280</td>\n",
       "      <td>0.430283</td>\n",
       "      <td>2.815076</td>\n",
       "      <td>0.005</td>\n",
       "      <td>1.376531</td>\n",
       "      <td>3.046030</td>\n",
       "    </tr>\n",
       "  </tbody>\n",
       "</table>\n",
       "</div>"
      ],
      "text/plain": [
       "          Odds ratios   std err          z  P>|z|    [0.025    0.975]\n",
       "revenue      1.001965  0.000800   2.457656  0.014  1.000414  1.003517\n",
       "mou          0.999719  0.000050   5.657852  0.000  0.999623  0.999815\n",
       "recchrge     0.996882  0.000886   3.519019  0.000  0.995163  0.998601\n",
       "directas     0.998804  0.005932   0.201561  0.840  0.987297  1.010312\n",
       "overage      1.000761  0.000281   2.710142  0.007  1.000216  1.001305\n",
       "roam         1.007116  0.002078   3.424167  0.001  1.003084  1.011148\n",
       "changem      0.999508  0.000053   9.196449  0.000  0.999404  0.999612\n",
       "changer      1.002306  0.000370   6.239389  0.000  1.001589  1.003023\n",
       "dropvce      1.011403  0.007337   1.554212  0.120  0.997170  1.025635\n",
       "blckvce      1.006423  0.007203   0.891614  0.373  0.992448  1.020397\n",
       "unansvce     1.000922  0.000448   2.056833  0.040  1.000052  1.001791\n",
       "custcare     0.994067  0.002537   2.338344  0.019  0.989144  0.998989\n",
       "threeway     0.970166  0.010919   2.732294  0.006  0.948984  0.991349\n",
       "mourec       1.000134  0.000132   1.017586  0.309  0.999879  1.000389\n",
       "outcalls     1.001119  0.000591   1.893330  0.058  0.999972  1.002266\n",
       "incalls      0.996898  0.001054   2.941363  0.003  0.994853  0.998944\n",
       "peakvce      0.999331  0.000219   3.058630  0.002  0.998906  0.999755\n",
       "opeakvce     0.999792  0.000266   0.782782  0.434  0.999277  1.000307\n",
       "dropblk      0.996890  0.007017   0.443153  0.658  0.983277  1.010504\n",
       "callfwdv     0.997359  0.023091   0.114378  0.909  0.952562  1.042156\n",
       "callwait     1.002087  0.003147   0.663017  0.507  0.995981  1.008192\n",
       "months       0.978940  0.001956  10.766593  0.000  0.975145  0.982734\n",
       "uniqsubs     1.202489  0.024034   8.425084  0.000  1.155863  1.249115\n",
       "actvsubs     0.814044  0.022717   8.185659  0.000  0.769973  0.858116\n",
       "phones       1.049895  0.019075   2.615664  0.009  1.012889  1.086901\n",
       "models       1.013836  0.028257   0.489652  0.624  0.959017  1.068655\n",
       "eqpdays      1.001443  0.000075  19.295045  0.000  1.001298  1.001588\n",
       "age1         0.996703  0.000869   3.792736  0.000  0.995016  0.998389\n",
       "age2         0.998832  0.000679   1.719703  0.085  0.997514  1.000150\n",
       "children     1.099030  0.030935   3.201248  0.001  1.039016  1.159043\n",
       "credita      0.836906  0.029712   5.489111  0.000  0.779265  0.894548\n",
       "creditaa     0.695820  0.024061  12.642093  0.000  0.649142  0.742498\n",
       "prizmrur     1.068799  0.052975   1.298709  0.194  0.966028  1.171570\n",
       "prizmub      0.961151  0.023458   1.656086  0.098  0.915641  1.006660\n",
       "prizmtwn     1.047320  0.032935   1.436775  0.151  0.983426  1.111214\n",
       "refurb       1.263656  0.040384   6.528720  0.000  1.185311  1.342001\n",
       "webcap       0.855400  0.032130   4.500449  0.000  0.793068  0.917732\n",
       "truck        1.027151  0.036976   0.734275  0.463  0.955417  1.098884\n",
       "rv           1.012175  0.048597   0.250539  0.802  0.917898  1.106453\n",
       "occprof      0.980360  0.031865   0.616344  0.538  0.918543  1.042178\n",
       "occcler      1.040190  0.077919   0.515791  0.606  0.889027  1.191354\n",
       "occcrft      0.980363  0.061660   0.318470  0.750  0.860743  1.099983\n",
       "occstud      1.127220  0.137379   0.926054  0.354  0.860705  1.393736\n",
       "occhmkr      1.291947  0.245575   1.188830  0.235  0.815532  1.768362\n",
       "occret       0.960872  0.087007   0.449713  0.653  0.792077  1.129666\n",
       "occself      0.931493  0.075074   0.912529  0.361  0.785850  1.077136\n",
       "ownrent      1.002550  0.042830   0.059529  0.953  0.919460  1.085639\n",
       "marryun      1.114959  0.037938   3.030157  0.002  1.041359  1.188559\n",
       "marryyes     1.057339  0.034350   1.669221  0.095  0.990699  1.123978\n",
       "mailord      1.000935  0.085733   0.010906  0.991  0.834613  1.167257\n",
       "mailres      0.878202  0.075564   1.611863  0.107  0.731608  1.024795\n",
       "mailflag     0.952837  0.080464   0.586142  0.558  0.796737  1.108937\n",
       "travel       0.999441  0.047294   0.011811  0.991  0.907691  1.091192\n",
       "pcown        1.034908  0.032041   1.089470  0.276  0.972748  1.097067\n",
       "creditcd     1.042834  0.045586   0.939626  0.347  0.954397  1.131271\n",
       "retcalls     1.012118  0.185900   0.065184  0.948  0.651472  1.372764\n",
       "retaccpt     0.880142  0.094740   1.265128  0.206  0.696346  1.063937\n",
       "newcelly     0.931917  0.025418   2.678546  0.007  0.882607  0.981228\n",
       "newcelln     0.994968  0.031370   0.160407  0.873  0.934110  1.055826\n",
       "refer        0.951183  0.040087   1.217792  0.223  0.873415  1.028951\n",
       "incmiss      0.912555  0.054811   1.595384  0.111  0.806221  1.018889\n",
       "income       0.986846  0.005955   2.208819  0.027  0.975293  0.998399\n",
       "mcycle       1.129973  0.100550   1.292612  0.196  0.934905  1.325040\n",
       "setprcm      0.908111  0.036791   2.497601  0.013  0.836737  0.979485\n",
       "setprc       1.000620  0.000283   2.192644  0.028  1.000071  1.001169\n",
       "retcall      2.211280  0.430283   2.815076  0.005  1.376531  3.046030"
      ]
     },
     "execution_count": 14,
     "metadata": {},
     "output_type": "execute_result"
    }
   ],
   "source": [
    "odds_ratios(m1)"
   ]
  },
  {
   "cell_type": "markdown",
   "id": "1cca5638-2a97-49da-87fb-b61cfea0b7c8",
   "metadata": {
    "tags": []
   },
   "source": [
    "##### Model predictions"
   ]
  },
  {
   "cell_type": "markdown",
   "id": "3aade6d1-67bb-4a9c-8cd9-156122990032",
   "metadata": {
    "tags": []
   },
   "source": [
    "#### x"
   ]
  },
  {
   "cell_type": "code",
   "execution_count": null,
   "id": "5dd1381d-ae28-4e62-bb59-7cb6f4caf5ff",
   "metadata": {},
   "outputs": [],
   "source": []
  },
  {
   "cell_type": "code",
   "execution_count": null,
   "id": "b46211b2-522f-4fe6-88ab-702ab136c4ec",
   "metadata": {},
   "outputs": [],
   "source": []
  },
  {
   "cell_type": "markdown",
   "id": "33a98af0-1b5a-4000-ae53-346c1fb1ffbc",
   "metadata": {
    "tags": []
   },
   "source": [
    "## "
   ]
  },
  {
   "cell_type": "markdown",
   "id": "b3e42d30-1c9f-4346-b5ba-58f9eea0515d",
   "metadata": {
    "tags": []
   },
   "source": [
    "## Manual models compilation"
   ]
  },
  {
   "cell_type": "markdown",
   "id": "a4cb8df3-1563-44c8-ba59-05b382e8e9e5",
   "metadata": {
    "tags": []
   },
   "source": [
    "# "
   ]
  },
  {
   "cell_type": "markdown",
   "id": "7ac6c542-56b2-4780-af7d-58e95f11ccb3",
   "metadata": {
    "tags": []
   },
   "source": [
    "# Evaluating models"
   ]
  },
  {
   "cell_type": "markdown",
   "id": "c1fa31b0-2ffb-4daf-959a-a00518f1ab31",
   "metadata": {
    "tags": []
   },
   "source": [
    "# "
   ]
  },
  {
   "cell_type": "markdown",
   "id": "00448247-d225-4e2a-b46a-6a0c8e6d2f3d",
   "metadata": {
    "tags": []
   },
   "source": [
    "# Building models"
   ]
  },
  {
   "cell_type": "markdown",
   "id": "3ef3f8cd-0265-4682-aee4-1867b7ce5e63",
   "metadata": {},
   "source": [
    "# Header"
   ]
  },
  {
   "cell_type": "markdown",
   "id": "784be4db-1c06-43e0-a4da-86b1bbcde318",
   "metadata": {},
   "source": [
    "# *Notes*"
   ]
  },
  {
   "cell_type": "markdown",
   "id": "b34c662c-f724-412f-86d7-75647d9b5448",
   "metadata": {},
   "source": [
    "---"
   ]
  },
  {
   "cell_type": "markdown",
   "id": "168089c7-257b-4b61-9a65-803e32753196",
   "metadata": {},
   "source": [
    "---"
   ]
  }
 ],
 "metadata": {
  "kernelspec": {
   "display_name": "Python 3 (ipykernel)",
   "language": "python",
   "name": "python3"
  },
  "language_info": {
   "codemirror_mode": {
    "name": "ipython",
    "version": 3
   },
   "file_extension": ".py",
   "mimetype": "text/x-python",
   "name": "python",
   "nbconvert_exporter": "python",
   "pygments_lexer": "ipython3",
   "version": "3.9.1"
  },
  "toc-autonumbering": true,
  "toc-showcode": false,
  "toc-showmarkdowntxt": false,
  "toc-showtags": false
 },
 "nbformat": 4,
 "nbformat_minor": 5
}

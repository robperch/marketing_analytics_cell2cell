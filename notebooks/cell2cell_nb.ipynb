{
 "cells": [
  {
   "cell_type": "markdown",
   "id": "82c1d7a8-d74e-45e1-8937-264331e6d38a",
   "metadata": {},
   "source": [
    "# Cell 2 cell game assignment"
   ]
  },
  {
   "cell_type": "markdown",
   "id": "fd3103f5-1f01-42fe-b72e-7d113f81e37c",
   "metadata": {},
   "source": [
    "---"
   ]
  },
  {
   "cell_type": "markdown",
   "id": "5e63fc46-f231-4ce8-885d-2cbe620b6d57",
   "metadata": {
    "tags": []
   },
   "source": [
    "# "
   ]
  },
  {
   "cell_type": "markdown",
   "id": "4154f37d-fde6-4cef-8617-114a3a2d7d8e",
   "metadata": {},
   "source": [
    "# Imports"
   ]
  },
  {
   "cell_type": "markdown",
   "id": "a98dbaa6-17e1-4b79-93f0-d142aedd0037",
   "metadata": {},
   "source": [
    "#### Standard library imports"
   ]
  },
  {
   "cell_type": "code",
   "execution_count": 1,
   "id": "63099808-51cd-453c-976a-f3060b8650aa",
   "metadata": {
    "execution": {
     "iopub.execute_input": "2023-04-13T03:04:47.044857Z",
     "iopub.status.busy": "2023-04-13T03:04:47.044397Z",
     "iopub.status.idle": "2023-04-13T03:04:47.055962Z",
     "shell.execute_reply": "2023-04-13T03:04:47.055019Z",
     "shell.execute_reply.started": "2023-04-13T03:04:47.044776Z"
    },
    "tags": []
   },
   "outputs": [],
   "source": [
    "import sys\n",
    "sys.path.append(\"../\")\n",
    "\n",
    "import os"
   ]
  },
  {
   "cell_type": "markdown",
   "id": "b94ec94d-0d78-4ec3-a21c-353ccf52eec6",
   "metadata": {},
   "source": [
    "#### Third party imports"
   ]
  },
  {
   "cell_type": "code",
   "execution_count": 25,
   "id": "9e4989d0-ba3a-41cf-8ccb-44cade842a03",
   "metadata": {
    "execution": {
     "iopub.execute_input": "2023-04-13T03:14:22.792270Z",
     "iopub.status.busy": "2023-04-13T03:14:22.791865Z",
     "iopub.status.idle": "2023-04-13T03:14:22.854260Z",
     "shell.execute_reply": "2023-04-13T03:14:22.853043Z",
     "shell.execute_reply.started": "2023-04-13T03:14:22.792240Z"
    },
    "tags": []
   },
   "outputs": [],
   "source": [
    "import pandas as pd\n",
    "pd.set_option('display.max_columns', None)\n",
    "pd.set_option('display.max_rows', 15)\n",
    "import plotly.express as px\n",
    "import matplotlib.pyplot as plt\n",
    "# from sklearn import metrics\n",
    "import plotly.graph_objects as go\n",
    "import numpy as np"
   ]
  },
  {
   "cell_type": "markdown",
   "id": "48755fa3-cba0-4508-9df2-18d50f60551b",
   "metadata": {
    "tags": []
   },
   "source": [
    "#### Local application imports"
   ]
  },
  {
   "cell_type": "code",
   "execution_count": 3,
   "id": "a62e34a6-dea0-48d6-a3bc-c5dcdcdb1718",
   "metadata": {
    "execution": {
     "iopub.execute_input": "2023-04-13T03:04:48.588225Z",
     "iopub.status.busy": "2023-04-13T03:04:48.587312Z",
     "iopub.status.idle": "2023-04-13T03:04:51.158677Z",
     "shell.execute_reply": "2023-04-13T03:04:51.157325Z",
     "shell.execute_reply.started": "2023-04-13T03:04:48.588188Z"
    },
    "tags": []
   },
   "outputs": [],
   "source": [
    "%load_ext autoreload\n",
    "%autoreload 2\n",
    "\n",
    "from pkg_dir.config import *\n",
    "from pkg_dir.src.utils import *\n",
    "from pkg_dir.src.functions import *\n",
    "from pkg_dir.src.parameters import *"
   ]
  },
  {
   "cell_type": "markdown",
   "id": "419fea39-e697-4807-bf44-e115f943ea5c",
   "metadata": {
    "tags": []
   },
   "source": [
    "# "
   ]
  },
  {
   "cell_type": "markdown",
   "id": "d533fe5d-c902-4259-97ee-672d6f2363c6",
   "metadata": {
    "tags": []
   },
   "source": [
    "# Loading data"
   ]
  },
  {
   "cell_type": "code",
   "execution_count": 4,
   "id": "ecb1b8ad-6a65-4fa5-aee4-4d844e50ba12",
   "metadata": {
    "execution": {
     "iopub.execute_input": "2023-04-13T03:04:51.161756Z",
     "iopub.status.busy": "2023-04-13T03:04:51.161375Z",
     "iopub.status.idle": "2023-04-13T03:04:51.226322Z",
     "shell.execute_reply": "2023-04-13T03:04:51.224900Z",
     "shell.execute_reply.started": "2023-04-13T03:04:51.161726Z"
    }
   },
   "outputs": [],
   "source": [
    "data_path = '../pkg_dir/data/cell2cell.csv'"
   ]
  },
  {
   "cell_type": "code",
   "execution_count": 5,
   "id": "5ae38b2c-0a7d-4716-8f06-5bfebde4d026",
   "metadata": {
    "execution": {
     "iopub.execute_input": "2023-04-13T03:04:51.228693Z",
     "iopub.status.busy": "2023-04-13T03:04:51.227894Z",
     "iopub.status.idle": "2023-04-13T03:04:51.860116Z",
     "shell.execute_reply": "2023-04-13T03:04:51.858183Z",
     "shell.execute_reply.started": "2023-04-13T03:04:51.228627Z"
    },
    "tags": []
   },
   "outputs": [],
   "source": [
    "dfr = pd.read_csv(data_path)"
   ]
  },
  {
   "cell_type": "markdown",
   "id": "8ddfa2c2-3488-4e8d-b18a-14ba4f171049",
   "metadata": {
    "tags": []
   },
   "source": [
    "# "
   ]
  },
  {
   "cell_type": "markdown",
   "id": "853ce8f3-8d1d-4e20-ba54-4e29fa21c7ff",
   "metadata": {
    "tags": []
   },
   "source": [
    "# Initial data wrangling"
   ]
  },
  {
   "cell_type": "markdown",
   "id": "099dde80-a4d5-4df4-88a9-0f7afb58895f",
   "metadata": {},
   "source": [
    "##### Adding RFM variables"
   ]
  },
  {
   "cell_type": "code",
   "execution_count": 6,
   "id": "546cd442-1d7c-448f-a0a6-959979f65670",
   "metadata": {
    "execution": {
     "iopub.execute_input": "2023-04-13T03:05:08.484050Z",
     "iopub.status.busy": "2023-04-13T03:05:08.483523Z",
     "iopub.status.idle": "2023-04-13T03:05:09.684083Z",
     "shell.execute_reply": "2023-04-13T03:05:09.682825Z",
     "shell.execute_reply.started": "2023-04-13T03:05:08.484012Z"
    },
    "tags": []
   },
   "outputs": [],
   "source": [
    "## RFM variables\n",
    "num_tiles = 10\n",
    "dfr['rec_ntile'] = mba263.ntile(dfr['eqpdays'], num_tiles)\n",
    "dfr['freq_ntile'] = num_tiles - 1 - mba263.ntile(dfr['mou'], num_tiles)\n",
    "dfr['mon_ntile'] = num_tiles - 1 - mba263.ntile(dfr['recchrge'], num_tiles)"
   ]
  },
  {
   "cell_type": "markdown",
   "id": "14345c6a-65e6-4e7e-beee-c022a4c2acb9",
   "metadata": {
    "tags": []
   },
   "source": [
    "##### Setting the client ID as index"
   ]
  },
  {
   "cell_type": "code",
   "execution_count": 7,
   "id": "02a0d4fd-1466-49c3-a8a3-cdf3a44e3c60",
   "metadata": {
    "execution": {
     "iopub.execute_input": "2023-04-13T03:05:09.687532Z",
     "iopub.status.busy": "2023-04-13T03:05:09.686823Z",
     "iopub.status.idle": "2023-04-13T03:05:09.751073Z",
     "shell.execute_reply": "2023-04-13T03:05:09.750115Z",
     "shell.execute_reply.started": "2023-04-13T03:05:09.687451Z"
    },
    "tags": []
   },
   "outputs": [],
   "source": [
    "dfr.set_index('customer', inplace=True)"
   ]
  },
  {
   "cell_type": "markdown",
   "id": "0b8ce11a-a887-4124-8273-c3e99813a81e",
   "metadata": {},
   "source": [
    "##### Splitting train and test data"
   ]
  },
  {
   "cell_type": "code",
   "execution_count": 8,
   "id": "245e06d7-95d5-4089-afcb-334ced8786be",
   "metadata": {
    "execution": {
     "iopub.execute_input": "2023-04-13T03:05:09.752845Z",
     "iopub.status.busy": "2023-04-13T03:05:09.752264Z",
     "iopub.status.idle": "2023-04-13T03:05:09.949687Z",
     "shell.execute_reply": "2023-04-13T03:05:09.948732Z",
     "shell.execute_reply.started": "2023-04-13T03:05:09.752811Z"
    },
    "scrolled": true,
    "tags": []
   },
   "outputs": [],
   "source": [
    "## Creating new dataframes based on `calibrat` field\n",
    "df_train = dfr[dfr['calibrat'] == 1].copy()\n",
    "df_test = dfr[dfr['calibrat'] == 0].copy()\n",
    "\n",
    "## Dropping `calibrat` field\n",
    "df_train.drop(['calibrat'], axis=1, inplace=True)\n",
    "df_test.drop(['calibrat'], axis=1, inplace=True)"
   ]
  },
  {
   "cell_type": "markdown",
   "id": "e3f78683-360d-4301-8aca-1732b3d4634c",
   "metadata": {
    "tags": []
   },
   "source": [
    "# "
   ]
  },
  {
   "cell_type": "markdown",
   "id": "11ee92b2-e6b0-4575-bb08-bb05c0294e8e",
   "metadata": {
    "tags": []
   },
   "source": [
    "# Data exploration"
   ]
  },
  {
   "cell_type": "markdown",
   "id": "863d7e36-fb17-44db-8955-491764cbaa66",
   "metadata": {
    "tags": []
   },
   "source": [
    "##### Saving summary statistics about the data as dataframe"
   ]
  },
  {
   "cell_type": "code",
   "execution_count": 9,
   "id": "e581fefc-39af-4c9d-be92-0ce08b99d252",
   "metadata": {
    "execution": {
     "iopub.execute_input": "2023-04-13T03:05:27.892985Z",
     "iopub.status.busy": "2023-04-13T03:05:27.892586Z",
     "iopub.status.idle": "2023-04-13T03:05:28.254238Z",
     "shell.execute_reply": "2023-04-13T03:05:28.253104Z",
     "shell.execute_reply.started": "2023-04-13T03:05:27.892954Z"
    },
    "tags": []
   },
   "outputs": [],
   "source": [
    "dfi = dfr.describe().T\n",
    "dfi.drop(['25%', '50%', '75%'], axis=1, inplace=True)"
   ]
  },
  {
   "cell_type": "markdown",
   "id": "971c044e-7924-4da7-a45a-73a87f9127ca",
   "metadata": {
    "tags": []
   },
   "source": [
    "##### Evaluating number of labels in train and test set"
   ]
  },
  {
   "cell_type": "code",
   "execution_count": 10,
   "id": "fa628f61-f081-4eb4-9026-0b20f8e47a4c",
   "metadata": {
    "execution": {
     "iopub.execute_input": "2023-04-13T03:05:28.257259Z",
     "iopub.status.busy": "2023-04-13T03:05:28.256803Z",
     "iopub.status.idle": "2023-04-13T03:05:28.359397Z",
     "shell.execute_reply": "2023-04-13T03:05:28.358445Z",
     "shell.execute_reply.started": "2023-04-13T03:05:28.257227Z"
    },
    "tags": []
   },
   "outputs": [
    {
     "data": {
      "text/html": [
       "<div>\n",
       "<style scoped>\n",
       "    .dataframe tbody tr th:only-of-type {\n",
       "        vertical-align: middle;\n",
       "    }\n",
       "\n",
       "    .dataframe tbody tr th {\n",
       "        vertical-align: top;\n",
       "    }\n",
       "\n",
       "    .dataframe thead th {\n",
       "        text-align: right;\n",
       "    }\n",
       "</style>\n",
       "<table border=\"1\" class=\"dataframe\">\n",
       "  <thead>\n",
       "    <tr style=\"text-align: right;\">\n",
       "      <th></th>\n",
       "      <th></th>\n",
       "      <th>count</th>\n",
       "      <th>churn</th>\n",
       "    </tr>\n",
       "    <tr>\n",
       "      <th>calibrat</th>\n",
       "      <th>churn</th>\n",
       "      <th></th>\n",
       "      <th></th>\n",
       "    </tr>\n",
       "  </thead>\n",
       "  <tbody>\n",
       "    <tr>\n",
       "      <th rowspan=\"2\" valign=\"top\">0</th>\n",
       "      <th>0</th>\n",
       "      <td>30438</td>\n",
       "      <td>0.980385</td>\n",
       "    </tr>\n",
       "    <tr>\n",
       "      <th>1</th>\n",
       "      <td>609</td>\n",
       "      <td>0.019615</td>\n",
       "    </tr>\n",
       "    <tr>\n",
       "      <th rowspan=\"2\" valign=\"top\">1</th>\n",
       "      <th>0</th>\n",
       "      <td>20000</td>\n",
       "      <td>0.500000</td>\n",
       "    </tr>\n",
       "    <tr>\n",
       "      <th>1</th>\n",
       "      <td>20000</td>\n",
       "      <td>0.500000</td>\n",
       "    </tr>\n",
       "  </tbody>\n",
       "</table>\n",
       "</div>"
      ],
      "text/plain": [
       "                count     churn\n",
       "calibrat churn                 \n",
       "0        0      30438  0.980385\n",
       "         1        609  0.019615\n",
       "1        0      20000  0.500000\n",
       "         1      20000  0.500000"
      ]
     },
     "execution_count": 10,
     "metadata": {},
     "output_type": "execute_result"
    }
   ],
   "source": [
    "pd.concat(\n",
    "    [\n",
    "        dfr.groupby(\n",
    "            [\n",
    "                'calibrat',\n",
    "                'churn',\n",
    "            ]\n",
    "        ).agg(\n",
    "            count=('calibrat', 'count')\n",
    "        ),  \n",
    "        dfr.groupby(\n",
    "            [\n",
    "                'calibrat',\n",
    "            ]\n",
    "        )['churn'].value_counts(normalize=True).to_frame()\n",
    "    ],\n",
    "    axis=1\n",
    ")\n"
   ]
  },
  {
   "cell_type": "markdown",
   "id": "84f622d6-9769-4a26-8a17-b8fb7e6c04e1",
   "metadata": {
    "jp-MarkdownHeadingCollapsed": true,
    "tags": []
   },
   "source": [
    "##### Understanding the `churndep` variable"
   ]
  },
  {
   "cell_type": "code",
   "execution_count": null,
   "id": "b3b8f1d0-2155-4183-8ee3-7c20a09c75c0",
   "metadata": {},
   "outputs": [],
   "source": [
    "dfr['calibrat'].value_counts()"
   ]
  },
  {
   "cell_type": "code",
   "execution_count": null,
   "id": "b40fdcd5-99b6-4f87-a8c8-f4cb8ab4baea",
   "metadata": {},
   "outputs": [],
   "source": [
    "dfr['churndep'].value_counts()"
   ]
  },
  {
   "cell_type": "code",
   "execution_count": null,
   "id": "c7d52fa1-bc12-4c2d-92b0-681bece8bc36",
   "metadata": {
    "tags": []
   },
   "outputs": [],
   "source": [
    "dfr.groupby(\n",
    "    [\n",
    "        'calibrat',\n",
    "        'churndep',\n",
    "    ]\n",
    ").agg(\n",
    "    count=('calibrat', 'count')\n",
    ")"
   ]
  },
  {
   "cell_type": "markdown",
   "id": "ec7212df-8292-4446-9179-6ea2c74609bf",
   "metadata": {
    "tags": []
   },
   "source": [
    "# "
   ]
  },
  {
   "cell_type": "markdown",
   "id": "086699c7-ba8b-45ae-9ad2-67ff004259af",
   "metadata": {
    "tags": []
   },
   "source": [
    "# Manual models"
   ]
  },
  {
   "cell_type": "markdown",
   "id": "e45edc61-47e6-4368-8a86-c9b70671f717",
   "metadata": {
    "tags": []
   },
   "source": [
    "##### "
   ]
  },
  {
   "cell_type": "markdown",
   "id": "097abdf3-a19f-4fe9-b33f-d6646139b814",
   "metadata": {
    "tags": []
   },
   "source": [
    "## Model 1\n",
    "### Logistic regression without RFM variables"
   ]
  },
  {
   "cell_type": "markdown",
   "id": "a8e1c03d-b470-4251-8999-8505cf3d6f43",
   "metadata": {
    "tags": []
   },
   "source": [
    "##### Model dataset"
   ]
  },
  {
   "cell_type": "code",
   "execution_count": 11,
   "id": "a193312e-2304-4f57-bc28-6e0f0e11ed0b",
   "metadata": {
    "execution": {
     "iopub.execute_input": "2023-04-13T03:06:25.572259Z",
     "iopub.status.busy": "2023-04-13T03:06:25.570566Z",
     "iopub.status.idle": "2023-04-13T03:06:25.734849Z",
     "shell.execute_reply": "2023-04-13T03:06:25.733759Z",
     "shell.execute_reply.started": "2023-04-13T03:06:25.572217Z"
    },
    "tags": []
   },
   "outputs": [],
   "source": [
    "dfm1_train = df_train.copy()\n",
    "dfm1_test = df_test.copy()"
   ]
  },
  {
   "cell_type": "markdown",
   "id": "46b8d875-84a3-4780-aa63-68026f001bd6",
   "metadata": {
    "tags": []
   },
   "source": [
    "##### Model label and features"
   ]
  },
  {
   "cell_type": "code",
   "execution_count": 12,
   "id": "f02454c4-ca67-4b33-88b3-6a224f8b88e4",
   "metadata": {
    "execution": {
     "iopub.execute_input": "2023-04-13T03:06:31.910324Z",
     "iopub.status.busy": "2023-04-13T03:06:31.909761Z",
     "iopub.status.idle": "2023-04-13T03:06:31.980499Z",
     "shell.execute_reply": "2023-04-13T03:06:31.979315Z",
     "shell.execute_reply.started": "2023-04-13T03:06:31.910275Z"
    },
    "tags": []
   },
   "outputs": [],
   "source": [
    "## Label\n",
    "m1l = 'churndep'\n",
    "\n",
    "## Features\n",
    "m1f = [\n",
    "    # 'calibrat',\n",
    "    # 'churn',\n",
    "    # 'churndep',\n",
    "    'revenue',\n",
    "    'mou',\n",
    "    'recchrge',\n",
    "    'directas',\n",
    "    'overage',\n",
    "    'roam',\n",
    "    'changem',\n",
    "    'changer',\n",
    "    'dropvce',\n",
    "    'blckvce',\n",
    "    'unansvce',\n",
    "    'custcare',\n",
    "    'threeway',\n",
    "    'mourec',\n",
    "    'outcalls',\n",
    "    'incalls',\n",
    "    'peakvce',\n",
    "    'opeakvce',\n",
    "    'dropblk',\n",
    "    'callfwdv',\n",
    "    'callwait',\n",
    "    'months',\n",
    "    'uniqsubs',\n",
    "    'actvsubs',\n",
    "    'phones',\n",
    "    'models',\n",
    "    'eqpdays',\n",
    "    'age1',\n",
    "    'age2',\n",
    "    'children',\n",
    "    'credita',\n",
    "    'creditaa',\n",
    "    'prizmrur',\n",
    "    'prizmub',\n",
    "    'prizmtwn',\n",
    "    'refurb',\n",
    "    'webcap',\n",
    "    'truck',\n",
    "    'rv',\n",
    "    'occprof',\n",
    "    'occcler',\n",
    "    'occcrft',\n",
    "    'occstud',\n",
    "    'occhmkr',\n",
    "    'occret',\n",
    "    'occself',\n",
    "    'ownrent',\n",
    "    'marryun',\n",
    "    'marryyes',\n",
    "    'mailord',\n",
    "    'mailres',\n",
    "    'mailflag',\n",
    "    'travel',\n",
    "    'pcown',\n",
    "    'creditcd',\n",
    "    'retcalls',\n",
    "    'retaccpt',\n",
    "    'newcelly',\n",
    "    'newcelln',\n",
    "    'refer',\n",
    "    'incmiss',\n",
    "    'income',\n",
    "    'mcycle',\n",
    "    'setprcm',\n",
    "    'setprc',\n",
    "    'retcall',\n",
    "    # 'rec_ntile',\n",
    "    # 'freq_ntile',\n",
    "    # 'mon_ntile',\n",
    "]"
   ]
  },
  {
   "cell_type": "markdown",
   "id": "0d401701-b9ac-4bc7-86d7-0fe4b66312eb",
   "metadata": {
    "tags": []
   },
   "source": [
    "##### Model training"
   ]
  },
  {
   "cell_type": "code",
   "execution_count": 13,
   "id": "e936e725-cb95-4309-be69-ffb2914b89bf",
   "metadata": {
    "execution": {
     "iopub.execute_input": "2023-04-13T03:06:34.243033Z",
     "iopub.status.busy": "2023-04-13T03:06:34.242575Z",
     "iopub.status.idle": "2023-04-13T03:06:36.838138Z",
     "shell.execute_reply": "2023-04-13T03:06:36.836920Z",
     "shell.execute_reply.started": "2023-04-13T03:06:34.242996Z"
    },
    "tags": []
   },
   "outputs": [
    {
     "name": "stdout",
     "output_type": "stream",
     "text": [
      "Optimization terminated successfully    (Exit mode 0)\n",
      "            Current function value: 0.6715330588481454\n",
      "            Iterations: 201\n",
      "            Function evaluations: 256\n",
      "            Gradient evaluations: 201\n"
     ]
    }
   ],
   "source": [
    "m1 = logit_reg(\n",
    "    a=dfm1_train[m1l],\n",
    "    b=dfm1_train[m1f],\n",
    "    alpha=0,\n",
    ")"
   ]
  },
  {
   "cell_type": "markdown",
   "id": "65d35036-bcb2-4832-ba15-95c438304291",
   "metadata": {
    "tags": []
   },
   "source": [
    "##### Model coefficients"
   ]
  },
  {
   "cell_type": "code",
   "execution_count": 14,
   "id": "2481026c-3f87-4c22-b744-1b815f0056b5",
   "metadata": {
    "execution": {
     "iopub.execute_input": "2023-04-13T03:06:47.445122Z",
     "iopub.status.busy": "2023-04-13T03:06:47.444703Z",
     "iopub.status.idle": "2023-04-13T03:06:47.639770Z",
     "shell.execute_reply": "2023-04-13T03:06:47.638250Z",
     "shell.execute_reply.started": "2023-04-13T03:06:47.445087Z"
    },
    "scrolled": true,
    "tags": []
   },
   "outputs": [
    {
     "data": {
      "text/html": [
       "<table class=\"simpletable\">\n",
       "<caption>Mba263Logit Regression Results</caption>\n",
       "<tr>\n",
       "  <th>Dep. Variable:</th>       <td>churndep</td>     <th>  No. Observations:  </th>   <td> 38941</td>  \n",
       "</tr>\n",
       "<tr>\n",
       "  <th>Model:</th>              <td>Mba263Logit</td>   <th>  Df Residuals:      </th>   <td> 38874</td>  \n",
       "</tr>\n",
       "<tr>\n",
       "  <th>Method:</th>                 <td>MLE</td>       <th>  Df Model:          </th>   <td>    66</td>  \n",
       "</tr>\n",
       "<tr>\n",
       "  <th>Date:</th>            <td>Wed, 12 Apr 2023</td> <th>  Pseudo R-squ.:     </th>   <td>0.03117</td> \n",
       "</tr>\n",
       "<tr>\n",
       "  <th>Time:</th>                <td>20:06:47</td>     <th>  Log-Likelihood:    </th>  <td> -26150.</td> \n",
       "</tr>\n",
       "<tr>\n",
       "  <th>converged:</th>             <td>True</td>       <th>  LL-Null:           </th>  <td> -26992.</td> \n",
       "</tr>\n",
       "<tr>\n",
       "  <th>Covariance Type:</th>     <td>nonrobust</td>    <th>  LLR p-value:       </th> <td>6.012e-308</td>\n",
       "</tr>\n",
       "</table>\n",
       "<table class=\"simpletable\">\n",
       "<tr>\n",
       "      <td></td>        <th>coef</th>     <th>std err</th>      <th>z</th>      <th>P>|z|</th>  <th>[0.025</th>    <th>0.975]</th>  \n",
       "</tr>\n",
       "<tr>\n",
       "  <th>const</th>    <td>    0.1499</td> <td>    0.095</td> <td>    1.573</td> <td> 0.116</td> <td>   -0.037</td> <td>    0.337</td>\n",
       "</tr>\n",
       "<tr>\n",
       "  <th>revenue</th>  <td>    0.0020</td> <td>    0.001</td> <td>    2.460</td> <td> 0.014</td> <td>    0.000</td> <td>    0.004</td>\n",
       "</tr>\n",
       "<tr>\n",
       "  <th>mou</th>      <td>   -0.0003</td> <td> 4.96e-05</td> <td>   -5.657</td> <td> 0.000</td> <td>   -0.000</td> <td>   -0.000</td>\n",
       "</tr>\n",
       "<tr>\n",
       "  <th>recchrge</th> <td>   -0.0031</td> <td>    0.001</td> <td>   -3.514</td> <td> 0.000</td> <td>   -0.005</td> <td>   -0.001</td>\n",
       "</tr>\n",
       "<tr>\n",
       "  <th>directas</th> <td>   -0.0012</td> <td>    0.006</td> <td>   -0.201</td> <td> 0.840</td> <td>   -0.013</td> <td>    0.010</td>\n",
       "</tr>\n",
       "<tr>\n",
       "  <th>overage</th>  <td>    0.0008</td> <td>    0.000</td> <td>    2.711</td> <td> 0.007</td> <td>    0.000</td> <td>    0.001</td>\n",
       "</tr>\n",
       "<tr>\n",
       "  <th>roam</th>     <td>    0.0071</td> <td>    0.002</td> <td>    3.436</td> <td> 0.001</td> <td>    0.003</td> <td>    0.011</td>\n",
       "</tr>\n",
       "<tr>\n",
       "  <th>changem</th>  <td>   -0.0005</td> <td> 5.35e-05</td> <td>   -9.194</td> <td> 0.000</td> <td>   -0.001</td> <td>   -0.000</td>\n",
       "</tr>\n",
       "<tr>\n",
       "  <th>changer</th>  <td>    0.0023</td> <td>    0.000</td> <td>    6.247</td> <td> 0.000</td> <td>    0.002</td> <td>    0.003</td>\n",
       "</tr>\n",
       "<tr>\n",
       "  <th>dropvce</th>  <td>    0.0113</td> <td>    0.007</td> <td>    1.563</td> <td> 0.118</td> <td>   -0.003</td> <td>    0.026</td>\n",
       "</tr>\n",
       "<tr>\n",
       "  <th>blckvce</th>  <td>    0.0064</td> <td>    0.007</td> <td>    0.894</td> <td> 0.371</td> <td>   -0.008</td> <td>    0.020</td>\n",
       "</tr>\n",
       "<tr>\n",
       "  <th>unansvce</th> <td>    0.0009</td> <td>    0.000</td> <td>    2.058</td> <td> 0.040</td> <td> 4.38e-05</td> <td>    0.002</td>\n",
       "</tr>\n",
       "<tr>\n",
       "  <th>custcare</th> <td>   -0.0060</td> <td>    0.003</td> <td>   -2.331</td> <td> 0.020</td> <td>   -0.011</td> <td>   -0.001</td>\n",
       "</tr>\n",
       "<tr>\n",
       "  <th>threeway</th> <td>   -0.0303</td> <td>    0.011</td> <td>   -2.691</td> <td> 0.007</td> <td>   -0.052</td> <td>   -0.008</td>\n",
       "</tr>\n",
       "<tr>\n",
       "  <th>mourec</th>   <td>    0.0001</td> <td>    0.000</td> <td>    1.018</td> <td> 0.309</td> <td>   -0.000</td> <td>    0.000</td>\n",
       "</tr>\n",
       "<tr>\n",
       "  <th>outcalls</th> <td>    0.0011</td> <td>    0.001</td> <td>    1.894</td> <td> 0.058</td> <td>-3.87e-05</td> <td>    0.002</td>\n",
       "</tr>\n",
       "<tr>\n",
       "  <th>incalls</th>  <td>   -0.0031</td> <td>    0.001</td> <td>   -2.937</td> <td> 0.003</td> <td>   -0.005</td> <td>   -0.001</td>\n",
       "</tr>\n",
       "<tr>\n",
       "  <th>peakvce</th>  <td>   -0.0007</td> <td>    0.000</td> <td>   -3.058</td> <td> 0.002</td> <td>   -0.001</td> <td>   -0.000</td>\n",
       "</tr>\n",
       "<tr>\n",
       "  <th>opeakvce</th> <td>   -0.0002</td> <td>    0.000</td> <td>   -0.783</td> <td> 0.434</td> <td>   -0.001</td> <td>    0.000</td>\n",
       "</tr>\n",
       "<tr>\n",
       "  <th>dropblk</th>  <td>   -0.0031</td> <td>    0.007</td> <td>   -0.442</td> <td> 0.658</td> <td>   -0.017</td> <td>    0.011</td>\n",
       "</tr>\n",
       "<tr>\n",
       "  <th>callfwdv</th> <td>   -0.0026</td> <td>    0.023</td> <td>   -0.114</td> <td> 0.909</td> <td>   -0.048</td> <td>    0.043</td>\n",
       "</tr>\n",
       "<tr>\n",
       "  <th>callwait</th> <td>    0.0021</td> <td>    0.003</td> <td>    0.664</td> <td> 0.507</td> <td>   -0.004</td> <td>    0.008</td>\n",
       "</tr>\n",
       "<tr>\n",
       "  <th>months</th>   <td>   -0.0213</td> <td>    0.002</td> <td>  -10.652</td> <td> 0.000</td> <td>   -0.025</td> <td>   -0.017</td>\n",
       "</tr>\n",
       "<tr>\n",
       "  <th>uniqsubs</th> <td>    0.1844</td> <td>    0.020</td> <td>    9.226</td> <td> 0.000</td> <td>    0.145</td> <td>    0.224</td>\n",
       "</tr>\n",
       "<tr>\n",
       "  <th>actvsubs</th> <td>   -0.2057</td> <td>    0.028</td> <td>   -7.372</td> <td> 0.000</td> <td>   -0.260</td> <td>   -0.151</td>\n",
       "</tr>\n",
       "<tr>\n",
       "  <th>phones</th>   <td>    0.0487</td> <td>    0.018</td> <td>    2.680</td> <td> 0.007</td> <td>    0.013</td> <td>    0.084</td>\n",
       "</tr>\n",
       "<tr>\n",
       "  <th>models</th>   <td>    0.0137</td> <td>    0.028</td> <td>    0.493</td> <td> 0.622</td> <td>   -0.041</td> <td>    0.068</td>\n",
       "</tr>\n",
       "<tr>\n",
       "  <th>eqpdays</th>  <td>    0.0014</td> <td> 7.47e-05</td> <td>   19.309</td> <td> 0.000</td> <td>    0.001</td> <td>    0.002</td>\n",
       "</tr>\n",
       "<tr>\n",
       "  <th>age1</th>     <td>   -0.0033</td> <td>    0.001</td> <td>   -3.786</td> <td> 0.000</td> <td>   -0.005</td> <td>   -0.002</td>\n",
       "</tr>\n",
       "<tr>\n",
       "  <th>age2</th>     <td>   -0.0012</td> <td>    0.001</td> <td>   -1.719</td> <td> 0.086</td> <td>   -0.003</td> <td>    0.000</td>\n",
       "</tr>\n",
       "<tr>\n",
       "  <th>children</th> <td>    0.0944</td> <td>    0.028</td> <td>    3.355</td> <td> 0.001</td> <td>    0.039</td> <td>    0.150</td>\n",
       "</tr>\n",
       "<tr>\n",
       "  <th>credita</th>  <td>   -0.1780</td> <td>    0.036</td> <td>   -5.015</td> <td> 0.000</td> <td>   -0.248</td> <td>   -0.108</td>\n",
       "</tr>\n",
       "<tr>\n",
       "  <th>creditaa</th> <td>   -0.3627</td> <td>    0.035</td> <td>  -10.488</td> <td> 0.000</td> <td>   -0.430</td> <td>   -0.295</td>\n",
       "</tr>\n",
       "<tr>\n",
       "  <th>prizmrur</th> <td>    0.0665</td> <td>    0.050</td> <td>    1.342</td> <td> 0.179</td> <td>   -0.031</td> <td>    0.164</td>\n",
       "</tr>\n",
       "<tr>\n",
       "  <th>prizmub</th>  <td>   -0.0396</td> <td>    0.024</td> <td>   -1.623</td> <td> 0.104</td> <td>   -0.087</td> <td>    0.008</td>\n",
       "</tr>\n",
       "<tr>\n",
       "  <th>prizmtwn</th> <td>    0.0462</td> <td>    0.031</td> <td>    1.470</td> <td> 0.141</td> <td>   -0.015</td> <td>    0.108</td>\n",
       "</tr>\n",
       "<tr>\n",
       "  <th>refurb</th>   <td>    0.2340</td> <td>    0.032</td> <td>    7.322</td> <td> 0.000</td> <td>    0.171</td> <td>    0.297</td>\n",
       "</tr>\n",
       "<tr>\n",
       "  <th>webcap</th>   <td>   -0.1562</td> <td>    0.038</td> <td>   -4.158</td> <td> 0.000</td> <td>   -0.230</td> <td>   -0.083</td>\n",
       "</tr>\n",
       "<tr>\n",
       "  <th>truck</th>    <td>    0.0268</td> <td>    0.036</td> <td>    0.744</td> <td> 0.457</td> <td>   -0.044</td> <td>    0.097</td>\n",
       "</tr>\n",
       "<tr>\n",
       "  <th>rv</th>       <td>    0.0121</td> <td>    0.048</td> <td>    0.252</td> <td> 0.801</td> <td>   -0.082</td> <td>    0.106</td>\n",
       "</tr>\n",
       "<tr>\n",
       "  <th>occprof</th>  <td>   -0.0198</td> <td>    0.033</td> <td>   -0.610</td> <td> 0.542</td> <td>   -0.084</td> <td>    0.044</td>\n",
       "</tr>\n",
       "<tr>\n",
       "  <th>occcler</th>  <td>    0.0394</td> <td>    0.075</td> <td>    0.526</td> <td> 0.599</td> <td>   -0.107</td> <td>    0.186</td>\n",
       "</tr>\n",
       "<tr>\n",
       "  <th>occcrft</th>  <td>   -0.0198</td> <td>    0.063</td> <td>   -0.315</td> <td> 0.753</td> <td>   -0.143</td> <td>    0.103</td>\n",
       "</tr>\n",
       "<tr>\n",
       "  <th>occstud</th>  <td>    0.1198</td> <td>    0.122</td> <td>    0.983</td> <td> 0.326</td> <td>   -0.119</td> <td>    0.359</td>\n",
       "</tr>\n",
       "<tr>\n",
       "  <th>occhmkr</th>  <td>    0.2562</td> <td>    0.190</td> <td>    1.348</td> <td> 0.178</td> <td>   -0.116</td> <td>    0.629</td>\n",
       "</tr>\n",
       "<tr>\n",
       "  <th>occret</th>   <td>   -0.0399</td> <td>    0.091</td> <td>   -0.441</td> <td> 0.659</td> <td>   -0.217</td> <td>    0.138</td>\n",
       "</tr>\n",
       "<tr>\n",
       "  <th>occself</th>  <td>   -0.0710</td> <td>    0.081</td> <td>   -0.881</td> <td> 0.379</td> <td>   -0.229</td> <td>    0.087</td>\n",
       "</tr>\n",
       "<tr>\n",
       "  <th>ownrent</th>  <td>    0.0025</td> <td>    0.043</td> <td>    0.060</td> <td> 0.952</td> <td>   -0.081</td> <td>    0.086</td>\n",
       "</tr>\n",
       "<tr>\n",
       "  <th>marryun</th>  <td>    0.1088</td> <td>    0.034</td> <td>    3.198</td> <td> 0.001</td> <td>    0.042</td> <td>    0.176</td>\n",
       "</tr>\n",
       "<tr>\n",
       "  <th>marryyes</th> <td>    0.0558</td> <td>    0.032</td> <td>    1.716</td> <td> 0.086</td> <td>   -0.008</td> <td>    0.119</td>\n",
       "</tr>\n",
       "<tr>\n",
       "  <th>mailord</th>  <td>    0.0009</td> <td>    0.086</td> <td>    0.011</td> <td> 0.991</td> <td>   -0.167</td> <td>    0.169</td>\n",
       "</tr>\n",
       "<tr>\n",
       "  <th>mailres</th>  <td>   -0.1299</td> <td>    0.086</td> <td>   -1.509</td> <td> 0.131</td> <td>   -0.299</td> <td>    0.039</td>\n",
       "</tr>\n",
       "<tr>\n",
       "  <th>mailflag</th> <td>   -0.0483</td> <td>    0.084</td> <td>   -0.572</td> <td> 0.567</td> <td>   -0.214</td> <td>    0.117</td>\n",
       "</tr>\n",
       "<tr>\n",
       "  <th>travel</th>   <td>   -0.0006</td> <td>    0.047</td> <td>   -0.012</td> <td> 0.991</td> <td>   -0.093</td> <td>    0.092</td>\n",
       "</tr>\n",
       "<tr>\n",
       "  <th>pcown</th>    <td>    0.0343</td> <td>    0.031</td> <td>    1.108</td> <td> 0.268</td> <td>   -0.026</td> <td>    0.095</td>\n",
       "</tr>\n",
       "<tr>\n",
       "  <th>creditcd</th> <td>    0.0419</td> <td>    0.044</td> <td>    0.959</td> <td> 0.337</td> <td>   -0.044</td> <td>    0.128</td>\n",
       "</tr>\n",
       "<tr>\n",
       "  <th>retcalls</th> <td>    0.0120</td> <td>    0.184</td> <td>    0.066</td> <td> 0.948</td> <td>   -0.348</td> <td>    0.372</td>\n",
       "</tr>\n",
       "<tr>\n",
       "  <th>retaccpt</th> <td>   -0.1277</td> <td>    0.108</td> <td>   -1.186</td> <td> 0.236</td> <td>   -0.339</td> <td>    0.083</td>\n",
       "</tr>\n",
       "<tr>\n",
       "  <th>newcelly</th> <td>   -0.0705</td> <td>    0.027</td> <td>   -2.585</td> <td> 0.010</td> <td>   -0.124</td> <td>   -0.017</td>\n",
       "</tr>\n",
       "<tr>\n",
       "  <th>newcelln</th> <td>   -0.0050</td> <td>    0.032</td> <td>   -0.160</td> <td> 0.873</td> <td>   -0.067</td> <td>    0.057</td>\n",
       "</tr>\n",
       "<tr>\n",
       "  <th>refer</th>    <td>   -0.0500</td> <td>    0.042</td> <td>   -1.188</td> <td> 0.235</td> <td>   -0.133</td> <td>    0.033</td>\n",
       "</tr>\n",
       "<tr>\n",
       "  <th>incmiss</th>  <td>   -0.0915</td> <td>    0.060</td> <td>   -1.524</td> <td> 0.128</td> <td>   -0.209</td> <td>    0.026</td>\n",
       "</tr>\n",
       "<tr>\n",
       "  <th>income</th>   <td>   -0.0132</td> <td>    0.006</td> <td>   -2.194</td> <td> 0.028</td> <td>   -0.025</td> <td>   -0.001</td>\n",
       "</tr>\n",
       "<tr>\n",
       "  <th>mcycle</th>   <td>    0.1222</td> <td>    0.089</td> <td>    1.373</td> <td> 0.170</td> <td>   -0.052</td> <td>    0.297</td>\n",
       "</tr>\n",
       "<tr>\n",
       "  <th>setprcm</th>  <td>   -0.0964</td> <td>    0.041</td> <td>   -2.379</td> <td> 0.017</td> <td>   -0.176</td> <td>   -0.017</td>\n",
       "</tr>\n",
       "<tr>\n",
       "  <th>setprc</th>   <td>    0.0006</td> <td>    0.000</td> <td>    2.193</td> <td> 0.028</td> <td>  6.6e-05</td> <td>    0.001</td>\n",
       "</tr>\n",
       "<tr>\n",
       "  <th>retcall</th>  <td>    0.7936</td> <td>    0.195</td> <td>    4.078</td> <td> 0.000</td> <td>    0.412</td> <td>    1.175</td>\n",
       "</tr>\n",
       "</table>"
      ],
      "text/plain": [
       "<class 'statsmodels.iolib.summary.Summary'>\n",
       "\"\"\"\n",
       "                        Mba263Logit Regression Results                        \n",
       "==============================================================================\n",
       "Dep. Variable:               churndep   No. Observations:                38941\n",
       "Model:                    Mba263Logit   Df Residuals:                    38874\n",
       "Method:                           MLE   Df Model:                           66\n",
       "Date:                Wed, 12 Apr 2023   Pseudo R-squ.:                 0.03117\n",
       "Time:                        20:06:47   Log-Likelihood:                -26150.\n",
       "converged:                       True   LL-Null:                       -26992.\n",
       "Covariance Type:            nonrobust   LLR p-value:                6.012e-308\n",
       "==============================================================================\n",
       "                 coef    std err          z      P>|z|      [0.025      0.975]\n",
       "------------------------------------------------------------------------------\n",
       "const          0.1499      0.095      1.573      0.116      -0.037       0.337\n",
       "revenue        0.0020      0.001      2.460      0.014       0.000       0.004\n",
       "mou           -0.0003   4.96e-05     -5.657      0.000      -0.000      -0.000\n",
       "recchrge      -0.0031      0.001     -3.514      0.000      -0.005      -0.001\n",
       "directas      -0.0012      0.006     -0.201      0.840      -0.013       0.010\n",
       "overage        0.0008      0.000      2.711      0.007       0.000       0.001\n",
       "roam           0.0071      0.002      3.436      0.001       0.003       0.011\n",
       "changem       -0.0005   5.35e-05     -9.194      0.000      -0.001      -0.000\n",
       "changer        0.0023      0.000      6.247      0.000       0.002       0.003\n",
       "dropvce        0.0113      0.007      1.563      0.118      -0.003       0.026\n",
       "blckvce        0.0064      0.007      0.894      0.371      -0.008       0.020\n",
       "unansvce       0.0009      0.000      2.058      0.040    4.38e-05       0.002\n",
       "custcare      -0.0060      0.003     -2.331      0.020      -0.011      -0.001\n",
       "threeway      -0.0303      0.011     -2.691      0.007      -0.052      -0.008\n",
       "mourec         0.0001      0.000      1.018      0.309      -0.000       0.000\n",
       "outcalls       0.0011      0.001      1.894      0.058   -3.87e-05       0.002\n",
       "incalls       -0.0031      0.001     -2.937      0.003      -0.005      -0.001\n",
       "peakvce       -0.0007      0.000     -3.058      0.002      -0.001      -0.000\n",
       "opeakvce      -0.0002      0.000     -0.783      0.434      -0.001       0.000\n",
       "dropblk       -0.0031      0.007     -0.442      0.658      -0.017       0.011\n",
       "callfwdv      -0.0026      0.023     -0.114      0.909      -0.048       0.043\n",
       "callwait       0.0021      0.003      0.664      0.507      -0.004       0.008\n",
       "months        -0.0213      0.002    -10.652      0.000      -0.025      -0.017\n",
       "uniqsubs       0.1844      0.020      9.226      0.000       0.145       0.224\n",
       "actvsubs      -0.2057      0.028     -7.372      0.000      -0.260      -0.151\n",
       "phones         0.0487      0.018      2.680      0.007       0.013       0.084\n",
       "models         0.0137      0.028      0.493      0.622      -0.041       0.068\n",
       "eqpdays        0.0014   7.47e-05     19.309      0.000       0.001       0.002\n",
       "age1          -0.0033      0.001     -3.786      0.000      -0.005      -0.002\n",
       "age2          -0.0012      0.001     -1.719      0.086      -0.003       0.000\n",
       "children       0.0944      0.028      3.355      0.001       0.039       0.150\n",
       "credita       -0.1780      0.036     -5.015      0.000      -0.248      -0.108\n",
       "creditaa      -0.3627      0.035    -10.488      0.000      -0.430      -0.295\n",
       "prizmrur       0.0665      0.050      1.342      0.179      -0.031       0.164\n",
       "prizmub       -0.0396      0.024     -1.623      0.104      -0.087       0.008\n",
       "prizmtwn       0.0462      0.031      1.470      0.141      -0.015       0.108\n",
       "refurb         0.2340      0.032      7.322      0.000       0.171       0.297\n",
       "webcap        -0.1562      0.038     -4.158      0.000      -0.230      -0.083\n",
       "truck          0.0268      0.036      0.744      0.457      -0.044       0.097\n",
       "rv             0.0121      0.048      0.252      0.801      -0.082       0.106\n",
       "occprof       -0.0198      0.033     -0.610      0.542      -0.084       0.044\n",
       "occcler        0.0394      0.075      0.526      0.599      -0.107       0.186\n",
       "occcrft       -0.0198      0.063     -0.315      0.753      -0.143       0.103\n",
       "occstud        0.1198      0.122      0.983      0.326      -0.119       0.359\n",
       "occhmkr        0.2562      0.190      1.348      0.178      -0.116       0.629\n",
       "occret        -0.0399      0.091     -0.441      0.659      -0.217       0.138\n",
       "occself       -0.0710      0.081     -0.881      0.379      -0.229       0.087\n",
       "ownrent        0.0025      0.043      0.060      0.952      -0.081       0.086\n",
       "marryun        0.1088      0.034      3.198      0.001       0.042       0.176\n",
       "marryyes       0.0558      0.032      1.716      0.086      -0.008       0.119\n",
       "mailord        0.0009      0.086      0.011      0.991      -0.167       0.169\n",
       "mailres       -0.1299      0.086     -1.509      0.131      -0.299       0.039\n",
       "mailflag      -0.0483      0.084     -0.572      0.567      -0.214       0.117\n",
       "travel        -0.0006      0.047     -0.012      0.991      -0.093       0.092\n",
       "pcown          0.0343      0.031      1.108      0.268      -0.026       0.095\n",
       "creditcd       0.0419      0.044      0.959      0.337      -0.044       0.128\n",
       "retcalls       0.0120      0.184      0.066      0.948      -0.348       0.372\n",
       "retaccpt      -0.1277      0.108     -1.186      0.236      -0.339       0.083\n",
       "newcelly      -0.0705      0.027     -2.585      0.010      -0.124      -0.017\n",
       "newcelln      -0.0050      0.032     -0.160      0.873      -0.067       0.057\n",
       "refer         -0.0500      0.042     -1.188      0.235      -0.133       0.033\n",
       "incmiss       -0.0915      0.060     -1.524      0.128      -0.209       0.026\n",
       "income        -0.0132      0.006     -2.194      0.028      -0.025      -0.001\n",
       "mcycle         0.1222      0.089      1.373      0.170      -0.052       0.297\n",
       "setprcm       -0.0964      0.041     -2.379      0.017      -0.176      -0.017\n",
       "setprc         0.0006      0.000      2.193      0.028     6.6e-05       0.001\n",
       "retcall        0.7936      0.195      4.078      0.000       0.412       1.175\n",
       "==============================================================================\n",
       "\"\"\""
      ]
     },
     "execution_count": 14,
     "metadata": {},
     "output_type": "execute_result"
    }
   ],
   "source": [
    "m1.summary()"
   ]
  },
  {
   "cell_type": "code",
   "execution_count": 15,
   "id": "371c2a11-3a67-4bd1-b7bd-db7d4197ec2f",
   "metadata": {
    "execution": {
     "iopub.execute_input": "2023-04-13T03:06:47.643553Z",
     "iopub.status.busy": "2023-04-13T03:06:47.642956Z",
     "iopub.status.idle": "2023-04-13T03:06:47.739038Z",
     "shell.execute_reply": "2023-04-13T03:06:47.737900Z",
     "shell.execute_reply.started": "2023-04-13T03:06:47.643513Z"
    },
    "scrolled": true,
    "tags": []
   },
   "outputs": [
    {
     "data": {
      "text/html": [
       "<div>\n",
       "<style scoped>\n",
       "    .dataframe tbody tr th:only-of-type {\n",
       "        vertical-align: middle;\n",
       "    }\n",
       "\n",
       "    .dataframe tbody tr th {\n",
       "        vertical-align: top;\n",
       "    }\n",
       "\n",
       "    .dataframe thead th {\n",
       "        text-align: right;\n",
       "    }\n",
       "</style>\n",
       "<table border=\"1\" class=\"dataframe\">\n",
       "  <thead>\n",
       "    <tr style=\"text-align: right;\">\n",
       "      <th></th>\n",
       "      <th>Odds ratios</th>\n",
       "      <th>std err</th>\n",
       "      <th>z</th>\n",
       "      <th>P&gt;|z|</th>\n",
       "      <th>[0.025</th>\n",
       "      <th>0.975]</th>\n",
       "    </tr>\n",
       "  </thead>\n",
       "  <tbody>\n",
       "    <tr>\n",
       "      <th>revenue</th>\n",
       "      <td>1.001965</td>\n",
       "      <td>0.000800</td>\n",
       "      <td>2.457656</td>\n",
       "      <td>0.014</td>\n",
       "      <td>1.000414</td>\n",
       "      <td>1.003517</td>\n",
       "    </tr>\n",
       "    <tr>\n",
       "      <th>mou</th>\n",
       "      <td>0.999719</td>\n",
       "      <td>0.000050</td>\n",
       "      <td>5.657852</td>\n",
       "      <td>0.000</td>\n",
       "      <td>0.999623</td>\n",
       "      <td>0.999815</td>\n",
       "    </tr>\n",
       "    <tr>\n",
       "      <th>recchrge</th>\n",
       "      <td>0.996882</td>\n",
       "      <td>0.000886</td>\n",
       "      <td>3.519019</td>\n",
       "      <td>0.000</td>\n",
       "      <td>0.995163</td>\n",
       "      <td>0.998601</td>\n",
       "    </tr>\n",
       "    <tr>\n",
       "      <th>directas</th>\n",
       "      <td>0.998804</td>\n",
       "      <td>0.005932</td>\n",
       "      <td>0.201561</td>\n",
       "      <td>0.840</td>\n",
       "      <td>0.987297</td>\n",
       "      <td>1.010312</td>\n",
       "    </tr>\n",
       "    <tr>\n",
       "      <th>overage</th>\n",
       "      <td>1.000761</td>\n",
       "      <td>0.000281</td>\n",
       "      <td>2.710142</td>\n",
       "      <td>0.007</td>\n",
       "      <td>1.000216</td>\n",
       "      <td>1.001305</td>\n",
       "    </tr>\n",
       "    <tr>\n",
       "      <th>roam</th>\n",
       "      <td>1.007116</td>\n",
       "      <td>0.002078</td>\n",
       "      <td>3.424167</td>\n",
       "      <td>0.001</td>\n",
       "      <td>1.003084</td>\n",
       "      <td>1.011148</td>\n",
       "    </tr>\n",
       "    <tr>\n",
       "      <th>changem</th>\n",
       "      <td>0.999508</td>\n",
       "      <td>0.000053</td>\n",
       "      <td>9.196449</td>\n",
       "      <td>0.000</td>\n",
       "      <td>0.999404</td>\n",
       "      <td>0.999612</td>\n",
       "    </tr>\n",
       "    <tr>\n",
       "      <th>changer</th>\n",
       "      <td>1.002306</td>\n",
       "      <td>0.000370</td>\n",
       "      <td>6.239389</td>\n",
       "      <td>0.000</td>\n",
       "      <td>1.001589</td>\n",
       "      <td>1.003023</td>\n",
       "    </tr>\n",
       "    <tr>\n",
       "      <th>dropvce</th>\n",
       "      <td>1.011403</td>\n",
       "      <td>0.007337</td>\n",
       "      <td>1.554212</td>\n",
       "      <td>0.120</td>\n",
       "      <td>0.997170</td>\n",
       "      <td>1.025635</td>\n",
       "    </tr>\n",
       "    <tr>\n",
       "      <th>blckvce</th>\n",
       "      <td>1.006423</td>\n",
       "      <td>0.007203</td>\n",
       "      <td>0.891614</td>\n",
       "      <td>0.373</td>\n",
       "      <td>0.992448</td>\n",
       "      <td>1.020397</td>\n",
       "    </tr>\n",
       "    <tr>\n",
       "      <th>unansvce</th>\n",
       "      <td>1.000922</td>\n",
       "      <td>0.000448</td>\n",
       "      <td>2.056833</td>\n",
       "      <td>0.040</td>\n",
       "      <td>1.000052</td>\n",
       "      <td>1.001791</td>\n",
       "    </tr>\n",
       "    <tr>\n",
       "      <th>custcare</th>\n",
       "      <td>0.994067</td>\n",
       "      <td>0.002537</td>\n",
       "      <td>2.338344</td>\n",
       "      <td>0.019</td>\n",
       "      <td>0.989144</td>\n",
       "      <td>0.998989</td>\n",
       "    </tr>\n",
       "    <tr>\n",
       "      <th>threeway</th>\n",
       "      <td>0.970166</td>\n",
       "      <td>0.010919</td>\n",
       "      <td>2.732294</td>\n",
       "      <td>0.006</td>\n",
       "      <td>0.948984</td>\n",
       "      <td>0.991349</td>\n",
       "    </tr>\n",
       "    <tr>\n",
       "      <th>mourec</th>\n",
       "      <td>1.000134</td>\n",
       "      <td>0.000132</td>\n",
       "      <td>1.017586</td>\n",
       "      <td>0.309</td>\n",
       "      <td>0.999879</td>\n",
       "      <td>1.000389</td>\n",
       "    </tr>\n",
       "    <tr>\n",
       "      <th>outcalls</th>\n",
       "      <td>1.001119</td>\n",
       "      <td>0.000591</td>\n",
       "      <td>1.893330</td>\n",
       "      <td>0.058</td>\n",
       "      <td>0.999972</td>\n",
       "      <td>1.002266</td>\n",
       "    </tr>\n",
       "    <tr>\n",
       "      <th>incalls</th>\n",
       "      <td>0.996898</td>\n",
       "      <td>0.001054</td>\n",
       "      <td>2.941363</td>\n",
       "      <td>0.003</td>\n",
       "      <td>0.994853</td>\n",
       "      <td>0.998944</td>\n",
       "    </tr>\n",
       "    <tr>\n",
       "      <th>peakvce</th>\n",
       "      <td>0.999331</td>\n",
       "      <td>0.000219</td>\n",
       "      <td>3.058630</td>\n",
       "      <td>0.002</td>\n",
       "      <td>0.998906</td>\n",
       "      <td>0.999755</td>\n",
       "    </tr>\n",
       "    <tr>\n",
       "      <th>opeakvce</th>\n",
       "      <td>0.999792</td>\n",
       "      <td>0.000266</td>\n",
       "      <td>0.782782</td>\n",
       "      <td>0.434</td>\n",
       "      <td>0.999277</td>\n",
       "      <td>1.000307</td>\n",
       "    </tr>\n",
       "    <tr>\n",
       "      <th>dropblk</th>\n",
       "      <td>0.996890</td>\n",
       "      <td>0.007017</td>\n",
       "      <td>0.443153</td>\n",
       "      <td>0.658</td>\n",
       "      <td>0.983277</td>\n",
       "      <td>1.010504</td>\n",
       "    </tr>\n",
       "    <tr>\n",
       "      <th>callfwdv</th>\n",
       "      <td>0.997359</td>\n",
       "      <td>0.023091</td>\n",
       "      <td>0.114378</td>\n",
       "      <td>0.909</td>\n",
       "      <td>0.952562</td>\n",
       "      <td>1.042156</td>\n",
       "    </tr>\n",
       "    <tr>\n",
       "      <th>callwait</th>\n",
       "      <td>1.002087</td>\n",
       "      <td>0.003147</td>\n",
       "      <td>0.663017</td>\n",
       "      <td>0.507</td>\n",
       "      <td>0.995981</td>\n",
       "      <td>1.008192</td>\n",
       "    </tr>\n",
       "    <tr>\n",
       "      <th>months</th>\n",
       "      <td>0.978940</td>\n",
       "      <td>0.001956</td>\n",
       "      <td>10.766593</td>\n",
       "      <td>0.000</td>\n",
       "      <td>0.975145</td>\n",
       "      <td>0.982734</td>\n",
       "    </tr>\n",
       "    <tr>\n",
       "      <th>uniqsubs</th>\n",
       "      <td>1.202489</td>\n",
       "      <td>0.024034</td>\n",
       "      <td>8.425084</td>\n",
       "      <td>0.000</td>\n",
       "      <td>1.155863</td>\n",
       "      <td>1.249115</td>\n",
       "    </tr>\n",
       "    <tr>\n",
       "      <th>actvsubs</th>\n",
       "      <td>0.814044</td>\n",
       "      <td>0.022717</td>\n",
       "      <td>8.185659</td>\n",
       "      <td>0.000</td>\n",
       "      <td>0.769973</td>\n",
       "      <td>0.858116</td>\n",
       "    </tr>\n",
       "    <tr>\n",
       "      <th>phones</th>\n",
       "      <td>1.049895</td>\n",
       "      <td>0.019075</td>\n",
       "      <td>2.615664</td>\n",
       "      <td>0.009</td>\n",
       "      <td>1.012889</td>\n",
       "      <td>1.086901</td>\n",
       "    </tr>\n",
       "    <tr>\n",
       "      <th>models</th>\n",
       "      <td>1.013836</td>\n",
       "      <td>0.028257</td>\n",
       "      <td>0.489652</td>\n",
       "      <td>0.624</td>\n",
       "      <td>0.959017</td>\n",
       "      <td>1.068655</td>\n",
       "    </tr>\n",
       "    <tr>\n",
       "      <th>eqpdays</th>\n",
       "      <td>1.001443</td>\n",
       "      <td>0.000075</td>\n",
       "      <td>19.295045</td>\n",
       "      <td>0.000</td>\n",
       "      <td>1.001298</td>\n",
       "      <td>1.001588</td>\n",
       "    </tr>\n",
       "    <tr>\n",
       "      <th>age1</th>\n",
       "      <td>0.996703</td>\n",
       "      <td>0.000869</td>\n",
       "      <td>3.792736</td>\n",
       "      <td>0.000</td>\n",
       "      <td>0.995016</td>\n",
       "      <td>0.998389</td>\n",
       "    </tr>\n",
       "    <tr>\n",
       "      <th>age2</th>\n",
       "      <td>0.998832</td>\n",
       "      <td>0.000679</td>\n",
       "      <td>1.719703</td>\n",
       "      <td>0.085</td>\n",
       "      <td>0.997514</td>\n",
       "      <td>1.000150</td>\n",
       "    </tr>\n",
       "    <tr>\n",
       "      <th>children</th>\n",
       "      <td>1.099030</td>\n",
       "      <td>0.030935</td>\n",
       "      <td>3.201248</td>\n",
       "      <td>0.001</td>\n",
       "      <td>1.039016</td>\n",
       "      <td>1.159043</td>\n",
       "    </tr>\n",
       "    <tr>\n",
       "      <th>credita</th>\n",
       "      <td>0.836906</td>\n",
       "      <td>0.029712</td>\n",
       "      <td>5.489111</td>\n",
       "      <td>0.000</td>\n",
       "      <td>0.779265</td>\n",
       "      <td>0.894548</td>\n",
       "    </tr>\n",
       "    <tr>\n",
       "      <th>creditaa</th>\n",
       "      <td>0.695820</td>\n",
       "      <td>0.024061</td>\n",
       "      <td>12.642093</td>\n",
       "      <td>0.000</td>\n",
       "      <td>0.649142</td>\n",
       "      <td>0.742498</td>\n",
       "    </tr>\n",
       "    <tr>\n",
       "      <th>prizmrur</th>\n",
       "      <td>1.068799</td>\n",
       "      <td>0.052975</td>\n",
       "      <td>1.298709</td>\n",
       "      <td>0.194</td>\n",
       "      <td>0.966028</td>\n",
       "      <td>1.171570</td>\n",
       "    </tr>\n",
       "    <tr>\n",
       "      <th>prizmub</th>\n",
       "      <td>0.961151</td>\n",
       "      <td>0.023458</td>\n",
       "      <td>1.656086</td>\n",
       "      <td>0.098</td>\n",
       "      <td>0.915641</td>\n",
       "      <td>1.006660</td>\n",
       "    </tr>\n",
       "    <tr>\n",
       "      <th>prizmtwn</th>\n",
       "      <td>1.047320</td>\n",
       "      <td>0.032935</td>\n",
       "      <td>1.436775</td>\n",
       "      <td>0.151</td>\n",
       "      <td>0.983426</td>\n",
       "      <td>1.111214</td>\n",
       "    </tr>\n",
       "    <tr>\n",
       "      <th>refurb</th>\n",
       "      <td>1.263656</td>\n",
       "      <td>0.040384</td>\n",
       "      <td>6.528720</td>\n",
       "      <td>0.000</td>\n",
       "      <td>1.185311</td>\n",
       "      <td>1.342001</td>\n",
       "    </tr>\n",
       "    <tr>\n",
       "      <th>webcap</th>\n",
       "      <td>0.855400</td>\n",
       "      <td>0.032130</td>\n",
       "      <td>4.500449</td>\n",
       "      <td>0.000</td>\n",
       "      <td>0.793068</td>\n",
       "      <td>0.917732</td>\n",
       "    </tr>\n",
       "    <tr>\n",
       "      <th>truck</th>\n",
       "      <td>1.027151</td>\n",
       "      <td>0.036976</td>\n",
       "      <td>0.734275</td>\n",
       "      <td>0.463</td>\n",
       "      <td>0.955417</td>\n",
       "      <td>1.098884</td>\n",
       "    </tr>\n",
       "    <tr>\n",
       "      <th>rv</th>\n",
       "      <td>1.012175</td>\n",
       "      <td>0.048597</td>\n",
       "      <td>0.250539</td>\n",
       "      <td>0.802</td>\n",
       "      <td>0.917898</td>\n",
       "      <td>1.106453</td>\n",
       "    </tr>\n",
       "    <tr>\n",
       "      <th>occprof</th>\n",
       "      <td>0.980360</td>\n",
       "      <td>0.031865</td>\n",
       "      <td>0.616344</td>\n",
       "      <td>0.538</td>\n",
       "      <td>0.918543</td>\n",
       "      <td>1.042178</td>\n",
       "    </tr>\n",
       "    <tr>\n",
       "      <th>occcler</th>\n",
       "      <td>1.040190</td>\n",
       "      <td>0.077919</td>\n",
       "      <td>0.515791</td>\n",
       "      <td>0.606</td>\n",
       "      <td>0.889027</td>\n",
       "      <td>1.191354</td>\n",
       "    </tr>\n",
       "    <tr>\n",
       "      <th>occcrft</th>\n",
       "      <td>0.980363</td>\n",
       "      <td>0.061660</td>\n",
       "      <td>0.318470</td>\n",
       "      <td>0.750</td>\n",
       "      <td>0.860743</td>\n",
       "      <td>1.099983</td>\n",
       "    </tr>\n",
       "    <tr>\n",
       "      <th>occstud</th>\n",
       "      <td>1.127220</td>\n",
       "      <td>0.137379</td>\n",
       "      <td>0.926054</td>\n",
       "      <td>0.354</td>\n",
       "      <td>0.860705</td>\n",
       "      <td>1.393736</td>\n",
       "    </tr>\n",
       "    <tr>\n",
       "      <th>occhmkr</th>\n",
       "      <td>1.291947</td>\n",
       "      <td>0.245575</td>\n",
       "      <td>1.188830</td>\n",
       "      <td>0.235</td>\n",
       "      <td>0.815532</td>\n",
       "      <td>1.768362</td>\n",
       "    </tr>\n",
       "    <tr>\n",
       "      <th>occret</th>\n",
       "      <td>0.960872</td>\n",
       "      <td>0.087007</td>\n",
       "      <td>0.449713</td>\n",
       "      <td>0.653</td>\n",
       "      <td>0.792077</td>\n",
       "      <td>1.129666</td>\n",
       "    </tr>\n",
       "    <tr>\n",
       "      <th>occself</th>\n",
       "      <td>0.931493</td>\n",
       "      <td>0.075074</td>\n",
       "      <td>0.912529</td>\n",
       "      <td>0.361</td>\n",
       "      <td>0.785850</td>\n",
       "      <td>1.077136</td>\n",
       "    </tr>\n",
       "    <tr>\n",
       "      <th>ownrent</th>\n",
       "      <td>1.002550</td>\n",
       "      <td>0.042830</td>\n",
       "      <td>0.059529</td>\n",
       "      <td>0.953</td>\n",
       "      <td>0.919460</td>\n",
       "      <td>1.085639</td>\n",
       "    </tr>\n",
       "    <tr>\n",
       "      <th>marryun</th>\n",
       "      <td>1.114959</td>\n",
       "      <td>0.037938</td>\n",
       "      <td>3.030157</td>\n",
       "      <td>0.002</td>\n",
       "      <td>1.041359</td>\n",
       "      <td>1.188559</td>\n",
       "    </tr>\n",
       "    <tr>\n",
       "      <th>marryyes</th>\n",
       "      <td>1.057339</td>\n",
       "      <td>0.034350</td>\n",
       "      <td>1.669221</td>\n",
       "      <td>0.095</td>\n",
       "      <td>0.990699</td>\n",
       "      <td>1.123978</td>\n",
       "    </tr>\n",
       "    <tr>\n",
       "      <th>mailord</th>\n",
       "      <td>1.000935</td>\n",
       "      <td>0.085733</td>\n",
       "      <td>0.010906</td>\n",
       "      <td>0.991</td>\n",
       "      <td>0.834613</td>\n",
       "      <td>1.167257</td>\n",
       "    </tr>\n",
       "    <tr>\n",
       "      <th>mailres</th>\n",
       "      <td>0.878202</td>\n",
       "      <td>0.075564</td>\n",
       "      <td>1.611863</td>\n",
       "      <td>0.107</td>\n",
       "      <td>0.731608</td>\n",
       "      <td>1.024795</td>\n",
       "    </tr>\n",
       "    <tr>\n",
       "      <th>mailflag</th>\n",
       "      <td>0.952837</td>\n",
       "      <td>0.080464</td>\n",
       "      <td>0.586142</td>\n",
       "      <td>0.558</td>\n",
       "      <td>0.796737</td>\n",
       "      <td>1.108937</td>\n",
       "    </tr>\n",
       "    <tr>\n",
       "      <th>travel</th>\n",
       "      <td>0.999441</td>\n",
       "      <td>0.047294</td>\n",
       "      <td>0.011811</td>\n",
       "      <td>0.991</td>\n",
       "      <td>0.907691</td>\n",
       "      <td>1.091192</td>\n",
       "    </tr>\n",
       "    <tr>\n",
       "      <th>pcown</th>\n",
       "      <td>1.034908</td>\n",
       "      <td>0.032041</td>\n",
       "      <td>1.089470</td>\n",
       "      <td>0.276</td>\n",
       "      <td>0.972748</td>\n",
       "      <td>1.097067</td>\n",
       "    </tr>\n",
       "    <tr>\n",
       "      <th>creditcd</th>\n",
       "      <td>1.042834</td>\n",
       "      <td>0.045586</td>\n",
       "      <td>0.939626</td>\n",
       "      <td>0.347</td>\n",
       "      <td>0.954397</td>\n",
       "      <td>1.131271</td>\n",
       "    </tr>\n",
       "    <tr>\n",
       "      <th>retcalls</th>\n",
       "      <td>1.012118</td>\n",
       "      <td>0.185900</td>\n",
       "      <td>0.065184</td>\n",
       "      <td>0.948</td>\n",
       "      <td>0.651472</td>\n",
       "      <td>1.372764</td>\n",
       "    </tr>\n",
       "    <tr>\n",
       "      <th>retaccpt</th>\n",
       "      <td>0.880142</td>\n",
       "      <td>0.094740</td>\n",
       "      <td>1.265128</td>\n",
       "      <td>0.206</td>\n",
       "      <td>0.696346</td>\n",
       "      <td>1.063937</td>\n",
       "    </tr>\n",
       "    <tr>\n",
       "      <th>newcelly</th>\n",
       "      <td>0.931917</td>\n",
       "      <td>0.025418</td>\n",
       "      <td>2.678546</td>\n",
       "      <td>0.007</td>\n",
       "      <td>0.882607</td>\n",
       "      <td>0.981228</td>\n",
       "    </tr>\n",
       "    <tr>\n",
       "      <th>newcelln</th>\n",
       "      <td>0.994968</td>\n",
       "      <td>0.031370</td>\n",
       "      <td>0.160407</td>\n",
       "      <td>0.873</td>\n",
       "      <td>0.934110</td>\n",
       "      <td>1.055826</td>\n",
       "    </tr>\n",
       "    <tr>\n",
       "      <th>refer</th>\n",
       "      <td>0.951183</td>\n",
       "      <td>0.040087</td>\n",
       "      <td>1.217792</td>\n",
       "      <td>0.223</td>\n",
       "      <td>0.873415</td>\n",
       "      <td>1.028951</td>\n",
       "    </tr>\n",
       "    <tr>\n",
       "      <th>incmiss</th>\n",
       "      <td>0.912555</td>\n",
       "      <td>0.054811</td>\n",
       "      <td>1.595384</td>\n",
       "      <td>0.111</td>\n",
       "      <td>0.806221</td>\n",
       "      <td>1.018889</td>\n",
       "    </tr>\n",
       "    <tr>\n",
       "      <th>income</th>\n",
       "      <td>0.986846</td>\n",
       "      <td>0.005955</td>\n",
       "      <td>2.208819</td>\n",
       "      <td>0.027</td>\n",
       "      <td>0.975293</td>\n",
       "      <td>0.998399</td>\n",
       "    </tr>\n",
       "    <tr>\n",
       "      <th>mcycle</th>\n",
       "      <td>1.129973</td>\n",
       "      <td>0.100550</td>\n",
       "      <td>1.292612</td>\n",
       "      <td>0.196</td>\n",
       "      <td>0.934905</td>\n",
       "      <td>1.325040</td>\n",
       "    </tr>\n",
       "    <tr>\n",
       "      <th>setprcm</th>\n",
       "      <td>0.908111</td>\n",
       "      <td>0.036791</td>\n",
       "      <td>2.497601</td>\n",
       "      <td>0.013</td>\n",
       "      <td>0.836737</td>\n",
       "      <td>0.979485</td>\n",
       "    </tr>\n",
       "    <tr>\n",
       "      <th>setprc</th>\n",
       "      <td>1.000620</td>\n",
       "      <td>0.000283</td>\n",
       "      <td>2.192644</td>\n",
       "      <td>0.028</td>\n",
       "      <td>1.000071</td>\n",
       "      <td>1.001169</td>\n",
       "    </tr>\n",
       "    <tr>\n",
       "      <th>retcall</th>\n",
       "      <td>2.211280</td>\n",
       "      <td>0.430283</td>\n",
       "      <td>2.815076</td>\n",
       "      <td>0.005</td>\n",
       "      <td>1.376531</td>\n",
       "      <td>3.046030</td>\n",
       "    </tr>\n",
       "  </tbody>\n",
       "</table>\n",
       "</div>"
      ],
      "text/plain": [
       "          Odds ratios   std err          z  P>|z|    [0.025    0.975]\n",
       "revenue      1.001965  0.000800   2.457656  0.014  1.000414  1.003517\n",
       "mou          0.999719  0.000050   5.657852  0.000  0.999623  0.999815\n",
       "recchrge     0.996882  0.000886   3.519019  0.000  0.995163  0.998601\n",
       "directas     0.998804  0.005932   0.201561  0.840  0.987297  1.010312\n",
       "overage      1.000761  0.000281   2.710142  0.007  1.000216  1.001305\n",
       "roam         1.007116  0.002078   3.424167  0.001  1.003084  1.011148\n",
       "changem      0.999508  0.000053   9.196449  0.000  0.999404  0.999612\n",
       "changer      1.002306  0.000370   6.239389  0.000  1.001589  1.003023\n",
       "dropvce      1.011403  0.007337   1.554212  0.120  0.997170  1.025635\n",
       "blckvce      1.006423  0.007203   0.891614  0.373  0.992448  1.020397\n",
       "unansvce     1.000922  0.000448   2.056833  0.040  1.000052  1.001791\n",
       "custcare     0.994067  0.002537   2.338344  0.019  0.989144  0.998989\n",
       "threeway     0.970166  0.010919   2.732294  0.006  0.948984  0.991349\n",
       "mourec       1.000134  0.000132   1.017586  0.309  0.999879  1.000389\n",
       "outcalls     1.001119  0.000591   1.893330  0.058  0.999972  1.002266\n",
       "incalls      0.996898  0.001054   2.941363  0.003  0.994853  0.998944\n",
       "peakvce      0.999331  0.000219   3.058630  0.002  0.998906  0.999755\n",
       "opeakvce     0.999792  0.000266   0.782782  0.434  0.999277  1.000307\n",
       "dropblk      0.996890  0.007017   0.443153  0.658  0.983277  1.010504\n",
       "callfwdv     0.997359  0.023091   0.114378  0.909  0.952562  1.042156\n",
       "callwait     1.002087  0.003147   0.663017  0.507  0.995981  1.008192\n",
       "months       0.978940  0.001956  10.766593  0.000  0.975145  0.982734\n",
       "uniqsubs     1.202489  0.024034   8.425084  0.000  1.155863  1.249115\n",
       "actvsubs     0.814044  0.022717   8.185659  0.000  0.769973  0.858116\n",
       "phones       1.049895  0.019075   2.615664  0.009  1.012889  1.086901\n",
       "models       1.013836  0.028257   0.489652  0.624  0.959017  1.068655\n",
       "eqpdays      1.001443  0.000075  19.295045  0.000  1.001298  1.001588\n",
       "age1         0.996703  0.000869   3.792736  0.000  0.995016  0.998389\n",
       "age2         0.998832  0.000679   1.719703  0.085  0.997514  1.000150\n",
       "children     1.099030  0.030935   3.201248  0.001  1.039016  1.159043\n",
       "credita      0.836906  0.029712   5.489111  0.000  0.779265  0.894548\n",
       "creditaa     0.695820  0.024061  12.642093  0.000  0.649142  0.742498\n",
       "prizmrur     1.068799  0.052975   1.298709  0.194  0.966028  1.171570\n",
       "prizmub      0.961151  0.023458   1.656086  0.098  0.915641  1.006660\n",
       "prizmtwn     1.047320  0.032935   1.436775  0.151  0.983426  1.111214\n",
       "refurb       1.263656  0.040384   6.528720  0.000  1.185311  1.342001\n",
       "webcap       0.855400  0.032130   4.500449  0.000  0.793068  0.917732\n",
       "truck        1.027151  0.036976   0.734275  0.463  0.955417  1.098884\n",
       "rv           1.012175  0.048597   0.250539  0.802  0.917898  1.106453\n",
       "occprof      0.980360  0.031865   0.616344  0.538  0.918543  1.042178\n",
       "occcler      1.040190  0.077919   0.515791  0.606  0.889027  1.191354\n",
       "occcrft      0.980363  0.061660   0.318470  0.750  0.860743  1.099983\n",
       "occstud      1.127220  0.137379   0.926054  0.354  0.860705  1.393736\n",
       "occhmkr      1.291947  0.245575   1.188830  0.235  0.815532  1.768362\n",
       "occret       0.960872  0.087007   0.449713  0.653  0.792077  1.129666\n",
       "occself      0.931493  0.075074   0.912529  0.361  0.785850  1.077136\n",
       "ownrent      1.002550  0.042830   0.059529  0.953  0.919460  1.085639\n",
       "marryun      1.114959  0.037938   3.030157  0.002  1.041359  1.188559\n",
       "marryyes     1.057339  0.034350   1.669221  0.095  0.990699  1.123978\n",
       "mailord      1.000935  0.085733   0.010906  0.991  0.834613  1.167257\n",
       "mailres      0.878202  0.075564   1.611863  0.107  0.731608  1.024795\n",
       "mailflag     0.952837  0.080464   0.586142  0.558  0.796737  1.108937\n",
       "travel       0.999441  0.047294   0.011811  0.991  0.907691  1.091192\n",
       "pcown        1.034908  0.032041   1.089470  0.276  0.972748  1.097067\n",
       "creditcd     1.042834  0.045586   0.939626  0.347  0.954397  1.131271\n",
       "retcalls     1.012118  0.185900   0.065184  0.948  0.651472  1.372764\n",
       "retaccpt     0.880142  0.094740   1.265128  0.206  0.696346  1.063937\n",
       "newcelly     0.931917  0.025418   2.678546  0.007  0.882607  0.981228\n",
       "newcelln     0.994968  0.031370   0.160407  0.873  0.934110  1.055826\n",
       "refer        0.951183  0.040087   1.217792  0.223  0.873415  1.028951\n",
       "incmiss      0.912555  0.054811   1.595384  0.111  0.806221  1.018889\n",
       "income       0.986846  0.005955   2.208819  0.027  0.975293  0.998399\n",
       "mcycle       1.129973  0.100550   1.292612  0.196  0.934905  1.325040\n",
       "setprcm      0.908111  0.036791   2.497601  0.013  0.836737  0.979485\n",
       "setprc       1.000620  0.000283   2.192644  0.028  1.000071  1.001169\n",
       "retcall      2.211280  0.430283   2.815076  0.005  1.376531  3.046030"
      ]
     },
     "execution_count": 15,
     "metadata": {},
     "output_type": "execute_result"
    }
   ],
   "source": [
    "dfm1_or = odds_ratios(m1)\n",
    "dfm1_or"
   ]
  },
  {
   "cell_type": "code",
   "execution_count": 16,
   "id": "efddf004-877c-48ec-b01f-9cefdb757469",
   "metadata": {
    "execution": {
     "iopub.execute_input": "2023-04-13T03:06:47.741366Z",
     "iopub.status.busy": "2023-04-13T03:06:47.740716Z",
     "iopub.status.idle": "2023-04-13T03:06:47.869119Z",
     "shell.execute_reply": "2023-04-13T03:06:47.868219Z",
     "shell.execute_reply.started": "2023-04-13T03:06:47.741335Z"
    },
    "tags": []
   },
   "outputs": [],
   "source": [
    "## Adding the standard deviation column to the odds ratios dataframe\n",
    "dfm1_or['std'] = dfm1_test[m1f].std()\n",
    "\n",
    "## Operation between resulting odds ratios and standard deviation\n",
    "dfm1_or['norm_or'] = np.power(dfm1_or['Odds ratios'], dfm1_or['std'])\n",
    "\n",
    "## Correcting odds ratios that are lower than one\n",
    "dfm1_or['norm_or'] = dfm1_or['norm_or'].apply(lambda x: 1/x if x < 1 else x)\n",
    "\n",
    "## Ranking results\n",
    "dfm1_or['rank'] = dfm1_or['norm_or'].rank(ascending=False)\n",
    "dfm1_or.sort_values(by='rank', inplace=True, ascending=True)"
   ]
  },
  {
   "cell_type": "markdown",
   "id": "1cca5638-2a97-49da-87fb-b61cfea0b7c8",
   "metadata": {
    "tags": []
   },
   "source": [
    "##### Predictions"
   ]
  },
  {
   "cell_type": "code",
   "execution_count": 17,
   "id": "5dd1381d-ae28-4e62-bb59-7cb6f4caf5ff",
   "metadata": {
    "execution": {
     "iopub.execute_input": "2023-04-13T03:07:06.211769Z",
     "iopub.status.busy": "2023-04-13T03:07:06.211241Z",
     "iopub.status.idle": "2023-04-13T03:07:06.505555Z",
     "shell.execute_reply": "2023-04-13T03:07:06.503856Z",
     "shell.execute_reply.started": "2023-04-13T03:07:06.211735Z"
    },
    "tags": []
   },
   "outputs": [],
   "source": [
    "## Churn predicted probability\n",
    "dfm1_test['m1_pred_prob'] = m1.predict(dfm1_test[m1f])\n",
    "\n",
    "## Classifying churners in groups\n",
    "dfm1_test['m1_pred_prob_grade'] = 10 - ntile(dfm1_test['m1_pred_prob'], 10)"
   ]
  },
  {
   "cell_type": "code",
   "execution_count": 18,
   "id": "79c1d264-0692-456e-98ad-fe93d1d7ef54",
   "metadata": {
    "execution": {
     "iopub.execute_input": "2023-04-13T03:07:06.509166Z",
     "iopub.status.busy": "2023-04-13T03:07:06.508727Z",
     "iopub.status.idle": "2023-04-13T03:07:06.603324Z",
     "shell.execute_reply": "2023-04-13T03:07:06.602148Z",
     "shell.execute_reply.started": "2023-04-13T03:07:06.509133Z"
    }
   },
   "outputs": [
    {
     "name": "stdout",
     "output_type": "stream",
     "text": [
      "<class 'pandas.core.series.Series'>\n",
      "Int64Index: 31047 entries, 1000002 to 1099979\n",
      "Series name: m1_pred_prob\n",
      "Non-Null Count  Dtype  \n",
      "--------------  -----  \n",
      "30368 non-null  float64\n",
      "dtypes: float64(1)\n",
      "memory usage: 485.1 KB\n"
     ]
    }
   ],
   "source": [
    "dfm1_test['m1_pred_prob'].info()"
   ]
  },
  {
   "cell_type": "markdown",
   "id": "a47cdb43-9ea7-4630-8247-3ed1938f9354",
   "metadata": {
    "tags": []
   },
   "source": [
    "##### "
   ]
  },
  {
   "cell_type": "markdown",
   "id": "cd49db0d-aca0-4656-937c-e317c3ca77f2",
   "metadata": {
    "jp-MarkdownHeadingCollapsed": true,
    "tags": []
   },
   "source": [
    "## Model 2\n",
    "### Logistic regression with regularization"
   ]
  },
  {
   "cell_type": "markdown",
   "id": "af3ec309-c698-446b-bc8c-6f5129c5ee84",
   "metadata": {
    "jp-MarkdownHeadingCollapsed": true,
    "tags": []
   },
   "source": [
    "##### Model dataset"
   ]
  },
  {
   "cell_type": "code",
   "execution_count": null,
   "id": "db27bdb3-aa1a-4a6c-b9fc-a3a641b5f8c7",
   "metadata": {
    "tags": []
   },
   "outputs": [],
   "source": [
    "dfm2_train = df_train.copy()\n",
    "dfm2_test = df_test.copy()"
   ]
  },
  {
   "cell_type": "markdown",
   "id": "5fa1c862-0fe3-4d8a-9b93-ba4c1c52968b",
   "metadata": {
    "jp-MarkdownHeadingCollapsed": true,
    "tags": []
   },
   "source": [
    "##### Model label and features"
   ]
  },
  {
   "cell_type": "code",
   "execution_count": null,
   "id": "fef06150-8cc7-41ae-804a-0740156d2a7a",
   "metadata": {
    "tags": []
   },
   "outputs": [],
   "source": [
    "## Label\n",
    "m2l = 'churndep'\n",
    "\n",
    "## Features\n",
    "m2f = [\n",
    "    # 'calibrat',\n",
    "    # 'churn',\n",
    "    # 'churndep',\n",
    "    'revenue',\n",
    "    'mou',\n",
    "    'recchrge',\n",
    "    'directas',\n",
    "    'overage',\n",
    "    'roam',\n",
    "    'changem',\n",
    "    'changer',\n",
    "    'dropvce',\n",
    "    'blckvce',\n",
    "    'unansvce',\n",
    "    'custcare',\n",
    "    'threeway',\n",
    "    'mourec',\n",
    "    'outcalls',\n",
    "    'incalls',\n",
    "    'peakvce',\n",
    "    'opeakvce',\n",
    "    'dropblk',\n",
    "    'callfwdv',\n",
    "    'callwait',\n",
    "    'months',\n",
    "    'uniqsubs',\n",
    "    'actvsubs',\n",
    "    'phones',\n",
    "    'models',\n",
    "    'eqpdays',\n",
    "    'age1',\n",
    "    'age2',\n",
    "    'children',\n",
    "    'credita',\n",
    "    'creditaa',\n",
    "    'prizmrur',\n",
    "    'prizmub',\n",
    "    'prizmtwn',\n",
    "    'refurb',\n",
    "    'webcap',\n",
    "    'truck',\n",
    "    'rv',\n",
    "    'occprof',\n",
    "    'occcler',\n",
    "    'occcrft',\n",
    "    'occstud',\n",
    "    'occhmkr',\n",
    "    'occret',\n",
    "    'occself',\n",
    "    'ownrent',\n",
    "    'marryun',\n",
    "    'marryyes',\n",
    "    'mailord',\n",
    "    'mailres',\n",
    "    'mailflag',\n",
    "    'travel',\n",
    "    'pcown',\n",
    "    'creditcd',\n",
    "    'retcalls',\n",
    "    'retaccpt',\n",
    "    'newcelly',\n",
    "    'newcelln',\n",
    "    'refer',\n",
    "    'incmiss',\n",
    "    'income',\n",
    "    'mcycle',\n",
    "    'setprcm',\n",
    "    'setprc',\n",
    "    'retcall',\n",
    "    'rec_ntile',\n",
    "    'freq_ntile',\n",
    "    'mon_ntile',\n",
    "]"
   ]
  },
  {
   "cell_type": "markdown",
   "id": "ffdf5c3b-62c2-403e-a684-2bafa17590aa",
   "metadata": {
    "tags": []
   },
   "source": [
    "##### Model training"
   ]
  },
  {
   "cell_type": "code",
   "execution_count": null,
   "id": "4d5df398-a636-4150-9345-fed61dbb8e3e",
   "metadata": {
    "tags": []
   },
   "outputs": [],
   "source": [
    "m2 = logit_reg(\n",
    "    a=dfm2_train[m2l],\n",
    "    b=dfm2_train[m2f],\n",
    "    alpha=3,\n",
    ")"
   ]
  },
  {
   "cell_type": "markdown",
   "id": "617ae55a-32d0-4c0e-9ad4-c258d3697941",
   "metadata": {
    "tags": []
   },
   "source": [
    "##### Model coefficients"
   ]
  },
  {
   "cell_type": "code",
   "execution_count": null,
   "id": "06b594c1-9f29-400d-999a-0c15608c1553",
   "metadata": {
    "scrolled": true,
    "tags": []
   },
   "outputs": [],
   "source": [
    "m2.summary()"
   ]
  },
  {
   "cell_type": "code",
   "execution_count": null,
   "id": "ab5d610f-4c09-40d0-9227-4d2eb71f1502",
   "metadata": {
    "scrolled": true,
    "tags": []
   },
   "outputs": [],
   "source": [
    "dfm2_or = odds_ratios(m2)\n",
    "dfm2_or"
   ]
  },
  {
   "cell_type": "markdown",
   "id": "2cb128d7-126a-4e4a-86b4-6936db8e4b21",
   "metadata": {
    "tags": []
   },
   "source": [
    "##### Features selection"
   ]
  },
  {
   "cell_type": "code",
   "execution_count": null,
   "id": "a9a10874-0e33-4937-ab8b-8a22c38a7f06",
   "metadata": {
    "tags": []
   },
   "outputs": [],
   "source": [
    "## Adding the standard deviation column to the odds ratios dataframe\n",
    "dfm2_or = dfm2_or.join(\n",
    "    dfi.loc[:, 'std']\n",
    ")\n",
    "\n",
    "## Operation between resulting odds ratios and standard deviation\n",
    "dfm2_or['or**std'] = dfm2_or['Odds ratios']**dfm2_or['std']\n",
    "\n",
    "## Calculating absolute difference between resulting column and 1\n",
    "dfm2_or['diff_or**std'] = abs(1 - dfm2_or['or**std'])\n",
    "\n",
    "## Ranking results\n",
    "dfm2_or['rank'] = dfm2_or['diff_or**std'].rank(ascending=False)\n",
    "dfm2_or.sort_values(by='rank', inplace=True, ascending=True)"
   ]
  },
  {
   "cell_type": "markdown",
   "id": "c867215f-2c32-4d04-8ef6-1372b54c32f2",
   "metadata": {
    "tags": []
   },
   "source": [
    "##### Predictions"
   ]
  },
  {
   "cell_type": "code",
   "execution_count": null,
   "id": "a57e063a-8b83-44fd-ad81-d07e94e96611",
   "metadata": {
    "tags": []
   },
   "outputs": [],
   "source": [
    "## Churn predicted probability\n",
    "dfm2_test['m2_pred_prob'] = m2.predict(dfm2_test[m2f])\n",
    "\n",
    "## Classifying churners in groups\n",
    "dfm2_test['m2_pred_prob_grade'] = 10 - ntile(dfm2_test['m2_pred_prob'], 10)"
   ]
  },
  {
   "cell_type": "markdown",
   "id": "5f6c9c5a-73f3-429c-95f6-e8bce48e9d6a",
   "metadata": {
    "tags": []
   },
   "source": [
    "##### "
   ]
  },
  {
   "cell_type": "markdown",
   "id": "deb6cd22-3ac0-4208-b34f-4e9af9c55895",
   "metadata": {
    "jp-MarkdownHeadingCollapsed": true,
    "tags": []
   },
   "source": [
    "## Model 3\n",
    "### Logistic regression with features selected from model 1"
   ]
  },
  {
   "cell_type": "markdown",
   "id": "8f4b5e4a-41c0-4701-bf3f-f4fd98964cf8",
   "metadata": {
    "tags": []
   },
   "source": [
    "##### Model dataset"
   ]
  },
  {
   "cell_type": "code",
   "execution_count": null,
   "id": "89f58e32-b624-4c19-b09d-bd3ece2b8978",
   "metadata": {
    "tags": []
   },
   "outputs": [],
   "source": [
    "dfm3_train = df_train.copy()\n",
    "dfm3_test = df_test.copy()"
   ]
  },
  {
   "cell_type": "markdown",
   "id": "eb9749e7-f4e2-4820-bd30-693dec73dc12",
   "metadata": {
    "jp-MarkdownHeadingCollapsed": true,
    "tags": []
   },
   "source": [
    "##### Model label and features"
   ]
  },
  {
   "cell_type": "code",
   "execution_count": null,
   "id": "7793ad7a-f141-4884-9502-684e0eaf7f3c",
   "metadata": {
    "tags": []
   },
   "outputs": [],
   "source": [
    "## Label\n",
    "m3l = 'churndep'\n",
    "\n",
    "## Features\n",
    "m3f = [\n",
    "    # 'calibrat',\n",
    "    # 'churn',\n",
    "    # 'churndep',\n",
    "    # 'revenue',\n",
    "    'mou',\n",
    "    # 'recchrge',\n",
    "    # 'directas',\n",
    "    # 'overage',\n",
    "    # 'roam',\n",
    "    'changem',\n",
    "    'changer',\n",
    "    'dropvce',\n",
    "    # 'blckvce',\n",
    "    # 'unansvce',\n",
    "    # 'custcare',\n",
    "    # 'threeway',\n",
    "    # 'mourec',\n",
    "    # 'outcalls',\n",
    "    # 'incalls',\n",
    "    # 'peakvce',\n",
    "    # 'opeakvce',\n",
    "    # 'dropblk',\n",
    "    # 'callfwdv',\n",
    "    # 'callwait',\n",
    "    'months',\n",
    "    'uniqsubs',\n",
    "    'actvsubs',\n",
    "    # 'phones',\n",
    "    # 'models',\n",
    "    'eqpdays',\n",
    "    # 'age1',\n",
    "    # 'age2',\n",
    "    # 'children',\n",
    "    # 'credita',\n",
    "    'creditaa',\n",
    "    # 'prizmrur',\n",
    "    # 'prizmub',\n",
    "    # 'prizmtwn',\n",
    "    # 'refurb',\n",
    "    # 'webcap',\n",
    "    # 'truck',\n",
    "    # 'rv',\n",
    "    # 'occprof',\n",
    "    # 'occcler',\n",
    "    # 'occcrft',\n",
    "    # 'occstud',\n",
    "    # 'occhmkr',\n",
    "    # 'occret',\n",
    "    # 'occself',\n",
    "    # 'ownrent',\n",
    "    # 'marryun',\n",
    "    # 'marryyes',\n",
    "    # 'mailord',\n",
    "    # 'mailres',\n",
    "    # 'mailflag',\n",
    "    # 'travel',\n",
    "    # 'pcown',\n",
    "    # 'creditcd',\n",
    "    # 'retcalls',\n",
    "    # 'retaccpt',\n",
    "    # 'newcelly',\n",
    "    # 'newcelln',\n",
    "    # 'refer',\n",
    "    # 'incmiss',\n",
    "    # 'income',\n",
    "    # 'mcycle',\n",
    "    # 'setprcm',\n",
    "    # 'setprc',\n",
    "    'retcall',\n",
    "    # 'rec_ntile',\n",
    "    # 'freq_ntile',\n",
    "    # 'mon_ntile',\n",
    "]"
   ]
  },
  {
   "cell_type": "markdown",
   "id": "82f16d97-4024-4289-8cca-49ead2e72f9a",
   "metadata": {
    "tags": []
   },
   "source": [
    "##### Model training"
   ]
  },
  {
   "cell_type": "code",
   "execution_count": null,
   "id": "71de5be5-5d51-4b48-ba8d-8cd0af5e7572",
   "metadata": {
    "tags": []
   },
   "outputs": [],
   "source": [
    "m3 = logit_reg(\n",
    "    a=dfm3_train[m3l],\n",
    "    b=dfm3_train[m3f],\n",
    "    alpha=0,\n",
    ")"
   ]
  },
  {
   "cell_type": "markdown",
   "id": "e63e980d-d009-4431-807d-82b79257955b",
   "metadata": {
    "tags": []
   },
   "source": [
    "##### Model coefficients"
   ]
  },
  {
   "cell_type": "code",
   "execution_count": null,
   "id": "46554fa2-3bc7-4bad-8c67-50235af53cf6",
   "metadata": {
    "scrolled": true,
    "tags": []
   },
   "outputs": [],
   "source": [
    "m3.summary()"
   ]
  },
  {
   "cell_type": "code",
   "execution_count": null,
   "id": "f4d77d5e-60cd-4e6c-8128-7f7e5875a0f8",
   "metadata": {
    "scrolled": true,
    "tags": []
   },
   "outputs": [],
   "source": [
    "odds_ratios(m3)"
   ]
  },
  {
   "cell_type": "markdown",
   "id": "049c6696-1a18-49dd-9f56-5eec02e386f3",
   "metadata": {
    "tags": []
   },
   "source": [
    "##### Model predictions"
   ]
  },
  {
   "cell_type": "code",
   "execution_count": null,
   "id": "90ab2457-00dd-4d24-a524-b95940812b37",
   "metadata": {
    "tags": []
   },
   "outputs": [],
   "source": [
    "## Churn predicted probability\n",
    "dfm3_test['m3_pred_prob'] = m3.predict(dfm3_test[m3f])\n",
    "\n",
    "## Classifying churners in groups\n",
    "dfm3_test['m3_pred_prob_grade'] = 10 - ntile(dfm3_test['m3_pred_prob'], 10)"
   ]
  },
  {
   "cell_type": "markdown",
   "id": "760d643a-85fb-4958-9990-3baaf9d47394",
   "metadata": {},
   "source": [
    "## "
   ]
  },
  {
   "cell_type": "markdown",
   "id": "b6df1022-ac93-4d80-b04c-8bdd07c4e83c",
   "metadata": {
    "tags": []
   },
   "source": [
    "## Manual models compilation"
   ]
  },
  {
   "cell_type": "code",
   "execution_count": 85,
   "id": "2b6b3d8b-3a19-4737-8945-1266901647c0",
   "metadata": {
    "execution": {
     "iopub.execute_input": "2023-04-13T19:32:47.176715Z",
     "iopub.status.busy": "2023-04-13T19:32:47.155253Z",
     "iopub.status.idle": "2023-04-13T19:32:48.081440Z",
     "shell.execute_reply": "2023-04-13T19:32:48.075217Z",
     "shell.execute_reply.started": "2023-04-13T19:32:47.175540Z"
    },
    "tags": []
   },
   "outputs": [],
   "source": [
    "## Models objects\n",
    "models = {\n",
    "    \n",
    "    ## \n",
    "    'm1': { \n",
    "        'df_test': dfm1_test,\n",
    "        'label': m1l,\n",
    "        'features': m1f,\n",
    "        'model': m1,\n",
    "    },\n",
    "    \n",
    "#     ## \n",
    "#     'm2': { \n",
    "#         'df_test': dfm2_test,\n",
    "#         'label': m2l,\n",
    "#         'features': m2f,\n",
    "#         'model': m2,\n",
    "#     },\n",
    "    \n",
    "#     ## \n",
    "#     'm3': { \n",
    "#         'df_test': dfm3_test,\n",
    "#         'label': m3l,\n",
    "#         'features': m3f,\n",
    "#         'model': m3,\n",
    "#     },\n",
    "\n",
    "}"
   ]
  },
  {
   "cell_type": "markdown",
   "id": "a4cb8df3-1563-44c8-ba59-05b382e8e9e5",
   "metadata": {
    "tags": []
   },
   "source": [
    "# "
   ]
  },
  {
   "cell_type": "markdown",
   "id": "7ac6c542-56b2-4780-af7d-58e95f11ccb3",
   "metadata": {
    "tags": []
   },
   "source": [
    "# Evaluating models"
   ]
  },
  {
   "cell_type": "markdown",
   "id": "2ce7a1b4-6b02-448b-9755-e412e218e457",
   "metadata": {
    "tags": []
   },
   "source": [
    "##### Lift"
   ]
  },
  {
   "cell_type": "code",
   "execution_count": 86,
   "id": "d2475d44-250b-4910-a3cb-6ded2c8becdb",
   "metadata": {
    "execution": {
     "iopub.execute_input": "2023-04-13T19:32:50.455625Z",
     "iopub.status.busy": "2023-04-13T19:32:50.454531Z",
     "iopub.status.idle": "2023-04-13T19:32:52.275254Z",
     "shell.execute_reply": "2023-04-13T19:32:52.274211Z",
     "shell.execute_reply.started": "2023-04-13T19:32:50.455591Z"
    },
    "tags": []
   },
   "outputs": [
    {
     "data": {
      "application/vnd.plotly.v1+json": {
       "config": {
        "plotlyServerURL": "https://plot.ly"
       },
       "data": [
        {
         "mode": "lines",
         "name": "m1",
         "type": "scatter",
         "x": [
          0,
          1.0101010101010102,
          2.0202020202020203,
          3.0303030303030303,
          4.040404040404041,
          5.050505050505051,
          6.0606060606060606,
          7.070707070707071,
          8.080808080808081,
          9.090909090909092,
          10.101010101010102,
          11.111111111111112,
          12.121212121212121,
          13.131313131313131,
          14.141414141414142,
          15.151515151515152,
          16.161616161616163,
          17.171717171717173,
          18.181818181818183,
          19.191919191919194,
          20.202020202020204,
          21.212121212121215,
          22.222222222222225,
          23.232323232323235,
          24.242424242424242,
          25.252525252525253,
          26.262626262626263,
          27.272727272727273,
          28.282828282828284,
          29.292929292929294,
          30.303030303030305,
          31.313131313131315,
          32.323232323232325,
          33.333333333333336,
          34.343434343434346,
          35.35353535353536,
          36.36363636363637,
          37.37373737373738,
          38.38383838383839,
          39.3939393939394,
          40.40404040404041,
          41.41414141414142,
          42.42424242424243,
          43.43434343434344,
          44.44444444444445,
          45.45454545454546,
          46.46464646464647,
          47.47474747474748,
          48.484848484848484,
          49.494949494949495,
          50.505050505050505,
          51.515151515151516,
          52.525252525252526,
          53.535353535353536,
          54.54545454545455,
          55.55555555555556,
          56.56565656565657,
          57.57575757575758,
          58.58585858585859,
          59.5959595959596,
          60.60606060606061,
          61.61616161616162,
          62.62626262626263,
          63.63636363636364,
          64.64646464646465,
          65.65656565656566,
          66.66666666666667,
          67.67676767676768,
          68.68686868686869,
          69.6969696969697,
          70.70707070707071,
          71.71717171717172,
          72.72727272727273,
          73.73737373737374,
          74.74747474747475,
          75.75757575757576,
          76.76767676767678,
          77.77777777777779,
          78.7878787878788,
          79.7979797979798,
          80.80808080808082,
          81.81818181818183,
          82.82828282828284,
          83.83838383838385,
          84.84848484848486,
          85.85858585858587,
          86.86868686868688,
          87.87878787878789,
          88.8888888888889,
          89.89898989898991,
          90.90909090909092,
          91.91919191919193,
          92.92929292929294,
          93.93939393939395,
          94.94949494949496,
          95.95959595959597,
          96.96969696969697,
          97.97979797979798,
          98.98989898989899,
          100
         ],
         "y": [
          221.60948446200828,
          230.13292617208552,
          232.9740734087779,
          226.0571075436453,
          194.46240678369773,
          184.77587294692955,
          182.81699999036792,
          177.00698043511846,
          176.27998831551116,
          174.04997072510707,
          178.37744518665093,
          176.2961090277485,
          181.1425666773862,
          179.16065999056053,
          174.03086954306963,
          173.84382943722883,
          170.63392119960946,
          169.67682608215222,
          167.0535487191014,
          167.22448167706366,
          164.12903999135253,
          167.54476169750396,
          164.70437627192348,
          164.23382374769218,
          161.09215017064847,
          156.85896172425834,
          155.46757679180888,
          151.75595523603596,
          150.63661352220987,
          151.86713131896596,
          151.933472114366,
          150.91350837649006,
          149.9554223030153,
          148.06435884934177,
          146.2673598568152,
          147.4143003818792,
          146.20630664235023,
          144.1510460721278,
          144.3890024240035,
          143.3470700640701,
          142.76063191601864,
          141.7958560050733,
          140.8867865448822,
          140.00846984444195,
          138.79002172252805,
          138.00543719796906,
          136.1553079168788,
          136.51539980346803,
          135.8251678960696,
          134.1296928327645,
          132.8353735932079,
          131.59921958397265,
          130.72348799311254,
          130.82825536477606,
          130.00621617324853,
          128.90114270048835,
          128.1342631752247,
          127.40108773983845,
          127.264113762341,
          126.84729935998162,
          125.89147332526092,
          125.23501777542852,
          124.32855555690338,
          123.19015603775954,
          122.08052283667044,
          121.52166357689329,
          121.24015621891448,
          121.21200902412217,
          120.44273153512601,
          119.45729662069962,
          118.73441697996935,
          118.97968374035834,
          118.0547429926974,
          116.68831413411547,
          116.04095563139931,
          115.86473940894808,
          115.24489291613654,
          114.42217624592399,
          113.19301130875066,
          112.84315485698374,
          112.50194596691591,
          111.54922983067554,
          111.02624012110928,
          110.10940794903814,
          109.61994024527047,
          109.1376515488524,
          109.84335478603707,
          108.98574031982011,
          108.1433545597368,
          107.1300975539034,
          106.14297419141134,
          105.91546322586068,
          105.50935563497639,
          104.75248649369269,
          104.36717866135274,
          103.27886451484804,
          102.39241545902675,
          101.52060626078021,
          100.83880213678395,
          100
         ]
        }
       ],
       "layout": {
        "height": 500,
        "template": {
         "data": {
          "bar": [
           {
            "error_x": {
             "color": "#2a3f5f"
            },
            "error_y": {
             "color": "#2a3f5f"
            },
            "marker": {
             "line": {
              "color": "#E5ECF6",
              "width": 0.5
             },
             "pattern": {
              "fillmode": "overlay",
              "size": 10,
              "solidity": 0.2
             }
            },
            "type": "bar"
           }
          ],
          "barpolar": [
           {
            "marker": {
             "line": {
              "color": "#E5ECF6",
              "width": 0.5
             },
             "pattern": {
              "fillmode": "overlay",
              "size": 10,
              "solidity": 0.2
             }
            },
            "type": "barpolar"
           }
          ],
          "carpet": [
           {
            "aaxis": {
             "endlinecolor": "#2a3f5f",
             "gridcolor": "white",
             "linecolor": "white",
             "minorgridcolor": "white",
             "startlinecolor": "#2a3f5f"
            },
            "baxis": {
             "endlinecolor": "#2a3f5f",
             "gridcolor": "white",
             "linecolor": "white",
             "minorgridcolor": "white",
             "startlinecolor": "#2a3f5f"
            },
            "type": "carpet"
           }
          ],
          "choropleth": [
           {
            "colorbar": {
             "outlinewidth": 0,
             "ticks": ""
            },
            "type": "choropleth"
           }
          ],
          "contour": [
           {
            "colorbar": {
             "outlinewidth": 0,
             "ticks": ""
            },
            "colorscale": [
             [
              0,
              "#0d0887"
             ],
             [
              0.1111111111111111,
              "#46039f"
             ],
             [
              0.2222222222222222,
              "#7201a8"
             ],
             [
              0.3333333333333333,
              "#9c179e"
             ],
             [
              0.4444444444444444,
              "#bd3786"
             ],
             [
              0.5555555555555556,
              "#d8576b"
             ],
             [
              0.6666666666666666,
              "#ed7953"
             ],
             [
              0.7777777777777778,
              "#fb9f3a"
             ],
             [
              0.8888888888888888,
              "#fdca26"
             ],
             [
              1,
              "#f0f921"
             ]
            ],
            "type": "contour"
           }
          ],
          "contourcarpet": [
           {
            "colorbar": {
             "outlinewidth": 0,
             "ticks": ""
            },
            "type": "contourcarpet"
           }
          ],
          "heatmap": [
           {
            "colorbar": {
             "outlinewidth": 0,
             "ticks": ""
            },
            "colorscale": [
             [
              0,
              "#0d0887"
             ],
             [
              0.1111111111111111,
              "#46039f"
             ],
             [
              0.2222222222222222,
              "#7201a8"
             ],
             [
              0.3333333333333333,
              "#9c179e"
             ],
             [
              0.4444444444444444,
              "#bd3786"
             ],
             [
              0.5555555555555556,
              "#d8576b"
             ],
             [
              0.6666666666666666,
              "#ed7953"
             ],
             [
              0.7777777777777778,
              "#fb9f3a"
             ],
             [
              0.8888888888888888,
              "#fdca26"
             ],
             [
              1,
              "#f0f921"
             ]
            ],
            "type": "heatmap"
           }
          ],
          "heatmapgl": [
           {
            "colorbar": {
             "outlinewidth": 0,
             "ticks": ""
            },
            "colorscale": [
             [
              0,
              "#0d0887"
             ],
             [
              0.1111111111111111,
              "#46039f"
             ],
             [
              0.2222222222222222,
              "#7201a8"
             ],
             [
              0.3333333333333333,
              "#9c179e"
             ],
             [
              0.4444444444444444,
              "#bd3786"
             ],
             [
              0.5555555555555556,
              "#d8576b"
             ],
             [
              0.6666666666666666,
              "#ed7953"
             ],
             [
              0.7777777777777778,
              "#fb9f3a"
             ],
             [
              0.8888888888888888,
              "#fdca26"
             ],
             [
              1,
              "#f0f921"
             ]
            ],
            "type": "heatmapgl"
           }
          ],
          "histogram": [
           {
            "marker": {
             "pattern": {
              "fillmode": "overlay",
              "size": 10,
              "solidity": 0.2
             }
            },
            "type": "histogram"
           }
          ],
          "histogram2d": [
           {
            "colorbar": {
             "outlinewidth": 0,
             "ticks": ""
            },
            "colorscale": [
             [
              0,
              "#0d0887"
             ],
             [
              0.1111111111111111,
              "#46039f"
             ],
             [
              0.2222222222222222,
              "#7201a8"
             ],
             [
              0.3333333333333333,
              "#9c179e"
             ],
             [
              0.4444444444444444,
              "#bd3786"
             ],
             [
              0.5555555555555556,
              "#d8576b"
             ],
             [
              0.6666666666666666,
              "#ed7953"
             ],
             [
              0.7777777777777778,
              "#fb9f3a"
             ],
             [
              0.8888888888888888,
              "#fdca26"
             ],
             [
              1,
              "#f0f921"
             ]
            ],
            "type": "histogram2d"
           }
          ],
          "histogram2dcontour": [
           {
            "colorbar": {
             "outlinewidth": 0,
             "ticks": ""
            },
            "colorscale": [
             [
              0,
              "#0d0887"
             ],
             [
              0.1111111111111111,
              "#46039f"
             ],
             [
              0.2222222222222222,
              "#7201a8"
             ],
             [
              0.3333333333333333,
              "#9c179e"
             ],
             [
              0.4444444444444444,
              "#bd3786"
             ],
             [
              0.5555555555555556,
              "#d8576b"
             ],
             [
              0.6666666666666666,
              "#ed7953"
             ],
             [
              0.7777777777777778,
              "#fb9f3a"
             ],
             [
              0.8888888888888888,
              "#fdca26"
             ],
             [
              1,
              "#f0f921"
             ]
            ],
            "type": "histogram2dcontour"
           }
          ],
          "mesh3d": [
           {
            "colorbar": {
             "outlinewidth": 0,
             "ticks": ""
            },
            "type": "mesh3d"
           }
          ],
          "parcoords": [
           {
            "line": {
             "colorbar": {
              "outlinewidth": 0,
              "ticks": ""
             }
            },
            "type": "parcoords"
           }
          ],
          "pie": [
           {
            "automargin": true,
            "type": "pie"
           }
          ],
          "scatter": [
           {
            "fillpattern": {
             "fillmode": "overlay",
             "size": 10,
             "solidity": 0.2
            },
            "type": "scatter"
           }
          ],
          "scatter3d": [
           {
            "line": {
             "colorbar": {
              "outlinewidth": 0,
              "ticks": ""
             }
            },
            "marker": {
             "colorbar": {
              "outlinewidth": 0,
              "ticks": ""
             }
            },
            "type": "scatter3d"
           }
          ],
          "scattercarpet": [
           {
            "marker": {
             "colorbar": {
              "outlinewidth": 0,
              "ticks": ""
             }
            },
            "type": "scattercarpet"
           }
          ],
          "scattergeo": [
           {
            "marker": {
             "colorbar": {
              "outlinewidth": 0,
              "ticks": ""
             }
            },
            "type": "scattergeo"
           }
          ],
          "scattergl": [
           {
            "marker": {
             "colorbar": {
              "outlinewidth": 0,
              "ticks": ""
             }
            },
            "type": "scattergl"
           }
          ],
          "scattermapbox": [
           {
            "marker": {
             "colorbar": {
              "outlinewidth": 0,
              "ticks": ""
             }
            },
            "type": "scattermapbox"
           }
          ],
          "scatterpolar": [
           {
            "marker": {
             "colorbar": {
              "outlinewidth": 0,
              "ticks": ""
             }
            },
            "type": "scatterpolar"
           }
          ],
          "scatterpolargl": [
           {
            "marker": {
             "colorbar": {
              "outlinewidth": 0,
              "ticks": ""
             }
            },
            "type": "scatterpolargl"
           }
          ],
          "scatterternary": [
           {
            "marker": {
             "colorbar": {
              "outlinewidth": 0,
              "ticks": ""
             }
            },
            "type": "scatterternary"
           }
          ],
          "surface": [
           {
            "colorbar": {
             "outlinewidth": 0,
             "ticks": ""
            },
            "colorscale": [
             [
              0,
              "#0d0887"
             ],
             [
              0.1111111111111111,
              "#46039f"
             ],
             [
              0.2222222222222222,
              "#7201a8"
             ],
             [
              0.3333333333333333,
              "#9c179e"
             ],
             [
              0.4444444444444444,
              "#bd3786"
             ],
             [
              0.5555555555555556,
              "#d8576b"
             ],
             [
              0.6666666666666666,
              "#ed7953"
             ],
             [
              0.7777777777777778,
              "#fb9f3a"
             ],
             [
              0.8888888888888888,
              "#fdca26"
             ],
             [
              1,
              "#f0f921"
             ]
            ],
            "type": "surface"
           }
          ],
          "table": [
           {
            "cells": {
             "fill": {
              "color": "#EBF0F8"
             },
             "line": {
              "color": "white"
             }
            },
            "header": {
             "fill": {
              "color": "#C8D4E3"
             },
             "line": {
              "color": "white"
             }
            },
            "type": "table"
           }
          ]
         },
         "layout": {
          "annotationdefaults": {
           "arrowcolor": "#2a3f5f",
           "arrowhead": 0,
           "arrowwidth": 1
          },
          "autotypenumbers": "strict",
          "coloraxis": {
           "colorbar": {
            "outlinewidth": 0,
            "ticks": ""
           }
          },
          "colorscale": {
           "diverging": [
            [
             0,
             "#8e0152"
            ],
            [
             0.1,
             "#c51b7d"
            ],
            [
             0.2,
             "#de77ae"
            ],
            [
             0.3,
             "#f1b6da"
            ],
            [
             0.4,
             "#fde0ef"
            ],
            [
             0.5,
             "#f7f7f7"
            ],
            [
             0.6,
             "#e6f5d0"
            ],
            [
             0.7,
             "#b8e186"
            ],
            [
             0.8,
             "#7fbc41"
            ],
            [
             0.9,
             "#4d9221"
            ],
            [
             1,
             "#276419"
            ]
           ],
           "sequential": [
            [
             0,
             "#0d0887"
            ],
            [
             0.1111111111111111,
             "#46039f"
            ],
            [
             0.2222222222222222,
             "#7201a8"
            ],
            [
             0.3333333333333333,
             "#9c179e"
            ],
            [
             0.4444444444444444,
             "#bd3786"
            ],
            [
             0.5555555555555556,
             "#d8576b"
            ],
            [
             0.6666666666666666,
             "#ed7953"
            ],
            [
             0.7777777777777778,
             "#fb9f3a"
            ],
            [
             0.8888888888888888,
             "#fdca26"
            ],
            [
             1,
             "#f0f921"
            ]
           ],
           "sequentialminus": [
            [
             0,
             "#0d0887"
            ],
            [
             0.1111111111111111,
             "#46039f"
            ],
            [
             0.2222222222222222,
             "#7201a8"
            ],
            [
             0.3333333333333333,
             "#9c179e"
            ],
            [
             0.4444444444444444,
             "#bd3786"
            ],
            [
             0.5555555555555556,
             "#d8576b"
            ],
            [
             0.6666666666666666,
             "#ed7953"
            ],
            [
             0.7777777777777778,
             "#fb9f3a"
            ],
            [
             0.8888888888888888,
             "#fdca26"
            ],
            [
             1,
             "#f0f921"
            ]
           ]
          },
          "colorway": [
           "#636efa",
           "#EF553B",
           "#00cc96",
           "#ab63fa",
           "#FFA15A",
           "#19d3f3",
           "#FF6692",
           "#B6E880",
           "#FF97FF",
           "#FECB52"
          ],
          "font": {
           "color": "#2a3f5f"
          },
          "geo": {
           "bgcolor": "white",
           "lakecolor": "white",
           "landcolor": "#E5ECF6",
           "showlakes": true,
           "showland": true,
           "subunitcolor": "white"
          },
          "hoverlabel": {
           "align": "left"
          },
          "hovermode": "closest",
          "mapbox": {
           "style": "light"
          },
          "paper_bgcolor": "white",
          "plot_bgcolor": "#E5ECF6",
          "polar": {
           "angularaxis": {
            "gridcolor": "white",
            "linecolor": "white",
            "ticks": ""
           },
           "bgcolor": "#E5ECF6",
           "radialaxis": {
            "gridcolor": "white",
            "linecolor": "white",
            "ticks": ""
           }
          },
          "scene": {
           "xaxis": {
            "backgroundcolor": "#E5ECF6",
            "gridcolor": "white",
            "gridwidth": 2,
            "linecolor": "white",
            "showbackground": true,
            "ticks": "",
            "zerolinecolor": "white"
           },
           "yaxis": {
            "backgroundcolor": "#E5ECF6",
            "gridcolor": "white",
            "gridwidth": 2,
            "linecolor": "white",
            "showbackground": true,
            "ticks": "",
            "zerolinecolor": "white"
           },
           "zaxis": {
            "backgroundcolor": "#E5ECF6",
            "gridcolor": "white",
            "gridwidth": 2,
            "linecolor": "white",
            "showbackground": true,
            "ticks": "",
            "zerolinecolor": "white"
           }
          },
          "shapedefaults": {
           "line": {
            "color": "#2a3f5f"
           }
          },
          "ternary": {
           "aaxis": {
            "gridcolor": "white",
            "linecolor": "white",
            "ticks": ""
           },
           "baxis": {
            "gridcolor": "white",
            "linecolor": "white",
            "ticks": ""
           },
           "bgcolor": "#E5ECF6",
           "caxis": {
            "gridcolor": "white",
            "linecolor": "white",
            "ticks": ""
           }
          },
          "title": {
           "x": 0.05
          },
          "xaxis": {
           "automargin": true,
           "gridcolor": "white",
           "linecolor": "white",
           "ticks": "",
           "title": {
            "standoff": 15
           },
           "zerolinecolor": "white",
           "zerolinewidth": 2
          },
          "yaxis": {
           "automargin": true,
           "gridcolor": "white",
           "linecolor": "white",
           "ticks": "",
           "title": {
            "standoff": 15
           },
           "zerolinecolor": "white",
           "zerolinewidth": 2
          }
         }
        },
        "title": {
         "text": "Lift curves"
        },
        "width": 700,
        "xaxis": {
         "autorange": true,
         "range": [
          0,
          100
         ],
         "type": "linear"
        },
        "yaxis": {
         "autorange": true,
         "range": [
          92.61255147729011,
          240.3615219314878
         ],
         "type": "linear"
        }
       }
      },
      "image/png": "[encoded data removed]",
      "text/html": [
       "<div>                            <div id=\"98419562-4c6f-4f2d-b105-9ef4d5bb23ab\" class=\"plotly-graph-div\" style=\"height:500px; width:700px;\"></div>            <script type=\"text/javascript\">                require([\"plotly\"], function(Plotly) {                    window.PLOTLYENV=window.PLOTLYENV || {};                                    if (document.getElementById(\"98419562-4c6f-4f2d-b105-9ef4d5bb23ab\")) {                    Plotly.newPlot(                        \"98419562-4c6f-4f2d-b105-9ef4d5bb23ab\",                        [{\"mode\":\"lines\",\"name\":\"m1\",\"x\":[0.0,1.0101010101010102,2.0202020202020203,3.0303030303030303,4.040404040404041,5.050505050505051,6.0606060606060606,7.070707070707071,8.080808080808081,9.090909090909092,10.101010101010102,11.111111111111112,12.121212121212121,13.131313131313131,14.141414141414142,15.151515151515152,16.161616161616163,17.171717171717173,18.181818181818183,19.191919191919194,20.202020202020204,21.212121212121215,22.222222222222225,23.232323232323235,24.242424242424242,25.252525252525253,26.262626262626263,27.272727272727273,28.282828282828284,29.292929292929294,30.303030303030305,31.313131313131315,32.323232323232325,33.333333333333336,34.343434343434346,35.35353535353536,36.36363636363637,37.37373737373738,38.38383838383839,39.3939393939394,40.40404040404041,41.41414141414142,42.42424242424243,43.43434343434344,44.44444444444445,45.45454545454546,46.46464646464647,47.47474747474748,48.484848484848484,49.494949494949495,50.505050505050505,51.515151515151516,52.525252525252526,53.535353535353536,54.54545454545455,55.55555555555556,56.56565656565657,57.57575757575758,58.58585858585859,59.5959595959596,60.60606060606061,61.61616161616162,62.62626262626263,63.63636363636364,64.64646464646465,65.65656565656566,66.66666666666667,67.67676767676768,68.68686868686869,69.6969696969697,70.70707070707071,71.71717171717172,72.72727272727273,73.73737373737374,74.74747474747475,75.75757575757576,76.76767676767678,77.77777777777779,78.7878787878788,79.7979797979798,80.80808080808082,81.81818181818183,82.82828282828284,83.83838383838385,84.84848484848486,85.85858585858587,86.86868686868688,87.87878787878789,88.8888888888889,89.89898989898991,90.90909090909092,91.91919191919193,92.92929292929294,93.93939393939395,94.94949494949496,95.95959595959597,96.96969696969697,97.97979797979798,98.98989898989899,100.0],\"y\":[221.60948446200828,230.13292617208552,232.9740734087779,226.0571075436453,194.46240678369773,184.77587294692955,182.81699999036792,177.00698043511846,176.27998831551116,174.04997072510707,178.37744518665093,176.2961090277485,181.1425666773862,179.16065999056053,174.03086954306963,173.84382943722883,170.63392119960946,169.67682608215222,167.0535487191014,167.22448167706366,164.12903999135253,167.54476169750396,164.70437627192348,164.23382374769218,161.09215017064847,156.85896172425834,155.46757679180888,151.75595523603596,150.63661352220987,151.86713131896596,151.933472114366,150.91350837649006,149.9554223030153,148.06435884934177,146.2673598568152,147.4143003818792,146.20630664235023,144.1510460721278,144.3890024240035,143.3470700640701,142.76063191601864,141.7958560050733,140.8867865448822,140.00846984444195,138.79002172252805,138.00543719796906,136.1553079168788,136.51539980346803,135.8251678960696,134.1296928327645,132.8353735932079,131.59921958397265,130.72348799311254,130.82825536477606,130.00621617324853,128.90114270048835,128.1342631752247,127.40108773983845,127.264113762341,126.84729935998162,125.89147332526092,125.23501777542852,124.32855555690338,123.19015603775954,122.08052283667044,121.52166357689329,121.24015621891448,121.21200902412217,120.44273153512601,119.45729662069962,118.73441697996935,118.97968374035834,118.0547429926974,116.68831413411547,116.04095563139931,115.86473940894808,115.24489291613654,114.42217624592399,113.19301130875066,112.84315485698374,112.50194596691591,111.54922983067554,111.02624012110928,110.10940794903814,109.61994024527047,109.1376515488524,109.84335478603707,108.98574031982011,108.1433545597368,107.1300975539034,106.14297419141134,105.91546322586068,105.50935563497639,104.75248649369269,104.36717866135274,103.27886451484804,102.39241545902675,101.52060626078021,100.83880213678395,100.0],\"type\":\"scatter\"}],                        {\"template\":{\"data\":{\"histogram2dcontour\":[{\"type\":\"histogram2dcontour\",\"colorbar\":{\"outlinewidth\":0,\"ticks\":\"\"},\"colorscale\":[[0.0,\"#0d0887\"],[0.1111111111111111,\"#46039f\"],[0.2222222222222222,\"#7201a8\"],[0.3333333333333333,\"#9c179e\"],[0.4444444444444444,\"#bd3786\"],[0.5555555555555556,\"#d8576b\"],[0.6666666666666666,\"#ed7953\"],[0.7777777777777778,\"#fb9f3a\"],[0.8888888888888888,\"#fdca26\"],[1.0,\"#f0f921\"]]}],\"choropleth\":[{\"type\":\"choropleth\",\"colorbar\":{\"outlinewidth\":0,\"ticks\":\"\"}}],\"histogram2d\":[{\"type\":\"histogram2d\",\"colorbar\":{\"outlinewidth\":0,\"ticks\":\"\"},\"colorscale\":[[0.0,\"#0d0887\"],[0.1111111111111111,\"#46039f\"],[0.2222222222222222,\"#7201a8\"],[0.3333333333333333,\"#9c179e\"],[0.4444444444444444,\"#bd3786\"],[0.5555555555555556,\"#d8576b\"],[0.6666666666666666,\"#ed7953\"],[0.7777777777777778,\"#fb9f3a\"],[0.8888888888888888,\"#fdca26\"],[1.0,\"#f0f921\"]]}],\"heatmap\":[{\"type\":\"heatmap\",\"colorbar\":{\"outlinewidth\":0,\"ticks\":\"\"},\"colorscale\":[[0.0,\"#0d0887\"],[0.1111111111111111,\"#46039f\"],[0.2222222222222222,\"#7201a8\"],[0.3333333333333333,\"#9c179e\"],[0.4444444444444444,\"#bd3786\"],[0.5555555555555556,\"#d8576b\"],[0.6666666666666666,\"#ed7953\"],[0.7777777777777778,\"#fb9f3a\"],[0.8888888888888888,\"#fdca26\"],[1.0,\"#f0f921\"]]}],\"heatmapgl\":[{\"type\":\"heatmapgl\",\"colorbar\":{\"outlinewidth\":0,\"ticks\":\"\"},\"colorscale\":[[0.0,\"#0d0887\"],[0.1111111111111111,\"#46039f\"],[0.2222222222222222,\"#7201a8\"],[0.3333333333333333,\"#9c179e\"],[0.4444444444444444,\"#bd3786\"],[0.5555555555555556,\"#d8576b\"],[0.6666666666666666,\"#ed7953\"],[0.7777777777777778,\"#fb9f3a\"],[0.8888888888888888,\"#fdca26\"],[1.0,\"#f0f921\"]]}],\"contourcarpet\":[{\"type\":\"contourcarpet\",\"colorbar\":{\"outlinewidth\":0,\"ticks\":\"\"}}],\"contour\":[{\"type\":\"contour\",\"colorbar\":{\"outlinewidth\":0,\"ticks\":\"\"},\"colorscale\":[[0.0,\"#0d0887\"],[0.1111111111111111,\"#46039f\"],[0.2222222222222222,\"#7201a8\"],[0.3333333333333333,\"#9c179e\"],[0.4444444444444444,\"#bd3786\"],[0.5555555555555556,\"#d8576b\"],[0.6666666666666666,\"#ed7953\"],[0.7777777777777778,\"#fb9f3a\"],[0.8888888888888888,\"#fdca26\"],[1.0,\"#f0f921\"]]}],\"surface\":[{\"type\":\"surface\",\"colorbar\":{\"outlinewidth\":0,\"ticks\":\"\"},\"colorscale\":[[0.0,\"#0d0887\"],[0.1111111111111111,\"#46039f\"],[0.2222222222222222,\"#7201a8\"],[0.3333333333333333,\"#9c179e\"],[0.4444444444444444,\"#bd3786\"],[0.5555555555555556,\"#d8576b\"],[0.6666666666666666,\"#ed7953\"],[0.7777777777777778,\"#fb9f3a\"],[0.8888888888888888,\"#fdca26\"],[1.0,\"#f0f921\"]]}],\"mesh3d\":[{\"type\":\"mesh3d\",\"colorbar\":{\"outlinewidth\":0,\"ticks\":\"\"}}],\"scatter\":[{\"fillpattern\":{\"fillmode\":\"overlay\",\"size\":10,\"solidity\":0.2},\"type\":\"scatter\"}],\"parcoords\":[{\"type\":\"parcoords\",\"line\":{\"colorbar\":{\"outlinewidth\":0,\"ticks\":\"\"}}}],\"scatterpolargl\":[{\"type\":\"scatterpolargl\",\"marker\":{\"colorbar\":{\"outlinewidth\":0,\"ticks\":\"\"}}}],\"bar\":[{\"error_x\":{\"color\":\"#2a3f5f\"},\"error_y\":{\"color\":\"#2a3f5f\"},\"marker\":{\"line\":{\"color\":\"#E5ECF6\",\"width\":0.5},\"pattern\":{\"fillmode\":\"overlay\",\"size\":10,\"solidity\":0.2}},\"type\":\"bar\"}],\"scattergeo\":[{\"type\":\"scattergeo\",\"marker\":{\"colorbar\":{\"outlinewidth\":0,\"ticks\":\"\"}}}],\"scatterpolar\":[{\"type\":\"scatterpolar\",\"marker\":{\"colorbar\":{\"outlinewidth\":0,\"ticks\":\"\"}}}],\"histogram\":[{\"marker\":{\"pattern\":{\"fillmode\":\"overlay\",\"size\":10,\"solidity\":0.2}},\"type\":\"histogram\"}],\"scattergl\":[{\"type\":\"scattergl\",\"marker\":{\"colorbar\":{\"outlinewidth\":0,\"ticks\":\"\"}}}],\"scatter3d\":[{\"type\":\"scatter3d\",\"line\":{\"colorbar\":{\"outlinewidth\":0,\"ticks\":\"\"}},\"marker\":{\"colorbar\":{\"outlinewidth\":0,\"ticks\":\"\"}}}],\"scattermapbox\":[{\"type\":\"scattermapbox\",\"marker\":{\"colorbar\":{\"outlinewidth\":0,\"ticks\":\"\"}}}],\"scatterternary\":[{\"type\":\"scatterternary\",\"marker\":{\"colorbar\":{\"outlinewidth\":0,\"ticks\":\"\"}}}],\"scattercarpet\":[{\"type\":\"scattercarpet\",\"marker\":{\"colorbar\":{\"outlinewidth\":0,\"ticks\":\"\"}}}],\"carpet\":[{\"aaxis\":{\"endlinecolor\":\"#2a3f5f\",\"gridcolor\":\"white\",\"linecolor\":\"white\",\"minorgridcolor\":\"white\",\"startlinecolor\":\"#2a3f5f\"},\"baxis\":{\"endlinecolor\":\"#2a3f5f\",\"gridcolor\":\"white\",\"linecolor\":\"white\",\"minorgridcolor\":\"white\",\"startlinecolor\":\"#2a3f5f\"},\"type\":\"carpet\"}],\"table\":[{\"cells\":{\"fill\":{\"color\":\"#EBF0F8\"},\"line\":{\"color\":\"white\"}},\"header\":{\"fill\":{\"color\":\"#C8D4E3\"},\"line\":{\"color\":\"white\"}},\"type\":\"table\"}],\"barpolar\":[{\"marker\":{\"line\":{\"color\":\"#E5ECF6\",\"width\":0.5},\"pattern\":{\"fillmode\":\"overlay\",\"size\":10,\"solidity\":0.2}},\"type\":\"barpolar\"}],\"pie\":[{\"automargin\":true,\"type\":\"pie\"}]},\"layout\":{\"autotypenumbers\":\"strict\",\"colorway\":[\"#636efa\",\"#EF553B\",\"#00cc96\",\"#ab63fa\",\"#FFA15A\",\"#19d3f3\",\"#FF6692\",\"#B6E880\",\"#FF97FF\",\"#FECB52\"],\"font\":{\"color\":\"#2a3f5f\"},\"hovermode\":\"closest\",\"hoverlabel\":{\"align\":\"left\"},\"paper_bgcolor\":\"white\",\"plot_bgcolor\":\"#E5ECF6\",\"polar\":{\"bgcolor\":\"#E5ECF6\",\"angularaxis\":{\"gridcolor\":\"white\",\"linecolor\":\"white\",\"ticks\":\"\"},\"radialaxis\":{\"gridcolor\":\"white\",\"linecolor\":\"white\",\"ticks\":\"\"}},\"ternary\":{\"bgcolor\":\"#E5ECF6\",\"aaxis\":{\"gridcolor\":\"white\",\"linecolor\":\"white\",\"ticks\":\"\"},\"baxis\":{\"gridcolor\":\"white\",\"linecolor\":\"white\",\"ticks\":\"\"},\"caxis\":{\"gridcolor\":\"white\",\"linecolor\":\"white\",\"ticks\":\"\"}},\"coloraxis\":{\"colorbar\":{\"outlinewidth\":0,\"ticks\":\"\"}},\"colorscale\":{\"sequential\":[[0.0,\"#0d0887\"],[0.1111111111111111,\"#46039f\"],[0.2222222222222222,\"#7201a8\"],[0.3333333333333333,\"#9c179e\"],[0.4444444444444444,\"#bd3786\"],[0.5555555555555556,\"#d8576b\"],[0.6666666666666666,\"#ed7953\"],[0.7777777777777778,\"#fb9f3a\"],[0.8888888888888888,\"#fdca26\"],[1.0,\"#f0f921\"]],\"sequentialminus\":[[0.0,\"#0d0887\"],[0.1111111111111111,\"#46039f\"],[0.2222222222222222,\"#7201a8\"],[0.3333333333333333,\"#9c179e\"],[0.4444444444444444,\"#bd3786\"],[0.5555555555555556,\"#d8576b\"],[0.6666666666666666,\"#ed7953\"],[0.7777777777777778,\"#fb9f3a\"],[0.8888888888888888,\"#fdca26\"],[1.0,\"#f0f921\"]],\"diverging\":[[0,\"#8e0152\"],[0.1,\"#c51b7d\"],[0.2,\"#de77ae\"],[0.3,\"#f1b6da\"],[0.4,\"#fde0ef\"],[0.5,\"#f7f7f7\"],[0.6,\"#e6f5d0\"],[0.7,\"#b8e186\"],[0.8,\"#7fbc41\"],[0.9,\"#4d9221\"],[1,\"#276419\"]]},\"xaxis\":{\"gridcolor\":\"white\",\"linecolor\":\"white\",\"ticks\":\"\",\"title\":{\"standoff\":15},\"zerolinecolor\":\"white\",\"automargin\":true,\"zerolinewidth\":2},\"yaxis\":{\"gridcolor\":\"white\",\"linecolor\":\"white\",\"ticks\":\"\",\"title\":{\"standoff\":15},\"zerolinecolor\":\"white\",\"automargin\":true,\"zerolinewidth\":2},\"scene\":{\"xaxis\":{\"backgroundcolor\":\"#E5ECF6\",\"gridcolor\":\"white\",\"linecolor\":\"white\",\"showbackground\":true,\"ticks\":\"\",\"zerolinecolor\":\"white\",\"gridwidth\":2},\"yaxis\":{\"backgroundcolor\":\"#E5ECF6\",\"gridcolor\":\"white\",\"linecolor\":\"white\",\"showbackground\":true,\"ticks\":\"\",\"zerolinecolor\":\"white\",\"gridwidth\":2},\"zaxis\":{\"backgroundcolor\":\"#E5ECF6\",\"gridcolor\":\"white\",\"linecolor\":\"white\",\"showbackground\":true,\"ticks\":\"\",\"zerolinecolor\":\"white\",\"gridwidth\":2}},\"shapedefaults\":{\"line\":{\"color\":\"#2a3f5f\"}},\"annotationdefaults\":{\"arrowcolor\":\"#2a3f5f\",\"arrowhead\":0,\"arrowwidth\":1},\"geo\":{\"bgcolor\":\"white\",\"landcolor\":\"#E5ECF6\",\"subunitcolor\":\"white\",\"showland\":true,\"showlakes\":true,\"lakecolor\":\"white\"},\"title\":{\"x\":0.05},\"mapbox\":{\"style\":\"light\"}}},\"width\":700,\"height\":500,\"title\":{\"text\":\"Lift curves\"}},                        {\"responsive\": true}                    ).then(function(){\n",
       "                            \n",
       "var gd = document.getElementById('98419562-4c6f-4f2d-b105-9ef4d5bb23ab');\n",
       "var x = new MutationObserver(function (mutations, observer) {{\n",
       "        var display = window.getComputedStyle(gd).display;\n",
       "        if (!display || display === 'none') {{\n",
       "            console.log([gd, 'removed!']);\n",
       "            Plotly.purge(gd);\n",
       "            observer.disconnect();\n",
       "        }}\n",
       "}});\n",
       "\n",
       "// Listen for the removal of the full notebook cells\n",
       "var notebookContainer = gd.closest('#notebook-container');\n",
       "if (notebookContainer) {{\n",
       "    x.observe(notebookContainer, {childList: true});\n",
       "}}\n",
       "\n",
       "// Listen for the clearing of the current output cell\n",
       "var outputEl = gd.closest('.output');\n",
       "if (outputEl) {{\n",
       "    x.observe(outputEl, {childList: true});\n",
       "}}\n",
       "\n",
       "                        })                };                });            </script>        </div>"
      ]
     },
     "metadata": {},
     "output_type": "display_data"
    }
   ],
   "source": [
    "fig = go.Figure()\n",
    "\n",
    "\n",
    "for model_key in models:\n",
    "    \n",
    "    ## Variables definition\n",
    "    mx_info = models[model_key]\n",
    "    dfx = mx_info['df_test']\n",
    "    \n",
    "    ## Gain calculation\n",
    "    mx_gain = mba263.lift(dfx['churn'], dfx[model_key + '_pred_prob'], bins=100)\n",
    "\n",
    "    fig.add_trace(\n",
    "        go.Scatter(\n",
    "            x=np.linspace(0, 100, num=mx_gain.shape[0]), \n",
    "            y=mx_gain,\n",
    "            mode='lines',\n",
    "            name=model_key\n",
    "        )\n",
    "    )\n",
    "    \n",
    "\n",
    "fig.update_layout(\n",
    "    width=700, height=500,\n",
    "    title='Lift curves'\n",
    ")\n",
    "    \n",
    "fig.show()"
   ]
  },
  {
   "cell_type": "code",
   "execution_count": null,
   "id": "a1dbbce0-696d-4484-afac-be9226415424",
   "metadata": {},
   "outputs": [],
   "source": []
  },
  {
   "cell_type": "markdown",
   "id": "0cd1c9d3-ff08-4518-98cc-896ff9097edf",
   "metadata": {
    "tags": []
   },
   "source": [
    "# "
   ]
  },
  {
   "cell_type": "markdown",
   "id": "a223b37c-3401-4278-9594-4aa07e7f356d",
   "metadata": {
    "tags": []
   },
   "source": [
    "# Profit calculations"
   ]
  },
  {
   "cell_type": "markdown",
   "id": "d3cfbd66-0545-4ebe-a005-738ecd31a03f",
   "metadata": {
    "tags": []
   },
   "source": [
    "##### Variables relevant for calculations"
   ]
  },
  {
   "cell_type": "code",
   "execution_count": null,
   "id": "a9051769-d653-4f14-a5ea-6e7e3aa19672",
   "metadata": {},
   "outputs": [],
   "source": [
    "dfm1_or"
   ]
  },
  {
   "cell_type": "markdown",
   "id": "1eed9d65-dac6-408f-b412-380f23a24dd1",
   "metadata": {
    "tags": []
   },
   "source": [
    "##### List of customers that we'll reach out to"
   ]
  },
  {
   "cell_type": "code",
   "execution_count": null,
   "id": "40fa99c2-253d-4a66-a5c9-299530f99977",
   "metadata": {
    "tags": []
   },
   "outputs": [],
   "source": [
    "dfc = dfm1_test[dfm1_test['m1_pred_prob_grade'] == 1].copy()"
   ]
  },
  {
   "cell_type": "markdown",
   "id": "969fd464-1054-4f94-bf1a-37ea674ded28",
   "metadata": {
    "tags": []
   },
   "source": [
    "##### cc"
   ]
  },
  {
   "cell_type": "code",
   "execution_count": 80,
   "id": "015ac32b-013d-49fd-a6b9-4db795d44f0d",
   "metadata": {
    "execution": {
     "iopub.execute_input": "2023-04-13T05:04:12.965318Z",
     "iopub.status.busy": "2023-04-13T05:04:12.964890Z",
     "iopub.status.idle": "2023-04-13T05:04:13.028439Z",
     "shell.execute_reply": "2023-04-13T05:04:13.027470Z",
     "shell.execute_reply.started": "2023-04-13T05:04:12.965284Z"
    },
    "tags": []
   },
   "outputs": [],
   "source": [
    "avg_churn = dfc['churn'].mean()\n",
    "disc_rate = 0.09\n",
    "sim_periods = 5"
   ]
  },
  {
   "cell_type": "code",
   "execution_count": 57,
   "id": "2ab91842-267e-46dd-978e-074b5f823c74",
   "metadata": {
    "execution": {
     "iopub.execute_input": "2023-04-13T03:47:32.017650Z",
     "iopub.status.busy": "2023-04-13T03:47:32.017222Z",
     "iopub.status.idle": "2023-04-13T03:47:32.073437Z",
     "shell.execute_reply": "2023-04-13T03:47:32.072323Z",
     "shell.execute_reply.started": "2023-04-13T03:47:32.017615Z"
    }
   },
   "outputs": [],
   "source": [
    "tst_sub = 1000032"
   ]
  },
  {
   "cell_type": "code",
   "execution_count": 77,
   "id": "d3f09291-4097-4f02-b9a1-c5fac7de027f",
   "metadata": {
    "execution": {
     "iopub.execute_input": "2023-04-13T04:59:42.137636Z",
     "iopub.status.busy": "2023-04-13T04:59:42.137120Z",
     "iopub.status.idle": "2023-04-13T04:59:42.269456Z",
     "shell.execute_reply": "2023-04-13T04:59:42.265997Z",
     "shell.execute_reply.started": "2023-04-13T04:59:42.137602Z"
    },
    "tags": []
   },
   "outputs": [],
   "source": [
    "## Function to calculate status quo expected value\n",
    "def status_quo_exp_profit(periods, revenue, cost, churn_p, disc):\n",
    "    \n",
    "    ### List where all the results will be stored\n",
    "    res_lst = []\n",
    "    \n",
    "    ### Iterating over all periods and calculating individual results\n",
    "    for p in np.linspace(0, periods, periods + 1):\n",
    "        \n",
    "        res_lst.append(\n",
    "            ((revenue - cost)*(1 - churn_p)**p)*(1 - disc)**p\n",
    "        )\n",
    "    \n",
    "    ### Adding and rounding all results stored\n",
    "    res = round(sum(res_lst), 2)\n",
    "    \n",
    "    return res"
   ]
  },
  {
   "cell_type": "code",
   "execution_count": 78,
   "id": "13137d71-a378-4889-b513-72413595c19d",
   "metadata": {
    "execution": {
     "iopub.execute_input": "2023-04-13T04:59:43.151832Z",
     "iopub.status.busy": "2023-04-13T04:59:43.151374Z",
     "iopub.status.idle": "2023-04-13T04:59:43.213132Z",
     "shell.execute_reply": "2023-04-13T04:59:43.212316Z",
     "shell.execute_reply.started": "2023-04-13T04:59:43.151795Z"
    },
    "tags": []
   },
   "outputs": [
    {
     "data": {
      "text/plain": [
       "196.29"
      ]
     },
     "execution_count": 78,
     "metadata": {},
     "output_type": "execute_result"
    }
   ],
   "source": [
    "status_quo_exp_profit(6, 100, 40, 0.2, 0.091)"
   ]
  },
  {
   "cell_type": "code",
   "execution_count": 81,
   "id": "340d2d4b-c323-4832-a521-c3f03b8fb086",
   "metadata": {
    "execution": {
     "iopub.execute_input": "2023-04-13T05:07:11.045445Z",
     "iopub.status.busy": "2023-04-13T05:07:11.044720Z",
     "iopub.status.idle": "2023-04-13T05:07:11.539213Z",
     "shell.execute_reply": "2023-04-13T05:07:11.538095Z",
     "shell.execute_reply.started": "2023-04-13T05:07:11.045410Z"
    }
   },
   "outputs": [],
   "source": [
    "## Expected profits (present value) for each customer if we don't do anything\n",
    "dfc['exp_pv_profit'] = dfc.apply(\n",
    "    lambda x: status_quo_exp_profit(\n",
    "        sim_periods, \n",
    "        x['revenue'], \n",
    "        0,\n",
    "        x['m1_pred_prob'],\n",
    "        disc_rate,\n",
    "    ), \n",
    "    axis=1\n",
    ")"
   ]
  },
  {
   "cell_type": "code",
   "execution_count": null,
   "id": "abd662e1-c434-4496-9e94-62508523b64c",
   "metadata": {},
   "outputs": [],
   "source": [
    "dfc['exp_pv_profit'].plot(kind='hist')"
   ]
  },
  {
   "cell_type": "code",
   "execution_count": null,
   "id": "cdc9165d-d230-4110-96fc-d176f42e7f2e",
   "metadata": {},
   "outputs": [],
   "source": []
  },
  {
   "cell_type": "code",
   "execution_count": null,
   "id": "47b2a1a8-1037-4769-9943-ce558cced170",
   "metadata": {},
   "outputs": [],
   "source": []
  },
  {
   "cell_type": "markdown",
   "id": "c1fa31b0-2ffb-4daf-959a-a00518f1ab31",
   "metadata": {
    "tags": []
   },
   "source": [
    "# "
   ]
  },
  {
   "cell_type": "markdown",
   "id": "00448247-d225-4e2a-b46a-6a0c8e6d2f3d",
   "metadata": {
    "tags": []
   },
   "source": [
    "# Building models"
   ]
  },
  {
   "cell_type": "markdown",
   "id": "3ef3f8cd-0265-4682-aee4-1867b7ce5e63",
   "metadata": {},
   "source": [
    "# Header"
   ]
  },
  {
   "cell_type": "markdown",
   "id": "784be4db-1c06-43e0-a4da-86b1bbcde318",
   "metadata": {},
   "source": [
    "# *Notes*"
   ]
  },
  {
   "cell_type": "markdown",
   "id": "b34c662c-f724-412f-86d7-75647d9b5448",
   "metadata": {},
   "source": [
    "---"
   ]
  },
  {
   "cell_type": "markdown",
   "id": "168089c7-257b-4b61-9a65-803e32753196",
   "metadata": {},
   "source": [
    "---"
   ]
  }
 ],
 "metadata": {
  "kernelspec": {
   "display_name": "Python 3 (ipykernel)",
   "language": "python",
   "name": "python3"
  },
  "language_info": {
   "codemirror_mode": {
    "name": "ipython",
    "version": 3
   },
   "file_extension": ".py",
   "mimetype": "text/x-python",
   "name": "python",
   "nbconvert_exporter": "python",
   "pygments_lexer": "ipython3",
   "version": "3.9.1"
  },
  "toc-autonumbering": true,
  "toc-showcode": false,
  "toc-showmarkdowntxt": false,
  "toc-showtags": false
 },
 "nbformat": 4,
 "nbformat_minor": 5
}

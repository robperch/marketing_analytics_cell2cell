{
 "cells": [
  {
   "cell_type": "markdown",
   "id": "82c1d7a8-d74e-45e1-8937-264331e6d38a",
   "metadata": {},
   "source": [
    "# Cell 2 cell game assignment"
   ]
  },
  {
   "cell_type": "markdown",
   "id": "4154f37d-fde6-4cef-8617-114a3a2d7d8e",
   "metadata": {},
   "source": [
    "# Imports"
   ]
  },
  {
   "cell_type": "markdown",
   "id": "a98dbaa6-17e1-4b79-93f0-d142aedd0037",
   "metadata": {},
   "source": [
    "#### Standard library imports"
   ]
  },
  {
   "cell_type": "code",
   "execution_count": 3,
   "id": "63099808-51cd-453c-976a-f3060b8650aa",
   "metadata": {
    "execution": {
     "iopub.execute_input": "2023-04-08T00:04:08.933563Z",
     "iopub.status.busy": "2023-04-08T00:04:08.933062Z",
     "iopub.status.idle": "2023-04-08T00:04:08.960073Z",
     "shell.execute_reply": "2023-04-08T00:04:08.959069Z",
     "shell.execute_reply.started": "2023-04-08T00:04:08.933526Z"
    }
   },
   "outputs": [],
   "source": [
    "import sys\n",
    "sys.path.append(\"../\")\n",
    "\n",
    "import os"
   ]
  },
  {
   "cell_type": "markdown",
   "id": "b94ec94d-0d78-4ec3-a21c-353ccf52eec6",
   "metadata": {},
   "source": [
    "#### Third party imports"
   ]
  },
  {
   "cell_type": "code",
   "execution_count": 4,
   "id": "9e4989d0-ba3a-41cf-8ccb-44cade842a03",
   "metadata": {
    "execution": {
     "iopub.execute_input": "2023-04-08T00:04:08.963078Z",
     "iopub.status.busy": "2023-04-08T00:04:08.962376Z",
     "iopub.status.idle": "2023-04-08T00:04:09.011403Z",
     "shell.execute_reply": "2023-04-08T00:04:09.010190Z",
     "shell.execute_reply.started": "2023-04-08T00:04:08.963038Z"
    }
   },
   "outputs": [],
   "source": [
    "import pandas as pd"
   ]
  },
  {
   "cell_type": "markdown",
   "id": "48755fa3-cba0-4508-9df2-18d50f60551b",
   "metadata": {
    "tags": []
   },
   "source": [
    "#### Local application imports"
   ]
  },
  {
   "cell_type": "code",
   "execution_count": 7,
   "id": "a62e34a6-dea0-48d6-a3bc-c5dcdcdb1718",
   "metadata": {
    "execution": {
     "iopub.execute_input": "2023-04-08T00:11:49.103981Z",
     "iopub.status.busy": "2023-04-08T00:11:49.103563Z",
     "iopub.status.idle": "2023-04-08T00:11:49.147414Z",
     "shell.execute_reply": "2023-04-08T00:11:49.145262Z",
     "shell.execute_reply.started": "2023-04-08T00:11:49.103950Z"
    },
    "tags": []
   },
   "outputs": [
    {
     "name": "stdout",
     "output_type": "stream",
     "text": [
      "The autoreload extension is already loaded. To reload it, use:\n",
      "  %reload_ext autoreload\n"
     ]
    }
   ],
   "source": [
    "%load_ext autoreload\n",
    "%autoreload 2\n",
    "\n",
    "from pkg_dir.config import *\n",
    "from pkg_dir.src.utils import *\n",
    "from pkg_dir.src.functions import *\n",
    "from pkg_dir.src.parameters import *"
   ]
  },
  {
   "cell_type": "markdown",
   "id": "d533fe5d-c902-4259-97ee-672d6f2363c6",
   "metadata": {
    "jp-MarkdownHeadingCollapsed": true,
    "tags": []
   },
   "source": [
    "# Importing data"
   ]
  },
  {
   "cell_type": "code",
   "execution_count": 8,
   "id": "ecb1b8ad-6a65-4fa5-aee4-4d844e50ba12",
   "metadata": {
    "execution": {
     "iopub.execute_input": "2023-04-08T00:17:34.037223Z",
     "iopub.status.busy": "2023-04-08T00:17:34.032325Z",
     "iopub.status.idle": "2023-04-08T00:17:34.126351Z",
     "shell.execute_reply": "2023-04-08T00:17:34.125231Z",
     "shell.execute_reply.started": "2023-04-08T00:17:34.037097Z"
    }
   },
   "outputs": [],
   "source": [
    "data_path = '../pkg_dir/data/cell2cell.csv'"
   ]
  },
  {
   "cell_type": "code",
   "execution_count": null,
   "id": "5ae38b2c-0a7d-4716-8f06-5bfebde4d026",
   "metadata": {},
   "outputs": [],
   "source": [
    "dfr = pd.read_csv(data_path)"
   ]
  },
  {
   "cell_type": "markdown",
   "id": "853ce8f3-8d1d-4e20-ba54-4e29fa21c7ff",
   "metadata": {
    "tags": []
   },
   "source": [
    "# Initial data wrangling"
   ]
  },
  {
   "cell_type": "markdown",
   "id": "0b8ce11a-a887-4124-8273-c3e99813a81e",
   "metadata": {},
   "source": [
    "## Splitting train and test data"
   ]
  },
  {
   "cell_type": "code",
   "execution_count": 21,
   "id": "245e06d7-95d5-4089-afcb-334ced8786be",
   "metadata": {
    "execution": {
     "iopub.execute_input": "2023-04-08T00:39:23.161460Z",
     "iopub.status.busy": "2023-04-08T00:39:23.156437Z",
     "iopub.status.idle": "2023-04-08T00:39:23.428046Z",
     "shell.execute_reply": "2023-04-08T00:39:23.426836Z",
     "shell.execute_reply.started": "2023-04-08T00:39:23.161351Z"
    },
    "scrolled": true,
    "tags": []
   },
   "outputs": [],
   "source": [
    "df_train = dfr[dfr['calibrat'] == 1].copy()\n",
    "df_test = dfr[dfr['calibrat'] == 0].copy()"
   ]
  },
  {
   "cell_type": "markdown",
   "id": "0df1e591-848f-4742-b6cb-940ec85fc4de",
   "metadata": {
    "tags": []
   },
   "source": [
    "# Building models"
   ]
  },
  {
   "cell_type": "code",
   "execution_count": null,
   "id": "e936e725-cb95-4309-be69-ffb2914b89bf",
   "metadata": {},
   "outputs": [],
   "source": []
  },
  {
   "cell_type": "markdown",
   "id": "46b8d875-84a3-4780-aa63-68026f001bd6",
   "metadata": {
    "jp-MarkdownHeadingCollapsed": true,
    "tags": []
   },
   "source": [
    "#### Model features"
   ]
  },
  {
   "cell_type": "code",
   "execution_count": 25,
   "id": "14892daa-9e26-49f3-ab64-618a60c93066",
   "metadata": {
    "execution": {
     "iopub.execute_input": "2023-04-08T00:52:00.652893Z",
     "iopub.status.busy": "2023-04-08T00:52:00.652446Z",
     "iopub.status.idle": "2023-04-08T00:52:00.734947Z",
     "shell.execute_reply": "2023-04-08T00:52:00.731982Z",
     "shell.execute_reply.started": "2023-04-08T00:52:00.652859Z"
    },
    "tags": []
   },
   "outputs": [],
   "source": [
    "m1f = [\n",
    "    'customer',\n",
    "    'calibrat',\n",
    "    'churn',\n",
    "    'churndep',\n",
    "    'revenue',\n",
    "    'mou',\n",
    "    'recchrge',\n",
    "    'directas',\n",
    "    'overage',\n",
    "    'roam',\n",
    "    'changem',\n",
    "    'changer',\n",
    "    'dropvce',\n",
    "    'blckvce',\n",
    "    'unansvce',\n",
    "    'custcare',\n",
    "    'threeway',\n",
    "    'mourec',\n",
    "    'outcalls',\n",
    "    'incalls',\n",
    "    'peakvce',\n",
    "    'opeakvce',\n",
    "    'dropblk',\n",
    "    'callfwdv',\n",
    "    'callwait',\n",
    "    'months',\n",
    "    'uniqsubs',\n",
    "    'actvsubs',\n",
    "    'phones',\n",
    "    'models',\n",
    "    'eqpdays',\n",
    "    'age1',\n",
    "    'age2',\n",
    "    'children',\n",
    "    'credita',\n",
    "    'creditaa',\n",
    "    'prizmrur',\n",
    "    'prizmub',\n",
    "    'prizmtwn',\n",
    "    'refurb',\n",
    "    'webcap',\n",
    "    'truck',\n",
    "    'rv',\n",
    "    'occprof',\n",
    "    'occcler',\n",
    "    'occcrft',\n",
    "    'occstud',\n",
    "    'occhmkr',\n",
    "    'occret',\n",
    "    'occself',\n",
    "    'ownrent',\n",
    "    'marryun',\n",
    "    'marryyes',\n",
    "    'mailord',\n",
    "    'mailres',\n",
    "    'mailflag',\n",
    "    'travel',\n",
    "    'pcown',\n",
    "    'creditcd',\n",
    "    'retcalls',\n",
    "    'retaccpt',\n",
    "    'newcelly',\n",
    "    'newcelln',\n",
    "    'refer',\n",
    "    'incmiss',\n",
    "    'income',\n",
    "    'mcycle',\n",
    "    'setprcm',\n",
    "    'setprc',\n",
    "    'retcall',\n",
    "]"
   ]
  },
  {
   "cell_type": "markdown",
   "id": "0d401701-b9ac-4bc7-86d7-0fe4b66312eb",
   "metadata": {
    "tags": []
   },
   "source": [
    "#### x"
   ]
  },
  {
   "cell_type": "code",
   "execution_count": null,
   "id": "e53dc4f7-314b-4c95-8b44-49ee4b65c26c",
   "metadata": {},
   "outputs": [],
   "source": []
  },
  {
   "cell_type": "code",
   "execution_count": null,
   "id": "371c2a11-3a67-4bd1-b7bd-db7d4197ec2f",
   "metadata": {},
   "outputs": [],
   "source": []
  },
  {
   "cell_type": "code",
   "execution_count": null,
   "id": "67632e9b-2f66-4dc8-81f0-10c1083e7dd6",
   "metadata": {},
   "outputs": [],
   "source": []
  },
  {
   "cell_type": "code",
   "execution_count": null,
   "id": "19f9a340-3dda-49fe-a8fc-6bd8e1d9cf3b",
   "metadata": {},
   "outputs": [],
   "source": []
  },
  {
   "cell_type": "code",
   "execution_count": null,
   "id": "6181d66c-fd0a-4f33-a49b-7fdddee38da8",
   "metadata": {},
   "outputs": [],
   "source": []
  },
  {
   "cell_type": "code",
   "execution_count": null,
   "id": "bc20713f-9feb-4d2f-9ba9-e83eaa29fc3d",
   "metadata": {},
   "outputs": [],
   "source": []
  },
  {
   "cell_type": "code",
   "execution_count": null,
   "id": "b356a21f-40f6-4c0b-be17-c1ef533f534a",
   "metadata": {},
   "outputs": [],
   "source": []
  },
  {
   "cell_type": "code",
   "execution_count": null,
   "id": "2f6295ef-1c67-49eb-a8ce-7f3b6f2155d5",
   "metadata": {},
   "outputs": [],
   "source": []
  },
  {
   "cell_type": "code",
   "execution_count": 24,
   "id": "ae2f5e3f-9cee-450c-9f3a-59efdeddf9cd",
   "metadata": {
    "execution": {
     "iopub.execute_input": "2023-04-08T00:48:48.007768Z",
     "iopub.status.busy": "2023-04-08T00:48:48.006994Z",
     "iopub.status.idle": "2023-04-08T00:48:48.044161Z",
     "shell.execute_reply": "2023-04-08T00:48:48.043206Z",
     "shell.execute_reply.started": "2023-04-08T00:48:48.007735Z"
    }
   },
   "outputs": [
    {
     "data": {
      "text/plain": [
       "['customer',\n",
       " 'calibrat',\n",
       " 'churn',\n",
       " 'churndep',\n",
       " 'revenue',\n",
       " 'mou',\n",
       " 'recchrge',\n",
       " 'directas',\n",
       " 'overage',\n",
       " 'roam',\n",
       " 'changem',\n",
       " 'changer',\n",
       " 'dropvce',\n",
       " 'blckvce',\n",
       " 'unansvce',\n",
       " 'custcare',\n",
       " 'threeway',\n",
       " 'mourec',\n",
       " 'outcalls',\n",
       " 'incalls',\n",
       " 'peakvce',\n",
       " 'opeakvce',\n",
       " 'dropblk',\n",
       " 'callfwdv',\n",
       " 'callwait',\n",
       " 'months',\n",
       " 'uniqsubs',\n",
       " 'actvsubs',\n",
       " 'phones',\n",
       " 'models',\n",
       " 'eqpdays',\n",
       " 'age1',\n",
       " 'age2',\n",
       " 'children',\n",
       " 'credita',\n",
       " 'creditaa',\n",
       " 'prizmrur',\n",
       " 'prizmub',\n",
       " 'prizmtwn',\n",
       " 'refurb',\n",
       " 'webcap',\n",
       " 'truck',\n",
       " 'rv',\n",
       " 'occprof',\n",
       " 'occcler',\n",
       " 'occcrft',\n",
       " 'occstud',\n",
       " 'occhmkr',\n",
       " 'occret',\n",
       " 'occself',\n",
       " 'ownrent',\n",
       " 'marryun',\n",
       " 'marryyes',\n",
       " 'mailord',\n",
       " 'mailres',\n",
       " 'mailflag',\n",
       " 'travel',\n",
       " 'pcown',\n",
       " 'creditcd',\n",
       " 'retcalls',\n",
       " 'retaccpt',\n",
       " 'newcelly',\n",
       " 'newcelln',\n",
       " 'refer',\n",
       " 'incmiss',\n",
       " 'income',\n",
       " 'mcycle',\n",
       " 'setprcm',\n",
       " 'setprc',\n",
       " 'retcall']"
      ]
     },
     "execution_count": 24,
     "metadata": {},
     "output_type": "execute_result"
    }
   ],
   "source": [
    "dfr.columns.tolist()"
   ]
  },
  {
   "cell_type": "code",
   "execution_count": null,
   "id": "b46211b2-522f-4fe6-88ab-702ab136c4ec",
   "metadata": {},
   "outputs": [],
   "source": []
  },
  {
   "cell_type": "markdown",
   "id": "3ef3f8cd-0265-4682-aee4-1867b7ce5e63",
   "metadata": {},
   "source": [
    "# Header"
   ]
  },
  {
   "cell_type": "markdown",
   "id": "784be4db-1c06-43e0-a4da-86b1bbcde318",
   "metadata": {},
   "source": [
    "# *Notes*"
   ]
  },
  {
   "cell_type": "markdown",
   "id": "b34c662c-f724-412f-86d7-75647d9b5448",
   "metadata": {},
   "source": [
    "---"
   ]
  },
  {
   "cell_type": "markdown",
   "id": "168089c7-257b-4b61-9a65-803e32753196",
   "metadata": {},
   "source": [
    "---"
   ]
  }
 ],
 "metadata": {
  "kernelspec": {
   "display_name": "Python 3 (ipykernel)",
   "language": "python",
   "name": "python3"
  },
  "language_info": {
   "codemirror_mode": {
    "name": "ipython",
    "version": 3
   },
   "file_extension": ".py",
   "mimetype": "text/x-python",
   "name": "python",
   "nbconvert_exporter": "python",
   "pygments_lexer": "ipython3",
   "version": "3.9.1"
  },
  "toc-autonumbering": true
 },
 "nbformat": 4,
 "nbformat_minor": 5
}
